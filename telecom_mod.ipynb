{
 "cells": [
  {
   "cell_type": "markdown",
   "id": "6564874e",
   "metadata": {
    "papermill": {
     "duration": 0.074504,
     "end_time": "2023-12-06T16:44:34.624966",
     "exception": false,
     "start_time": "2023-12-06T16:44:34.550462",
     "status": "completed"
    },
    "tags": []
   },
   "source": [
    "# Telecom Churn Case Study"
   ]
  },
  {
   "cell_type": "markdown",
   "id": "bd0a240e-5a47-4cce-a914-cb2e0c90901e",
   "metadata": {
    "papermill": {
     "duration": 0.035836,
     "end_time": "2021-08-13T07:16:36.620553",
     "exception": false,
     "start_time": "2021-08-13T07:16:36.584717",
     "status": "completed"
    },
    "tags": []
   },
   "source": [
    "The goal of this notebook is to provide an overview of how write a notebook and create a submission file that successfully solves the churn prediction problem. Please download the datasets, unzip and place them in the same folder as this notebook.\n",
    "\n",
    "We are going to follow the process called CRISP-DM.\n",
    "\n",
    "<img src=\"https://upload.wikimedia.org/wikipedia/commons/thumb/b/b9/CRISP-DM_Process_Diagram.png/639px-CRISP-DM_Process_Diagram.png\" style=\"height: 400px; width:400px;\"/>\n",
    "\n",
    "After Business and Data Understanding via EDA, we want to prepare data for modelling. Then evaluate and submit our predictions."
   ]
  },
  {
   "cell_type": "markdown",
   "id": "655b4187",
   "metadata": {
    "papermill": {
     "duration": 0.072628,
     "end_time": "2023-12-06T16:44:34.869994",
     "exception": false,
     "start_time": "2023-12-06T16:44:34.797366",
     "status": "completed"
    },
    "tags": []
   },
   "source": [
    "# Problem Statement\n",
    "\n",
    "### Business problem overview\n",
    "\n",
    ". In the telecom industry, customers are able to choose from multiple service providers and actively switch from one operator to another. In this highly competitive market, the telecommunications industry experiences an average of 15-25% annual churn rate. Given the fact that it costs 5-10 times more to acquire a new customer than to retain an existing one, customer retention has now become even more important than customer acquisition.\n",
    "\n",
    ". For many incumbent operators, retaining high profitable customers is the number one business goal.\n",
    "\n",
    ". To reduce customer churn, telecom companies need to predict which customers are at high risk of churn.\n",
    "\n",
    ". In this project, we will analyse customer-level data of a leading telecom firm, build predictive models to identify customers at high risk of churn and identify the main indicators of churn."
   ]
  },
  {
   "cell_type": "markdown",
   "id": "40fdb92b",
   "metadata": {
    "papermill": {
     "duration": 0.073986,
     "end_time": "2023-12-06T16:44:35.017258",
     "exception": false,
     "start_time": "2023-12-06T16:44:34.943272",
     "status": "completed"
    },
    "tags": []
   },
   "source": [
    "### Definitions of churn\n",
    ". There are various ways to define churn, such as:\n",
    "\n",
    "### Revenue-based churn:\n",
    ". Customers who have not utilised any revenue-generating facilities such as mobile internet, outgoing calls, SMS etc. over a given period of time. One could also use aggregate metrics such as ‘customers who have generated less than INR 4 per month in total/average/median revenue’.\n",
    "\n",
    "The main shortcoming of this definition is that there are customers who only receive calls/SMSes from their wage-earning counterparts, i.e. they don’t generate revenue but use the services. For example, many users in rural areas only receive calls from their wage-earning siblings in urban areas.\n",
    "\n",
    "### Usage-based churn:\n",
    "Customers who have not done any usage, either incoming or outgoing - in terms of calls, internet etc. over a period of time.\n",
    "\n",
    "A potential shortcoming of this definition is that when the customer has stopped using the services for a while, it may be too late to take any corrective actions to retain them. For e.g., if you define churn based on a ‘two-months zero usage’ period, predicting churn could be useless since by that time the customer would have already switched to another operator.\n",
    "\n",
    "In this project, we will use the usage-based definition to define churn."
   ]
  },
  {
   "cell_type": "markdown",
   "id": "113bcc03",
   "metadata": {
    "papermill": {
     "duration": 0.071299,
     "end_time": "2023-12-06T16:44:35.161520",
     "exception": false,
     "start_time": "2023-12-06T16:44:35.090221",
     "status": "completed"
    },
    "tags": []
   },
   "source": [
    "# Objective\n",
    "- To Predict the customers who are about to churn from a telecom operator\n",
    "- Business Objective is to predict the High Value Customers only\n",
    "- We need to predict Churn on the basis of Action Period (Churn period data needs to be deleted after labelling)\n",
    "  Churn would be based on Usage\n",
    "\n",
    "### Requirement:\n",
    "\n",
    "- Churn Prediction Model\n",
    "- Best Predictor Variables"
   ]
  },
  {
   "cell_type": "markdown",
   "id": "c762529b",
   "metadata": {
    "papermill": {
     "duration": 0.071481,
     "end_time": "2023-12-06T16:44:35.305062",
     "exception": false,
     "start_time": "2023-12-06T16:44:35.233581",
     "status": "completed"
    },
    "tags": []
   },
   "source": [
    "# Steps to Approach The  Best Solution For This Case Study\n",
    "There are mainly 6 steps\n",
    "#### Step 1 :\n",
    "- Data reading\n",
    "- Data Understanding\n",
    "- Data Cleaning\n",
    "- Imputing missing values \n",
    "\n",
    "#### Step-2 :\n",
    "Need to Filter high value customers\n",
    "\n",
    "#### Step-3 :\n",
    "Derive churn\n",
    "   need to Derive the Target Variable\n",
    "   \n",
    "#### Step-4 :\n",
    "Data Preparation\n",
    "  - Derived variable\n",
    "  - EDA\n",
    "  - Split data in to train and test sets\n",
    "  - Performing Scaling\n",
    " \n",
    "#### Step-5 :\n",
    "- Handle class imbalance\n",
    "- Dimensionality Reduction using PCA\n",
    "- Classification models to predict Churn (Use various Models )\n",
    "\n",
    "#### Step-6 :\n",
    "- Model Evaluation\n",
    "- Prepare Model for Predictor variables selection (Prepare multiple models & choose the best one)\n",
    "\n",
    "Finally we need to give best Summarize to the company "
   ]
  },
  {
   "cell_type": "markdown",
   "id": "6b5c7fea",
   "metadata": {
    "papermill": {
     "duration": 0.07256,
     "end_time": "2023-12-06T16:44:35.449739",
     "exception": false,
     "start_time": "2023-12-06T16:44:35.377179",
     "status": "completed"
    },
    "tags": []
   },
   "source": [
    "## Import  Libraries"
   ]
  },
  {
   "cell_type": "code",
   "execution_count": 319,
   "id": "ba4a95a3",
   "metadata": {
    "_cell_guid": "b1076dfc-b9ad-4769-8c92-a6c4dae69d19",
    "_uuid": "8f2839f25d086af736a60e9eeb907d3b93b6e0e5",
    "papermill": {
     "duration": 4.743784,
     "end_time": "2023-12-06T16:44:40.267446",
     "exception": false,
     "start_time": "2023-12-06T16:44:35.523662",
     "status": "completed"
    },
    "tags": []
   },
   "outputs": [],
   "source": [
    "import numpy as np\n",
    "import pandas as pd\n",
    "import matplotlib.pyplot as plt\n",
    "import seaborn as sns\n",
    "\n",
    "# Import the logistic regression module\n",
    "from sklearn.linear_model import LogisticRegression\n",
    "\n",
    "# Importing 'variance_inflation_factor' or VIF\n",
    "from statsmodels.stats.outliers_influence import variance_inflation_factor\n",
    "\n",
    "# Import RFE for RFE selection\n",
    "from sklearn.feature_selection import RFE\n",
    "\n",
    "# Importing statsmodels\n",
    "import statsmodels.api as sm\n",
    "\n",
    "# Importing the precision recall curve\n",
    "from sklearn.metrics import precision_recall_curve\n",
    "from sklearn.metrics import recall_score\n",
    "from sklearn.metrics import precision_score\n",
    "\n",
    "# Importing evaluation metrics from scikitlearn \n",
    "from sklearn import metrics\n",
    "\n",
    "from imblearn.over_sampling import SMOTE\n",
    "from imblearn.over_sampling import BorderlineSMOTE\n",
    "from imblearn.combine import SMOTEENN\n",
    "from imblearn.pipeline import Pipeline as imbpipeline\n",
    "\n",
    "from sklearn.decomposition import IncrementalPCA\n",
    "\n",
    "# To suppress the warnings which will be raised\n",
    "import warnings\n",
    "warnings.filterwarnings('ignore')\n",
    "\n",
    "# import required libraries\n",
    "from sklearn.model_selection import train_test_split\n",
    "from sklearn.pipeline import Pipeline\n",
    "from sklearn.decomposition import PCA\n",
    "from sklearn.preprocessing import StandardScaler\n",
    "from sklearn.pipeline import FeatureUnion\n",
    "from sklearn.base import BaseEstimator, TransformerMixin\n",
    "from sklearn.linear_model import LogisticRegression\n",
    "from sklearn.metrics import classification_report\n",
    "from sklearn.metrics import roc_auc_score\n",
    "from imblearn.metrics import sensitivity_specificity_support\n",
    "from sklearn.model_selection import StratifiedKFold\n",
    "from sklearn.model_selection import cross_val_score\n",
    "from sklearn.metrics import confusion_matrix\n",
    "from sklearn.model_selection import GridSearchCV\n",
    "from sklearn.ensemble import RandomForestClassifier\n",
    "from sklearn.neighbors import KNeighborsClassifier\n",
    "from sklearn.tree import DecisionTreeClassifier\n",
    "from xgboost import XGBClassifier\n",
    "from sklearn.ensemble import GradientBoostingClassifier\n",
    "from sklearn.svm import SVC\n",
    "from sklearn.impute import SimpleImputer"
   ]
  },
  {
   "cell_type": "code",
   "execution_count": 282,
   "id": "489a1e80",
   "metadata": {
    "papermill": {
     "duration": 0.081143,
     "end_time": "2023-12-06T16:44:40.421557",
     "exception": false,
     "start_time": "2023-12-06T16:44:40.340414",
     "status": "completed"
    },
    "tags": []
   },
   "outputs": [],
   "source": [
    "#pip install imbalanced-learn"
   ]
  },
  {
   "cell_type": "code",
   "execution_count": 238,
   "id": "2562d28d",
   "metadata": {
    "papermill": {
     "duration": 2.985821,
     "end_time": "2023-12-06T16:44:43.485063",
     "exception": false,
     "start_time": "2023-12-06T16:44:40.499242",
     "status": "completed"
    },
    "tags": []
   },
   "outputs": [],
   "source": [
    "# read data\n",
    "data= pd.read_csv(\"train.csv\")"
   ]
  },
  {
   "cell_type": "code",
   "execution_count": 233,
   "id": "96077413",
   "metadata": {
    "papermill": {
     "duration": 0.120709,
     "end_time": "2023-12-06T16:44:43.679746",
     "exception": false,
     "start_time": "2023-12-06T16:44:43.559037",
     "status": "completed"
    },
    "tags": []
   },
   "outputs": [
    {
     "data": {
      "text/html": [
       "<div>\n",
       "<style scoped>\n",
       "    .dataframe tbody tr th:only-of-type {\n",
       "        vertical-align: middle;\n",
       "    }\n",
       "\n",
       "    .dataframe tbody tr th {\n",
       "        vertical-align: top;\n",
       "    }\n",
       "\n",
       "    .dataframe thead th {\n",
       "        text-align: right;\n",
       "    }\n",
       "</style>\n",
       "<table border=\"1\" class=\"dataframe\">\n",
       "  <thead>\n",
       "    <tr style=\"text-align: right;\">\n",
       "      <th></th>\n",
       "      <th>0</th>\n",
       "      <th>1</th>\n",
       "      <th>2</th>\n",
       "      <th>3</th>\n",
       "      <th>4</th>\n",
       "    </tr>\n",
       "  </thead>\n",
       "  <tbody>\n",
       "    <tr>\n",
       "      <th>id</th>\n",
       "      <td>0</td>\n",
       "      <td>1</td>\n",
       "      <td>2</td>\n",
       "      <td>3</td>\n",
       "      <td>4</td>\n",
       "    </tr>\n",
       "    <tr>\n",
       "      <th>circle_id</th>\n",
       "      <td>109</td>\n",
       "      <td>109</td>\n",
       "      <td>109</td>\n",
       "      <td>109</td>\n",
       "      <td>109</td>\n",
       "    </tr>\n",
       "    <tr>\n",
       "      <th>loc_og_t2o_mou</th>\n",
       "      <td>0.0</td>\n",
       "      <td>0.0</td>\n",
       "      <td>0.0</td>\n",
       "      <td>0.0</td>\n",
       "      <td>0.0</td>\n",
       "    </tr>\n",
       "    <tr>\n",
       "      <th>std_og_t2o_mou</th>\n",
       "      <td>0.0</td>\n",
       "      <td>0.0</td>\n",
       "      <td>0.0</td>\n",
       "      <td>0.0</td>\n",
       "      <td>0.0</td>\n",
       "    </tr>\n",
       "    <tr>\n",
       "      <th>loc_ic_t2o_mou</th>\n",
       "      <td>0.0</td>\n",
       "      <td>0.0</td>\n",
       "      <td>0.0</td>\n",
       "      <td>0.0</td>\n",
       "      <td>0.0</td>\n",
       "    </tr>\n",
       "    <tr>\n",
       "      <th>last_date_of_month_6</th>\n",
       "      <td>6/30/2014</td>\n",
       "      <td>6/30/2014</td>\n",
       "      <td>6/30/2014</td>\n",
       "      <td>6/30/2014</td>\n",
       "      <td>6/30/2014</td>\n",
       "    </tr>\n",
       "    <tr>\n",
       "      <th>last_date_of_month_7</th>\n",
       "      <td>7/31/2014</td>\n",
       "      <td>7/31/2014</td>\n",
       "      <td>7/31/2014</td>\n",
       "      <td>7/31/2014</td>\n",
       "      <td>7/31/2014</td>\n",
       "    </tr>\n",
       "    <tr>\n",
       "      <th>last_date_of_month_8</th>\n",
       "      <td>8/31/2014</td>\n",
       "      <td>8/31/2014</td>\n",
       "      <td>8/31/2014</td>\n",
       "      <td>8/31/2014</td>\n",
       "      <td>8/31/2014</td>\n",
       "    </tr>\n",
       "    <tr>\n",
       "      <th>arpu_6</th>\n",
       "      <td>31.277</td>\n",
       "      <td>0.0</td>\n",
       "      <td>60.806</td>\n",
       "      <td>156.362</td>\n",
       "      <td>240.708</td>\n",
       "    </tr>\n",
       "    <tr>\n",
       "      <th>arpu_7</th>\n",
       "      <td>87.009</td>\n",
       "      <td>122.787</td>\n",
       "      <td>103.176</td>\n",
       "      <td>205.26</td>\n",
       "      <td>128.191</td>\n",
       "    </tr>\n",
       "    <tr>\n",
       "      <th>arpu_8</th>\n",
       "      <td>7.527</td>\n",
       "      <td>42.953</td>\n",
       "      <td>0.0</td>\n",
       "      <td>111.095</td>\n",
       "      <td>101.565</td>\n",
       "    </tr>\n",
       "    <tr>\n",
       "      <th>onnet_mou_6</th>\n",
       "      <td>48.58</td>\n",
       "      <td>0.0</td>\n",
       "      <td>0.53</td>\n",
       "      <td>7.26</td>\n",
       "      <td>21.28</td>\n",
       "    </tr>\n",
       "    <tr>\n",
       "      <th>onnet_mou_7</th>\n",
       "      <td>124.38</td>\n",
       "      <td>0.0</td>\n",
       "      <td>15.93</td>\n",
       "      <td>16.01</td>\n",
       "      <td>4.83</td>\n",
       "    </tr>\n",
       "    <tr>\n",
       "      <th>onnet_mou_8</th>\n",
       "      <td>1.29</td>\n",
       "      <td>0.0</td>\n",
       "      <td>0.0</td>\n",
       "      <td>0.0</td>\n",
       "      <td>6.13</td>\n",
       "    </tr>\n",
       "    <tr>\n",
       "      <th>offnet_mou_6</th>\n",
       "      <td>32.24</td>\n",
       "      <td>0.0</td>\n",
       "      <td>53.99</td>\n",
       "      <td>68.76</td>\n",
       "      <td>56.99</td>\n",
       "    </tr>\n",
       "    <tr>\n",
       "      <th>offnet_mou_7</th>\n",
       "      <td>96.68</td>\n",
       "      <td>25.99</td>\n",
       "      <td>82.05</td>\n",
       "      <td>78.48</td>\n",
       "      <td>38.11</td>\n",
       "    </tr>\n",
       "    <tr>\n",
       "      <th>offnet_mou_8</th>\n",
       "      <td>2.33</td>\n",
       "      <td>30.89</td>\n",
       "      <td>0.0</td>\n",
       "      <td>50.23</td>\n",
       "      <td>9.63</td>\n",
       "    </tr>\n",
       "    <tr>\n",
       "      <th>roam_ic_mou_6</th>\n",
       "      <td>0.0</td>\n",
       "      <td>0.0</td>\n",
       "      <td>0.0</td>\n",
       "      <td>0.0</td>\n",
       "      <td>53.64</td>\n",
       "    </tr>\n",
       "    <tr>\n",
       "      <th>roam_ic_mou_7</th>\n",
       "      <td>0.0</td>\n",
       "      <td>0.0</td>\n",
       "      <td>0.0</td>\n",
       "      <td>0.0</td>\n",
       "      <td>0.0</td>\n",
       "    </tr>\n",
       "    <tr>\n",
       "      <th>roam_ic_mou_8</th>\n",
       "      <td>0.0</td>\n",
       "      <td>0.0</td>\n",
       "      <td>0.0</td>\n",
       "      <td>0.0</td>\n",
       "      <td>0.0</td>\n",
       "    </tr>\n",
       "    <tr>\n",
       "      <th>roam_og_mou_6</th>\n",
       "      <td>0.0</td>\n",
       "      <td>0.0</td>\n",
       "      <td>0.0</td>\n",
       "      <td>0.0</td>\n",
       "      <td>15.73</td>\n",
       "    </tr>\n",
       "    <tr>\n",
       "      <th>roam_og_mou_7</th>\n",
       "      <td>0.0</td>\n",
       "      <td>0.0</td>\n",
       "      <td>0.0</td>\n",
       "      <td>0.0</td>\n",
       "      <td>0.0</td>\n",
       "    </tr>\n",
       "    <tr>\n",
       "      <th>roam_og_mou_8</th>\n",
       "      <td>0.0</td>\n",
       "      <td>0.0</td>\n",
       "      <td>0.0</td>\n",
       "      <td>1.63</td>\n",
       "      <td>0.0</td>\n",
       "    </tr>\n",
       "    <tr>\n",
       "      <th>loc_og_t2t_mou_6</th>\n",
       "      <td>2.23</td>\n",
       "      <td>0.0</td>\n",
       "      <td>0.53</td>\n",
       "      <td>6.99</td>\n",
       "      <td>10.16</td>\n",
       "    </tr>\n",
       "    <tr>\n",
       "      <th>loc_og_t2t_mou_7</th>\n",
       "      <td>0.0</td>\n",
       "      <td>0.0</td>\n",
       "      <td>12.98</td>\n",
       "      <td>3.94</td>\n",
       "      <td>4.83</td>\n",
       "    </tr>\n",
       "    <tr>\n",
       "      <th>loc_og_t2t_mou_8</th>\n",
       "      <td>0.28</td>\n",
       "      <td>0.0</td>\n",
       "      <td>0.0</td>\n",
       "      <td>0.0</td>\n",
       "      <td>6.13</td>\n",
       "    </tr>\n",
       "    <tr>\n",
       "      <th>loc_og_t2m_mou_6</th>\n",
       "      <td>5.29</td>\n",
       "      <td>0.0</td>\n",
       "      <td>24.11</td>\n",
       "      <td>37.91</td>\n",
       "      <td>36.74</td>\n",
       "    </tr>\n",
       "    <tr>\n",
       "      <th>loc_og_t2m_mou_7</th>\n",
       "      <td>16.04</td>\n",
       "      <td>0.0</td>\n",
       "      <td>0.0</td>\n",
       "      <td>44.89</td>\n",
       "      <td>19.88</td>\n",
       "    </tr>\n",
       "    <tr>\n",
       "      <th>loc_og_t2m_mou_8</th>\n",
       "      <td>2.33</td>\n",
       "      <td>0.0</td>\n",
       "      <td>0.0</td>\n",
       "      <td>23.63</td>\n",
       "      <td>4.61</td>\n",
       "    </tr>\n",
       "    <tr>\n",
       "      <th>loc_og_t2f_mou_6</th>\n",
       "      <td>0.0</td>\n",
       "      <td>0.0</td>\n",
       "      <td>0.0</td>\n",
       "      <td>0.0</td>\n",
       "      <td>11.99</td>\n",
       "    </tr>\n",
       "    <tr>\n",
       "      <th>loc_og_t2f_mou_7</th>\n",
       "      <td>0.0</td>\n",
       "      <td>0.0</td>\n",
       "      <td>0.0</td>\n",
       "      <td>0.0</td>\n",
       "      <td>1.23</td>\n",
       "    </tr>\n",
       "    <tr>\n",
       "      <th>loc_og_t2f_mou_8</th>\n",
       "      <td>0.0</td>\n",
       "      <td>0.0</td>\n",
       "      <td>0.0</td>\n",
       "      <td>0.0</td>\n",
       "      <td>5.01</td>\n",
       "    </tr>\n",
       "    <tr>\n",
       "      <th>loc_og_t2c_mou_6</th>\n",
       "      <td>0.0</td>\n",
       "      <td>0.0</td>\n",
       "      <td>2.14</td>\n",
       "      <td>0.0</td>\n",
       "      <td>0.0</td>\n",
       "    </tr>\n",
       "    <tr>\n",
       "      <th>loc_og_t2c_mou_7</th>\n",
       "      <td>0.0</td>\n",
       "      <td>22.01</td>\n",
       "      <td>0.0</td>\n",
       "      <td>0.0</td>\n",
       "      <td>9.85</td>\n",
       "    </tr>\n",
       "    <tr>\n",
       "      <th>loc_og_t2c_mou_8</th>\n",
       "      <td>0.0</td>\n",
       "      <td>29.79</td>\n",
       "      <td>0.0</td>\n",
       "      <td>8.03</td>\n",
       "      <td>0.0</td>\n",
       "    </tr>\n",
       "    <tr>\n",
       "      <th>loc_og_mou_6</th>\n",
       "      <td>7.53</td>\n",
       "      <td>0.0</td>\n",
       "      <td>24.64</td>\n",
       "      <td>44.91</td>\n",
       "      <td>58.91</td>\n",
       "    </tr>\n",
       "    <tr>\n",
       "      <th>loc_og_mou_7</th>\n",
       "      <td>16.04</td>\n",
       "      <td>0.0</td>\n",
       "      <td>12.98</td>\n",
       "      <td>48.84</td>\n",
       "      <td>25.94</td>\n",
       "    </tr>\n",
       "    <tr>\n",
       "      <th>loc_og_mou_8</th>\n",
       "      <td>2.61</td>\n",
       "      <td>0.0</td>\n",
       "      <td>0.0</td>\n",
       "      <td>23.63</td>\n",
       "      <td>15.76</td>\n",
       "    </tr>\n",
       "    <tr>\n",
       "      <th>std_og_t2t_mou_6</th>\n",
       "      <td>46.34</td>\n",
       "      <td>0.0</td>\n",
       "      <td>0.0</td>\n",
       "      <td>0.26</td>\n",
       "      <td>0.0</td>\n",
       "    </tr>\n",
       "    <tr>\n",
       "      <th>std_og_t2t_mou_7</th>\n",
       "      <td>124.38</td>\n",
       "      <td>0.0</td>\n",
       "      <td>2.94</td>\n",
       "      <td>12.06</td>\n",
       "      <td>0.0</td>\n",
       "    </tr>\n",
       "    <tr>\n",
       "      <th>std_og_t2t_mou_8</th>\n",
       "      <td>1.01</td>\n",
       "      <td>0.0</td>\n",
       "      <td>0.0</td>\n",
       "      <td>0.0</td>\n",
       "      <td>0.0</td>\n",
       "    </tr>\n",
       "    <tr>\n",
       "      <th>std_og_t2m_mou_6</th>\n",
       "      <td>18.75</td>\n",
       "      <td>0.0</td>\n",
       "      <td>28.94</td>\n",
       "      <td>15.33</td>\n",
       "      <td>4.35</td>\n",
       "    </tr>\n",
       "    <tr>\n",
       "      <th>std_og_t2m_mou_7</th>\n",
       "      <td>80.61</td>\n",
       "      <td>0.0</td>\n",
       "      <td>82.05</td>\n",
       "      <td>25.93</td>\n",
       "      <td>0.0</td>\n",
       "    </tr>\n",
       "    <tr>\n",
       "      <th>std_og_t2m_mou_8</th>\n",
       "      <td>0.0</td>\n",
       "      <td>0.0</td>\n",
       "      <td>0.0</td>\n",
       "      <td>4.6</td>\n",
       "      <td>0.0</td>\n",
       "    </tr>\n",
       "    <tr>\n",
       "      <th>std_og_t2f_mou_6</th>\n",
       "      <td>0.0</td>\n",
       "      <td>0.0</td>\n",
       "      <td>0.0</td>\n",
       "      <td>0.56</td>\n",
       "      <td>0.0</td>\n",
       "    </tr>\n",
       "    <tr>\n",
       "      <th>std_og_t2f_mou_7</th>\n",
       "      <td>0.0</td>\n",
       "      <td>0.0</td>\n",
       "      <td>0.0</td>\n",
       "      <td>0.0</td>\n",
       "      <td>0.0</td>\n",
       "    </tr>\n",
       "    <tr>\n",
       "      <th>std_og_t2f_mou_8</th>\n",
       "      <td>0.0</td>\n",
       "      <td>0.0</td>\n",
       "      <td>0.0</td>\n",
       "      <td>0.0</td>\n",
       "      <td>0.0</td>\n",
       "    </tr>\n",
       "    <tr>\n",
       "      <th>std_og_t2c_mou_6</th>\n",
       "      <td>0.0</td>\n",
       "      <td>0.0</td>\n",
       "      <td>0.0</td>\n",
       "      <td>0.0</td>\n",
       "      <td>0.0</td>\n",
       "    </tr>\n",
       "    <tr>\n",
       "      <th>std_og_t2c_mou_7</th>\n",
       "      <td>0.0</td>\n",
       "      <td>0.0</td>\n",
       "      <td>0.0</td>\n",
       "      <td>0.0</td>\n",
       "      <td>0.0</td>\n",
       "    </tr>\n",
       "    <tr>\n",
       "      <th>std_og_t2c_mou_8</th>\n",
       "      <td>0.0</td>\n",
       "      <td>0.0</td>\n",
       "      <td>0.0</td>\n",
       "      <td>0.0</td>\n",
       "      <td>0.0</td>\n",
       "    </tr>\n",
       "    <tr>\n",
       "      <th>std_og_mou_6</th>\n",
       "      <td>65.09</td>\n",
       "      <td>0.0</td>\n",
       "      <td>28.94</td>\n",
       "      <td>16.16</td>\n",
       "      <td>4.35</td>\n",
       "    </tr>\n",
       "    <tr>\n",
       "      <th>std_og_mou_7</th>\n",
       "      <td>204.99</td>\n",
       "      <td>0.0</td>\n",
       "      <td>84.99</td>\n",
       "      <td>37.99</td>\n",
       "      <td>0.0</td>\n",
       "    </tr>\n",
       "    <tr>\n",
       "      <th>std_og_mou_8</th>\n",
       "      <td>1.01</td>\n",
       "      <td>0.0</td>\n",
       "      <td>0.0</td>\n",
       "      <td>4.6</td>\n",
       "      <td>0.0</td>\n",
       "    </tr>\n",
       "    <tr>\n",
       "      <th>isd_og_mou_6</th>\n",
       "      <td>0.0</td>\n",
       "      <td>0.0</td>\n",
       "      <td>0.0</td>\n",
       "      <td>0.0</td>\n",
       "      <td>0.0</td>\n",
       "    </tr>\n",
       "    <tr>\n",
       "      <th>isd_og_mou_7</th>\n",
       "      <td>0.0</td>\n",
       "      <td>0.0</td>\n",
       "      <td>0.0</td>\n",
       "      <td>0.0</td>\n",
       "      <td>0.0</td>\n",
       "    </tr>\n",
       "    <tr>\n",
       "      <th>isd_og_mou_8</th>\n",
       "      <td>0.0</td>\n",
       "      <td>0.0</td>\n",
       "      <td>0.0</td>\n",
       "      <td>0.0</td>\n",
       "      <td>0.0</td>\n",
       "    </tr>\n",
       "    <tr>\n",
       "      <th>spl_og_mou_6</th>\n",
       "      <td>8.2</td>\n",
       "      <td>0.0</td>\n",
       "      <td>2.89</td>\n",
       "      <td>14.95</td>\n",
       "      <td>0.0</td>\n",
       "    </tr>\n",
       "    <tr>\n",
       "      <th>spl_og_mou_7</th>\n",
       "      <td>0.63</td>\n",
       "      <td>30.73</td>\n",
       "      <td>1.38</td>\n",
       "      <td>9.13</td>\n",
       "      <td>17.0</td>\n",
       "    </tr>\n",
       "    <tr>\n",
       "      <th>spl_og_mou_8</th>\n",
       "      <td>0.0</td>\n",
       "      <td>31.66</td>\n",
       "      <td>0.0</td>\n",
       "      <td>25.61</td>\n",
       "      <td>0.0</td>\n",
       "    </tr>\n",
       "    <tr>\n",
       "      <th>og_others_6</th>\n",
       "      <td>0.38</td>\n",
       "      <td>0.0</td>\n",
       "      <td>0.0</td>\n",
       "      <td>0.0</td>\n",
       "      <td>0.0</td>\n",
       "    </tr>\n",
       "    <tr>\n",
       "      <th>og_others_7</th>\n",
       "      <td>0.0</td>\n",
       "      <td>0.0</td>\n",
       "      <td>0.0</td>\n",
       "      <td>0.0</td>\n",
       "      <td>0.0</td>\n",
       "    </tr>\n",
       "    <tr>\n",
       "      <th>og_others_8</th>\n",
       "      <td>0.0</td>\n",
       "      <td>0.0</td>\n",
       "      <td>0.0</td>\n",
       "      <td>0.0</td>\n",
       "      <td>0.0</td>\n",
       "    </tr>\n",
       "    <tr>\n",
       "      <th>total_og_mou_6</th>\n",
       "      <td>81.21</td>\n",
       "      <td>0.0</td>\n",
       "      <td>56.49</td>\n",
       "      <td>76.03</td>\n",
       "      <td>63.26</td>\n",
       "    </tr>\n",
       "    <tr>\n",
       "      <th>total_og_mou_7</th>\n",
       "      <td>221.68</td>\n",
       "      <td>30.73</td>\n",
       "      <td>99.36</td>\n",
       "      <td>95.98</td>\n",
       "      <td>42.94</td>\n",
       "    </tr>\n",
       "    <tr>\n",
       "      <th>total_og_mou_8</th>\n",
       "      <td>3.63</td>\n",
       "      <td>31.66</td>\n",
       "      <td>0.0</td>\n",
       "      <td>53.84</td>\n",
       "      <td>15.76</td>\n",
       "    </tr>\n",
       "    <tr>\n",
       "      <th>loc_ic_t2t_mou_6</th>\n",
       "      <td>2.43</td>\n",
       "      <td>1.68</td>\n",
       "      <td>4.51</td>\n",
       "      <td>24.98</td>\n",
       "      <td>5.44</td>\n",
       "    </tr>\n",
       "    <tr>\n",
       "      <th>loc_ic_t2t_mou_7</th>\n",
       "      <td>3.68</td>\n",
       "      <td>19.09</td>\n",
       "      <td>6.16</td>\n",
       "      <td>4.84</td>\n",
       "      <td>1.39</td>\n",
       "    </tr>\n",
       "    <tr>\n",
       "      <th>loc_ic_t2t_mou_8</th>\n",
       "      <td>7.79</td>\n",
       "      <td>10.53</td>\n",
       "      <td>6.49</td>\n",
       "      <td>23.88</td>\n",
       "      <td>2.66</td>\n",
       "    </tr>\n",
       "    <tr>\n",
       "      <th>loc_ic_t2m_mou_6</th>\n",
       "      <td>0.83</td>\n",
       "      <td>1.41</td>\n",
       "      <td>89.86</td>\n",
       "      <td>53.99</td>\n",
       "      <td>10.58</td>\n",
       "    </tr>\n",
       "    <tr>\n",
       "      <th>loc_ic_t2m_mou_7</th>\n",
       "      <td>21.08</td>\n",
       "      <td>18.68</td>\n",
       "      <td>25.18</td>\n",
       "      <td>44.23</td>\n",
       "      <td>4.33</td>\n",
       "    </tr>\n",
       "    <tr>\n",
       "      <th>loc_ic_t2m_mou_8</th>\n",
       "      <td>16.91</td>\n",
       "      <td>11.09</td>\n",
       "      <td>23.51</td>\n",
       "      <td>57.14</td>\n",
       "      <td>19.49</td>\n",
       "    </tr>\n",
       "    <tr>\n",
       "      <th>loc_ic_t2f_mou_6</th>\n",
       "      <td>0.0</td>\n",
       "      <td>0.35</td>\n",
       "      <td>0.0</td>\n",
       "      <td>7.23</td>\n",
       "      <td>5.51</td>\n",
       "    </tr>\n",
       "    <tr>\n",
       "      <th>loc_ic_t2f_mou_7</th>\n",
       "      <td>0.0</td>\n",
       "      <td>1.66</td>\n",
       "      <td>0.0</td>\n",
       "      <td>0.81</td>\n",
       "      <td>3.63</td>\n",
       "    </tr>\n",
       "    <tr>\n",
       "      <th>loc_ic_t2f_mou_8</th>\n",
       "      <td>0.0</td>\n",
       "      <td>3.4</td>\n",
       "      <td>0.0</td>\n",
       "      <td>0.0</td>\n",
       "      <td>6.14</td>\n",
       "    </tr>\n",
       "    <tr>\n",
       "      <th>loc_ic_mou_6</th>\n",
       "      <td>3.26</td>\n",
       "      <td>3.44</td>\n",
       "      <td>94.38</td>\n",
       "      <td>86.21</td>\n",
       "      <td>21.54</td>\n",
       "    </tr>\n",
       "    <tr>\n",
       "      <th>loc_ic_mou_7</th>\n",
       "      <td>24.76</td>\n",
       "      <td>39.44</td>\n",
       "      <td>31.34</td>\n",
       "      <td>49.89</td>\n",
       "      <td>9.36</td>\n",
       "    </tr>\n",
       "    <tr>\n",
       "      <th>loc_ic_mou_8</th>\n",
       "      <td>24.71</td>\n",
       "      <td>25.03</td>\n",
       "      <td>30.01</td>\n",
       "      <td>81.03</td>\n",
       "      <td>28.31</td>\n",
       "    </tr>\n",
       "    <tr>\n",
       "      <th>std_ic_t2t_mou_6</th>\n",
       "      <td>0.0</td>\n",
       "      <td>0.0</td>\n",
       "      <td>11.69</td>\n",
       "      <td>0.0</td>\n",
       "      <td>0.0</td>\n",
       "    </tr>\n",
       "    <tr>\n",
       "      <th>std_ic_t2t_mou_7</th>\n",
       "      <td>7.61</td>\n",
       "      <td>0.0</td>\n",
       "      <td>0.0</td>\n",
       "      <td>0.0</td>\n",
       "      <td>0.0</td>\n",
       "    </tr>\n",
       "    <tr>\n",
       "      <th>std_ic_t2t_mou_8</th>\n",
       "      <td>0.21</td>\n",
       "      <td>0.0</td>\n",
       "      <td>0.0</td>\n",
       "      <td>0.0</td>\n",
       "      <td>0.0</td>\n",
       "    </tr>\n",
       "    <tr>\n",
       "      <th>std_ic_t2m_mou_6</th>\n",
       "      <td>7.46</td>\n",
       "      <td>0.0</td>\n",
       "      <td>18.21</td>\n",
       "      <td>8.89</td>\n",
       "      <td>0.0</td>\n",
       "    </tr>\n",
       "    <tr>\n",
       "      <th>std_ic_t2m_mou_7</th>\n",
       "      <td>19.96</td>\n",
       "      <td>0.0</td>\n",
       "      <td>2.48</td>\n",
       "      <td>0.28</td>\n",
       "      <td>0.0</td>\n",
       "    </tr>\n",
       "    <tr>\n",
       "      <th>std_ic_t2m_mou_8</th>\n",
       "      <td>14.96</td>\n",
       "      <td>0.0</td>\n",
       "      <td>6.38</td>\n",
       "      <td>2.81</td>\n",
       "      <td>0.0</td>\n",
       "    </tr>\n",
       "    <tr>\n",
       "      <th>std_ic_t2f_mou_6</th>\n",
       "      <td>0.0</td>\n",
       "      <td>0.0</td>\n",
       "      <td>0.0</td>\n",
       "      <td>0.0</td>\n",
       "      <td>0.0</td>\n",
       "    </tr>\n",
       "    <tr>\n",
       "      <th>std_ic_t2f_mou_7</th>\n",
       "      <td>0.0</td>\n",
       "      <td>0.0</td>\n",
       "      <td>0.0</td>\n",
       "      <td>0.0</td>\n",
       "      <td>0.0</td>\n",
       "    </tr>\n",
       "    <tr>\n",
       "      <th>std_ic_t2f_mou_8</th>\n",
       "      <td>0.0</td>\n",
       "      <td>0.0</td>\n",
       "      <td>0.0</td>\n",
       "      <td>0.0</td>\n",
       "      <td>0.0</td>\n",
       "    </tr>\n",
       "    <tr>\n",
       "      <th>std_ic_t2o_mou_6</th>\n",
       "      <td>0.0</td>\n",
       "      <td>0.0</td>\n",
       "      <td>0.0</td>\n",
       "      <td>0.0</td>\n",
       "      <td>0.0</td>\n",
       "    </tr>\n",
       "    <tr>\n",
       "      <th>std_ic_t2o_mou_7</th>\n",
       "      <td>0.0</td>\n",
       "      <td>0.0</td>\n",
       "      <td>0.0</td>\n",
       "      <td>0.0</td>\n",
       "      <td>0.0</td>\n",
       "    </tr>\n",
       "    <tr>\n",
       "      <th>std_ic_t2o_mou_8</th>\n",
       "      <td>0.0</td>\n",
       "      <td>0.0</td>\n",
       "      <td>0.0</td>\n",
       "      <td>0.0</td>\n",
       "      <td>0.0</td>\n",
       "    </tr>\n",
       "    <tr>\n",
       "      <th>std_ic_mou_6</th>\n",
       "      <td>7.46</td>\n",
       "      <td>0.0</td>\n",
       "      <td>29.91</td>\n",
       "      <td>8.89</td>\n",
       "      <td>0.0</td>\n",
       "    </tr>\n",
       "    <tr>\n",
       "      <th>std_ic_mou_7</th>\n",
       "      <td>27.58</td>\n",
       "      <td>0.0</td>\n",
       "      <td>2.48</td>\n",
       "      <td>0.28</td>\n",
       "      <td>0.0</td>\n",
       "    </tr>\n",
       "    <tr>\n",
       "      <th>std_ic_mou_8</th>\n",
       "      <td>15.18</td>\n",
       "      <td>0.0</td>\n",
       "      <td>6.38</td>\n",
       "      <td>2.81</td>\n",
       "      <td>0.0</td>\n",
       "    </tr>\n",
       "    <tr>\n",
       "      <th>total_ic_mou_6</th>\n",
       "      <td>11.84</td>\n",
       "      <td>3.44</td>\n",
       "      <td>124.29</td>\n",
       "      <td>95.11</td>\n",
       "      <td>21.54</td>\n",
       "    </tr>\n",
       "    <tr>\n",
       "      <th>total_ic_mou_7</th>\n",
       "      <td>53.04</td>\n",
       "      <td>39.44</td>\n",
       "      <td>33.83</td>\n",
       "      <td>50.18</td>\n",
       "      <td>9.36</td>\n",
       "    </tr>\n",
       "    <tr>\n",
       "      <th>total_ic_mou_8</th>\n",
       "      <td>40.56</td>\n",
       "      <td>25.04</td>\n",
       "      <td>36.64</td>\n",
       "      <td>83.84</td>\n",
       "      <td>28.31</td>\n",
       "    </tr>\n",
       "    <tr>\n",
       "      <th>spl_ic_mou_6</th>\n",
       "      <td>0.0</td>\n",
       "      <td>0.0</td>\n",
       "      <td>0.0</td>\n",
       "      <td>0.0</td>\n",
       "      <td>0.0</td>\n",
       "    </tr>\n",
       "    <tr>\n",
       "      <th>spl_ic_mou_7</th>\n",
       "      <td>0.0</td>\n",
       "      <td>0.0</td>\n",
       "      <td>0.0</td>\n",
       "      <td>0.0</td>\n",
       "      <td>0.0</td>\n",
       "    </tr>\n",
       "    <tr>\n",
       "      <th>spl_ic_mou_8</th>\n",
       "      <td>0.66</td>\n",
       "      <td>0.01</td>\n",
       "      <td>0.0</td>\n",
       "      <td>0.0</td>\n",
       "      <td>0.0</td>\n",
       "    </tr>\n",
       "    <tr>\n",
       "      <th>isd_ic_mou_6</th>\n",
       "      <td>0.0</td>\n",
       "      <td>0.0</td>\n",
       "      <td>0.0</td>\n",
       "      <td>0.0</td>\n",
       "      <td>0.0</td>\n",
       "    </tr>\n",
       "    <tr>\n",
       "      <th>isd_ic_mou_7</th>\n",
       "      <td>0.0</td>\n",
       "      <td>0.0</td>\n",
       "      <td>0.0</td>\n",
       "      <td>0.0</td>\n",
       "      <td>0.0</td>\n",
       "    </tr>\n",
       "    <tr>\n",
       "      <th>isd_ic_mou_8</th>\n",
       "      <td>0.0</td>\n",
       "      <td>0.0</td>\n",
       "      <td>0.0</td>\n",
       "      <td>0.0</td>\n",
       "      <td>0.0</td>\n",
       "    </tr>\n",
       "    <tr>\n",
       "      <th>ic_others_6</th>\n",
       "      <td>1.11</td>\n",
       "      <td>0.0</td>\n",
       "      <td>0.0</td>\n",
       "      <td>0.0</td>\n",
       "      <td>0.0</td>\n",
       "    </tr>\n",
       "    <tr>\n",
       "      <th>ic_others_7</th>\n",
       "      <td>0.69</td>\n",
       "      <td>0.0</td>\n",
       "      <td>0.0</td>\n",
       "      <td>0.0</td>\n",
       "      <td>0.0</td>\n",
       "    </tr>\n",
       "    <tr>\n",
       "      <th>ic_others_8</th>\n",
       "      <td>0.0</td>\n",
       "      <td>0.0</td>\n",
       "      <td>0.25</td>\n",
       "      <td>0.0</td>\n",
       "      <td>0.0</td>\n",
       "    </tr>\n",
       "    <tr>\n",
       "      <th>total_rech_num_6</th>\n",
       "      <td>3</td>\n",
       "      <td>3</td>\n",
       "      <td>2</td>\n",
       "      <td>2</td>\n",
       "      <td>13</td>\n",
       "    </tr>\n",
       "    <tr>\n",
       "      <th>total_rech_num_7</th>\n",
       "      <td>2</td>\n",
       "      <td>4</td>\n",
       "      <td>4</td>\n",
       "      <td>4</td>\n",
       "      <td>10</td>\n",
       "    </tr>\n",
       "    <tr>\n",
       "      <th>total_rech_num_8</th>\n",
       "      <td>2</td>\n",
       "      <td>5</td>\n",
       "      <td>2</td>\n",
       "      <td>3</td>\n",
       "      <td>8</td>\n",
       "    </tr>\n",
       "    <tr>\n",
       "      <th>total_rech_amt_6</th>\n",
       "      <td>77</td>\n",
       "      <td>0</td>\n",
       "      <td>70</td>\n",
       "      <td>160</td>\n",
       "      <td>290</td>\n",
       "    </tr>\n",
       "    <tr>\n",
       "      <th>total_rech_amt_7</th>\n",
       "      <td>65</td>\n",
       "      <td>145</td>\n",
       "      <td>120</td>\n",
       "      <td>240</td>\n",
       "      <td>136</td>\n",
       "    </tr>\n",
       "    <tr>\n",
       "      <th>total_rech_amt_8</th>\n",
       "      <td>10</td>\n",
       "      <td>50</td>\n",
       "      <td>0</td>\n",
       "      <td>130</td>\n",
       "      <td>122</td>\n",
       "    </tr>\n",
       "    <tr>\n",
       "      <th>max_rech_amt_6</th>\n",
       "      <td>65</td>\n",
       "      <td>0</td>\n",
       "      <td>70</td>\n",
       "      <td>110</td>\n",
       "      <td>50</td>\n",
       "    </tr>\n",
       "    <tr>\n",
       "      <th>max_rech_amt_7</th>\n",
       "      <td>65</td>\n",
       "      <td>145</td>\n",
       "      <td>70</td>\n",
       "      <td>110</td>\n",
       "      <td>41</td>\n",
       "    </tr>\n",
       "    <tr>\n",
       "      <th>max_rech_amt_8</th>\n",
       "      <td>10</td>\n",
       "      <td>50</td>\n",
       "      <td>0</td>\n",
       "      <td>50</td>\n",
       "      <td>30</td>\n",
       "    </tr>\n",
       "    <tr>\n",
       "      <th>date_of_last_rech_6</th>\n",
       "      <td>6/22/2014</td>\n",
       "      <td>6/12/2014</td>\n",
       "      <td>6/11/2014</td>\n",
       "      <td>6/15/2014</td>\n",
       "      <td>6/25/2014</td>\n",
       "    </tr>\n",
       "    <tr>\n",
       "      <th>date_of_last_rech_7</th>\n",
       "      <td>7/10/2014</td>\n",
       "      <td>7/10/2014</td>\n",
       "      <td>7/22/2014</td>\n",
       "      <td>7/21/2014</td>\n",
       "      <td>7/26/2014</td>\n",
       "    </tr>\n",
       "    <tr>\n",
       "      <th>date_of_last_rech_8</th>\n",
       "      <td>8/24/2014</td>\n",
       "      <td>8/26/2014</td>\n",
       "      <td>8/24/2014</td>\n",
       "      <td>8/25/2014</td>\n",
       "      <td>8/30/2014</td>\n",
       "    </tr>\n",
       "    <tr>\n",
       "      <th>last_day_rch_amt_6</th>\n",
       "      <td>65</td>\n",
       "      <td>0</td>\n",
       "      <td>70</td>\n",
       "      <td>110</td>\n",
       "      <td>25</td>\n",
       "    </tr>\n",
       "    <tr>\n",
       "      <th>last_day_rch_amt_7</th>\n",
       "      <td>65</td>\n",
       "      <td>0</td>\n",
       "      <td>50</td>\n",
       "      <td>110</td>\n",
       "      <td>10</td>\n",
       "    </tr>\n",
       "    <tr>\n",
       "      <th>last_day_rch_amt_8</th>\n",
       "      <td>0</td>\n",
       "      <td>0</td>\n",
       "      <td>0</td>\n",
       "      <td>50</td>\n",
       "      <td>30</td>\n",
       "    </tr>\n",
       "    <tr>\n",
       "      <th>date_of_last_rech_data_6</th>\n",
       "      <td>NaN</td>\n",
       "      <td>NaN</td>\n",
       "      <td>NaN</td>\n",
       "      <td>NaN</td>\n",
       "      <td>6/25/2014</td>\n",
       "    </tr>\n",
       "    <tr>\n",
       "      <th>date_of_last_rech_data_7</th>\n",
       "      <td>NaN</td>\n",
       "      <td>7/8/2014</td>\n",
       "      <td>NaN</td>\n",
       "      <td>NaN</td>\n",
       "      <td>7/23/2014</td>\n",
       "    </tr>\n",
       "    <tr>\n",
       "      <th>date_of_last_rech_data_8</th>\n",
       "      <td>NaN</td>\n",
       "      <td>NaN</td>\n",
       "      <td>NaN</td>\n",
       "      <td>NaN</td>\n",
       "      <td>8/20/2014</td>\n",
       "    </tr>\n",
       "    <tr>\n",
       "      <th>total_rech_data_6</th>\n",
       "      <td>NaN</td>\n",
       "      <td>NaN</td>\n",
       "      <td>NaN</td>\n",
       "      <td>NaN</td>\n",
       "      <td>7.0</td>\n",
       "    </tr>\n",
       "    <tr>\n",
       "      <th>total_rech_data_7</th>\n",
       "      <td>NaN</td>\n",
       "      <td>1.0</td>\n",
       "      <td>NaN</td>\n",
       "      <td>NaN</td>\n",
       "      <td>7.0</td>\n",
       "    </tr>\n",
       "    <tr>\n",
       "      <th>total_rech_data_8</th>\n",
       "      <td>NaN</td>\n",
       "      <td>NaN</td>\n",
       "      <td>NaN</td>\n",
       "      <td>NaN</td>\n",
       "      <td>6.0</td>\n",
       "    </tr>\n",
       "    <tr>\n",
       "      <th>max_rech_data_6</th>\n",
       "      <td>NaN</td>\n",
       "      <td>NaN</td>\n",
       "      <td>NaN</td>\n",
       "      <td>NaN</td>\n",
       "      <td>25.0</td>\n",
       "    </tr>\n",
       "    <tr>\n",
       "      <th>max_rech_data_7</th>\n",
       "      <td>NaN</td>\n",
       "      <td>145.0</td>\n",
       "      <td>NaN</td>\n",
       "      <td>NaN</td>\n",
       "      <td>41.0</td>\n",
       "    </tr>\n",
       "    <tr>\n",
       "      <th>max_rech_data_8</th>\n",
       "      <td>NaN</td>\n",
       "      <td>NaN</td>\n",
       "      <td>NaN</td>\n",
       "      <td>NaN</td>\n",
       "      <td>25.0</td>\n",
       "    </tr>\n",
       "    <tr>\n",
       "      <th>count_rech_2g_6</th>\n",
       "      <td>NaN</td>\n",
       "      <td>NaN</td>\n",
       "      <td>NaN</td>\n",
       "      <td>NaN</td>\n",
       "      <td>7.0</td>\n",
       "    </tr>\n",
       "    <tr>\n",
       "      <th>count_rech_2g_7</th>\n",
       "      <td>NaN</td>\n",
       "      <td>0.0</td>\n",
       "      <td>NaN</td>\n",
       "      <td>NaN</td>\n",
       "      <td>6.0</td>\n",
       "    </tr>\n",
       "    <tr>\n",
       "      <th>count_rech_2g_8</th>\n",
       "      <td>NaN</td>\n",
       "      <td>NaN</td>\n",
       "      <td>NaN</td>\n",
       "      <td>NaN</td>\n",
       "      <td>6.0</td>\n",
       "    </tr>\n",
       "    <tr>\n",
       "      <th>count_rech_3g_6</th>\n",
       "      <td>NaN</td>\n",
       "      <td>NaN</td>\n",
       "      <td>NaN</td>\n",
       "      <td>NaN</td>\n",
       "      <td>0.0</td>\n",
       "    </tr>\n",
       "    <tr>\n",
       "      <th>count_rech_3g_7</th>\n",
       "      <td>NaN</td>\n",
       "      <td>1.0</td>\n",
       "      <td>NaN</td>\n",
       "      <td>NaN</td>\n",
       "      <td>1.0</td>\n",
       "    </tr>\n",
       "    <tr>\n",
       "      <th>count_rech_3g_8</th>\n",
       "      <td>NaN</td>\n",
       "      <td>NaN</td>\n",
       "      <td>NaN</td>\n",
       "      <td>NaN</td>\n",
       "      <td>0.0</td>\n",
       "    </tr>\n",
       "    <tr>\n",
       "      <th>av_rech_amt_data_6</th>\n",
       "      <td>NaN</td>\n",
       "      <td>NaN</td>\n",
       "      <td>NaN</td>\n",
       "      <td>NaN</td>\n",
       "      <td>175.0</td>\n",
       "    </tr>\n",
       "    <tr>\n",
       "      <th>av_rech_amt_data_7</th>\n",
       "      <td>NaN</td>\n",
       "      <td>145.0</td>\n",
       "      <td>NaN</td>\n",
       "      <td>NaN</td>\n",
       "      <td>191.0</td>\n",
       "    </tr>\n",
       "    <tr>\n",
       "      <th>av_rech_amt_data_8</th>\n",
       "      <td>NaN</td>\n",
       "      <td>NaN</td>\n",
       "      <td>NaN</td>\n",
       "      <td>NaN</td>\n",
       "      <td>142.0</td>\n",
       "    </tr>\n",
       "    <tr>\n",
       "      <th>vol_2g_mb_6</th>\n",
       "      <td>0.0</td>\n",
       "      <td>0.0</td>\n",
       "      <td>0.0</td>\n",
       "      <td>0.0</td>\n",
       "      <td>390.8</td>\n",
       "    </tr>\n",
       "    <tr>\n",
       "      <th>vol_2g_mb_7</th>\n",
       "      <td>0.0</td>\n",
       "      <td>352.91</td>\n",
       "      <td>0.0</td>\n",
       "      <td>0.0</td>\n",
       "      <td>308.89</td>\n",
       "    </tr>\n",
       "    <tr>\n",
       "      <th>vol_2g_mb_8</th>\n",
       "      <td>0.0</td>\n",
       "      <td>0.0</td>\n",
       "      <td>0.0</td>\n",
       "      <td>0.0</td>\n",
       "      <td>213.47</td>\n",
       "    </tr>\n",
       "    <tr>\n",
       "      <th>vol_3g_mb_6</th>\n",
       "      <td>0.0</td>\n",
       "      <td>0.0</td>\n",
       "      <td>0.0</td>\n",
       "      <td>0.0</td>\n",
       "      <td>0.0</td>\n",
       "    </tr>\n",
       "    <tr>\n",
       "      <th>vol_3g_mb_7</th>\n",
       "      <td>0.0</td>\n",
       "      <td>3.96</td>\n",
       "      <td>0.0</td>\n",
       "      <td>0.0</td>\n",
       "      <td>0.0</td>\n",
       "    </tr>\n",
       "    <tr>\n",
       "      <th>vol_3g_mb_8</th>\n",
       "      <td>0.0</td>\n",
       "      <td>0.0</td>\n",
       "      <td>0.0</td>\n",
       "      <td>0.0</td>\n",
       "      <td>0.0</td>\n",
       "    </tr>\n",
       "    <tr>\n",
       "      <th>arpu_3g_6</th>\n",
       "      <td>NaN</td>\n",
       "      <td>NaN</td>\n",
       "      <td>NaN</td>\n",
       "      <td>NaN</td>\n",
       "      <td>0.0</td>\n",
       "    </tr>\n",
       "    <tr>\n",
       "      <th>arpu_3g_7</th>\n",
       "      <td>NaN</td>\n",
       "      <td>122.07</td>\n",
       "      <td>NaN</td>\n",
       "      <td>NaN</td>\n",
       "      <td>35.0</td>\n",
       "    </tr>\n",
       "    <tr>\n",
       "      <th>arpu_3g_8</th>\n",
       "      <td>NaN</td>\n",
       "      <td>NaN</td>\n",
       "      <td>NaN</td>\n",
       "      <td>NaN</td>\n",
       "      <td>0.0</td>\n",
       "    </tr>\n",
       "    <tr>\n",
       "      <th>arpu_2g_6</th>\n",
       "      <td>NaN</td>\n",
       "      <td>NaN</td>\n",
       "      <td>NaN</td>\n",
       "      <td>NaN</td>\n",
       "      <td>0.0</td>\n",
       "    </tr>\n",
       "    <tr>\n",
       "      <th>arpu_2g_7</th>\n",
       "      <td>NaN</td>\n",
       "      <td>122.08</td>\n",
       "      <td>NaN</td>\n",
       "      <td>NaN</td>\n",
       "      <td>35.12</td>\n",
       "    </tr>\n",
       "    <tr>\n",
       "      <th>arpu_2g_8</th>\n",
       "      <td>NaN</td>\n",
       "      <td>NaN</td>\n",
       "      <td>NaN</td>\n",
       "      <td>NaN</td>\n",
       "      <td>0.0</td>\n",
       "    </tr>\n",
       "    <tr>\n",
       "      <th>night_pck_user_6</th>\n",
       "      <td>NaN</td>\n",
       "      <td>NaN</td>\n",
       "      <td>NaN</td>\n",
       "      <td>NaN</td>\n",
       "      <td>0.0</td>\n",
       "    </tr>\n",
       "    <tr>\n",
       "      <th>night_pck_user_7</th>\n",
       "      <td>NaN</td>\n",
       "      <td>0.0</td>\n",
       "      <td>NaN</td>\n",
       "      <td>NaN</td>\n",
       "      <td>0.0</td>\n",
       "    </tr>\n",
       "    <tr>\n",
       "      <th>night_pck_user_8</th>\n",
       "      <td>NaN</td>\n",
       "      <td>NaN</td>\n",
       "      <td>NaN</td>\n",
       "      <td>NaN</td>\n",
       "      <td>0.0</td>\n",
       "    </tr>\n",
       "    <tr>\n",
       "      <th>monthly_2g_6</th>\n",
       "      <td>0</td>\n",
       "      <td>0</td>\n",
       "      <td>0</td>\n",
       "      <td>0</td>\n",
       "      <td>0</td>\n",
       "    </tr>\n",
       "    <tr>\n",
       "      <th>monthly_2g_7</th>\n",
       "      <td>0</td>\n",
       "      <td>0</td>\n",
       "      <td>0</td>\n",
       "      <td>0</td>\n",
       "      <td>0</td>\n",
       "    </tr>\n",
       "    <tr>\n",
       "      <th>monthly_2g_8</th>\n",
       "      <td>0</td>\n",
       "      <td>0</td>\n",
       "      <td>0</td>\n",
       "      <td>0</td>\n",
       "      <td>0</td>\n",
       "    </tr>\n",
       "    <tr>\n",
       "      <th>sachet_2g_6</th>\n",
       "      <td>0</td>\n",
       "      <td>0</td>\n",
       "      <td>0</td>\n",
       "      <td>0</td>\n",
       "      <td>7</td>\n",
       "    </tr>\n",
       "    <tr>\n",
       "      <th>sachet_2g_7</th>\n",
       "      <td>0</td>\n",
       "      <td>0</td>\n",
       "      <td>0</td>\n",
       "      <td>0</td>\n",
       "      <td>6</td>\n",
       "    </tr>\n",
       "    <tr>\n",
       "      <th>sachet_2g_8</th>\n",
       "      <td>0</td>\n",
       "      <td>0</td>\n",
       "      <td>0</td>\n",
       "      <td>0</td>\n",
       "      <td>6</td>\n",
       "    </tr>\n",
       "    <tr>\n",
       "      <th>monthly_3g_6</th>\n",
       "      <td>0</td>\n",
       "      <td>0</td>\n",
       "      <td>0</td>\n",
       "      <td>0</td>\n",
       "      <td>0</td>\n",
       "    </tr>\n",
       "    <tr>\n",
       "      <th>monthly_3g_7</th>\n",
       "      <td>0</td>\n",
       "      <td>1</td>\n",
       "      <td>0</td>\n",
       "      <td>0</td>\n",
       "      <td>0</td>\n",
       "    </tr>\n",
       "    <tr>\n",
       "      <th>monthly_3g_8</th>\n",
       "      <td>0</td>\n",
       "      <td>0</td>\n",
       "      <td>0</td>\n",
       "      <td>0</td>\n",
       "      <td>0</td>\n",
       "    </tr>\n",
       "    <tr>\n",
       "      <th>sachet_3g_6</th>\n",
       "      <td>0</td>\n",
       "      <td>0</td>\n",
       "      <td>0</td>\n",
       "      <td>0</td>\n",
       "      <td>0</td>\n",
       "    </tr>\n",
       "    <tr>\n",
       "      <th>sachet_3g_7</th>\n",
       "      <td>0</td>\n",
       "      <td>0</td>\n",
       "      <td>0</td>\n",
       "      <td>0</td>\n",
       "      <td>1</td>\n",
       "    </tr>\n",
       "    <tr>\n",
       "      <th>sachet_3g_8</th>\n",
       "      <td>0</td>\n",
       "      <td>0</td>\n",
       "      <td>0</td>\n",
       "      <td>0</td>\n",
       "      <td>0</td>\n",
       "    </tr>\n",
       "    <tr>\n",
       "      <th>fb_user_6</th>\n",
       "      <td>NaN</td>\n",
       "      <td>NaN</td>\n",
       "      <td>NaN</td>\n",
       "      <td>NaN</td>\n",
       "      <td>1.0</td>\n",
       "    </tr>\n",
       "    <tr>\n",
       "      <th>fb_user_7</th>\n",
       "      <td>NaN</td>\n",
       "      <td>1.0</td>\n",
       "      <td>NaN</td>\n",
       "      <td>NaN</td>\n",
       "      <td>1.0</td>\n",
       "    </tr>\n",
       "    <tr>\n",
       "      <th>fb_user_8</th>\n",
       "      <td>NaN</td>\n",
       "      <td>NaN</td>\n",
       "      <td>NaN</td>\n",
       "      <td>NaN</td>\n",
       "      <td>1.0</td>\n",
       "    </tr>\n",
       "    <tr>\n",
       "      <th>aon</th>\n",
       "      <td>1958</td>\n",
       "      <td>710</td>\n",
       "      <td>882</td>\n",
       "      <td>982</td>\n",
       "      <td>647</td>\n",
       "    </tr>\n",
       "    <tr>\n",
       "      <th>aug_vbc_3g</th>\n",
       "      <td>0.0</td>\n",
       "      <td>0.0</td>\n",
       "      <td>0.0</td>\n",
       "      <td>0.0</td>\n",
       "      <td>0.0</td>\n",
       "    </tr>\n",
       "    <tr>\n",
       "      <th>jul_vbc_3g</th>\n",
       "      <td>0.0</td>\n",
       "      <td>0.0</td>\n",
       "      <td>0.0</td>\n",
       "      <td>0.0</td>\n",
       "      <td>0.0</td>\n",
       "    </tr>\n",
       "    <tr>\n",
       "      <th>jun_vbc_3g</th>\n",
       "      <td>0.0</td>\n",
       "      <td>0.0</td>\n",
       "      <td>0.0</td>\n",
       "      <td>0.0</td>\n",
       "      <td>0.0</td>\n",
       "    </tr>\n",
       "    <tr>\n",
       "      <th>churn_probability</th>\n",
       "      <td>0</td>\n",
       "      <td>0</td>\n",
       "      <td>0</td>\n",
       "      <td>0</td>\n",
       "      <td>0</td>\n",
       "    </tr>\n",
       "  </tbody>\n",
       "</table>\n",
       "</div>"
      ],
      "text/plain": [
       "                                  0          1          2          3  \\\n",
       "id                                0          1          2          3   \n",
       "circle_id                       109        109        109        109   \n",
       "loc_og_t2o_mou                  0.0        0.0        0.0        0.0   \n",
       "std_og_t2o_mou                  0.0        0.0        0.0        0.0   \n",
       "loc_ic_t2o_mou                  0.0        0.0        0.0        0.0   \n",
       "last_date_of_month_6      6/30/2014  6/30/2014  6/30/2014  6/30/2014   \n",
       "last_date_of_month_7      7/31/2014  7/31/2014  7/31/2014  7/31/2014   \n",
       "last_date_of_month_8      8/31/2014  8/31/2014  8/31/2014  8/31/2014   \n",
       "arpu_6                       31.277        0.0     60.806    156.362   \n",
       "arpu_7                       87.009    122.787    103.176     205.26   \n",
       "arpu_8                        7.527     42.953        0.0    111.095   \n",
       "onnet_mou_6                   48.58        0.0       0.53       7.26   \n",
       "onnet_mou_7                  124.38        0.0      15.93      16.01   \n",
       "onnet_mou_8                    1.29        0.0        0.0        0.0   \n",
       "offnet_mou_6                  32.24        0.0      53.99      68.76   \n",
       "offnet_mou_7                  96.68      25.99      82.05      78.48   \n",
       "offnet_mou_8                   2.33      30.89        0.0      50.23   \n",
       "roam_ic_mou_6                   0.0        0.0        0.0        0.0   \n",
       "roam_ic_mou_7                   0.0        0.0        0.0        0.0   \n",
       "roam_ic_mou_8                   0.0        0.0        0.0        0.0   \n",
       "roam_og_mou_6                   0.0        0.0        0.0        0.0   \n",
       "roam_og_mou_7                   0.0        0.0        0.0        0.0   \n",
       "roam_og_mou_8                   0.0        0.0        0.0       1.63   \n",
       "loc_og_t2t_mou_6               2.23        0.0       0.53       6.99   \n",
       "loc_og_t2t_mou_7                0.0        0.0      12.98       3.94   \n",
       "loc_og_t2t_mou_8               0.28        0.0        0.0        0.0   \n",
       "loc_og_t2m_mou_6               5.29        0.0      24.11      37.91   \n",
       "loc_og_t2m_mou_7              16.04        0.0        0.0      44.89   \n",
       "loc_og_t2m_mou_8               2.33        0.0        0.0      23.63   \n",
       "loc_og_t2f_mou_6                0.0        0.0        0.0        0.0   \n",
       "loc_og_t2f_mou_7                0.0        0.0        0.0        0.0   \n",
       "loc_og_t2f_mou_8                0.0        0.0        0.0        0.0   \n",
       "loc_og_t2c_mou_6                0.0        0.0       2.14        0.0   \n",
       "loc_og_t2c_mou_7                0.0      22.01        0.0        0.0   \n",
       "loc_og_t2c_mou_8                0.0      29.79        0.0       8.03   \n",
       "loc_og_mou_6                   7.53        0.0      24.64      44.91   \n",
       "loc_og_mou_7                  16.04        0.0      12.98      48.84   \n",
       "loc_og_mou_8                   2.61        0.0        0.0      23.63   \n",
       "std_og_t2t_mou_6              46.34        0.0        0.0       0.26   \n",
       "std_og_t2t_mou_7             124.38        0.0       2.94      12.06   \n",
       "std_og_t2t_mou_8               1.01        0.0        0.0        0.0   \n",
       "std_og_t2m_mou_6              18.75        0.0      28.94      15.33   \n",
       "std_og_t2m_mou_7              80.61        0.0      82.05      25.93   \n",
       "std_og_t2m_mou_8                0.0        0.0        0.0        4.6   \n",
       "std_og_t2f_mou_6                0.0        0.0        0.0       0.56   \n",
       "std_og_t2f_mou_7                0.0        0.0        0.0        0.0   \n",
       "std_og_t2f_mou_8                0.0        0.0        0.0        0.0   \n",
       "std_og_t2c_mou_6                0.0        0.0        0.0        0.0   \n",
       "std_og_t2c_mou_7                0.0        0.0        0.0        0.0   \n",
       "std_og_t2c_mou_8                0.0        0.0        0.0        0.0   \n",
       "std_og_mou_6                  65.09        0.0      28.94      16.16   \n",
       "std_og_mou_7                 204.99        0.0      84.99      37.99   \n",
       "std_og_mou_8                   1.01        0.0        0.0        4.6   \n",
       "isd_og_mou_6                    0.0        0.0        0.0        0.0   \n",
       "isd_og_mou_7                    0.0        0.0        0.0        0.0   \n",
       "isd_og_mou_8                    0.0        0.0        0.0        0.0   \n",
       "spl_og_mou_6                    8.2        0.0       2.89      14.95   \n",
       "spl_og_mou_7                   0.63      30.73       1.38       9.13   \n",
       "spl_og_mou_8                    0.0      31.66        0.0      25.61   \n",
       "og_others_6                    0.38        0.0        0.0        0.0   \n",
       "og_others_7                     0.0        0.0        0.0        0.0   \n",
       "og_others_8                     0.0        0.0        0.0        0.0   \n",
       "total_og_mou_6                81.21        0.0      56.49      76.03   \n",
       "total_og_mou_7               221.68      30.73      99.36      95.98   \n",
       "total_og_mou_8                 3.63      31.66        0.0      53.84   \n",
       "loc_ic_t2t_mou_6               2.43       1.68       4.51      24.98   \n",
       "loc_ic_t2t_mou_7               3.68      19.09       6.16       4.84   \n",
       "loc_ic_t2t_mou_8               7.79      10.53       6.49      23.88   \n",
       "loc_ic_t2m_mou_6               0.83       1.41      89.86      53.99   \n",
       "loc_ic_t2m_mou_7              21.08      18.68      25.18      44.23   \n",
       "loc_ic_t2m_mou_8              16.91      11.09      23.51      57.14   \n",
       "loc_ic_t2f_mou_6                0.0       0.35        0.0       7.23   \n",
       "loc_ic_t2f_mou_7                0.0       1.66        0.0       0.81   \n",
       "loc_ic_t2f_mou_8                0.0        3.4        0.0        0.0   \n",
       "loc_ic_mou_6                   3.26       3.44      94.38      86.21   \n",
       "loc_ic_mou_7                  24.76      39.44      31.34      49.89   \n",
       "loc_ic_mou_8                  24.71      25.03      30.01      81.03   \n",
       "std_ic_t2t_mou_6                0.0        0.0      11.69        0.0   \n",
       "std_ic_t2t_mou_7               7.61        0.0        0.0        0.0   \n",
       "std_ic_t2t_mou_8               0.21        0.0        0.0        0.0   \n",
       "std_ic_t2m_mou_6               7.46        0.0      18.21       8.89   \n",
       "std_ic_t2m_mou_7              19.96        0.0       2.48       0.28   \n",
       "std_ic_t2m_mou_8              14.96        0.0       6.38       2.81   \n",
       "std_ic_t2f_mou_6                0.0        0.0        0.0        0.0   \n",
       "std_ic_t2f_mou_7                0.0        0.0        0.0        0.0   \n",
       "std_ic_t2f_mou_8                0.0        0.0        0.0        0.0   \n",
       "std_ic_t2o_mou_6                0.0        0.0        0.0        0.0   \n",
       "std_ic_t2o_mou_7                0.0        0.0        0.0        0.0   \n",
       "std_ic_t2o_mou_8                0.0        0.0        0.0        0.0   \n",
       "std_ic_mou_6                   7.46        0.0      29.91       8.89   \n",
       "std_ic_mou_7                  27.58        0.0       2.48       0.28   \n",
       "std_ic_mou_8                  15.18        0.0       6.38       2.81   \n",
       "total_ic_mou_6                11.84       3.44     124.29      95.11   \n",
       "total_ic_mou_7                53.04      39.44      33.83      50.18   \n",
       "total_ic_mou_8                40.56      25.04      36.64      83.84   \n",
       "spl_ic_mou_6                    0.0        0.0        0.0        0.0   \n",
       "spl_ic_mou_7                    0.0        0.0        0.0        0.0   \n",
       "spl_ic_mou_8                   0.66       0.01        0.0        0.0   \n",
       "isd_ic_mou_6                    0.0        0.0        0.0        0.0   \n",
       "isd_ic_mou_7                    0.0        0.0        0.0        0.0   \n",
       "isd_ic_mou_8                    0.0        0.0        0.0        0.0   \n",
       "ic_others_6                    1.11        0.0        0.0        0.0   \n",
       "ic_others_7                    0.69        0.0        0.0        0.0   \n",
       "ic_others_8                     0.0        0.0       0.25        0.0   \n",
       "total_rech_num_6                  3          3          2          2   \n",
       "total_rech_num_7                  2          4          4          4   \n",
       "total_rech_num_8                  2          5          2          3   \n",
       "total_rech_amt_6                 77          0         70        160   \n",
       "total_rech_amt_7                 65        145        120        240   \n",
       "total_rech_amt_8                 10         50          0        130   \n",
       "max_rech_amt_6                   65          0         70        110   \n",
       "max_rech_amt_7                   65        145         70        110   \n",
       "max_rech_amt_8                   10         50          0         50   \n",
       "date_of_last_rech_6       6/22/2014  6/12/2014  6/11/2014  6/15/2014   \n",
       "date_of_last_rech_7       7/10/2014  7/10/2014  7/22/2014  7/21/2014   \n",
       "date_of_last_rech_8       8/24/2014  8/26/2014  8/24/2014  8/25/2014   \n",
       "last_day_rch_amt_6               65          0         70        110   \n",
       "last_day_rch_amt_7               65          0         50        110   \n",
       "last_day_rch_amt_8                0          0          0         50   \n",
       "date_of_last_rech_data_6        NaN        NaN        NaN        NaN   \n",
       "date_of_last_rech_data_7        NaN   7/8/2014        NaN        NaN   \n",
       "date_of_last_rech_data_8        NaN        NaN        NaN        NaN   \n",
       "total_rech_data_6               NaN        NaN        NaN        NaN   \n",
       "total_rech_data_7               NaN        1.0        NaN        NaN   \n",
       "total_rech_data_8               NaN        NaN        NaN        NaN   \n",
       "max_rech_data_6                 NaN        NaN        NaN        NaN   \n",
       "max_rech_data_7                 NaN      145.0        NaN        NaN   \n",
       "max_rech_data_8                 NaN        NaN        NaN        NaN   \n",
       "count_rech_2g_6                 NaN        NaN        NaN        NaN   \n",
       "count_rech_2g_7                 NaN        0.0        NaN        NaN   \n",
       "count_rech_2g_8                 NaN        NaN        NaN        NaN   \n",
       "count_rech_3g_6                 NaN        NaN        NaN        NaN   \n",
       "count_rech_3g_7                 NaN        1.0        NaN        NaN   \n",
       "count_rech_3g_8                 NaN        NaN        NaN        NaN   \n",
       "av_rech_amt_data_6              NaN        NaN        NaN        NaN   \n",
       "av_rech_amt_data_7              NaN      145.0        NaN        NaN   \n",
       "av_rech_amt_data_8              NaN        NaN        NaN        NaN   \n",
       "vol_2g_mb_6                     0.0        0.0        0.0        0.0   \n",
       "vol_2g_mb_7                     0.0     352.91        0.0        0.0   \n",
       "vol_2g_mb_8                     0.0        0.0        0.0        0.0   \n",
       "vol_3g_mb_6                     0.0        0.0        0.0        0.0   \n",
       "vol_3g_mb_7                     0.0       3.96        0.0        0.0   \n",
       "vol_3g_mb_8                     0.0        0.0        0.0        0.0   \n",
       "arpu_3g_6                       NaN        NaN        NaN        NaN   \n",
       "arpu_3g_7                       NaN     122.07        NaN        NaN   \n",
       "arpu_3g_8                       NaN        NaN        NaN        NaN   \n",
       "arpu_2g_6                       NaN        NaN        NaN        NaN   \n",
       "arpu_2g_7                       NaN     122.08        NaN        NaN   \n",
       "arpu_2g_8                       NaN        NaN        NaN        NaN   \n",
       "night_pck_user_6                NaN        NaN        NaN        NaN   \n",
       "night_pck_user_7                NaN        0.0        NaN        NaN   \n",
       "night_pck_user_8                NaN        NaN        NaN        NaN   \n",
       "monthly_2g_6                      0          0          0          0   \n",
       "monthly_2g_7                      0          0          0          0   \n",
       "monthly_2g_8                      0          0          0          0   \n",
       "sachet_2g_6                       0          0          0          0   \n",
       "sachet_2g_7                       0          0          0          0   \n",
       "sachet_2g_8                       0          0          0          0   \n",
       "monthly_3g_6                      0          0          0          0   \n",
       "monthly_3g_7                      0          1          0          0   \n",
       "monthly_3g_8                      0          0          0          0   \n",
       "sachet_3g_6                       0          0          0          0   \n",
       "sachet_3g_7                       0          0          0          0   \n",
       "sachet_3g_8                       0          0          0          0   \n",
       "fb_user_6                       NaN        NaN        NaN        NaN   \n",
       "fb_user_7                       NaN        1.0        NaN        NaN   \n",
       "fb_user_8                       NaN        NaN        NaN        NaN   \n",
       "aon                            1958        710        882        982   \n",
       "aug_vbc_3g                      0.0        0.0        0.0        0.0   \n",
       "jul_vbc_3g                      0.0        0.0        0.0        0.0   \n",
       "jun_vbc_3g                      0.0        0.0        0.0        0.0   \n",
       "churn_probability                 0          0          0          0   \n",
       "\n",
       "                                  4  \n",
       "id                                4  \n",
       "circle_id                       109  \n",
       "loc_og_t2o_mou                  0.0  \n",
       "std_og_t2o_mou                  0.0  \n",
       "loc_ic_t2o_mou                  0.0  \n",
       "last_date_of_month_6      6/30/2014  \n",
       "last_date_of_month_7      7/31/2014  \n",
       "last_date_of_month_8      8/31/2014  \n",
       "arpu_6                      240.708  \n",
       "arpu_7                      128.191  \n",
       "arpu_8                      101.565  \n",
       "onnet_mou_6                   21.28  \n",
       "onnet_mou_7                    4.83  \n",
       "onnet_mou_8                    6.13  \n",
       "offnet_mou_6                  56.99  \n",
       "offnet_mou_7                  38.11  \n",
       "offnet_mou_8                   9.63  \n",
       "roam_ic_mou_6                 53.64  \n",
       "roam_ic_mou_7                   0.0  \n",
       "roam_ic_mou_8                   0.0  \n",
       "roam_og_mou_6                 15.73  \n",
       "roam_og_mou_7                   0.0  \n",
       "roam_og_mou_8                   0.0  \n",
       "loc_og_t2t_mou_6              10.16  \n",
       "loc_og_t2t_mou_7               4.83  \n",
       "loc_og_t2t_mou_8               6.13  \n",
       "loc_og_t2m_mou_6              36.74  \n",
       "loc_og_t2m_mou_7              19.88  \n",
       "loc_og_t2m_mou_8               4.61  \n",
       "loc_og_t2f_mou_6              11.99  \n",
       "loc_og_t2f_mou_7               1.23  \n",
       "loc_og_t2f_mou_8               5.01  \n",
       "loc_og_t2c_mou_6                0.0  \n",
       "loc_og_t2c_mou_7               9.85  \n",
       "loc_og_t2c_mou_8                0.0  \n",
       "loc_og_mou_6                  58.91  \n",
       "loc_og_mou_7                  25.94  \n",
       "loc_og_mou_8                  15.76  \n",
       "std_og_t2t_mou_6                0.0  \n",
       "std_og_t2t_mou_7                0.0  \n",
       "std_og_t2t_mou_8                0.0  \n",
       "std_og_t2m_mou_6               4.35  \n",
       "std_og_t2m_mou_7                0.0  \n",
       "std_og_t2m_mou_8                0.0  \n",
       "std_og_t2f_mou_6                0.0  \n",
       "std_og_t2f_mou_7                0.0  \n",
       "std_og_t2f_mou_8                0.0  \n",
       "std_og_t2c_mou_6                0.0  \n",
       "std_og_t2c_mou_7                0.0  \n",
       "std_og_t2c_mou_8                0.0  \n",
       "std_og_mou_6                   4.35  \n",
       "std_og_mou_7                    0.0  \n",
       "std_og_mou_8                    0.0  \n",
       "isd_og_mou_6                    0.0  \n",
       "isd_og_mou_7                    0.0  \n",
       "isd_og_mou_8                    0.0  \n",
       "spl_og_mou_6                    0.0  \n",
       "spl_og_mou_7                   17.0  \n",
       "spl_og_mou_8                    0.0  \n",
       "og_others_6                     0.0  \n",
       "og_others_7                     0.0  \n",
       "og_others_8                     0.0  \n",
       "total_og_mou_6                63.26  \n",
       "total_og_mou_7                42.94  \n",
       "total_og_mou_8                15.76  \n",
       "loc_ic_t2t_mou_6               5.44  \n",
       "loc_ic_t2t_mou_7               1.39  \n",
       "loc_ic_t2t_mou_8               2.66  \n",
       "loc_ic_t2m_mou_6              10.58  \n",
       "loc_ic_t2m_mou_7               4.33  \n",
       "loc_ic_t2m_mou_8              19.49  \n",
       "loc_ic_t2f_mou_6               5.51  \n",
       "loc_ic_t2f_mou_7               3.63  \n",
       "loc_ic_t2f_mou_8               6.14  \n",
       "loc_ic_mou_6                  21.54  \n",
       "loc_ic_mou_7                   9.36  \n",
       "loc_ic_mou_8                  28.31  \n",
       "std_ic_t2t_mou_6                0.0  \n",
       "std_ic_t2t_mou_7                0.0  \n",
       "std_ic_t2t_mou_8                0.0  \n",
       "std_ic_t2m_mou_6                0.0  \n",
       "std_ic_t2m_mou_7                0.0  \n",
       "std_ic_t2m_mou_8                0.0  \n",
       "std_ic_t2f_mou_6                0.0  \n",
       "std_ic_t2f_mou_7                0.0  \n",
       "std_ic_t2f_mou_8                0.0  \n",
       "std_ic_t2o_mou_6                0.0  \n",
       "std_ic_t2o_mou_7                0.0  \n",
       "std_ic_t2o_mou_8                0.0  \n",
       "std_ic_mou_6                    0.0  \n",
       "std_ic_mou_7                    0.0  \n",
       "std_ic_mou_8                    0.0  \n",
       "total_ic_mou_6                21.54  \n",
       "total_ic_mou_7                 9.36  \n",
       "total_ic_mou_8                28.31  \n",
       "spl_ic_mou_6                    0.0  \n",
       "spl_ic_mou_7                    0.0  \n",
       "spl_ic_mou_8                    0.0  \n",
       "isd_ic_mou_6                    0.0  \n",
       "isd_ic_mou_7                    0.0  \n",
       "isd_ic_mou_8                    0.0  \n",
       "ic_others_6                     0.0  \n",
       "ic_others_7                     0.0  \n",
       "ic_others_8                     0.0  \n",
       "total_rech_num_6                 13  \n",
       "total_rech_num_7                 10  \n",
       "total_rech_num_8                  8  \n",
       "total_rech_amt_6                290  \n",
       "total_rech_amt_7                136  \n",
       "total_rech_amt_8                122  \n",
       "max_rech_amt_6                   50  \n",
       "max_rech_amt_7                   41  \n",
       "max_rech_amt_8                   30  \n",
       "date_of_last_rech_6       6/25/2014  \n",
       "date_of_last_rech_7       7/26/2014  \n",
       "date_of_last_rech_8       8/30/2014  \n",
       "last_day_rch_amt_6               25  \n",
       "last_day_rch_amt_7               10  \n",
       "last_day_rch_amt_8               30  \n",
       "date_of_last_rech_data_6  6/25/2014  \n",
       "date_of_last_rech_data_7  7/23/2014  \n",
       "date_of_last_rech_data_8  8/20/2014  \n",
       "total_rech_data_6               7.0  \n",
       "total_rech_data_7               7.0  \n",
       "total_rech_data_8               6.0  \n",
       "max_rech_data_6                25.0  \n",
       "max_rech_data_7                41.0  \n",
       "max_rech_data_8                25.0  \n",
       "count_rech_2g_6                 7.0  \n",
       "count_rech_2g_7                 6.0  \n",
       "count_rech_2g_8                 6.0  \n",
       "count_rech_3g_6                 0.0  \n",
       "count_rech_3g_7                 1.0  \n",
       "count_rech_3g_8                 0.0  \n",
       "av_rech_amt_data_6            175.0  \n",
       "av_rech_amt_data_7            191.0  \n",
       "av_rech_amt_data_8            142.0  \n",
       "vol_2g_mb_6                   390.8  \n",
       "vol_2g_mb_7                  308.89  \n",
       "vol_2g_mb_8                  213.47  \n",
       "vol_3g_mb_6                     0.0  \n",
       "vol_3g_mb_7                     0.0  \n",
       "vol_3g_mb_8                     0.0  \n",
       "arpu_3g_6                       0.0  \n",
       "arpu_3g_7                      35.0  \n",
       "arpu_3g_8                       0.0  \n",
       "arpu_2g_6                       0.0  \n",
       "arpu_2g_7                     35.12  \n",
       "arpu_2g_8                       0.0  \n",
       "night_pck_user_6                0.0  \n",
       "night_pck_user_7                0.0  \n",
       "night_pck_user_8                0.0  \n",
       "monthly_2g_6                      0  \n",
       "monthly_2g_7                      0  \n",
       "monthly_2g_8                      0  \n",
       "sachet_2g_6                       7  \n",
       "sachet_2g_7                       6  \n",
       "sachet_2g_8                       6  \n",
       "monthly_3g_6                      0  \n",
       "monthly_3g_7                      0  \n",
       "monthly_3g_8                      0  \n",
       "sachet_3g_6                       0  \n",
       "sachet_3g_7                       1  \n",
       "sachet_3g_8                       0  \n",
       "fb_user_6                       1.0  \n",
       "fb_user_7                       1.0  \n",
       "fb_user_8                       1.0  \n",
       "aon                             647  \n",
       "aug_vbc_3g                      0.0  \n",
       "jul_vbc_3g                      0.0  \n",
       "jun_vbc_3g                      0.0  \n",
       "churn_probability                 0  "
      ]
     },
     "execution_count": 233,
     "metadata": {},
     "output_type": "execute_result"
    }
   ],
   "source": [
    "data.head().T"
   ]
  },
  {
   "cell_type": "code",
   "execution_count": null,
   "id": "e6838c11-fdcc-4c05-a4c2-bc428c9ec6fe",
   "metadata": {},
   "outputs": [],
   "source": []
  },
  {
   "cell_type": "code",
   "execution_count": 34,
   "id": "6e6fafe7-0c2b-4d40-88a3-4ae9855a598c",
   "metadata": {},
   "outputs": [
    {
     "data": {
      "text/plain": [
       "3.954342204888641"
      ]
     },
     "execution_count": 34,
     "metadata": {},
     "output_type": "execute_result"
    }
   ],
   "source": [
    "data['std_og_mou_6'].isna().sum() / data['std_og_mou_6'].isna().count() * 100"
   ]
  },
  {
   "cell_type": "code",
   "execution_count": null,
   "id": "0716c52c-da6c-4d40-8682-a22fde028b83",
   "metadata": {},
   "outputs": [],
   "source": []
  },
  {
   "cell_type": "code",
   "execution_count": null,
   "id": "a27469d9-438c-4533-9a60-a96c0920ffad",
   "metadata": {},
   "outputs": [],
   "source": []
  },
  {
   "cell_type": "code",
   "execution_count": 285,
   "id": "5bcfca59",
   "metadata": {
    "papermill": {
     "duration": 0.102609,
     "end_time": "2023-12-06T16:44:43.853755",
     "exception": false,
     "start_time": "2023-12-06T16:44:43.751146",
     "status": "completed"
    },
    "tags": []
   },
   "outputs": [],
   "source": [
    "# create backup of data\n",
    "original_data = data.copy()"
   ]
  },
  {
   "cell_type": "code",
   "execution_count": 286,
   "id": "deaba6a9",
   "metadata": {
    "papermill": {
     "duration": 0.10708,
     "end_time": "2023-12-06T16:44:44.032792",
     "exception": false,
     "start_time": "2023-12-06T16:44:43.925712",
     "status": "completed"
    },
    "tags": []
   },
   "outputs": [
    {
     "data": {
      "text/html": [
       "<div>\n",
       "<style scoped>\n",
       "    .dataframe tbody tr th:only-of-type {\n",
       "        vertical-align: middle;\n",
       "    }\n",
       "\n",
       "    .dataframe tbody tr th {\n",
       "        vertical-align: top;\n",
       "    }\n",
       "\n",
       "    .dataframe thead th {\n",
       "        text-align: right;\n",
       "    }\n",
       "</style>\n",
       "<table border=\"1\" class=\"dataframe\">\n",
       "  <thead>\n",
       "    <tr style=\"text-align: right;\">\n",
       "      <th></th>\n",
       "      <th>id</th>\n",
       "      <th>circle_id</th>\n",
       "      <th>loc_og_t2o_mou</th>\n",
       "      <th>std_og_t2o_mou</th>\n",
       "      <th>loc_ic_t2o_mou</th>\n",
       "      <th>last_date_of_month_6</th>\n",
       "      <th>last_date_of_month_7</th>\n",
       "      <th>last_date_of_month_8</th>\n",
       "      <th>arpu_6</th>\n",
       "      <th>arpu_7</th>\n",
       "      <th>...</th>\n",
       "      <th>sachet_3g_7</th>\n",
       "      <th>sachet_3g_8</th>\n",
       "      <th>fb_user_6</th>\n",
       "      <th>fb_user_7</th>\n",
       "      <th>fb_user_8</th>\n",
       "      <th>aon</th>\n",
       "      <th>aug_vbc_3g</th>\n",
       "      <th>jul_vbc_3g</th>\n",
       "      <th>jun_vbc_3g</th>\n",
       "      <th>churn_probability</th>\n",
       "    </tr>\n",
       "  </thead>\n",
       "  <tbody>\n",
       "    <tr>\n",
       "      <th>69994</th>\n",
       "      <td>69994</td>\n",
       "      <td>109</td>\n",
       "      <td>0.0</td>\n",
       "      <td>0.0</td>\n",
       "      <td>0.0</td>\n",
       "      <td>6/30/2014</td>\n",
       "      <td>7/31/2014</td>\n",
       "      <td>8/31/2014</td>\n",
       "      <td>15.760</td>\n",
       "      <td>410.924</td>\n",
       "      <td>...</td>\n",
       "      <td>1</td>\n",
       "      <td>0</td>\n",
       "      <td>NaN</td>\n",
       "      <td>1.0</td>\n",
       "      <td>1.0</td>\n",
       "      <td>221</td>\n",
       "      <td>0.00</td>\n",
       "      <td>0.00</td>\n",
       "      <td>0.00</td>\n",
       "      <td>0</td>\n",
       "    </tr>\n",
       "    <tr>\n",
       "      <th>69995</th>\n",
       "      <td>69995</td>\n",
       "      <td>109</td>\n",
       "      <td>0.0</td>\n",
       "      <td>0.0</td>\n",
       "      <td>0.0</td>\n",
       "      <td>6/30/2014</td>\n",
       "      <td>7/31/2014</td>\n",
       "      <td>8/31/2014</td>\n",
       "      <td>160.083</td>\n",
       "      <td>289.129</td>\n",
       "      <td>...</td>\n",
       "      <td>0</td>\n",
       "      <td>0</td>\n",
       "      <td>NaN</td>\n",
       "      <td>NaN</td>\n",
       "      <td>NaN</td>\n",
       "      <td>712</td>\n",
       "      <td>0.00</td>\n",
       "      <td>0.00</td>\n",
       "      <td>0.00</td>\n",
       "      <td>0</td>\n",
       "    </tr>\n",
       "    <tr>\n",
       "      <th>69996</th>\n",
       "      <td>69996</td>\n",
       "      <td>109</td>\n",
       "      <td>0.0</td>\n",
       "      <td>0.0</td>\n",
       "      <td>0.0</td>\n",
       "      <td>6/30/2014</td>\n",
       "      <td>7/31/2014</td>\n",
       "      <td>8/31/2014</td>\n",
       "      <td>372.088</td>\n",
       "      <td>258.374</td>\n",
       "      <td>...</td>\n",
       "      <td>0</td>\n",
       "      <td>0</td>\n",
       "      <td>NaN</td>\n",
       "      <td>NaN</td>\n",
       "      <td>NaN</td>\n",
       "      <td>879</td>\n",
       "      <td>0.00</td>\n",
       "      <td>0.00</td>\n",
       "      <td>0.00</td>\n",
       "      <td>0</td>\n",
       "    </tr>\n",
       "    <tr>\n",
       "      <th>69997</th>\n",
       "      <td>69997</td>\n",
       "      <td>109</td>\n",
       "      <td>0.0</td>\n",
       "      <td>0.0</td>\n",
       "      <td>0.0</td>\n",
       "      <td>6/30/2014</td>\n",
       "      <td>7/31/2014</td>\n",
       "      <td>8/31/2014</td>\n",
       "      <td>238.575</td>\n",
       "      <td>245.414</td>\n",
       "      <td>...</td>\n",
       "      <td>0</td>\n",
       "      <td>0</td>\n",
       "      <td>1.0</td>\n",
       "      <td>1.0</td>\n",
       "      <td>1.0</td>\n",
       "      <td>277</td>\n",
       "      <td>664.25</td>\n",
       "      <td>1402.96</td>\n",
       "      <td>990.97</td>\n",
       "      <td>0</td>\n",
       "    </tr>\n",
       "    <tr>\n",
       "      <th>69998</th>\n",
       "      <td>69998</td>\n",
       "      <td>109</td>\n",
       "      <td>0.0</td>\n",
       "      <td>0.0</td>\n",
       "      <td>0.0</td>\n",
       "      <td>6/30/2014</td>\n",
       "      <td>7/31/2014</td>\n",
       "      <td>8/31/2014</td>\n",
       "      <td>168.269</td>\n",
       "      <td>42.815</td>\n",
       "      <td>...</td>\n",
       "      <td>0</td>\n",
       "      <td>0</td>\n",
       "      <td>1.0</td>\n",
       "      <td>NaN</td>\n",
       "      <td>1.0</td>\n",
       "      <td>1876</td>\n",
       "      <td>0.00</td>\n",
       "      <td>0.00</td>\n",
       "      <td>0.00</td>\n",
       "      <td>0</td>\n",
       "    </tr>\n",
       "  </tbody>\n",
       "</table>\n",
       "<p>5 rows × 172 columns</p>\n",
       "</div>"
      ],
      "text/plain": [
       "          id  circle_id  loc_og_t2o_mou  std_og_t2o_mou  loc_ic_t2o_mou  \\\n",
       "69994  69994        109             0.0             0.0             0.0   \n",
       "69995  69995        109             0.0             0.0             0.0   \n",
       "69996  69996        109             0.0             0.0             0.0   \n",
       "69997  69997        109             0.0             0.0             0.0   \n",
       "69998  69998        109             0.0             0.0             0.0   \n",
       "\n",
       "      last_date_of_month_6 last_date_of_month_7 last_date_of_month_8   arpu_6  \\\n",
       "69994            6/30/2014            7/31/2014            8/31/2014   15.760   \n",
       "69995            6/30/2014            7/31/2014            8/31/2014  160.083   \n",
       "69996            6/30/2014            7/31/2014            8/31/2014  372.088   \n",
       "69997            6/30/2014            7/31/2014            8/31/2014  238.575   \n",
       "69998            6/30/2014            7/31/2014            8/31/2014  168.269   \n",
       "\n",
       "        arpu_7  ...  sachet_3g_7  sachet_3g_8  fb_user_6  fb_user_7  \\\n",
       "69994  410.924  ...            1            0        NaN        1.0   \n",
       "69995  289.129  ...            0            0        NaN        NaN   \n",
       "69996  258.374  ...            0            0        NaN        NaN   \n",
       "69997  245.414  ...            0            0        1.0        1.0   \n",
       "69998   42.815  ...            0            0        1.0        NaN   \n",
       "\n",
       "       fb_user_8   aon  aug_vbc_3g  jul_vbc_3g  jun_vbc_3g  churn_probability  \n",
       "69994        1.0   221        0.00        0.00        0.00                  0  \n",
       "69995        NaN   712        0.00        0.00        0.00                  0  \n",
       "69996        NaN   879        0.00        0.00        0.00                  0  \n",
       "69997        1.0   277      664.25     1402.96      990.97                  0  \n",
       "69998        1.0  1876        0.00        0.00        0.00                  0  \n",
       "\n",
       "[5 rows x 172 columns]"
      ]
     },
     "execution_count": 286,
     "metadata": {},
     "output_type": "execute_result"
    }
   ],
   "source": [
    "#look at the last 5 rows\n",
    "data.tail() "
   ]
  },
  {
   "cell_type": "code",
   "execution_count": 287,
   "id": "dae080ab",
   "metadata": {
    "papermill": {
     "duration": 0.083865,
     "end_time": "2023-12-06T16:44:44.191972",
     "exception": false,
     "start_time": "2023-12-06T16:44:44.108107",
     "status": "completed"
    },
    "tags": []
   },
   "outputs": [
    {
     "data": {
      "text/plain": [
       "Index(['id', 'circle_id', 'loc_og_t2o_mou', 'std_og_t2o_mou', 'loc_ic_t2o_mou',\n",
       "       'last_date_of_month_6', 'last_date_of_month_7', 'last_date_of_month_8',\n",
       "       'arpu_6', 'arpu_7',\n",
       "       ...\n",
       "       'sachet_3g_7', 'sachet_3g_8', 'fb_user_6', 'fb_user_7', 'fb_user_8',\n",
       "       'aon', 'aug_vbc_3g', 'jul_vbc_3g', 'jun_vbc_3g', 'churn_probability'],\n",
       "      dtype='object', length=172)"
      ]
     },
     "execution_count": 287,
     "metadata": {},
     "output_type": "execute_result"
    }
   ],
   "source": [
    "#check the columns of data\n",
    "data.columns"
   ]
  },
  {
   "cell_type": "code",
   "execution_count": 288,
   "id": "7dab6acd",
   "metadata": {
    "papermill": {
     "duration": 0.98673,
     "end_time": "2023-12-06T16:44:45.250779",
     "exception": false,
     "start_time": "2023-12-06T16:44:44.264049",
     "status": "completed"
    },
    "tags": []
   },
   "outputs": [
    {
     "data": {
      "text/html": [
       "<div>\n",
       "<style scoped>\n",
       "    .dataframe tbody tr th:only-of-type {\n",
       "        vertical-align: middle;\n",
       "    }\n",
       "\n",
       "    .dataframe tbody tr th {\n",
       "        vertical-align: top;\n",
       "    }\n",
       "\n",
       "    .dataframe thead th {\n",
       "        text-align: right;\n",
       "    }\n",
       "</style>\n",
       "<table border=\"1\" class=\"dataframe\">\n",
       "  <thead>\n",
       "    <tr style=\"text-align: right;\">\n",
       "      <th></th>\n",
       "      <th>id</th>\n",
       "      <th>circle_id</th>\n",
       "      <th>loc_og_t2o_mou</th>\n",
       "      <th>std_og_t2o_mou</th>\n",
       "      <th>loc_ic_t2o_mou</th>\n",
       "      <th>arpu_6</th>\n",
       "      <th>arpu_7</th>\n",
       "      <th>arpu_8</th>\n",
       "      <th>onnet_mou_6</th>\n",
       "      <th>onnet_mou_7</th>\n",
       "      <th>...</th>\n",
       "      <th>sachet_3g_7</th>\n",
       "      <th>sachet_3g_8</th>\n",
       "      <th>fb_user_6</th>\n",
       "      <th>fb_user_7</th>\n",
       "      <th>fb_user_8</th>\n",
       "      <th>aon</th>\n",
       "      <th>aug_vbc_3g</th>\n",
       "      <th>jul_vbc_3g</th>\n",
       "      <th>jun_vbc_3g</th>\n",
       "      <th>churn_probability</th>\n",
       "    </tr>\n",
       "  </thead>\n",
       "  <tbody>\n",
       "    <tr>\n",
       "      <th>count</th>\n",
       "      <td>69999.000000</td>\n",
       "      <td>69999.0</td>\n",
       "      <td>69297.0</td>\n",
       "      <td>69297.0</td>\n",
       "      <td>69297.0</td>\n",
       "      <td>69999.000000</td>\n",
       "      <td>69999.000000</td>\n",
       "      <td>69999.000000</td>\n",
       "      <td>67231.000000</td>\n",
       "      <td>67312.000000</td>\n",
       "      <td>...</td>\n",
       "      <td>69999.000000</td>\n",
       "      <td>69999.000000</td>\n",
       "      <td>17568.000000</td>\n",
       "      <td>17865.000000</td>\n",
       "      <td>18417.000000</td>\n",
       "      <td>69999.000000</td>\n",
       "      <td>69999.000000</td>\n",
       "      <td>69999.000000</td>\n",
       "      <td>69999.00000</td>\n",
       "      <td>69999.000000</td>\n",
       "    </tr>\n",
       "    <tr>\n",
       "      <th>mean</th>\n",
       "      <td>34999.000000</td>\n",
       "      <td>109.0</td>\n",
       "      <td>0.0</td>\n",
       "      <td>0.0</td>\n",
       "      <td>0.0</td>\n",
       "      <td>283.134365</td>\n",
       "      <td>278.185912</td>\n",
       "      <td>278.858826</td>\n",
       "      <td>133.153275</td>\n",
       "      <td>133.894438</td>\n",
       "      <td>...</td>\n",
       "      <td>0.081444</td>\n",
       "      <td>0.085487</td>\n",
       "      <td>0.916325</td>\n",
       "      <td>0.909544</td>\n",
       "      <td>0.890319</td>\n",
       "      <td>1220.639709</td>\n",
       "      <td>68.108597</td>\n",
       "      <td>65.935830</td>\n",
       "      <td>60.07674</td>\n",
       "      <td>0.101887</td>\n",
       "    </tr>\n",
       "    <tr>\n",
       "      <th>std</th>\n",
       "      <td>20207.115084</td>\n",
       "      <td>0.0</td>\n",
       "      <td>0.0</td>\n",
       "      <td>0.0</td>\n",
       "      <td>0.0</td>\n",
       "      <td>334.213918</td>\n",
       "      <td>344.366927</td>\n",
       "      <td>351.924315</td>\n",
       "      <td>299.963093</td>\n",
       "      <td>311.277193</td>\n",
       "      <td>...</td>\n",
       "      <td>0.634547</td>\n",
       "      <td>0.680035</td>\n",
       "      <td>0.276907</td>\n",
       "      <td>0.286842</td>\n",
       "      <td>0.312501</td>\n",
       "      <td>952.426321</td>\n",
       "      <td>269.328659</td>\n",
       "      <td>267.899034</td>\n",
       "      <td>257.22681</td>\n",
       "      <td>0.302502</td>\n",
       "    </tr>\n",
       "    <tr>\n",
       "      <th>min</th>\n",
       "      <td>0.000000</td>\n",
       "      <td>109.0</td>\n",
       "      <td>0.0</td>\n",
       "      <td>0.0</td>\n",
       "      <td>0.0</td>\n",
       "      <td>-2258.709000</td>\n",
       "      <td>-1289.715000</td>\n",
       "      <td>-945.808000</td>\n",
       "      <td>0.000000</td>\n",
       "      <td>0.000000</td>\n",
       "      <td>...</td>\n",
       "      <td>0.000000</td>\n",
       "      <td>0.000000</td>\n",
       "      <td>0.000000</td>\n",
       "      <td>0.000000</td>\n",
       "      <td>0.000000</td>\n",
       "      <td>180.000000</td>\n",
       "      <td>0.000000</td>\n",
       "      <td>0.000000</td>\n",
       "      <td>0.00000</td>\n",
       "      <td>0.000000</td>\n",
       "    </tr>\n",
       "    <tr>\n",
       "      <th>25%</th>\n",
       "      <td>17499.500000</td>\n",
       "      <td>109.0</td>\n",
       "      <td>0.0</td>\n",
       "      <td>0.0</td>\n",
       "      <td>0.0</td>\n",
       "      <td>93.581000</td>\n",
       "      <td>86.714000</td>\n",
       "      <td>84.095000</td>\n",
       "      <td>7.410000</td>\n",
       "      <td>6.675000</td>\n",
       "      <td>...</td>\n",
       "      <td>0.000000</td>\n",
       "      <td>0.000000</td>\n",
       "      <td>1.000000</td>\n",
       "      <td>1.000000</td>\n",
       "      <td>1.000000</td>\n",
       "      <td>468.000000</td>\n",
       "      <td>0.000000</td>\n",
       "      <td>0.000000</td>\n",
       "      <td>0.00000</td>\n",
       "      <td>0.000000</td>\n",
       "    </tr>\n",
       "    <tr>\n",
       "      <th>50%</th>\n",
       "      <td>34999.000000</td>\n",
       "      <td>109.0</td>\n",
       "      <td>0.0</td>\n",
       "      <td>0.0</td>\n",
       "      <td>0.0</td>\n",
       "      <td>197.484000</td>\n",
       "      <td>191.588000</td>\n",
       "      <td>192.234000</td>\n",
       "      <td>34.110000</td>\n",
       "      <td>32.280000</td>\n",
       "      <td>...</td>\n",
       "      <td>0.000000</td>\n",
       "      <td>0.000000</td>\n",
       "      <td>1.000000</td>\n",
       "      <td>1.000000</td>\n",
       "      <td>1.000000</td>\n",
       "      <td>868.000000</td>\n",
       "      <td>0.000000</td>\n",
       "      <td>0.000000</td>\n",
       "      <td>0.00000</td>\n",
       "      <td>0.000000</td>\n",
       "    </tr>\n",
       "    <tr>\n",
       "      <th>75%</th>\n",
       "      <td>52498.500000</td>\n",
       "      <td>109.0</td>\n",
       "      <td>0.0</td>\n",
       "      <td>0.0</td>\n",
       "      <td>0.0</td>\n",
       "      <td>370.791000</td>\n",
       "      <td>365.369500</td>\n",
       "      <td>369.909000</td>\n",
       "      <td>119.390000</td>\n",
       "      <td>115.837500</td>\n",
       "      <td>...</td>\n",
       "      <td>0.000000</td>\n",
       "      <td>0.000000</td>\n",
       "      <td>1.000000</td>\n",
       "      <td>1.000000</td>\n",
       "      <td>1.000000</td>\n",
       "      <td>1813.000000</td>\n",
       "      <td>0.000000</td>\n",
       "      <td>0.000000</td>\n",
       "      <td>0.00000</td>\n",
       "      <td>0.000000</td>\n",
       "    </tr>\n",
       "    <tr>\n",
       "      <th>max</th>\n",
       "      <td>69998.000000</td>\n",
       "      <td>109.0</td>\n",
       "      <td>0.0</td>\n",
       "      <td>0.0</td>\n",
       "      <td>0.0</td>\n",
       "      <td>27731.088000</td>\n",
       "      <td>35145.834000</td>\n",
       "      <td>33543.624000</td>\n",
       "      <td>7376.710000</td>\n",
       "      <td>8157.780000</td>\n",
       "      <td>...</td>\n",
       "      <td>33.000000</td>\n",
       "      <td>41.000000</td>\n",
       "      <td>1.000000</td>\n",
       "      <td>1.000000</td>\n",
       "      <td>1.000000</td>\n",
       "      <td>4337.000000</td>\n",
       "      <td>12916.220000</td>\n",
       "      <td>9165.600000</td>\n",
       "      <td>11166.21000</td>\n",
       "      <td>1.000000</td>\n",
       "    </tr>\n",
       "  </tbody>\n",
       "</table>\n",
       "<p>8 rows × 163 columns</p>\n",
       "</div>"
      ],
      "text/plain": [
       "                 id  circle_id  loc_og_t2o_mou  std_og_t2o_mou  \\\n",
       "count  69999.000000    69999.0         69297.0         69297.0   \n",
       "mean   34999.000000      109.0             0.0             0.0   \n",
       "std    20207.115084        0.0             0.0             0.0   \n",
       "min        0.000000      109.0             0.0             0.0   \n",
       "25%    17499.500000      109.0             0.0             0.0   \n",
       "50%    34999.000000      109.0             0.0             0.0   \n",
       "75%    52498.500000      109.0             0.0             0.0   \n",
       "max    69998.000000      109.0             0.0             0.0   \n",
       "\n",
       "       loc_ic_t2o_mou        arpu_6        arpu_7        arpu_8   onnet_mou_6  \\\n",
       "count         69297.0  69999.000000  69999.000000  69999.000000  67231.000000   \n",
       "mean              0.0    283.134365    278.185912    278.858826    133.153275   \n",
       "std               0.0    334.213918    344.366927    351.924315    299.963093   \n",
       "min               0.0  -2258.709000  -1289.715000   -945.808000      0.000000   \n",
       "25%               0.0     93.581000     86.714000     84.095000      7.410000   \n",
       "50%               0.0    197.484000    191.588000    192.234000     34.110000   \n",
       "75%               0.0    370.791000    365.369500    369.909000    119.390000   \n",
       "max               0.0  27731.088000  35145.834000  33543.624000   7376.710000   \n",
       "\n",
       "        onnet_mou_7  ...   sachet_3g_7   sachet_3g_8     fb_user_6  \\\n",
       "count  67312.000000  ...  69999.000000  69999.000000  17568.000000   \n",
       "mean     133.894438  ...      0.081444      0.085487      0.916325   \n",
       "std      311.277193  ...      0.634547      0.680035      0.276907   \n",
       "min        0.000000  ...      0.000000      0.000000      0.000000   \n",
       "25%        6.675000  ...      0.000000      0.000000      1.000000   \n",
       "50%       32.280000  ...      0.000000      0.000000      1.000000   \n",
       "75%      115.837500  ...      0.000000      0.000000      1.000000   \n",
       "max     8157.780000  ...     33.000000     41.000000      1.000000   \n",
       "\n",
       "          fb_user_7     fb_user_8           aon    aug_vbc_3g    jul_vbc_3g  \\\n",
       "count  17865.000000  18417.000000  69999.000000  69999.000000  69999.000000   \n",
       "mean       0.909544      0.890319   1220.639709     68.108597     65.935830   \n",
       "std        0.286842      0.312501    952.426321    269.328659    267.899034   \n",
       "min        0.000000      0.000000    180.000000      0.000000      0.000000   \n",
       "25%        1.000000      1.000000    468.000000      0.000000      0.000000   \n",
       "50%        1.000000      1.000000    868.000000      0.000000      0.000000   \n",
       "75%        1.000000      1.000000   1813.000000      0.000000      0.000000   \n",
       "max        1.000000      1.000000   4337.000000  12916.220000   9165.600000   \n",
       "\n",
       "        jun_vbc_3g  churn_probability  \n",
       "count  69999.00000       69999.000000  \n",
       "mean      60.07674           0.101887  \n",
       "std      257.22681           0.302502  \n",
       "min        0.00000           0.000000  \n",
       "25%        0.00000           0.000000  \n",
       "50%        0.00000           0.000000  \n",
       "75%        0.00000           0.000000  \n",
       "max    11166.21000           1.000000  \n",
       "\n",
       "[8 rows x 163 columns]"
      ]
     },
     "execution_count": 288,
     "metadata": {},
     "output_type": "execute_result"
    }
   ],
   "source": [
    "#Checking the numerical columns data distribution statistics\n",
    "data.describe()"
   ]
  },
  {
   "cell_type": "code",
   "execution_count": 289,
   "id": "1b29a045",
   "metadata": {
    "papermill": {
     "duration": 0.116162,
     "end_time": "2023-12-06T16:44:45.440314",
     "exception": false,
     "start_time": "2023-12-06T16:44:45.324152",
     "status": "completed"
    },
    "tags": []
   },
   "outputs": [
    {
     "name": "stdout",
     "output_type": "stream",
     "text": [
      "<class 'pandas.core.frame.DataFrame'>\n",
      "RangeIndex: 69999 entries, 0 to 69998\n",
      "Columns: 172 entries, id to churn_probability\n",
      "dtypes: float64(135), int64(28), object(9)\n",
      "memory usage: 91.9+ MB\n"
     ]
    }
   ],
   "source": [
    "#check dataframe for null and datatype \n",
    "data.info()"
   ]
  },
  {
   "cell_type": "code",
   "execution_count": 290,
   "id": "0fcc4897",
   "metadata": {
    "papermill": {
     "duration": 0.096768,
     "end_time": "2023-12-06T16:44:45.609478",
     "exception": false,
     "start_time": "2023-12-06T16:44:45.512710",
     "status": "completed"
    },
    "tags": []
   },
   "outputs": [
    {
     "name": "stdout",
     "output_type": "stream",
     "text": [
      "<class 'pandas.core.frame.DataFrame'>\n",
      "RangeIndex: 69999 entries, 0 to 69998\n",
      "Data columns (total 172 columns):\n",
      " #    Column                    Dtype  \n",
      "---   ------                    -----  \n",
      " 0    id                        int64  \n",
      " 1    circle_id                 int64  \n",
      " 2    loc_og_t2o_mou            float64\n",
      " 3    std_og_t2o_mou            float64\n",
      " 4    loc_ic_t2o_mou            float64\n",
      " 5    last_date_of_month_6      object \n",
      " 6    last_date_of_month_7      object \n",
      " 7    last_date_of_month_8      object \n",
      " 8    arpu_6                    float64\n",
      " 9    arpu_7                    float64\n",
      " 10   arpu_8                    float64\n",
      " 11   onnet_mou_6               float64\n",
      " 12   onnet_mou_7               float64\n",
      " 13   onnet_mou_8               float64\n",
      " 14   offnet_mou_6              float64\n",
      " 15   offnet_mou_7              float64\n",
      " 16   offnet_mou_8              float64\n",
      " 17   roam_ic_mou_6             float64\n",
      " 18   roam_ic_mou_7             float64\n",
      " 19   roam_ic_mou_8             float64\n",
      " 20   roam_og_mou_6             float64\n",
      " 21   roam_og_mou_7             float64\n",
      " 22   roam_og_mou_8             float64\n",
      " 23   loc_og_t2t_mou_6          float64\n",
      " 24   loc_og_t2t_mou_7          float64\n",
      " 25   loc_og_t2t_mou_8          float64\n",
      " 26   loc_og_t2m_mou_6          float64\n",
      " 27   loc_og_t2m_mou_7          float64\n",
      " 28   loc_og_t2m_mou_8          float64\n",
      " 29   loc_og_t2f_mou_6          float64\n",
      " 30   loc_og_t2f_mou_7          float64\n",
      " 31   loc_og_t2f_mou_8          float64\n",
      " 32   loc_og_t2c_mou_6          float64\n",
      " 33   loc_og_t2c_mou_7          float64\n",
      " 34   loc_og_t2c_mou_8          float64\n",
      " 35   loc_og_mou_6              float64\n",
      " 36   loc_og_mou_7              float64\n",
      " 37   loc_og_mou_8              float64\n",
      " 38   std_og_t2t_mou_6          float64\n",
      " 39   std_og_t2t_mou_7          float64\n",
      " 40   std_og_t2t_mou_8          float64\n",
      " 41   std_og_t2m_mou_6          float64\n",
      " 42   std_og_t2m_mou_7          float64\n",
      " 43   std_og_t2m_mou_8          float64\n",
      " 44   std_og_t2f_mou_6          float64\n",
      " 45   std_og_t2f_mou_7          float64\n",
      " 46   std_og_t2f_mou_8          float64\n",
      " 47   std_og_t2c_mou_6          float64\n",
      " 48   std_og_t2c_mou_7          float64\n",
      " 49   std_og_t2c_mou_8          float64\n",
      " 50   std_og_mou_6              float64\n",
      " 51   std_og_mou_7              float64\n",
      " 52   std_og_mou_8              float64\n",
      " 53   isd_og_mou_6              float64\n",
      " 54   isd_og_mou_7              float64\n",
      " 55   isd_og_mou_8              float64\n",
      " 56   spl_og_mou_6              float64\n",
      " 57   spl_og_mou_7              float64\n",
      " 58   spl_og_mou_8              float64\n",
      " 59   og_others_6               float64\n",
      " 60   og_others_7               float64\n",
      " 61   og_others_8               float64\n",
      " 62   total_og_mou_6            float64\n",
      " 63   total_og_mou_7            float64\n",
      " 64   total_og_mou_8            float64\n",
      " 65   loc_ic_t2t_mou_6          float64\n",
      " 66   loc_ic_t2t_mou_7          float64\n",
      " 67   loc_ic_t2t_mou_8          float64\n",
      " 68   loc_ic_t2m_mou_6          float64\n",
      " 69   loc_ic_t2m_mou_7          float64\n",
      " 70   loc_ic_t2m_mou_8          float64\n",
      " 71   loc_ic_t2f_mou_6          float64\n",
      " 72   loc_ic_t2f_mou_7          float64\n",
      " 73   loc_ic_t2f_mou_8          float64\n",
      " 74   loc_ic_mou_6              float64\n",
      " 75   loc_ic_mou_7              float64\n",
      " 76   loc_ic_mou_8              float64\n",
      " 77   std_ic_t2t_mou_6          float64\n",
      " 78   std_ic_t2t_mou_7          float64\n",
      " 79   std_ic_t2t_mou_8          float64\n",
      " 80   std_ic_t2m_mou_6          float64\n",
      " 81   std_ic_t2m_mou_7          float64\n",
      " 82   std_ic_t2m_mou_8          float64\n",
      " 83   std_ic_t2f_mou_6          float64\n",
      " 84   std_ic_t2f_mou_7          float64\n",
      " 85   std_ic_t2f_mou_8          float64\n",
      " 86   std_ic_t2o_mou_6          float64\n",
      " 87   std_ic_t2o_mou_7          float64\n",
      " 88   std_ic_t2o_mou_8          float64\n",
      " 89   std_ic_mou_6              float64\n",
      " 90   std_ic_mou_7              float64\n",
      " 91   std_ic_mou_8              float64\n",
      " 92   total_ic_mou_6            float64\n",
      " 93   total_ic_mou_7            float64\n",
      " 94   total_ic_mou_8            float64\n",
      " 95   spl_ic_mou_6              float64\n",
      " 96   spl_ic_mou_7              float64\n",
      " 97   spl_ic_mou_8              float64\n",
      " 98   isd_ic_mou_6              float64\n",
      " 99   isd_ic_mou_7              float64\n",
      " 100  isd_ic_mou_8              float64\n",
      " 101  ic_others_6               float64\n",
      " 102  ic_others_7               float64\n",
      " 103  ic_others_8               float64\n",
      " 104  total_rech_num_6          int64  \n",
      " 105  total_rech_num_7          int64  \n",
      " 106  total_rech_num_8          int64  \n",
      " 107  total_rech_amt_6          int64  \n",
      " 108  total_rech_amt_7          int64  \n",
      " 109  total_rech_amt_8          int64  \n",
      " 110  max_rech_amt_6            int64  \n",
      " 111  max_rech_amt_7            int64  \n",
      " 112  max_rech_amt_8            int64  \n",
      " 113  date_of_last_rech_6       object \n",
      " 114  date_of_last_rech_7       object \n",
      " 115  date_of_last_rech_8       object \n",
      " 116  last_day_rch_amt_6        int64  \n",
      " 117  last_day_rch_amt_7        int64  \n",
      " 118  last_day_rch_amt_8        int64  \n",
      " 119  date_of_last_rech_data_6  object \n",
      " 120  date_of_last_rech_data_7  object \n",
      " 121  date_of_last_rech_data_8  object \n",
      " 122  total_rech_data_6         float64\n",
      " 123  total_rech_data_7         float64\n",
      " 124  total_rech_data_8         float64\n",
      " 125  max_rech_data_6           float64\n",
      " 126  max_rech_data_7           float64\n",
      " 127  max_rech_data_8           float64\n",
      " 128  count_rech_2g_6           float64\n",
      " 129  count_rech_2g_7           float64\n",
      " 130  count_rech_2g_8           float64\n",
      " 131  count_rech_3g_6           float64\n",
      " 132  count_rech_3g_7           float64\n",
      " 133  count_rech_3g_8           float64\n",
      " 134  av_rech_amt_data_6        float64\n",
      " 135  av_rech_amt_data_7        float64\n",
      " 136  av_rech_amt_data_8        float64\n",
      " 137  vol_2g_mb_6               float64\n",
      " 138  vol_2g_mb_7               float64\n",
      " 139  vol_2g_mb_8               float64\n",
      " 140  vol_3g_mb_6               float64\n",
      " 141  vol_3g_mb_7               float64\n",
      " 142  vol_3g_mb_8               float64\n",
      " 143  arpu_3g_6                 float64\n",
      " 144  arpu_3g_7                 float64\n",
      " 145  arpu_3g_8                 float64\n",
      " 146  arpu_2g_6                 float64\n",
      " 147  arpu_2g_7                 float64\n",
      " 148  arpu_2g_8                 float64\n",
      " 149  night_pck_user_6          float64\n",
      " 150  night_pck_user_7          float64\n",
      " 151  night_pck_user_8          float64\n",
      " 152  monthly_2g_6              int64  \n",
      " 153  monthly_2g_7              int64  \n",
      " 154  monthly_2g_8              int64  \n",
      " 155  sachet_2g_6               int64  \n",
      " 156  sachet_2g_7               int64  \n",
      " 157  sachet_2g_8               int64  \n",
      " 158  monthly_3g_6              int64  \n",
      " 159  monthly_3g_7              int64  \n",
      " 160  monthly_3g_8              int64  \n",
      " 161  sachet_3g_6               int64  \n",
      " 162  sachet_3g_7               int64  \n",
      " 163  sachet_3g_8               int64  \n",
      " 164  fb_user_6                 float64\n",
      " 165  fb_user_7                 float64\n",
      " 166  fb_user_8                 float64\n",
      " 167  aon                       int64  \n",
      " 168  aug_vbc_3g                float64\n",
      " 169  jul_vbc_3g                float64\n",
      " 170  jun_vbc_3g                float64\n",
      " 171  churn_probability         int64  \n",
      "dtypes: float64(135), int64(28), object(9)\n",
      "memory usage: 91.9+ MB\n"
     ]
    }
   ],
   "source": [
    "# feature type summary\n",
    "data.info(verbose=1)"
   ]
  },
  {
   "cell_type": "code",
   "execution_count": 291,
   "id": "f0eb568f",
   "metadata": {
    "papermill": {
     "duration": 0.158818,
     "end_time": "2023-12-06T16:44:45.842030",
     "exception": false,
     "start_time": "2023-12-06T16:44:45.683212",
     "status": "completed"
    },
    "tags": []
   },
   "outputs": [
    {
     "data": {
      "text/plain": [
       "id                     0\n",
       "circle_id              0\n",
       "loc_og_t2o_mou       702\n",
       "std_og_t2o_mou       702\n",
       "loc_ic_t2o_mou       702\n",
       "                    ... \n",
       "aon                    0\n",
       "aug_vbc_3g             0\n",
       "jul_vbc_3g             0\n",
       "jun_vbc_3g             0\n",
       "churn_probability      0\n",
       "Length: 172, dtype: int64"
      ]
     },
     "execution_count": 291,
     "metadata": {},
     "output_type": "execute_result"
    }
   ],
   "source": [
    "# Checking for null values\n",
    "data.isnull().sum()"
   ]
  },
  {
   "cell_type": "code",
   "execution_count": 292,
   "id": "c5235e4a",
   "metadata": {
    "papermill": {
     "duration": 0.237249,
     "end_time": "2023-12-06T16:44:46.153356",
     "exception": false,
     "start_time": "2023-12-06T16:44:45.916107",
     "status": "completed"
    },
    "tags": []
   },
   "outputs": [
    {
     "data": {
      "text/plain": [
       "id                   0.000000\n",
       "circle_id            0.000000\n",
       "loc_og_t2o_mou       1.002871\n",
       "std_og_t2o_mou       1.002871\n",
       "loc_ic_t2o_mou       1.002871\n",
       "                       ...   \n",
       "aon                  0.000000\n",
       "aug_vbc_3g           0.000000\n",
       "jul_vbc_3g           0.000000\n",
       "jun_vbc_3g           0.000000\n",
       "churn_probability    0.000000\n",
       "Length: 172, dtype: float64"
      ]
     },
     "execution_count": 292,
     "metadata": {},
     "output_type": "execute_result"
    }
   ],
   "source": [
    "# Checking the null value percentage\n",
    "data.isna().sum()/data.isna().count()*100"
   ]
  },
  {
   "cell_type": "code",
   "execution_count": 293,
   "id": "75caccc6",
   "metadata": {
    "papermill": {
     "duration": 0.084848,
     "end_time": "2023-12-06T16:44:46.311542",
     "exception": false,
     "start_time": "2023-12-06T16:44:46.226694",
     "status": "completed"
    },
    "tags": []
   },
   "outputs": [
    {
     "data": {
      "text/plain": [
       "(69999, 172)"
      ]
     },
     "execution_count": 293,
     "metadata": {},
     "output_type": "execute_result"
    }
   ],
   "source": [
    "# Checking for shape of a data set\n",
    "data.shape"
   ]
  },
  {
   "cell_type": "code",
   "execution_count": 294,
   "id": "ac015c50",
   "metadata": {
    "papermill": {
     "duration": 0.730218,
     "end_time": "2023-12-06T16:44:47.115170",
     "exception": false,
     "start_time": "2023-12-06T16:44:46.384952",
     "status": "completed"
    },
    "tags": []
   },
   "outputs": [
    {
     "data": {
      "text/plain": [
       "(69999, 172)"
      ]
     },
     "execution_count": 294,
     "metadata": {},
     "output_type": "execute_result"
    }
   ],
   "source": [
    "# Checking for the duplicates\n",
    "data.drop_duplicates(subset=None, inplace=True)\n",
    "data.shape"
   ]
  },
  {
   "cell_type": "code",
   "execution_count": 295,
   "id": "798835ee",
   "metadata": {
    "papermill": {
     "duration": 0.083112,
     "end_time": "2023-12-06T16:44:47.272095",
     "exception": false,
     "start_time": "2023-12-06T16:44:47.188983",
     "status": "completed"
    },
    "tags": []
   },
   "outputs": [
    {
     "data": {
      "text/plain": [
       "12039828"
      ]
     },
     "execution_count": 295,
     "metadata": {},
     "output_type": "execute_result"
    }
   ],
   "source": [
    "#check the size of data\n",
    "data.size"
   ]
  },
  {
   "cell_type": "code",
   "execution_count": 296,
   "id": "71b69148",
   "metadata": {
    "papermill": {
     "duration": 0.084563,
     "end_time": "2023-12-06T16:44:47.430198",
     "exception": false,
     "start_time": "2023-12-06T16:44:47.345635",
     "status": "completed"
    },
    "tags": []
   },
   "outputs": [
    {
     "data": {
      "text/plain": [
       "[Int64Index([    0,     1,     2,     3,     4,     5,     6,     7,     8,\n",
       "                 9,\n",
       "             ...\n",
       "             69989, 69990, 69991, 69992, 69993, 69994, 69995, 69996, 69997,\n",
       "             69998],\n",
       "            dtype='int64', length=69999),\n",
       " Index(['id', 'circle_id', 'loc_og_t2o_mou', 'std_og_t2o_mou', 'loc_ic_t2o_mou',\n",
       "        'last_date_of_month_6', 'last_date_of_month_7', 'last_date_of_month_8',\n",
       "        'arpu_6', 'arpu_7',\n",
       "        ...\n",
       "        'sachet_3g_7', 'sachet_3g_8', 'fb_user_6', 'fb_user_7', 'fb_user_8',\n",
       "        'aon', 'aug_vbc_3g', 'jul_vbc_3g', 'jun_vbc_3g', 'churn_probability'],\n",
       "       dtype='object', length=172)]"
      ]
     },
     "execution_count": 296,
     "metadata": {},
     "output_type": "execute_result"
    }
   ],
   "source": [
    "#check the axes of data\n",
    "data.axes"
   ]
  },
  {
   "cell_type": "code",
   "execution_count": 297,
   "id": "0a1b8ae3",
   "metadata": {
    "papermill": {
     "duration": 0.084275,
     "end_time": "2023-12-06T16:44:47.588920",
     "exception": false,
     "start_time": "2023-12-06T16:44:47.504645",
     "status": "completed"
    },
    "tags": []
   },
   "outputs": [
    {
     "data": {
      "text/plain": [
       "2"
      ]
     },
     "execution_count": 297,
     "metadata": {},
     "output_type": "execute_result"
    }
   ],
   "source": [
    "#check the dimensions of data\n",
    "data.ndim"
   ]
  },
  {
   "cell_type": "code",
   "execution_count": 298,
   "id": "e8d91464",
   "metadata": {
    "papermill": {
     "duration": 1.226215,
     "end_time": "2023-12-06T16:44:48.889476",
     "exception": false,
     "start_time": "2023-12-06T16:44:47.663261",
     "status": "completed"
    },
    "tags": []
   },
   "outputs": [
    {
     "data": {
      "text/plain": [
       "array([[0, 109, 0.0, ..., 0.0, 0.0, 0],\n",
       "       [1, 109, 0.0, ..., 0.0, 0.0, 0],\n",
       "       [2, 109, 0.0, ..., 0.0, 0.0, 0],\n",
       "       ...,\n",
       "       [69996, 109, 0.0, ..., 0.0, 0.0, 0],\n",
       "       [69997, 109, 0.0, ..., 1402.96, 990.97, 0],\n",
       "       [69998, 109, 0.0, ..., 0.0, 0.0, 0]], dtype=object)"
      ]
     },
     "execution_count": 298,
     "metadata": {},
     "output_type": "execute_result"
    }
   ],
   "source": [
    "#check the values of data\n",
    "data.values"
   ]
  },
  {
   "cell_type": "code",
   "execution_count": 299,
   "id": "287244a6",
   "metadata": {
    "papermill": {
     "duration": 0.096508,
     "end_time": "2023-12-06T16:44:49.061586",
     "exception": false,
     "start_time": "2023-12-06T16:44:48.965078",
     "status": "completed"
    },
    "tags": []
   },
   "outputs": [
    {
     "data": {
      "text/html": [
       "<div>\n",
       "<style scoped>\n",
       "    .dataframe tbody tr th:only-of-type {\n",
       "        vertical-align: middle;\n",
       "    }\n",
       "\n",
       "    .dataframe tbody tr th {\n",
       "        vertical-align: top;\n",
       "    }\n",
       "\n",
       "    .dataframe thead th {\n",
       "        text-align: right;\n",
       "    }\n",
       "</style>\n",
       "<table border=\"1\" class=\"dataframe\">\n",
       "  <thead>\n",
       "    <tr style=\"text-align: right;\">\n",
       "      <th></th>\n",
       "      <th>0</th>\n",
       "    </tr>\n",
       "  </thead>\n",
       "  <tbody>\n",
       "    <tr>\n",
       "      <th>0</th>\n",
       "      <td>id</td>\n",
       "    </tr>\n",
       "    <tr>\n",
       "      <th>1</th>\n",
       "      <td>circle_id</td>\n",
       "    </tr>\n",
       "    <tr>\n",
       "      <th>2</th>\n",
       "      <td>loc_og_t2o_mou</td>\n",
       "    </tr>\n",
       "    <tr>\n",
       "      <th>3</th>\n",
       "      <td>std_og_t2o_mou</td>\n",
       "    </tr>\n",
       "    <tr>\n",
       "      <th>4</th>\n",
       "      <td>loc_ic_t2o_mou</td>\n",
       "    </tr>\n",
       "    <tr>\n",
       "      <th>...</th>\n",
       "      <td>...</td>\n",
       "    </tr>\n",
       "    <tr>\n",
       "      <th>167</th>\n",
       "      <td>aon</td>\n",
       "    </tr>\n",
       "    <tr>\n",
       "      <th>168</th>\n",
       "      <td>aug_vbc_3g</td>\n",
       "    </tr>\n",
       "    <tr>\n",
       "      <th>169</th>\n",
       "      <td>jul_vbc_3g</td>\n",
       "    </tr>\n",
       "    <tr>\n",
       "      <th>170</th>\n",
       "      <td>jun_vbc_3g</td>\n",
       "    </tr>\n",
       "    <tr>\n",
       "      <th>171</th>\n",
       "      <td>churn_probability</td>\n",
       "    </tr>\n",
       "  </tbody>\n",
       "</table>\n",
       "<p>172 rows × 1 columns</p>\n",
       "</div>"
      ],
      "text/plain": [
       "                     0\n",
       "0                   id\n",
       "1            circle_id\n",
       "2       loc_og_t2o_mou\n",
       "3       std_og_t2o_mou\n",
       "4       loc_ic_t2o_mou\n",
       "..                 ...\n",
       "167                aon\n",
       "168         aug_vbc_3g\n",
       "169         jul_vbc_3g\n",
       "170         jun_vbc_3g\n",
       "171  churn_probability\n",
       "\n",
       "[172 rows x 1 columns]"
      ]
     },
     "execution_count": 299,
     "metadata": {},
     "output_type": "execute_result"
    }
   ],
   "source": [
    "#list of columns\n",
    "pd.DataFrame(data.columns)"
   ]
  },
  {
   "cell_type": "code",
   "execution_count": 300,
   "id": "96efc5bf",
   "metadata": {
    "papermill": {
     "duration": 0.167693,
     "end_time": "2023-12-06T16:44:49.306652",
     "exception": false,
     "start_time": "2023-12-06T16:44:49.138959",
     "status": "completed"
    },
    "tags": []
   },
   "outputs": [
    {
     "data": {
      "text/plain": [
       "id                   0.000000\n",
       "circle_id            0.000000\n",
       "loc_og_t2o_mou       1.002871\n",
       "std_og_t2o_mou       1.002871\n",
       "loc_ic_t2o_mou       1.002871\n",
       "                       ...   \n",
       "aon                  0.000000\n",
       "aug_vbc_3g           0.000000\n",
       "jul_vbc_3g           0.000000\n",
       "jun_vbc_3g           0.000000\n",
       "churn_probability    0.000000\n",
       "Length: 172, dtype: float64"
      ]
     },
     "execution_count": 300,
     "metadata": {},
     "output_type": "execute_result"
    }
   ],
   "source": [
    "# look at missing value ratio in each column\n",
    "data.isnull().sum() * 100 / data.shape[0]"
   ]
  },
  {
   "cell_type": "code",
   "execution_count": 478,
   "id": "6c1f6173-abab-4e00-be07-07ec32401993",
   "metadata": {},
   "outputs": [
    {
     "data": {
      "text/plain": [
       "arpu_3g_6                   74.902499\n",
       "count_rech_2g_6             74.902499\n",
       "night_pck_user_6            74.902499\n",
       "arpu_2g_6                   74.902499\n",
       "date_of_last_rech_data_6    74.902499\n",
       "total_rech_data_6           74.902499\n",
       "av_rech_amt_data_6          74.902499\n",
       "max_rech_data_6             74.902499\n",
       "count_rech_3g_6             74.902499\n",
       "fb_user_6                   74.902499\n",
       "night_pck_user_7            74.478207\n",
       "date_of_last_rech_data_7    74.478207\n",
       "total_rech_data_7           74.478207\n",
       "max_rech_data_7             74.478207\n",
       "fb_user_7                   74.478207\n",
       "count_rech_2g_7             74.478207\n",
       "count_rech_3g_7             74.478207\n",
       "arpu_3g_7                   74.478207\n",
       "av_rech_amt_data_7          74.478207\n",
       "arpu_2g_7                   74.478207\n",
       "count_rech_2g_8             73.689624\n",
       "av_rech_amt_data_8          73.689624\n",
       "night_pck_user_8            73.689624\n",
       "max_rech_data_8             73.689624\n",
       "total_rech_data_8           73.689624\n",
       "arpu_2g_8                   73.689624\n",
       "arpu_3g_8                   73.689624\n",
       "date_of_last_rech_data_8    73.689624\n",
       "fb_user_8                   73.689624\n",
       "count_rech_3g_8             73.689624\n",
       "isd_og_mou_8                 5.290076\n",
       "std_ic_t2o_mou_8             5.290076\n",
       "std_og_t2c_mou_8             5.290076\n",
       "std_ic_t2f_mou_8             5.290076\n",
       "std_og_mou_8                 5.290076\n",
       "std_ic_t2m_mou_8             5.290076\n",
       "std_ic_mou_8                 5.290076\n",
       "std_ic_t2t_mou_8             5.290076\n",
       "og_others_8                  5.290076\n",
       "spl_og_mou_8                 5.290076\n",
       "loc_ic_t2m_mou_8             5.290076\n",
       "loc_ic_mou_8                 5.290076\n",
       "loc_ic_t2f_mou_8             5.290076\n",
       "std_og_t2f_mou_8             5.290076\n",
       "loc_og_t2c_mou_8             5.290076\n",
       "ic_others_8                  5.290076\n",
       "loc_og_mou_8                 5.290076\n",
       "onnet_mou_8                  5.290076\n",
       "offnet_mou_8                 5.290076\n",
       "roam_ic_mou_8                5.290076\n",
       "roam_og_mou_8                5.290076\n",
       "loc_og_t2t_mou_8             5.290076\n",
       "loc_og_t2m_mou_8             5.290076\n",
       "loc_og_t2f_mou_8             5.290076\n",
       "std_og_t2m_mou_8             5.290076\n",
       "loc_ic_t2t_mou_8             5.290076\n",
       "isd_ic_mou_8                 5.290076\n",
       "std_og_t2t_mou_8             5.290076\n",
       "spl_ic_mou_8                 5.290076\n",
       "std_ic_t2m_mou_6             3.954342\n",
       "std_ic_t2t_mou_6             3.954342\n",
       "loc_ic_t2m_mou_6             3.954342\n",
       "ic_others_6                  3.954342\n",
       "loc_ic_mou_6                 3.954342\n",
       "dtype: float64"
      ]
     },
     "execution_count": 478,
     "metadata": {},
     "output_type": "execute_result"
    }
   ],
   "source": [
    "(data.isnull().sum() / data.isnull().count() * 100).sort_values(ascending=False).head(64)"
   ]
  },
  {
   "cell_type": "markdown",
   "id": "03adbc37-ca21-4691-94e2-9b9168b2ece8",
   "metadata": {},
   "source": [
    "# Data Cleaning\n",
    "\n",
    "- Clean or impute missing values.\n",
    "- Remove duplicate records if necessary.\n",
    "- Correct any data inconsistencies or errors."
   ]
  },
  {
   "cell_type": "code",
   "execution_count": 302,
   "id": "57534c11-6574-4282-b9df-a18321fbde0e",
   "metadata": {},
   "outputs": [
    {
     "name": "stdout",
     "output_type": "stream",
     "text": [
      "<class 'pandas.core.frame.DataFrame'>\n",
      "Int64Index: 69999 entries, 0 to 69998\n",
      "Data columns (total 172 columns):\n",
      " #    Column                    Dtype  \n",
      "---   ------                    -----  \n",
      " 0    id                        int64  \n",
      " 1    circle_id                 int64  \n",
      " 2    loc_og_t2o_mou            float64\n",
      " 3    std_og_t2o_mou            float64\n",
      " 4    loc_ic_t2o_mou            float64\n",
      " 5    last_date_of_month_6      object \n",
      " 6    last_date_of_month_7      object \n",
      " 7    last_date_of_month_8      object \n",
      " 8    arpu_6                    float64\n",
      " 9    arpu_7                    float64\n",
      " 10   arpu_8                    float64\n",
      " 11   onnet_mou_6               float64\n",
      " 12   onnet_mou_7               float64\n",
      " 13   onnet_mou_8               float64\n",
      " 14   offnet_mou_6              float64\n",
      " 15   offnet_mou_7              float64\n",
      " 16   offnet_mou_8              float64\n",
      " 17   roam_ic_mou_6             float64\n",
      " 18   roam_ic_mou_7             float64\n",
      " 19   roam_ic_mou_8             float64\n",
      " 20   roam_og_mou_6             float64\n",
      " 21   roam_og_mou_7             float64\n",
      " 22   roam_og_mou_8             float64\n",
      " 23   loc_og_t2t_mou_6          float64\n",
      " 24   loc_og_t2t_mou_7          float64\n",
      " 25   loc_og_t2t_mou_8          float64\n",
      " 26   loc_og_t2m_mou_6          float64\n",
      " 27   loc_og_t2m_mou_7          float64\n",
      " 28   loc_og_t2m_mou_8          float64\n",
      " 29   loc_og_t2f_mou_6          float64\n",
      " 30   loc_og_t2f_mou_7          float64\n",
      " 31   loc_og_t2f_mou_8          float64\n",
      " 32   loc_og_t2c_mou_6          float64\n",
      " 33   loc_og_t2c_mou_7          float64\n",
      " 34   loc_og_t2c_mou_8          float64\n",
      " 35   loc_og_mou_6              float64\n",
      " 36   loc_og_mou_7              float64\n",
      " 37   loc_og_mou_8              float64\n",
      " 38   std_og_t2t_mou_6          float64\n",
      " 39   std_og_t2t_mou_7          float64\n",
      " 40   std_og_t2t_mou_8          float64\n",
      " 41   std_og_t2m_mou_6          float64\n",
      " 42   std_og_t2m_mou_7          float64\n",
      " 43   std_og_t2m_mou_8          float64\n",
      " 44   std_og_t2f_mou_6          float64\n",
      " 45   std_og_t2f_mou_7          float64\n",
      " 46   std_og_t2f_mou_8          float64\n",
      " 47   std_og_t2c_mou_6          float64\n",
      " 48   std_og_t2c_mou_7          float64\n",
      " 49   std_og_t2c_mou_8          float64\n",
      " 50   std_og_mou_6              float64\n",
      " 51   std_og_mou_7              float64\n",
      " 52   std_og_mou_8              float64\n",
      " 53   isd_og_mou_6              float64\n",
      " 54   isd_og_mou_7              float64\n",
      " 55   isd_og_mou_8              float64\n",
      " 56   spl_og_mou_6              float64\n",
      " 57   spl_og_mou_7              float64\n",
      " 58   spl_og_mou_8              float64\n",
      " 59   og_others_6               float64\n",
      " 60   og_others_7               float64\n",
      " 61   og_others_8               float64\n",
      " 62   total_og_mou_6            float64\n",
      " 63   total_og_mou_7            float64\n",
      " 64   total_og_mou_8            float64\n",
      " 65   loc_ic_t2t_mou_6          float64\n",
      " 66   loc_ic_t2t_mou_7          float64\n",
      " 67   loc_ic_t2t_mou_8          float64\n",
      " 68   loc_ic_t2m_mou_6          float64\n",
      " 69   loc_ic_t2m_mou_7          float64\n",
      " 70   loc_ic_t2m_mou_8          float64\n",
      " 71   loc_ic_t2f_mou_6          float64\n",
      " 72   loc_ic_t2f_mou_7          float64\n",
      " 73   loc_ic_t2f_mou_8          float64\n",
      " 74   loc_ic_mou_6              float64\n",
      " 75   loc_ic_mou_7              float64\n",
      " 76   loc_ic_mou_8              float64\n",
      " 77   std_ic_t2t_mou_6          float64\n",
      " 78   std_ic_t2t_mou_7          float64\n",
      " 79   std_ic_t2t_mou_8          float64\n",
      " 80   std_ic_t2m_mou_6          float64\n",
      " 81   std_ic_t2m_mou_7          float64\n",
      " 82   std_ic_t2m_mou_8          float64\n",
      " 83   std_ic_t2f_mou_6          float64\n",
      " 84   std_ic_t2f_mou_7          float64\n",
      " 85   std_ic_t2f_mou_8          float64\n",
      " 86   std_ic_t2o_mou_6          float64\n",
      " 87   std_ic_t2o_mou_7          float64\n",
      " 88   std_ic_t2o_mou_8          float64\n",
      " 89   std_ic_mou_6              float64\n",
      " 90   std_ic_mou_7              float64\n",
      " 91   std_ic_mou_8              float64\n",
      " 92   total_ic_mou_6            float64\n",
      " 93   total_ic_mou_7            float64\n",
      " 94   total_ic_mou_8            float64\n",
      " 95   spl_ic_mou_6              float64\n",
      " 96   spl_ic_mou_7              float64\n",
      " 97   spl_ic_mou_8              float64\n",
      " 98   isd_ic_mou_6              float64\n",
      " 99   isd_ic_mou_7              float64\n",
      " 100  isd_ic_mou_8              float64\n",
      " 101  ic_others_6               float64\n",
      " 102  ic_others_7               float64\n",
      " 103  ic_others_8               float64\n",
      " 104  total_rech_num_6          int64  \n",
      " 105  total_rech_num_7          int64  \n",
      " 106  total_rech_num_8          int64  \n",
      " 107  total_rech_amt_6          int64  \n",
      " 108  total_rech_amt_7          int64  \n",
      " 109  total_rech_amt_8          int64  \n",
      " 110  max_rech_amt_6            int64  \n",
      " 111  max_rech_amt_7            int64  \n",
      " 112  max_rech_amt_8            int64  \n",
      " 113  date_of_last_rech_6       object \n",
      " 114  date_of_last_rech_7       object \n",
      " 115  date_of_last_rech_8       object \n",
      " 116  last_day_rch_amt_6        int64  \n",
      " 117  last_day_rch_amt_7        int64  \n",
      " 118  last_day_rch_amt_8        int64  \n",
      " 119  date_of_last_rech_data_6  object \n",
      " 120  date_of_last_rech_data_7  object \n",
      " 121  date_of_last_rech_data_8  object \n",
      " 122  total_rech_data_6         float64\n",
      " 123  total_rech_data_7         float64\n",
      " 124  total_rech_data_8         float64\n",
      " 125  max_rech_data_6           float64\n",
      " 126  max_rech_data_7           float64\n",
      " 127  max_rech_data_8           float64\n",
      " 128  count_rech_2g_6           float64\n",
      " 129  count_rech_2g_7           float64\n",
      " 130  count_rech_2g_8           float64\n",
      " 131  count_rech_3g_6           float64\n",
      " 132  count_rech_3g_7           float64\n",
      " 133  count_rech_3g_8           float64\n",
      " 134  av_rech_amt_data_6        float64\n",
      " 135  av_rech_amt_data_7        float64\n",
      " 136  av_rech_amt_data_8        float64\n",
      " 137  vol_2g_mb_6               float64\n",
      " 138  vol_2g_mb_7               float64\n",
      " 139  vol_2g_mb_8               float64\n",
      " 140  vol_3g_mb_6               float64\n",
      " 141  vol_3g_mb_7               float64\n",
      " 142  vol_3g_mb_8               float64\n",
      " 143  arpu_3g_6                 float64\n",
      " 144  arpu_3g_7                 float64\n",
      " 145  arpu_3g_8                 float64\n",
      " 146  arpu_2g_6                 float64\n",
      " 147  arpu_2g_7                 float64\n",
      " 148  arpu_2g_8                 float64\n",
      " 149  night_pck_user_6          float64\n",
      " 150  night_pck_user_7          float64\n",
      " 151  night_pck_user_8          float64\n",
      " 152  monthly_2g_6              int64  \n",
      " 153  monthly_2g_7              int64  \n",
      " 154  monthly_2g_8              int64  \n",
      " 155  sachet_2g_6               int64  \n",
      " 156  sachet_2g_7               int64  \n",
      " 157  sachet_2g_8               int64  \n",
      " 158  monthly_3g_6              int64  \n",
      " 159  monthly_3g_7              int64  \n",
      " 160  monthly_3g_8              int64  \n",
      " 161  sachet_3g_6               int64  \n",
      " 162  sachet_3g_7               int64  \n",
      " 163  sachet_3g_8               int64  \n",
      " 164  fb_user_6                 float64\n",
      " 165  fb_user_7                 float64\n",
      " 166  fb_user_8                 float64\n",
      " 167  aon                       int64  \n",
      " 168  aug_vbc_3g                float64\n",
      " 169  jul_vbc_3g                float64\n",
      " 170  jun_vbc_3g                float64\n",
      " 171  churn_probability         int64  \n",
      "dtypes: float64(135), int64(28), object(9)\n",
      "memory usage: 92.4+ MB\n"
     ]
    }
   ],
   "source": [
    "data.info(verbose=True)"
   ]
  },
  {
   "cell_type": "code",
   "execution_count": 303,
   "id": "5a8359cd-f60d-4d3d-ae70-17a9b3d22079",
   "metadata": {},
   "outputs": [
    {
     "name": "stdout",
     "output_type": "stream",
     "text": [
      "Skewness of 'id': 0.0\n",
      "Skewness of 'circle_id': 0\n",
      "Skewness of 'loc_og_t2o_mou': 0\n",
      "Skewness of 'std_og_t2o_mou': 0\n",
      "Skewness of 'loc_ic_t2o_mou': 0\n",
      "Skewness of 'arpu_6': 13.700342827550731\n",
      "Skewness of 'arpu_7': 20.271332375021498\n",
      "Skewness of 'arpu_8': 19.045774106299618\n",
      "Skewness of 'onnet_mou_6': 6.140530275668938\n",
      "Skewness of 'onnet_mou_7': 6.593318250440481\n",
      "Skewness of 'onnet_mou_8': 7.149100724253364\n",
      "Skewness of 'offnet_mou_6': 4.933533409292347\n",
      "Skewness of 'offnet_mou_7': 5.057605910264967\n",
      "Skewness of 'offnet_mou_8': 6.18421020710315\n",
      "Skewness of 'roam_ic_mou_6': 16.844320569249692\n",
      "Skewness of 'roam_ic_mou_7': 27.37308248050083\n",
      "Skewness of 'roam_ic_mou_8': 25.776788404336997\n",
      "Skewness of 'roam_og_mou_6': 14.083542921789734\n",
      "Skewness of 'roam_og_mou_7': 14.273037874007164\n",
      "Skewness of 'roam_og_mou_8': 23.746728104370458\n",
      "Skewness of 'loc_og_t2t_mou_6': 13.933248096467356\n",
      "Skewness of 'loc_og_t2t_mou_7': 15.390717559782741\n",
      "Skewness of 'loc_og_t2t_mou_8': 19.932183892858017\n",
      "Skewness of 'loc_og_t2m_mou_6': 6.026726409770736\n",
      "Skewness of 'loc_og_t2m_mou_7': 5.318858864662735\n",
      "Skewness of 'loc_og_t2m_mou_8': 5.474448505177563\n",
      "Skewness of 'loc_og_t2f_mou_6': 12.934190430668528\n",
      "Skewness of 'loc_og_t2f_mou_7': 13.77720603421073\n",
      "Skewness of 'loc_og_t2f_mou_8': 12.678154466175084\n",
      "Skewness of 'loc_og_t2c_mou_6': 22.47385722351963\n",
      "Skewness of 'loc_og_t2c_mou_7': 42.56667116589757\n",
      "Skewness of 'loc_og_t2c_mou_8': 17.205655428554184\n",
      "Skewness of 'loc_og_mou_6': 6.650610252113727\n",
      "Skewness of 'loc_og_mou_7': 6.395867042592276\n",
      "Skewness of 'loc_og_mou_8': 7.682829508746569\n",
      "Skewness of 'std_og_t2t_mou_6': 7.067376827649962\n",
      "Skewness of 'std_og_t2t_mou_7': 7.423013866987642\n",
      "Skewness of 'std_og_t2t_mou_8': 7.353341268487954\n",
      "Skewness of 'std_og_t2m_mou_6': 6.874140431949634\n",
      "Skewness of 'std_og_t2m_mou_7': 6.903185655044661\n",
      "Skewness of 'std_og_t2m_mou_8': 8.79291455118586\n",
      "Skewness of 'std_og_t2f_mou_6': 23.46452246131232\n",
      "Skewness of 'std_og_t2f_mou_7': 23.472911726873985\n",
      "Skewness of 'std_og_t2f_mou_8': 18.770089942600684\n",
      "Skewness of 'std_og_t2c_mou_6': 0\n",
      "Skewness of 'std_og_t2c_mou_7': 0\n",
      "Skewness of 'std_og_t2c_mou_8': 0\n",
      "Skewness of 'std_og_mou_6': 4.783445955657197\n",
      "Skewness of 'std_og_mou_7': 4.927473018870707\n",
      "Skewness of 'std_og_mou_8': 5.380435232599293\n",
      "Skewness of 'isd_og_mou_6': 141.5934076444038\n",
      "Skewness of 'isd_og_mou_7': 139.4754064603143\n",
      "Skewness of 'isd_og_mou_8': 139.65348721691063\n",
      "Skewness of 'spl_og_mou_6': 25.08638613265355\n",
      "Skewness of 'spl_og_mou_7': 42.729167964662004\n",
      "Skewness of 'spl_og_mou_8': 18.721489446768686\n",
      "Skewness of 'og_others_6': 118.0349883077226\n",
      "Skewness of 'og_others_7': 127.39720312427157\n",
      "Skewness of 'og_others_8': 130.1257794782059\n",
      "Skewness of 'total_og_mou_6': 3.9635816361200327\n",
      "Skewness of 'total_og_mou_7': 4.032058055466919\n",
      "Skewness of 'total_og_mou_8': 4.5118606114335575\n",
      "Skewness of 'loc_ic_t2t_mou_6': 13.867315656492421\n",
      "Skewness of 'loc_ic_t2t_mou_7': 18.127636531110564\n",
      "Skewness of 'loc_ic_t2t_mou_8': 18.664157005000426\n",
      "Skewness of 'loc_ic_t2m_mou_6': 5.874138945930799\n",
      "Skewness of 'loc_ic_t2m_mou_7': 5.888468545582832\n",
      "Skewness of 'loc_ic_t2m_mou_8': 6.422566467715466\n",
      "Skewness of 'loc_ic_t2f_mou_6': 11.890801629962201\n",
      "Skewness of 'loc_ic_t2f_mou_7': 12.939657979961597\n",
      "Skewness of 'loc_ic_t2f_mou_8': 12.444424240789335\n",
      "Skewness of 'loc_ic_mou_6': 5.673095264509573\n",
      "Skewness of 'loc_ic_mou_7': 6.459338286067179\n",
      "Skewness of 'loc_ic_mou_8': 6.448135766880807\n",
      "Skewness of 'std_ic_t2t_mou_6': 25.90896594250789\n",
      "Skewness of 'std_ic_t2t_mou_7': 32.23143066918907\n",
      "Skewness of 'std_ic_t2t_mou_8': 25.965310306347035\n",
      "Skewness of 'std_ic_t2m_mou_6': 18.441931464954322\n",
      "Skewness of 'std_ic_t2m_mou_7': 21.933960744612833\n",
      "Skewness of 'std_ic_t2m_mou_8': 19.033055805115378\n",
      "Skewness of 'std_ic_t2f_mou_6': 31.133296641802666\n",
      "Skewness of 'std_ic_t2f_mou_7': 28.164342811692674\n",
      "Skewness of 'std_ic_t2f_mou_8': 33.49588054738252\n",
      "Skewness of 'std_ic_t2o_mou_6': 0\n",
      "Skewness of 'std_ic_t2o_mou_7': 0\n",
      "Skewness of 'std_ic_t2o_mou_8': 0\n",
      "Skewness of 'std_ic_mou_6': 13.710846269992754\n",
      "Skewness of 'std_ic_mou_7': 17.60950625457856\n",
      "Skewness of 'std_ic_mou_8': 14.573798871829965\n",
      "Skewness of 'total_ic_mou_6': 5.246020761270753\n",
      "Skewness of 'total_ic_mou_7': 5.804988455529891\n",
      "Skewness of 'total_ic_mou_8': 5.517424462275987\n",
      "Skewness of 'spl_ic_mou_6': 27.43415569286443\n",
      "Skewness of 'spl_ic_mou_7': 21.202102318647906\n",
      "Skewness of 'spl_ic_mou_8': 25.569163828359333\n",
      "Skewness of 'isd_ic_mou_6': 39.01414024902652\n",
      "Skewness of 'isd_ic_mou_7': 27.195690637553536\n",
      "Skewness of 'isd_ic_mou_8': 22.244961882311802\n",
      "Skewness of 'ic_others_6': 66.97174420326694\n",
      "Skewness of 'ic_others_7': 54.75807180927846\n",
      "Skewness of 'ic_others_8': 45.753766895716694\n",
      "Skewness of 'total_rech_num_6': 3.36477360107519\n",
      "Skewness of 'total_rech_num_7': 3.2141907346458085\n",
      "Skewness of 'total_rech_num_8': 3.1262694569963614\n",
      "Skewness of 'total_rech_amt_6': 14.521131524302856\n",
      "Skewness of 'total_rech_amt_7': 18.317929907792525\n",
      "Skewness of 'total_rech_amt_8': 22.666016079120137\n",
      "Skewness of 'max_rech_amt_6': 6.622678324145272\n",
      "Skewness of 'max_rech_amt_7': 5.4488144063596\n",
      "Skewness of 'max_rech_amt_8': 5.797674237329307\n",
      "Skewness of 'last_day_rch_amt_6': 7.8001434997565005\n",
      "Skewness of 'last_day_rch_amt_7': 6.4207698438731375\n",
      "Skewness of 'last_day_rch_amt_8': 7.1861332557389455\n",
      "Skewness of 'total_rech_data_6': 4.21803793329163\n",
      "Skewness of 'total_rech_data_7': 4.221490045644334\n",
      "Skewness of 'total_rech_data_8': 4.70234348356948\n",
      "Skewness of 'max_rech_data_6': 2.8546978388496798\n",
      "Skewness of 'max_rech_data_7': 2.838597187367573\n",
      "Skewness of 'max_rech_data_8': 2.632690884899971\n",
      "Skewness of 'count_rech_2g_6': 3.292042719461356\n",
      "Skewness of 'count_rech_2g_7': 3.3179179212968073\n",
      "Skewness of 'count_rech_2g_8': 3.207608328231089\n",
      "Skewness of 'count_rech_3g_6': 6.804655470524441\n",
      "Skewness of 'count_rech_3g_7': 7.0068232780779764\n",
      "Skewness of 'count_rech_3g_8': 8.463458235523836\n",
      "Skewness of 'av_rech_amt_data_6': 5.460230307188504\n",
      "Skewness of 'av_rech_amt_data_7': 4.642760196729595\n",
      "Skewness of 'av_rech_amt_data_8': 4.406052421488925\n",
      "Skewness of 'vol_2g_mb_6': 9.641917093166905\n",
      "Skewness of 'vol_2g_mb_7': 8.569485657575038\n",
      "Skewness of 'vol_2g_mb_8': 10.475778610449058\n",
      "Skewness of 'vol_3g_mb_6': 18.900698386884876\n",
      "Skewness of 'vol_3g_mb_7': 13.388064608576494\n",
      "Skewness of 'vol_3g_mb_8': 13.911735392464298\n",
      "Skewness of 'arpu_3g_6': 5.4978454506315115\n",
      "Skewness of 'arpu_3g_7': 5.492603093499845\n",
      "Skewness of 'arpu_3g_8': 5.066550422325188\n",
      "Skewness of 'arpu_2g_6': 5.747239629812445\n",
      "Skewness of 'arpu_2g_7': 5.9443694960095295\n",
      "Skewness of 'arpu_2g_8': 5.113159000767337\n",
      "Skewness of 'night_pck_user_6': 6.049772386376328\n",
      "Skewness of 'night_pck_user_7': 6.211091106754722\n",
      "Skewness of 'night_pck_user_8': 6.67966161724179\n",
      "Skewness of 'monthly_2g_6': 4.042206957862814\n",
      "Skewness of 'monthly_2g_7': 3.995907340242886\n",
      "Skewness of 'monthly_2g_8': 4.072843038400326\n",
      "Skewness of 'sachet_2g_6': 6.495580217877054\n",
      "Skewness of 'sachet_2g_7': 6.393885138551778\n",
      "Skewness of 'sachet_2g_8': 6.15436393836585\n",
      "Skewness of 'monthly_3g_6': 7.261891760143685\n",
      "Skewness of 'monthly_3g_7': 8.907677966255935\n",
      "Skewness of 'monthly_3g_8': 7.775940061202692\n",
      "Skewness of 'sachet_3g_6': 19.042450045065166\n",
      "Skewness of 'sachet_3g_7': 18.829053781838308\n",
      "Skewness of 'sachet_3g_8': 20.524890237022415\n",
      "Skewness of 'fb_user_6': -3.007304515465784\n",
      "Skewness of 'fb_user_7': -2.8558529538092583\n",
      "Skewness of 'fb_user_8': -2.4983067633574763\n",
      "Skewness of 'aon': 0.9439841081180973\n",
      "Skewness of 'aug_vbc_3g': 9.2466826070793\n",
      "Skewness of 'jul_vbc_3g': 8.343796806424463\n",
      "Skewness of 'jun_vbc_3g': 9.52761611830378\n",
      "Skewness of 'churn_probability': 2.632208435650454\n"
     ]
    }
   ],
   "source": [
    "# data is highly skewed so we will use median for missing fill na values for float and int\n",
    "for feature in data.columns:\n",
    "    if data[feature].dtypes != 'object':\n",
    "        skewness = data[feature].skew()\n",
    "        print(f\"Skewness of '{feature}': {skewness}\")"
   ]
  },
  {
   "cell_type": "markdown",
   "id": "557098a2-6ea8-47cf-81bd-69cb6e02cd74",
   "metadata": {},
   "source": [
    "#### Handle Outliers"
   ]
  },
  {
   "cell_type": "code",
   "execution_count": 409,
   "id": "351422a7-076c-4870-87b2-57ebff41c9ad",
   "metadata": {},
   "outputs": [],
   "source": [
    "def col_clip(col):\n",
    "    mean = col.mean()\n",
    "    std = col.std()\n",
    "    return col.clip(mean - 2 * std, mean + 2 * std)\n"
   ]
  },
  {
   "cell_type": "code",
   "execution_count": 410,
   "id": "091d7e3d-2642-4e38-826d-9dea2f4bc1e9",
   "metadata": {},
   "outputs": [],
   "source": [
    "def handle_outliers (data):\n",
    "    df_numerical_variables = data.select_dtypes(include=['int64', 'float64'])\n",
    "    df_numerical_variables.info()\n",
    "    # Apply the capping to the numerical columns\n",
    "    # Let us cap the values\n",
    "    df_numerical_variables = df_numerical_variables.apply(col_clip, axis=0)\n",
    "    data[df_numerical_variables.columns] = df_numerical_variables;\n",
    "    return data"
   ]
  },
  {
   "cell_type": "code",
   "execution_count": null,
   "id": "bb230f93-caee-46e5-a468-bab7b51f3cca",
   "metadata": {},
   "outputs": [],
   "source": []
  },
  {
   "cell_type": "code",
   "execution_count": 411,
   "id": "ac849bb8-b704-4372-920b-5e3538879a27",
   "metadata": {},
   "outputs": [],
   "source": [
    "from datetime import datetime\n",
    "\n",
    "def calculate_latest_charge_date(date_6, date_7, date_8):\n",
    "    # Function to check if a date string is valid\n",
    "    def is_valid_date(date_str):\n",
    "        try:\n",
    "            datetime.strptime(date_str, '%m/%d/%Y')\n",
    "            return True\n",
    "        except ValueError:\n",
    "            return False\n",
    "\n",
    "    # Check conditions and calculate months_since_last_charge\n",
    "    if date_8 and not pd.isna(date_8) and is_valid_date(date_8):\n",
    "        months_since_last_charge = 0\n",
    "    elif date_7 and not pd.isna(date_7) and is_valid_date(date_7):\n",
    "        months_since_last_charge = 1\n",
    "    elif date_6 and not pd.isna(date_6) and is_valid_date(date_6):\n",
    "        months_since_last_charge = 2\n",
    "    else:\n",
    "        months_since_last_charge = 3\n",
    "    return months_since_last_charge\n",
    "\n",
    "\n",
    "\n",
    "# Function to calculate months_since_last_charge\n",
    "def calculate_months_since_last_charge_df(row):\n",
    "    return calculate_latest_charge_date(row['date_of_last_rech_6'], row['date_of_last_rech_7'], row['date_of_last_rech_8'])\n"
   ]
  },
  {
   "cell_type": "code",
   "execution_count": null,
   "id": "8fc4f4b3-880b-4384-a57d-fc0b156d6550",
   "metadata": {},
   "outputs": [],
   "source": []
  },
  {
   "cell_type": "code",
   "execution_count": null,
   "id": "5c6ad19e-db6c-412f-ad08-f955c3d94266",
   "metadata": {},
   "outputs": [],
   "source": []
  },
  {
   "cell_type": "code",
   "execution_count": null,
   "id": "3c7274cc-5876-4eef-ac02-776f59048805",
   "metadata": {},
   "outputs": [],
   "source": []
  },
  {
   "cell_type": "code",
   "execution_count": 412,
   "id": "a346ee2b-92d8-411a-ba98-39faebeea17f",
   "metadata": {},
   "outputs": [],
   "source": [
    "def prepare_data (data):\n",
    "\n",
    "    # Keep only those columns that have lt or eq 40% missing values\n",
    "    data_filtered = data.loc[:, data.isnull().mean() <= 0.4]\n",
    "    \n",
    "    # Compute the months_since_last_recharge column and drop the corresponding date fields\n",
    "    last_recharge_fields = ['date_of_last_rech_6','date_of_last_rech_7','date_of_last_rech_8']\n",
    "    last_recharge_df = data_filtered[last_recharge_fields]\n",
    "    data_filtered['months_since_last_charge'] = last_recharge_df.apply(calculate_months_since_last_charge_df, axis=1)\n",
    "    data_filtered.drop(last_recharge_fields, axis=1, inplace=True)\n",
    "\n",
    "\n",
    "    numerical_cols = data_filtered.select_dtypes(include='number').columns\n",
    "    categorical_cols = data_filtered.select_dtypes(include='object').columns\n",
    "\n",
    "    # Initialize SimpleImputer - median for numeric, mode for categorical\n",
    "    median_imputer = SimpleImputer(strategy='median')\n",
    "    mode_imputer = SimpleImputer(strategy='most_frequent')\n",
    "    data_filtered[numerical_cols] = median_imputer.fit_transform(data_filtered[numerical_cols])\n",
    "    # Do we really need to impute here?  We are dropping it below anyway\n",
    "    data_filtered[categorical_cols] = mode_imputer.fit_transform(data_filtered[categorical_cols])\n",
    "    \n",
    "    # remove duplicates if any\n",
    "    data_filtered.drop_duplicates()\n",
    "\n",
    "    # Drop fields with unique values\n",
    "    data_filtered = data_filtered.loc[:, data_filtered.nunique() > 1]\n",
    "    \n",
    "    return data_filtered"
   ]
  },
  {
   "cell_type": "code",
   "execution_count": 470,
   "id": "dbf1c6de-b955-44d1-b46b-01776ad7f86b",
   "metadata": {
    "papermill": {
     "duration": 2.985821,
     "end_time": "2023-12-06T16:44:43.485063",
     "exception": false,
     "start_time": "2023-12-06T16:44:40.499242",
     "status": "completed"
    },
    "tags": []
   },
   "outputs": [],
   "source": [
    "# read data\n",
    "data = pd.read_csv(\"train.csv\")"
   ]
  },
  {
   "cell_type": "code",
   "execution_count": 471,
   "id": "7f6dbcf9-8b00-4c67-9e1b-dc583a310408",
   "metadata": {},
   "outputs": [
    {
     "name": "stdout",
     "output_type": "stream",
     "text": [
      "<class 'pandas.core.frame.DataFrame'>\n",
      "RangeIndex: 69999 entries, 0 to 69998\n",
      "Columns: 161 entries, circle_id to jun_vbc_3g\n",
      "dtypes: float64(135), int64(26)\n",
      "memory usage: 86.0 MB\n"
     ]
    }
   ],
   "source": [
    "# Handle Outliers\n",
    "# Remove id & churn_probability fields\n",
    "data_without_outliers = handle_outliers(data.drop(['id','churn_probability'], axis=1))"
   ]
  },
  {
   "cell_type": "code",
   "execution_count": 472,
   "id": "7a36b64c-8c9f-48d6-aa15-bb1e3f1a92ea",
   "metadata": {},
   "outputs": [],
   "source": [
    "data[data_without_outliers.columns] = data_without_outliers"
   ]
  },
  {
   "cell_type": "code",
   "execution_count": 473,
   "id": "15686bfb-5773-4d57-82a3-3f20388d323d",
   "metadata": {},
   "outputs": [
    {
     "data": {
      "text/plain": [
       "<Axes: >"
      ]
     },
     "execution_count": 473,
     "metadata": {},
     "output_type": "execute_result"
    },
    {
     "data": {
      "image/png": "[encoded data removed]",
      "text/plain": [
       "<Figure size 1500x800 with 1 Axes>"
      ]
     },
     "metadata": {},
     "output_type": "display_data"
    }
   ],
   "source": [
    "plt.figure(figsize=(15,8))\n",
    "plt.xticks(rotation=45)\n",
    "sns.boxplot(data = data.select_dtypes(include=['int64', 'float64']).drop(['id', 'churn_probability'], axis=1))"
   ]
  },
  {
   "cell_type": "code",
   "execution_count": null,
   "id": "15fe16f3-1c82-42d9-a2e5-4b56166d87a0",
   "metadata": {},
   "outputs": [],
   "source": []
  },
  {
   "cell_type": "code",
   "execution_count": 474,
   "id": "ad0b54f6-98e7-4742-bad8-77f16c639357",
   "metadata": {},
   "outputs": [],
   "source": [
    "filtered_df = prepare_data(data)"
   ]
  },
  {
   "cell_type": "code",
   "execution_count": 475,
   "id": "5bbfa96d-2478-4cf3-a3f6-b17c7461890e",
   "metadata": {},
   "outputs": [
    {
     "data": {
      "text/plain": [
       "(69999, 127)"
      ]
     },
     "execution_count": 475,
     "metadata": {},
     "output_type": "execute_result"
    }
   ],
   "source": [
    "filtered_df.shape"
   ]
  },
  {
   "cell_type": "code",
   "execution_count": 419,
   "id": "a8b2f5b9-1f21-448a-a673-1f833164ac75",
   "metadata": {},
   "outputs": [],
   "source": [
    "def display_data(train):\n",
    "    print(\"Shape\",train.shape)\n",
    "    pd.set_option('display.max_rows', 200)\n",
    "    missing_info=pd.concat([train.dtypes, train.nunique(), train.isnull().sum() / len(train) * 100 ], axis=1)\n",
    "    missing_info.columns=['Data_Types', 'nunique','Missing_Values']\n",
    "    print(\"_\"*100)\n",
    "    \n",
    "    print(missing_info)"
   ]
  },
  {
   "cell_type": "code",
   "execution_count": 384,
   "id": "152c3062-d45a-44c2-9362-a6187bed9ab2",
   "metadata": {},
   "outputs": [
    {
     "data": {
      "text/html": [
       "<div>\n",
       "<style scoped>\n",
       "    .dataframe tbody tr th:only-of-type {\n",
       "        vertical-align: middle;\n",
       "    }\n",
       "\n",
       "    .dataframe tbody tr th {\n",
       "        vertical-align: top;\n",
       "    }\n",
       "\n",
       "    .dataframe thead th {\n",
       "        text-align: right;\n",
       "    }\n",
       "</style>\n",
       "<table border=\"1\" class=\"dataframe\">\n",
       "  <thead>\n",
       "    <tr style=\"text-align: right;\">\n",
       "      <th></th>\n",
       "      <th>0</th>\n",
       "      <th>1</th>\n",
       "    </tr>\n",
       "  </thead>\n",
       "  <tbody>\n",
       "    <tr>\n",
       "      <th>id</th>\n",
       "      <td>0.0</td>\n",
       "      <td>1.0</td>\n",
       "    </tr>\n",
       "    <tr>\n",
       "      <th>arpu_6</th>\n",
       "      <td>31.277</td>\n",
       "      <td>0.0</td>\n",
       "    </tr>\n",
       "    <tr>\n",
       "      <th>arpu_7</th>\n",
       "      <td>87.009</td>\n",
       "      <td>122.787</td>\n",
       "    </tr>\n",
       "    <tr>\n",
       "      <th>arpu_8</th>\n",
       "      <td>7.527</td>\n",
       "      <td>42.953</td>\n",
       "    </tr>\n",
       "    <tr>\n",
       "      <th>onnet_mou_6</th>\n",
       "      <td>48.58</td>\n",
       "      <td>0.0</td>\n",
       "    </tr>\n",
       "    <tr>\n",
       "      <th>onnet_mou_7</th>\n",
       "      <td>124.38</td>\n",
       "      <td>0.0</td>\n",
       "    </tr>\n",
       "    <tr>\n",
       "      <th>onnet_mou_8</th>\n",
       "      <td>1.29</td>\n",
       "      <td>0.0</td>\n",
       "    </tr>\n",
       "    <tr>\n",
       "      <th>offnet_mou_6</th>\n",
       "      <td>32.24</td>\n",
       "      <td>0.0</td>\n",
       "    </tr>\n",
       "    <tr>\n",
       "      <th>offnet_mou_7</th>\n",
       "      <td>96.68</td>\n",
       "      <td>25.99</td>\n",
       "    </tr>\n",
       "    <tr>\n",
       "      <th>offnet_mou_8</th>\n",
       "      <td>2.33</td>\n",
       "      <td>30.89</td>\n",
       "    </tr>\n",
       "    <tr>\n",
       "      <th>roam_ic_mou_6</th>\n",
       "      <td>0.0</td>\n",
       "      <td>0.0</td>\n",
       "    </tr>\n",
       "    <tr>\n",
       "      <th>roam_ic_mou_7</th>\n",
       "      <td>0.0</td>\n",
       "      <td>0.0</td>\n",
       "    </tr>\n",
       "    <tr>\n",
       "      <th>roam_ic_mou_8</th>\n",
       "      <td>0.0</td>\n",
       "      <td>0.0</td>\n",
       "    </tr>\n",
       "    <tr>\n",
       "      <th>roam_og_mou_6</th>\n",
       "      <td>0.0</td>\n",
       "      <td>0.0</td>\n",
       "    </tr>\n",
       "    <tr>\n",
       "      <th>roam_og_mou_7</th>\n",
       "      <td>0.0</td>\n",
       "      <td>0.0</td>\n",
       "    </tr>\n",
       "    <tr>\n",
       "      <th>roam_og_mou_8</th>\n",
       "      <td>0.0</td>\n",
       "      <td>0.0</td>\n",
       "    </tr>\n",
       "    <tr>\n",
       "      <th>loc_og_t2t_mou_6</th>\n",
       "      <td>2.23</td>\n",
       "      <td>0.0</td>\n",
       "    </tr>\n",
       "    <tr>\n",
       "      <th>loc_og_t2t_mou_7</th>\n",
       "      <td>0.0</td>\n",
       "      <td>0.0</td>\n",
       "    </tr>\n",
       "    <tr>\n",
       "      <th>loc_og_t2t_mou_8</th>\n",
       "      <td>0.28</td>\n",
       "      <td>0.0</td>\n",
       "    </tr>\n",
       "    <tr>\n",
       "      <th>loc_og_t2m_mou_6</th>\n",
       "      <td>5.29</td>\n",
       "      <td>0.0</td>\n",
       "    </tr>\n",
       "    <tr>\n",
       "      <th>loc_og_t2m_mou_7</th>\n",
       "      <td>16.04</td>\n",
       "      <td>0.0</td>\n",
       "    </tr>\n",
       "    <tr>\n",
       "      <th>loc_og_t2m_mou_8</th>\n",
       "      <td>2.33</td>\n",
       "      <td>0.0</td>\n",
       "    </tr>\n",
       "    <tr>\n",
       "      <th>loc_og_t2f_mou_6</th>\n",
       "      <td>0.0</td>\n",
       "      <td>0.0</td>\n",
       "    </tr>\n",
       "    <tr>\n",
       "      <th>loc_og_t2f_mou_7</th>\n",
       "      <td>0.0</td>\n",
       "      <td>0.0</td>\n",
       "    </tr>\n",
       "    <tr>\n",
       "      <th>loc_og_t2f_mou_8</th>\n",
       "      <td>0.0</td>\n",
       "      <td>0.0</td>\n",
       "    </tr>\n",
       "    <tr>\n",
       "      <th>loc_og_t2c_mou_6</th>\n",
       "      <td>0.0</td>\n",
       "      <td>0.0</td>\n",
       "    </tr>\n",
       "    <tr>\n",
       "      <th>loc_og_t2c_mou_7</th>\n",
       "      <td>0.0</td>\n",
       "      <td>17.189279</td>\n",
       "    </tr>\n",
       "    <tr>\n",
       "      <th>loc_og_t2c_mou_8</th>\n",
       "      <td>0.0</td>\n",
       "      <td>14.505244</td>\n",
       "    </tr>\n",
       "    <tr>\n",
       "      <th>loc_og_mou_6</th>\n",
       "      <td>7.53</td>\n",
       "      <td>0.0</td>\n",
       "    </tr>\n",
       "    <tr>\n",
       "      <th>loc_og_mou_7</th>\n",
       "      <td>16.04</td>\n",
       "      <td>0.0</td>\n",
       "    </tr>\n",
       "    <tr>\n",
       "      <th>loc_og_mou_8</th>\n",
       "      <td>2.61</td>\n",
       "      <td>0.0</td>\n",
       "    </tr>\n",
       "    <tr>\n",
       "      <th>std_og_t2t_mou_6</th>\n",
       "      <td>46.34</td>\n",
       "      <td>0.0</td>\n",
       "    </tr>\n",
       "    <tr>\n",
       "      <th>std_og_t2t_mou_7</th>\n",
       "      <td>124.38</td>\n",
       "      <td>0.0</td>\n",
       "    </tr>\n",
       "    <tr>\n",
       "      <th>std_og_t2t_mou_8</th>\n",
       "      <td>1.01</td>\n",
       "      <td>0.0</td>\n",
       "    </tr>\n",
       "    <tr>\n",
       "      <th>std_og_t2m_mou_6</th>\n",
       "      <td>18.75</td>\n",
       "      <td>0.0</td>\n",
       "    </tr>\n",
       "    <tr>\n",
       "      <th>std_og_t2m_mou_7</th>\n",
       "      <td>80.61</td>\n",
       "      <td>0.0</td>\n",
       "    </tr>\n",
       "    <tr>\n",
       "      <th>std_og_t2m_mou_8</th>\n",
       "      <td>0.0</td>\n",
       "      <td>0.0</td>\n",
       "    </tr>\n",
       "    <tr>\n",
       "      <th>std_og_t2f_mou_6</th>\n",
       "      <td>0.0</td>\n",
       "      <td>0.0</td>\n",
       "    </tr>\n",
       "    <tr>\n",
       "      <th>std_og_t2f_mou_7</th>\n",
       "      <td>0.0</td>\n",
       "      <td>0.0</td>\n",
       "    </tr>\n",
       "    <tr>\n",
       "      <th>std_og_t2f_mou_8</th>\n",
       "      <td>0.0</td>\n",
       "      <td>0.0</td>\n",
       "    </tr>\n",
       "    <tr>\n",
       "      <th>std_og_mou_6</th>\n",
       "      <td>65.09</td>\n",
       "      <td>0.0</td>\n",
       "    </tr>\n",
       "    <tr>\n",
       "      <th>std_og_mou_7</th>\n",
       "      <td>204.99</td>\n",
       "      <td>0.0</td>\n",
       "    </tr>\n",
       "    <tr>\n",
       "      <th>std_og_mou_8</th>\n",
       "      <td>1.01</td>\n",
       "      <td>0.0</td>\n",
       "    </tr>\n",
       "    <tr>\n",
       "      <th>isd_og_mou_6</th>\n",
       "      <td>0.0</td>\n",
       "      <td>0.0</td>\n",
       "    </tr>\n",
       "    <tr>\n",
       "      <th>isd_og_mou_7</th>\n",
       "      <td>0.0</td>\n",
       "      <td>0.0</td>\n",
       "    </tr>\n",
       "    <tr>\n",
       "      <th>isd_og_mou_8</th>\n",
       "      <td>0.0</td>\n",
       "      <td>0.0</td>\n",
       "    </tr>\n",
       "    <tr>\n",
       "      <th>spl_og_mou_6</th>\n",
       "      <td>8.2</td>\n",
       "      <td>0.0</td>\n",
       "    </tr>\n",
       "    <tr>\n",
       "      <th>spl_og_mou_7</th>\n",
       "      <td>0.63</td>\n",
       "      <td>30.73</td>\n",
       "    </tr>\n",
       "    <tr>\n",
       "      <th>spl_og_mou_8</th>\n",
       "      <td>0.0</td>\n",
       "      <td>31.66</td>\n",
       "    </tr>\n",
       "    <tr>\n",
       "      <th>og_others_6</th>\n",
       "      <td>0.38</td>\n",
       "      <td>0.0</td>\n",
       "    </tr>\n",
       "    <tr>\n",
       "      <th>og_others_7</th>\n",
       "      <td>0.0</td>\n",
       "      <td>0.0</td>\n",
       "    </tr>\n",
       "    <tr>\n",
       "      <th>og_others_8</th>\n",
       "      <td>0.0</td>\n",
       "      <td>0.0</td>\n",
       "    </tr>\n",
       "    <tr>\n",
       "      <th>total_og_mou_6</th>\n",
       "      <td>81.21</td>\n",
       "      <td>0.0</td>\n",
       "    </tr>\n",
       "    <tr>\n",
       "      <th>total_og_mou_7</th>\n",
       "      <td>221.68</td>\n",
       "      <td>30.73</td>\n",
       "    </tr>\n",
       "    <tr>\n",
       "      <th>total_og_mou_8</th>\n",
       "      <td>3.63</td>\n",
       "      <td>31.66</td>\n",
       "    </tr>\n",
       "    <tr>\n",
       "      <th>loc_ic_t2t_mou_6</th>\n",
       "      <td>2.43</td>\n",
       "      <td>1.68</td>\n",
       "    </tr>\n",
       "    <tr>\n",
       "      <th>loc_ic_t2t_mou_7</th>\n",
       "      <td>3.68</td>\n",
       "      <td>19.09</td>\n",
       "    </tr>\n",
       "    <tr>\n",
       "      <th>loc_ic_t2t_mou_8</th>\n",
       "      <td>7.79</td>\n",
       "      <td>10.53</td>\n",
       "    </tr>\n",
       "    <tr>\n",
       "      <th>loc_ic_t2m_mou_6</th>\n",
       "      <td>0.83</td>\n",
       "      <td>1.41</td>\n",
       "    </tr>\n",
       "    <tr>\n",
       "      <th>loc_ic_t2m_mou_7</th>\n",
       "      <td>21.08</td>\n",
       "      <td>18.68</td>\n",
       "    </tr>\n",
       "    <tr>\n",
       "      <th>loc_ic_t2m_mou_8</th>\n",
       "      <td>16.91</td>\n",
       "      <td>11.09</td>\n",
       "    </tr>\n",
       "    <tr>\n",
       "      <th>loc_ic_t2f_mou_6</th>\n",
       "      <td>0.0</td>\n",
       "      <td>0.35</td>\n",
       "    </tr>\n",
       "    <tr>\n",
       "      <th>loc_ic_t2f_mou_7</th>\n",
       "      <td>0.0</td>\n",
       "      <td>1.66</td>\n",
       "    </tr>\n",
       "    <tr>\n",
       "      <th>loc_ic_t2f_mou_8</th>\n",
       "      <td>0.0</td>\n",
       "      <td>3.4</td>\n",
       "    </tr>\n",
       "    <tr>\n",
       "      <th>loc_ic_mou_6</th>\n",
       "      <td>3.26</td>\n",
       "      <td>3.44</td>\n",
       "    </tr>\n",
       "    <tr>\n",
       "      <th>loc_ic_mou_7</th>\n",
       "      <td>24.76</td>\n",
       "      <td>39.44</td>\n",
       "    </tr>\n",
       "    <tr>\n",
       "      <th>loc_ic_mou_8</th>\n",
       "      <td>24.71</td>\n",
       "      <td>25.03</td>\n",
       "    </tr>\n",
       "    <tr>\n",
       "      <th>std_ic_t2t_mou_6</th>\n",
       "      <td>0.0</td>\n",
       "      <td>0.0</td>\n",
       "    </tr>\n",
       "    <tr>\n",
       "      <th>std_ic_t2t_mou_7</th>\n",
       "      <td>7.61</td>\n",
       "      <td>0.0</td>\n",
       "    </tr>\n",
       "    <tr>\n",
       "      <th>std_ic_t2t_mou_8</th>\n",
       "      <td>0.21</td>\n",
       "      <td>0.0</td>\n",
       "    </tr>\n",
       "    <tr>\n",
       "      <th>std_ic_t2m_mou_6</th>\n",
       "      <td>7.46</td>\n",
       "      <td>0.0</td>\n",
       "    </tr>\n",
       "    <tr>\n",
       "      <th>std_ic_t2m_mou_7</th>\n",
       "      <td>19.96</td>\n",
       "      <td>0.0</td>\n",
       "    </tr>\n",
       "    <tr>\n",
       "      <th>std_ic_t2m_mou_8</th>\n",
       "      <td>14.96</td>\n",
       "      <td>0.0</td>\n",
       "    </tr>\n",
       "    <tr>\n",
       "      <th>std_ic_t2f_mou_6</th>\n",
       "      <td>0.0</td>\n",
       "      <td>0.0</td>\n",
       "    </tr>\n",
       "    <tr>\n",
       "      <th>std_ic_t2f_mou_7</th>\n",
       "      <td>0.0</td>\n",
       "      <td>0.0</td>\n",
       "    </tr>\n",
       "    <tr>\n",
       "      <th>std_ic_t2f_mou_8</th>\n",
       "      <td>0.0</td>\n",
       "      <td>0.0</td>\n",
       "    </tr>\n",
       "    <tr>\n",
       "      <th>std_ic_mou_6</th>\n",
       "      <td>7.46</td>\n",
       "      <td>0.0</td>\n",
       "    </tr>\n",
       "    <tr>\n",
       "      <th>std_ic_mou_7</th>\n",
       "      <td>27.58</td>\n",
       "      <td>0.0</td>\n",
       "    </tr>\n",
       "    <tr>\n",
       "      <th>std_ic_mou_8</th>\n",
       "      <td>15.18</td>\n",
       "      <td>0.0</td>\n",
       "    </tr>\n",
       "    <tr>\n",
       "      <th>total_ic_mou_6</th>\n",
       "      <td>11.84</td>\n",
       "      <td>3.44</td>\n",
       "    </tr>\n",
       "    <tr>\n",
       "      <th>total_ic_mou_7</th>\n",
       "      <td>53.04</td>\n",
       "      <td>39.44</td>\n",
       "    </tr>\n",
       "    <tr>\n",
       "      <th>total_ic_mou_8</th>\n",
       "      <td>40.56</td>\n",
       "      <td>25.04</td>\n",
       "    </tr>\n",
       "    <tr>\n",
       "      <th>spl_ic_mou_6</th>\n",
       "      <td>0.0</td>\n",
       "      <td>0.0</td>\n",
       "    </tr>\n",
       "    <tr>\n",
       "      <th>spl_ic_mou_7</th>\n",
       "      <td>0.0</td>\n",
       "      <td>0.0</td>\n",
       "    </tr>\n",
       "    <tr>\n",
       "      <th>spl_ic_mou_8</th>\n",
       "      <td>0.337225</td>\n",
       "      <td>0.01</td>\n",
       "    </tr>\n",
       "    <tr>\n",
       "      <th>isd_ic_mou_6</th>\n",
       "      <td>0.0</td>\n",
       "      <td>0.0</td>\n",
       "    </tr>\n",
       "    <tr>\n",
       "      <th>isd_ic_mou_7</th>\n",
       "      <td>0.0</td>\n",
       "      <td>0.0</td>\n",
       "    </tr>\n",
       "    <tr>\n",
       "      <th>isd_ic_mou_8</th>\n",
       "      <td>0.0</td>\n",
       "      <td>0.0</td>\n",
       "    </tr>\n",
       "    <tr>\n",
       "      <th>ic_others_6</th>\n",
       "      <td>1.11</td>\n",
       "      <td>0.0</td>\n",
       "    </tr>\n",
       "    <tr>\n",
       "      <th>ic_others_7</th>\n",
       "      <td>0.69</td>\n",
       "      <td>0.0</td>\n",
       "    </tr>\n",
       "    <tr>\n",
       "      <th>ic_others_8</th>\n",
       "      <td>0.0</td>\n",
       "      <td>0.0</td>\n",
       "    </tr>\n",
       "    <tr>\n",
       "      <th>total_rech_num_6</th>\n",
       "      <td>3.0</td>\n",
       "      <td>3.0</td>\n",
       "    </tr>\n",
       "    <tr>\n",
       "      <th>total_rech_num_7</th>\n",
       "      <td>2.0</td>\n",
       "      <td>4.0</td>\n",
       "    </tr>\n",
       "    <tr>\n",
       "      <th>total_rech_num_8</th>\n",
       "      <td>2.0</td>\n",
       "      <td>5.0</td>\n",
       "    </tr>\n",
       "    <tr>\n",
       "      <th>total_rech_amt_6</th>\n",
       "      <td>77.0</td>\n",
       "      <td>0.0</td>\n",
       "    </tr>\n",
       "    <tr>\n",
       "      <th>total_rech_amt_7</th>\n",
       "      <td>65.0</td>\n",
       "      <td>145.0</td>\n",
       "    </tr>\n",
       "    <tr>\n",
       "      <th>total_rech_amt_8</th>\n",
       "      <td>10.0</td>\n",
       "      <td>50.0</td>\n",
       "    </tr>\n",
       "    <tr>\n",
       "      <th>max_rech_amt_6</th>\n",
       "      <td>65.0</td>\n",
       "      <td>0.0</td>\n",
       "    </tr>\n",
       "    <tr>\n",
       "      <th>max_rech_amt_7</th>\n",
       "      <td>65.0</td>\n",
       "      <td>145.0</td>\n",
       "    </tr>\n",
       "    <tr>\n",
       "      <th>max_rech_amt_8</th>\n",
       "      <td>10.0</td>\n",
       "      <td>50.0</td>\n",
       "    </tr>\n",
       "    <tr>\n",
       "      <th>last_day_rch_amt_6</th>\n",
       "      <td>65.0</td>\n",
       "      <td>0.0</td>\n",
       "    </tr>\n",
       "    <tr>\n",
       "      <th>last_day_rch_amt_7</th>\n",
       "      <td>65.0</td>\n",
       "      <td>0.0</td>\n",
       "    </tr>\n",
       "    <tr>\n",
       "      <th>last_day_rch_amt_8</th>\n",
       "      <td>0.0</td>\n",
       "      <td>0.0</td>\n",
       "    </tr>\n",
       "    <tr>\n",
       "      <th>date_of_last_rech_data_6</th>\n",
       "      <td>6/30/2014</td>\n",
       "      <td>6/30/2014</td>\n",
       "    </tr>\n",
       "    <tr>\n",
       "      <th>date_of_last_rech_data_7</th>\n",
       "      <td>7/31/2014</td>\n",
       "      <td>7/8/2014</td>\n",
       "    </tr>\n",
       "    <tr>\n",
       "      <th>date_of_last_rech_data_8</th>\n",
       "      <td>8/31/2014</td>\n",
       "      <td>8/31/2014</td>\n",
       "    </tr>\n",
       "    <tr>\n",
       "      <th>total_rech_data_6</th>\n",
       "      <td>1.0</td>\n",
       "      <td>1.0</td>\n",
       "    </tr>\n",
       "    <tr>\n",
       "      <th>total_rech_data_7</th>\n",
       "      <td>2.0</td>\n",
       "      <td>1.0</td>\n",
       "    </tr>\n",
       "    <tr>\n",
       "      <th>total_rech_data_8</th>\n",
       "      <td>1.0</td>\n",
       "      <td>1.0</td>\n",
       "    </tr>\n",
       "    <tr>\n",
       "      <th>max_rech_data_6</th>\n",
       "      <td>145.0</td>\n",
       "      <td>145.0</td>\n",
       "    </tr>\n",
       "    <tr>\n",
       "      <th>max_rech_data_7</th>\n",
       "      <td>145.0</td>\n",
       "      <td>145.0</td>\n",
       "    </tr>\n",
       "    <tr>\n",
       "      <th>max_rech_data_8</th>\n",
       "      <td>145.0</td>\n",
       "      <td>145.0</td>\n",
       "    </tr>\n",
       "    <tr>\n",
       "      <th>count_rech_2g_6</th>\n",
       "      <td>1.0</td>\n",
       "      <td>1.0</td>\n",
       "    </tr>\n",
       "    <tr>\n",
       "      <th>count_rech_2g_7</th>\n",
       "      <td>1.0</td>\n",
       "      <td>0.0</td>\n",
       "    </tr>\n",
       "    <tr>\n",
       "      <th>count_rech_2g_8</th>\n",
       "      <td>1.0</td>\n",
       "      <td>1.0</td>\n",
       "    </tr>\n",
       "    <tr>\n",
       "      <th>count_rech_3g_6</th>\n",
       "      <td>0.0</td>\n",
       "      <td>0.0</td>\n",
       "    </tr>\n",
       "    <tr>\n",
       "      <th>count_rech_3g_7</th>\n",
       "      <td>0.0</td>\n",
       "      <td>1.0</td>\n",
       "    </tr>\n",
       "    <tr>\n",
       "      <th>count_rech_3g_8</th>\n",
       "      <td>0.0</td>\n",
       "      <td>0.0</td>\n",
       "    </tr>\n",
       "    <tr>\n",
       "      <th>av_rech_amt_data_6</th>\n",
       "      <td>154.0</td>\n",
       "      <td>154.0</td>\n",
       "    </tr>\n",
       "    <tr>\n",
       "      <th>av_rech_amt_data_7</th>\n",
       "      <td>154.0</td>\n",
       "      <td>145.0</td>\n",
       "    </tr>\n",
       "    <tr>\n",
       "      <th>av_rech_amt_data_8</th>\n",
       "      <td>154.0</td>\n",
       "      <td>154.0</td>\n",
       "    </tr>\n",
       "    <tr>\n",
       "      <th>vol_2g_mb_6</th>\n",
       "      <td>0.0</td>\n",
       "      <td>0.0</td>\n",
       "    </tr>\n",
       "    <tr>\n",
       "      <th>vol_2g_mb_7</th>\n",
       "      <td>0.0</td>\n",
       "      <td>352.91</td>\n",
       "    </tr>\n",
       "    <tr>\n",
       "      <th>vol_2g_mb_8</th>\n",
       "      <td>0.0</td>\n",
       "      <td>0.0</td>\n",
       "    </tr>\n",
       "    <tr>\n",
       "      <th>vol_3g_mb_6</th>\n",
       "      <td>0.0</td>\n",
       "      <td>0.0</td>\n",
       "    </tr>\n",
       "    <tr>\n",
       "      <th>vol_3g_mb_7</th>\n",
       "      <td>0.0</td>\n",
       "      <td>3.96</td>\n",
       "    </tr>\n",
       "    <tr>\n",
       "      <th>vol_3g_mb_8</th>\n",
       "      <td>0.0</td>\n",
       "      <td>0.0</td>\n",
       "    </tr>\n",
       "    <tr>\n",
       "      <th>arpu_3g_6</th>\n",
       "      <td>0.52</td>\n",
       "      <td>0.52</td>\n",
       "    </tr>\n",
       "    <tr>\n",
       "      <th>arpu_3g_7</th>\n",
       "      <td>0.42</td>\n",
       "      <td>122.07</td>\n",
       "    </tr>\n",
       "    <tr>\n",
       "      <th>arpu_3g_8</th>\n",
       "      <td>0.84</td>\n",
       "      <td>0.84</td>\n",
       "    </tr>\n",
       "    <tr>\n",
       "      <th>arpu_2g_6</th>\n",
       "      <td>11.3</td>\n",
       "      <td>11.3</td>\n",
       "    </tr>\n",
       "    <tr>\n",
       "      <th>arpu_2g_7</th>\n",
       "      <td>8.8</td>\n",
       "      <td>122.08</td>\n",
       "    </tr>\n",
       "    <tr>\n",
       "      <th>arpu_2g_8</th>\n",
       "      <td>9.09</td>\n",
       "      <td>9.09</td>\n",
       "    </tr>\n",
       "    <tr>\n",
       "      <th>night_pck_user_6</th>\n",
       "      <td>0.0</td>\n",
       "      <td>0.0</td>\n",
       "    </tr>\n",
       "    <tr>\n",
       "      <th>night_pck_user_7</th>\n",
       "      <td>0.0</td>\n",
       "      <td>0.0</td>\n",
       "    </tr>\n",
       "    <tr>\n",
       "      <th>night_pck_user_8</th>\n",
       "      <td>0.0</td>\n",
       "      <td>0.0</td>\n",
       "    </tr>\n",
       "    <tr>\n",
       "      <th>monthly_2g_6</th>\n",
       "      <td>0.0</td>\n",
       "      <td>0.0</td>\n",
       "    </tr>\n",
       "    <tr>\n",
       "      <th>monthly_2g_7</th>\n",
       "      <td>0.0</td>\n",
       "      <td>0.0</td>\n",
       "    </tr>\n",
       "    <tr>\n",
       "      <th>monthly_2g_8</th>\n",
       "      <td>0.0</td>\n",
       "      <td>0.0</td>\n",
       "    </tr>\n",
       "    <tr>\n",
       "      <th>sachet_2g_6</th>\n",
       "      <td>0.0</td>\n",
       "      <td>0.0</td>\n",
       "    </tr>\n",
       "    <tr>\n",
       "      <th>sachet_2g_7</th>\n",
       "      <td>0.0</td>\n",
       "      <td>0.0</td>\n",
       "    </tr>\n",
       "    <tr>\n",
       "      <th>sachet_2g_8</th>\n",
       "      <td>0.0</td>\n",
       "      <td>0.0</td>\n",
       "    </tr>\n",
       "    <tr>\n",
       "      <th>monthly_3g_6</th>\n",
       "      <td>0.0</td>\n",
       "      <td>0.0</td>\n",
       "    </tr>\n",
       "    <tr>\n",
       "      <th>monthly_3g_7</th>\n",
       "      <td>0.0</td>\n",
       "      <td>0.844108</td>\n",
       "    </tr>\n",
       "    <tr>\n",
       "      <th>monthly_3g_8</th>\n",
       "      <td>0.0</td>\n",
       "      <td>0.0</td>\n",
       "    </tr>\n",
       "    <tr>\n",
       "      <th>sachet_3g_6</th>\n",
       "      <td>0.0</td>\n",
       "      <td>0.0</td>\n",
       "    </tr>\n",
       "    <tr>\n",
       "      <th>sachet_3g_7</th>\n",
       "      <td>0.0</td>\n",
       "      <td>0.0</td>\n",
       "    </tr>\n",
       "    <tr>\n",
       "      <th>sachet_3g_8</th>\n",
       "      <td>0.0</td>\n",
       "      <td>0.0</td>\n",
       "    </tr>\n",
       "    <tr>\n",
       "      <th>fb_user_6</th>\n",
       "      <td>1.0</td>\n",
       "      <td>1.0</td>\n",
       "    </tr>\n",
       "    <tr>\n",
       "      <th>fb_user_7</th>\n",
       "      <td>1.0</td>\n",
       "      <td>1.0</td>\n",
       "    </tr>\n",
       "    <tr>\n",
       "      <th>fb_user_8</th>\n",
       "      <td>1.0</td>\n",
       "      <td>1.0</td>\n",
       "    </tr>\n",
       "    <tr>\n",
       "      <th>aon</th>\n",
       "      <td>1958.0</td>\n",
       "      <td>710.0</td>\n",
       "    </tr>\n",
       "    <tr>\n",
       "      <th>aug_vbc_3g</th>\n",
       "      <td>0.0</td>\n",
       "      <td>0.0</td>\n",
       "    </tr>\n",
       "    <tr>\n",
       "      <th>jul_vbc_3g</th>\n",
       "      <td>0.0</td>\n",
       "      <td>0.0</td>\n",
       "    </tr>\n",
       "    <tr>\n",
       "      <th>jun_vbc_3g</th>\n",
       "      <td>0.0</td>\n",
       "      <td>0.0</td>\n",
       "    </tr>\n",
       "    <tr>\n",
       "      <th>churn_probability</th>\n",
       "      <td>0.0</td>\n",
       "      <td>0.0</td>\n",
       "    </tr>\n",
       "    <tr>\n",
       "      <th>months_since_last_charge</th>\n",
       "      <td>0.0</td>\n",
       "      <td>0.0</td>\n",
       "    </tr>\n",
       "  </tbody>\n",
       "</table>\n",
       "</div>"
      ],
      "text/plain": [
       "                                  0          1\n",
       "id                              0.0        1.0\n",
       "arpu_6                       31.277        0.0\n",
       "arpu_7                       87.009    122.787\n",
       "arpu_8                        7.527     42.953\n",
       "onnet_mou_6                   48.58        0.0\n",
       "onnet_mou_7                  124.38        0.0\n",
       "onnet_mou_8                    1.29        0.0\n",
       "offnet_mou_6                  32.24        0.0\n",
       "offnet_mou_7                  96.68      25.99\n",
       "offnet_mou_8                   2.33      30.89\n",
       "roam_ic_mou_6                   0.0        0.0\n",
       "roam_ic_mou_7                   0.0        0.0\n",
       "roam_ic_mou_8                   0.0        0.0\n",
       "roam_og_mou_6                   0.0        0.0\n",
       "roam_og_mou_7                   0.0        0.0\n",
       "roam_og_mou_8                   0.0        0.0\n",
       "loc_og_t2t_mou_6               2.23        0.0\n",
       "loc_og_t2t_mou_7                0.0        0.0\n",
       "loc_og_t2t_mou_8               0.28        0.0\n",
       "loc_og_t2m_mou_6               5.29        0.0\n",
       "loc_og_t2m_mou_7              16.04        0.0\n",
       "loc_og_t2m_mou_8               2.33        0.0\n",
       "loc_og_t2f_mou_6                0.0        0.0\n",
       "loc_og_t2f_mou_7                0.0        0.0\n",
       "loc_og_t2f_mou_8                0.0        0.0\n",
       "loc_og_t2c_mou_6                0.0        0.0\n",
       "loc_og_t2c_mou_7                0.0  17.189279\n",
       "loc_og_t2c_mou_8                0.0  14.505244\n",
       "loc_og_mou_6                   7.53        0.0\n",
       "loc_og_mou_7                  16.04        0.0\n",
       "loc_og_mou_8                   2.61        0.0\n",
       "std_og_t2t_mou_6              46.34        0.0\n",
       "std_og_t2t_mou_7             124.38        0.0\n",
       "std_og_t2t_mou_8               1.01        0.0\n",
       "std_og_t2m_mou_6              18.75        0.0\n",
       "std_og_t2m_mou_7              80.61        0.0\n",
       "std_og_t2m_mou_8                0.0        0.0\n",
       "std_og_t2f_mou_6                0.0        0.0\n",
       "std_og_t2f_mou_7                0.0        0.0\n",
       "std_og_t2f_mou_8                0.0        0.0\n",
       "std_og_mou_6                  65.09        0.0\n",
       "std_og_mou_7                 204.99        0.0\n",
       "std_og_mou_8                   1.01        0.0\n",
       "isd_og_mou_6                    0.0        0.0\n",
       "isd_og_mou_7                    0.0        0.0\n",
       "isd_og_mou_8                    0.0        0.0\n",
       "spl_og_mou_6                    8.2        0.0\n",
       "spl_og_mou_7                   0.63      30.73\n",
       "spl_og_mou_8                    0.0      31.66\n",
       "og_others_6                    0.38        0.0\n",
       "og_others_7                     0.0        0.0\n",
       "og_others_8                     0.0        0.0\n",
       "total_og_mou_6                81.21        0.0\n",
       "total_og_mou_7               221.68      30.73\n",
       "total_og_mou_8                 3.63      31.66\n",
       "loc_ic_t2t_mou_6               2.43       1.68\n",
       "loc_ic_t2t_mou_7               3.68      19.09\n",
       "loc_ic_t2t_mou_8               7.79      10.53\n",
       "loc_ic_t2m_mou_6               0.83       1.41\n",
       "loc_ic_t2m_mou_7              21.08      18.68\n",
       "loc_ic_t2m_mou_8              16.91      11.09\n",
       "loc_ic_t2f_mou_6                0.0       0.35\n",
       "loc_ic_t2f_mou_7                0.0       1.66\n",
       "loc_ic_t2f_mou_8                0.0        3.4\n",
       "loc_ic_mou_6                   3.26       3.44\n",
       "loc_ic_mou_7                  24.76      39.44\n",
       "loc_ic_mou_8                  24.71      25.03\n",
       "std_ic_t2t_mou_6                0.0        0.0\n",
       "std_ic_t2t_mou_7               7.61        0.0\n",
       "std_ic_t2t_mou_8               0.21        0.0\n",
       "std_ic_t2m_mou_6               7.46        0.0\n",
       "std_ic_t2m_mou_7              19.96        0.0\n",
       "std_ic_t2m_mou_8              14.96        0.0\n",
       "std_ic_t2f_mou_6                0.0        0.0\n",
       "std_ic_t2f_mou_7                0.0        0.0\n",
       "std_ic_t2f_mou_8                0.0        0.0\n",
       "std_ic_mou_6                   7.46        0.0\n",
       "std_ic_mou_7                  27.58        0.0\n",
       "std_ic_mou_8                  15.18        0.0\n",
       "total_ic_mou_6                11.84       3.44\n",
       "total_ic_mou_7                53.04      39.44\n",
       "total_ic_mou_8                40.56      25.04\n",
       "spl_ic_mou_6                    0.0        0.0\n",
       "spl_ic_mou_7                    0.0        0.0\n",
       "spl_ic_mou_8               0.337225       0.01\n",
       "isd_ic_mou_6                    0.0        0.0\n",
       "isd_ic_mou_7                    0.0        0.0\n",
       "isd_ic_mou_8                    0.0        0.0\n",
       "ic_others_6                    1.11        0.0\n",
       "ic_others_7                    0.69        0.0\n",
       "ic_others_8                     0.0        0.0\n",
       "total_rech_num_6                3.0        3.0\n",
       "total_rech_num_7                2.0        4.0\n",
       "total_rech_num_8                2.0        5.0\n",
       "total_rech_amt_6               77.0        0.0\n",
       "total_rech_amt_7               65.0      145.0\n",
       "total_rech_amt_8               10.0       50.0\n",
       "max_rech_amt_6                 65.0        0.0\n",
       "max_rech_amt_7                 65.0      145.0\n",
       "max_rech_amt_8                 10.0       50.0\n",
       "last_day_rch_amt_6             65.0        0.0\n",
       "last_day_rch_amt_7             65.0        0.0\n",
       "last_day_rch_amt_8              0.0        0.0\n",
       "date_of_last_rech_data_6  6/30/2014  6/30/2014\n",
       "date_of_last_rech_data_7  7/31/2014   7/8/2014\n",
       "date_of_last_rech_data_8  8/31/2014  8/31/2014\n",
       "total_rech_data_6               1.0        1.0\n",
       "total_rech_data_7               2.0        1.0\n",
       "total_rech_data_8               1.0        1.0\n",
       "max_rech_data_6               145.0      145.0\n",
       "max_rech_data_7               145.0      145.0\n",
       "max_rech_data_8               145.0      145.0\n",
       "count_rech_2g_6                 1.0        1.0\n",
       "count_rech_2g_7                 1.0        0.0\n",
       "count_rech_2g_8                 1.0        1.0\n",
       "count_rech_3g_6                 0.0        0.0\n",
       "count_rech_3g_7                 0.0        1.0\n",
       "count_rech_3g_8                 0.0        0.0\n",
       "av_rech_amt_data_6            154.0      154.0\n",
       "av_rech_amt_data_7            154.0      145.0\n",
       "av_rech_amt_data_8            154.0      154.0\n",
       "vol_2g_mb_6                     0.0        0.0\n",
       "vol_2g_mb_7                     0.0     352.91\n",
       "vol_2g_mb_8                     0.0        0.0\n",
       "vol_3g_mb_6                     0.0        0.0\n",
       "vol_3g_mb_7                     0.0       3.96\n",
       "vol_3g_mb_8                     0.0        0.0\n",
       "arpu_3g_6                      0.52       0.52\n",
       "arpu_3g_7                      0.42     122.07\n",
       "arpu_3g_8                      0.84       0.84\n",
       "arpu_2g_6                      11.3       11.3\n",
       "arpu_2g_7                       8.8     122.08\n",
       "arpu_2g_8                      9.09       9.09\n",
       "night_pck_user_6                0.0        0.0\n",
       "night_pck_user_7                0.0        0.0\n",
       "night_pck_user_8                0.0        0.0\n",
       "monthly_2g_6                    0.0        0.0\n",
       "monthly_2g_7                    0.0        0.0\n",
       "monthly_2g_8                    0.0        0.0\n",
       "sachet_2g_6                     0.0        0.0\n",
       "sachet_2g_7                     0.0        0.0\n",
       "sachet_2g_8                     0.0        0.0\n",
       "monthly_3g_6                    0.0        0.0\n",
       "monthly_3g_7                    0.0   0.844108\n",
       "monthly_3g_8                    0.0        0.0\n",
       "sachet_3g_6                     0.0        0.0\n",
       "sachet_3g_7                     0.0        0.0\n",
       "sachet_3g_8                     0.0        0.0\n",
       "fb_user_6                       1.0        1.0\n",
       "fb_user_7                       1.0        1.0\n",
       "fb_user_8                       1.0        1.0\n",
       "aon                          1958.0      710.0\n",
       "aug_vbc_3g                      0.0        0.0\n",
       "jul_vbc_3g                      0.0        0.0\n",
       "jun_vbc_3g                      0.0        0.0\n",
       "churn_probability               0.0        0.0\n",
       "months_since_last_charge        0.0        0.0"
      ]
     },
     "execution_count": 384,
     "metadata": {},
     "output_type": "execute_result"
    }
   ],
   "source": [
    "filtered_df.head(n=2).T"
   ]
  },
  {
   "cell_type": "code",
   "execution_count": null,
   "id": "5d145fa7-30a6-4047-b8e5-59b96188383d",
   "metadata": {},
   "outputs": [],
   "source": []
  },
  {
   "cell_type": "code",
   "execution_count": null,
   "id": "dbc8ca8d-d80c-4d4b-a3a0-8d9a7121c221",
   "metadata": {
    "papermill": {
     "duration": 0.085257,
     "end_time": "2023-12-06T16:44:50.324294",
     "exception": false,
     "start_time": "2023-12-06T16:44:50.239037",
     "status": "completed"
    },
    "tags": []
   },
   "outputs": [],
   "source": [
    "# [Action]\n",
    "\n",
    "# create a list of recharge columns where we will impute missing values with zeroes\n",
    "zero_impute = ['total_rech_data_6', 'total_rech_data_7', 'total_rech_data_8', \n",
    "        'av_rech_amt_data_6', 'av_rech_amt_data_7', 'av_rech_amt_data_8', \n",
    "        'max_rech_data_6', 'max_rech_data_7', 'max_rech_data_8'\n",
    "       ]"
   ]
  },
  {
   "cell_type": "code",
   "execution_count": null,
   "id": "9b3fcf90-1baf-477f-85f4-2ef8a59890f6",
   "metadata": {
    "papermill": {
     "duration": 0.101714,
     "end_time": "2023-12-06T16:44:50.502395",
     "exception": false,
     "start_time": "2023-12-06T16:44:50.400681",
     "status": "completed"
    },
    "tags": []
   },
   "outputs": [],
   "source": [
    "# impute missing values with 0\n",
    "data[zero_impute] = data[zero_impute].apply(lambda x: x.fillna(0))"
   ]
  },
  {
   "cell_type": "code",
   "execution_count": null,
   "id": "2d76680c-49fb-42ba-8b8c-f036871947b4",
   "metadata": {
    "papermill": {
     "duration": 0.097778,
     "end_time": "2023-12-06T16:44:50.676539",
     "exception": false,
     "start_time": "2023-12-06T16:44:50.578761",
     "status": "completed"
    },
    "tags": []
   },
   "outputs": [],
   "source": [
    "# now we have to  make sure the values are imputed correctly for that we can check \"Missing value ratio\"\n",
    "data[zero_impute].isnull().sum()*100/data.shape[1]"
   ]
  },
  {
   "cell_type": "code",
   "execution_count": null,
   "id": "87f423c0-50b0-421b-9c8b-4f33d4eca25e",
   "metadata": {
    "papermill": {
     "duration": 0.143043,
     "end_time": "2023-12-06T16:44:50.896624",
     "exception": false,
     "start_time": "2023-12-06T16:44:50.753581",
     "status": "completed"
    },
    "tags": []
   },
   "outputs": [],
   "source": [
    "# now we can check the \"statistics Summary\"\n",
    "data[zero_impute].describe(include='all')"
   ]
  },
  {
   "cell_type": "code",
   "execution_count": null,
   "id": "8c75c93a-9f75-4726-8958-6abf7df66cd4",
   "metadata": {
    "papermill": {
     "duration": 0.090703,
     "end_time": "2023-12-06T16:44:51.063991",
     "exception": false,
     "start_time": "2023-12-06T16:44:50.973288",
     "status": "completed"
    },
    "tags": []
   },
   "outputs": [],
   "source": [
    "# [Analysis]\n",
    "# now we can create some column name list by there types using description of columns\n",
    "id_cols = ['id', 'circle_id']\n",
    "\n",
    "date_cols = ['last_date_of_month_6',\n",
    "             'last_date_of_month_7',\n",
    "             'last_date_of_month_8',             \n",
    "             'date_of_last_rech_6',\n",
    "             'date_of_last_rech_7',\n",
    "             'date_of_last_rech_8',             \n",
    "             'date_of_last_rech_data_6',\n",
    "             'date_of_last_rech_data_7',\n",
    "             'date_of_last_rech_data_8'             \n",
    "            ]\n",
    "\n",
    "cat_cols =  ['night_pck_user_6',\n",
    "             'night_pck_user_7',\n",
    "             'night_pck_user_8',             \n",
    "             'fb_user_6',\n",
    "             'fb_user_7',\n",
    "             'fb_user_8'             \n",
    "            ]\n",
    "\n",
    "num_cols = [column for column in data.columns if column not in id_cols + date_cols + cat_cols]\n",
    "\n",
    "# print the number of columns in each list\n",
    "print(\"#ID cols: %d\\n#Date cols:%d\\n#Numeric cols:%d\\n#Category cols:%d\" % (len(id_cols), len(date_cols), len(num_cols), len(cat_cols)))\n",
    "\n",
    "# check if we have missed any column or not\n",
    "print(len(id_cols) + len(date_cols) + len(num_cols) + len(cat_cols) == data.shape[1])"
   ]
  },
  {
   "cell_type": "code",
   "execution_count": null,
   "id": "47db6af8-72ab-4fbe-9f2c-6ea63a0065a2",
   "metadata": {
    "papermill": {
     "duration": 0.129816,
     "end_time": "2023-12-06T16:44:51.272356",
     "exception": false,
     "start_time": "2023-12-06T16:44:51.142540",
     "status": "completed"
    },
    "tags": []
   },
   "outputs": [],
   "source": [
    "# [Action]\n",
    "# drop id and date columns\n",
    "data = data.drop(id_cols + date_cols, axis=1)\n",
    "#check the shape again\n",
    "data.shape"
   ]
  },
  {
   "cell_type": "code",
   "execution_count": null,
   "id": "6ec08847-8d61-49c0-938b-77f40804c530",
   "metadata": {
    "papermill": {
     "duration": 0.097744,
     "end_time": "2023-12-06T16:44:51.446121",
     "exception": false,
     "start_time": "2023-12-06T16:44:51.348377",
     "status": "completed"
    },
    "tags": []
   },
   "outputs": [],
   "source": [
    "# replace missing values with '-1' in categorical columns\n",
    "data[cat_cols] = data[cat_cols].apply(lambda x: x.fillna(-1))"
   ]
  },
  {
   "cell_type": "code",
   "execution_count": null,
   "id": "3f905536-7ee7-4739-b170-7d29ca174609",
   "metadata": {
    "papermill": {
     "duration": 0.096147,
     "end_time": "2023-12-06T16:44:51.618930",
     "exception": false,
     "start_time": "2023-12-06T16:44:51.522783",
     "status": "completed"
    },
    "tags": []
   },
   "outputs": [],
   "source": [
    "# missing value ratio\n",
    "data[cat_cols].isnull().sum()*100/data.shape[0]"
   ]
  },
  {
   "cell_type": "markdown",
   "id": "604ec92f-f720-4505-a5dd-29ee357d0ddf",
   "metadata": {
    "papermill": {
     "duration": 0.081416,
     "end_time": "2023-12-06T16:44:51.777334",
     "exception": false,
     "start_time": "2023-12-06T16:44:51.695918",
     "status": "completed"
    },
    "tags": []
   },
   "source": [
    "Droping variables with more than 70% of missing values (we can call it as threshold )"
   ]
  },
  {
   "cell_type": "code",
   "execution_count": null,
   "id": "fb849a0c-69ea-4756-b864-281132616961",
   "metadata": {},
   "outputs": [],
   "source": [
    "(data.isnull().sum() / data.isnull().count() * 100).sort_values(ascending=False).head(15)"
   ]
  },
  {
   "cell_type": "code",
   "execution_count": null,
   "id": "cee9fd7c-cf52-48df-aee5-18cb3cc9721a",
   "metadata": {
    "papermill": {
     "duration": 0.150352,
     "end_time": "2023-12-06T16:44:52.006487",
     "exception": false,
     "start_time": "2023-12-06T16:44:51.856135",
     "status": "completed"
    },
    "tags": []
   },
   "outputs": [],
   "source": [
    "# [Action]\n",
    "initial_cols = data.shape[1]\n",
    "\n",
    "MISSING_THRESHOLD = 0.7\n",
    "\n",
    "include_cols = list(data.apply(lambda column: True if column.isnull().sum()/data.shape[0] < MISSING_THRESHOLD else False))\n",
    "\n",
    "drop_missing = pd.DataFrame({'features':data.columns , 'include': include_cols})\n",
    "drop_missing.loc[drop_missing.include == True,:]"
   ]
  },
  {
   "cell_type": "code",
   "execution_count": null,
   "id": "dbf3d080-2d8a-4b55-95ea-7e9bcf83c3de",
   "metadata": {
    "papermill": {
     "duration": 0.13109,
     "end_time": "2023-12-06T16:44:52.217708",
     "exception": false,
     "start_time": "2023-12-06T16:44:52.086618",
     "status": "completed"
    },
    "tags": []
   },
   "outputs": [],
   "source": [
    "# [Action]\n",
    "# now we can drop  some more columns\n",
    "data = data.loc[:, include_cols]\n",
    "\n",
    "dropped_cols = data.shape[1] - initial_cols\n",
    "dropped_cols"
   ]
  },
  {
   "cell_type": "code",
   "execution_count": null,
   "id": "c14f1a0c-5619-4feb-8c90-8163e715494a",
   "metadata": {
    "papermill": {
     "duration": 0.088878,
     "end_time": "2023-12-06T16:44:52.460526",
     "exception": false,
     "start_time": "2023-12-06T16:44:52.371648",
     "status": "completed"
    },
    "tags": []
   },
   "outputs": [],
   "source": [
    "#rechecking the shape of a dataframe\n",
    "data.shape"
   ]
  },
  {
   "cell_type": "code",
   "execution_count": null,
   "id": "261df207-b2eb-4c7b-9e9a-3dd5a16813f0",
   "metadata": {
    "papermill": {
     "duration": 0.117497,
     "end_time": "2023-12-06T16:44:52.655177",
     "exception": false,
     "start_time": "2023-12-06T16:44:52.537680",
     "status": "completed"
    },
    "tags": []
   },
   "outputs": [],
   "source": [
    "# rechecking the missing values for how many missing values has left\n",
    "data.isnull().sum()*100/data.shape[0]"
   ]
  },
  {
   "cell_type": "code",
   "execution_count": null,
   "id": "20f337ae-f9fd-4759-8ff9-53a67dbbcacb",
   "metadata": {
    "papermill": {
     "duration": 0.094202,
     "end_time": "2023-12-06T16:44:52.827141",
     "exception": false,
     "start_time": "2023-12-06T16:44:52.732939",
     "status": "completed"
    },
    "tags": []
   },
   "outputs": [],
   "source": [
    "# [Action]\n",
    "num_cols = [column for column in data.columns if column not in id_cols + date_cols + cat_cols]\n",
    "num_cols"
   ]
  },
  {
   "cell_type": "code",
   "execution_count": null,
   "id": "0e7d6817-027f-4431-8fb7-85a3720042f0",
   "metadata": {
    "papermill": {
     "duration": 0.817221,
     "end_time": "2023-12-06T16:44:53.722513",
     "exception": false,
     "start_time": "2023-12-06T16:44:52.905292",
     "status": "completed"
    },
    "tags": []
   },
   "outputs": [],
   "source": [
    "#imputing with meadian for num_cols\n",
    "data[num_cols] = data[num_cols].apply(lambda x: x.fillna(x.median()))"
   ]
  },
  {
   "cell_type": "code",
   "execution_count": null,
   "id": "a188dce1-c5ef-426c-b51d-83f46e214b91",
   "metadata": {
    "papermill": {
     "duration": 0.229356,
     "end_time": "2023-12-06T16:44:54.030831",
     "exception": false,
     "start_time": "2023-12-06T16:44:53.801475",
     "status": "completed"
    },
    "tags": []
   },
   "outputs": [],
   "source": [
    "#again checking for the missing values\n",
    "data.isnull().sum()*100/data.shape[0]"
   ]
  },
  {
   "cell_type": "markdown",
   "id": "c847bd52-e3f5-4f6e-91cd-5edd40b5cd56",
   "metadata": {
    "papermill": {
     "duration": 0.083337,
     "end_time": "2023-12-06T16:44:54.193320",
     "exception": false,
     "start_time": "2023-12-06T16:44:54.109983",
     "status": "completed"
    },
    "tags": []
   },
   "source": [
    "In churn prediction, we assume that there are three phases of customer lifecycle :\n",
    "\n",
    "- The ‘good & action’ phase [Month 6 & 7]\n",
    "- The ‘churn’ phase [Month 8]\n",
    "In this case, since we are working over a three-month window, the first two months are the ‘good & action’ phase, the third month is the ‘churn’ phase."
   ]
  },
  {
   "cell_type": "markdown",
   "id": "b822cfd0-f392-4ed7-aae2-bebf8b8c9f52",
   "metadata": {
    "papermill": {
     "duration": 0.076851,
     "end_time": "2023-12-06T16:44:54.503280",
     "exception": false,
     "start_time": "2023-12-06T16:44:54.426429",
     "status": "completed"
    },
    "tags": []
   },
   "source": [
    "Here we can take good phase ( it means month 6 and 7) data to get high value customers"
   ]
  },
  {
   "cell_type": "code",
   "execution_count": null,
   "id": "a9efdbd9-34c6-4f23-98ec-b3823cccc98a",
   "metadata": {
    "papermill": {
     "duration": 0.090211,
     "end_time": "2023-12-06T16:44:54.670229",
     "exception": false,
     "start_time": "2023-12-06T16:44:54.580018",
     "status": "completed"
    },
    "tags": []
   },
   "outputs": [],
   "source": [
    "# calculate the total data recharge amount for June and July --> number of recharges * average recharge amount\n",
    "data['total_data_rech_6'] = data.total_rech_data_6 * data.av_rech_amt_data_6\n",
    "data['total_data_rech_7'] = data.total_rech_data_7 * data.av_rech_amt_data_7"
   ]
  },
  {
   "cell_type": "markdown",
   "id": "914a08aa-817e-42b6-a050-b7382aa4c78f",
   "metadata": {
    "papermill": {
     "duration": 0.078635,
     "end_time": "2023-12-06T16:44:54.827785",
     "exception": false,
     "start_time": "2023-12-06T16:44:54.749150",
     "status": "completed"
    },
    "tags": []
   },
   "source": [
    "add total data recharge and total recharge to get total combined recharge amount for a month"
   ]
  },
  {
   "cell_type": "code",
   "execution_count": null,
   "id": "f0eb16c5-4d39-471c-a660-ac35514e9f55",
   "metadata": {
    "papermill": {
     "duration": 0.09018,
     "end_time": "2023-12-06T16:44:54.997811",
     "exception": false,
     "start_time": "2023-12-06T16:44:54.907631",
     "status": "completed"
    },
    "tags": []
   },
   "outputs": [],
   "source": [
    "# calculate total recharge amount for June and July --> call recharge amount + data recharge amount\n",
    "data['amt_data_6'] = data.total_rech_amt_6 + data.total_data_rech_6\n",
    "data['amt_data_7'] = data.total_rech_amt_7 + data.total_data_rech_7"
   ]
  },
  {
   "cell_type": "code",
   "execution_count": null,
   "id": "5f8e1bd5-ce18-4b50-8a52-74d73fc9598c",
   "metadata": {
    "papermill": {
     "duration": 0.090128,
     "end_time": "2023-12-06T16:44:55.166585",
     "exception": false,
     "start_time": "2023-12-06T16:44:55.076457",
     "status": "completed"
    },
    "tags": []
   },
   "outputs": [],
   "source": [
    "# calculate average recharge done by customer in June and July\n",
    "data['av_amt_data_6_7'] = (data.amt_data_6 + data.amt_data_7)/2"
   ]
  },
  {
   "cell_type": "code",
   "execution_count": null,
   "id": "ce5184ff-c3a9-4799-be1a-78af905e5283",
   "metadata": {
    "papermill": {
     "duration": 0.090929,
     "end_time": "2023-12-06T16:44:55.335754",
     "exception": false,
     "start_time": "2023-12-06T16:44:55.244825",
     "status": "completed"
    },
    "tags": []
   },
   "outputs": [],
   "source": [
    "# look at the 70th percentile recharge amount\n",
    "print(\"Recharge amount at 70th percentile: {0}\".format(data.av_amt_data_6_7.quantile(0.7)))\n"
   ]
  },
  {
   "cell_type": "code",
   "execution_count": null,
   "id": "b4ee6da5-fada-4edd-b993-b07c86313c7e",
   "metadata": {
    "papermill": {
     "duration": 0.120226,
     "end_time": "2023-12-06T16:44:55.534829",
     "exception": false,
     "start_time": "2023-12-06T16:44:55.414603",
     "status": "completed"
    },
    "tags": []
   },
   "outputs": [],
   "source": [
    "data.head()"
   ]
  },
  {
   "cell_type": "code",
   "execution_count": null,
   "id": "a24d232f-299a-4f00-868f-29a54c2a00c7",
   "metadata": {
    "papermill": {
     "duration": 0.173501,
     "end_time": "2023-12-06T16:44:55.789480",
     "exception": false,
     "start_time": "2023-12-06T16:44:55.615979",
     "status": "completed"
    },
    "tags": []
   },
   "outputs": [],
   "source": [
    "# retain only those customers who have recharged their mobiles with more than or equal to 70th percentile amount\n",
    "data_filtered = data.loc[data.av_amt_data_6_7 >= data.av_amt_data_6_7.quantile(0.7), :]\n",
    "data_filtered = data_filtered.reset_index(drop=True)\n"
   ]
  },
  {
   "cell_type": "code",
   "execution_count": null,
   "id": "f598609f-ad57-4e3d-95e7-afb0ab0e33e5",
   "metadata": {
    "papermill": {
     "duration": 0.089441,
     "end_time": "2023-12-06T16:44:55.957479",
     "exception": false,
     "start_time": "2023-12-06T16:44:55.868038",
     "status": "completed"
    },
    "tags": []
   },
   "outputs": [],
   "source": [
    "data_filtered.shape"
   ]
  },
  {
   "cell_type": "code",
   "execution_count": null,
   "id": "006b95ae-bb69-4f16-a2b2-b32959813dbd",
   "metadata": {
    "papermill": {
     "duration": 0.095931,
     "end_time": "2023-12-06T16:44:56.132245",
     "exception": false,
     "start_time": "2023-12-06T16:44:56.036314",
     "status": "completed"
    },
    "tags": []
   },
   "outputs": [],
   "source": [
    "# delete variables created to filter high-value customers\n",
    "data_filtered = data_filtered.drop(['total_data_rech_6', 'total_data_rech_7',\n",
    "                                      'amt_data_6', 'amt_data_7', 'av_amt_data_6_7'], axis=1)\n"
   ]
  },
  {
   "cell_type": "code",
   "execution_count": null,
   "id": "d6844877-d660-4514-8fd2-fe97efcf00a9",
   "metadata": {
    "papermill": {
     "duration": 0.088767,
     "end_time": "2023-12-06T16:44:56.301025",
     "exception": false,
     "start_time": "2023-12-06T16:44:56.212258",
     "status": "completed"
    },
    "tags": []
   },
   "outputs": [],
   "source": [
    "data_filtered.shape"
   ]
  },
  {
   "cell_type": "markdown",
   "id": "78b64e89-5b7e-4be1-9fc8-1b89f3700754",
   "metadata": {
    "papermill": {
     "duration": 0.077842,
     "end_time": "2023-12-06T16:44:56.456714",
     "exception": false,
     "start_time": "2023-12-06T16:44:56.378872",
     "status": "completed"
    },
    "tags": []
   },
   "source": [
    " hear we're left with 21,013 rows  and 149 columns after selecting the customers who have provided recharge value of more than or equal to the recharge value of the 70th percentile customer."
   ]
  },
  {
   "cell_type": "code",
   "execution_count": null,
   "id": "f9fc528a-e502-45f6-94cc-0232dc575f33",
   "metadata": {
    "papermill": {
     "duration": 0.097921,
     "end_time": "2023-12-06T16:44:56.789615",
     "exception": false,
     "start_time": "2023-12-06T16:44:56.691694",
     "status": "completed"
    },
    "tags": []
   },
   "outputs": [],
   "source": [
    "# Selecting the columns to define churn variable (i.e. TARGET Variable)\n",
    "data_col=['total_ic_mou_8','total_og_mou_8','vol_2g_mb_8','vol_3g_mb_8']\n",
    "data_filtered[data_col].info()"
   ]
  },
  {
   "cell_type": "code",
   "execution_count": null,
   "id": "f2710828-d901-4ef9-86dc-51e5c7992538",
   "metadata": {
    "papermill": {
     "duration": 0.293901,
     "end_time": "2023-12-06T16:44:57.163860",
     "exception": false,
     "start_time": "2023-12-06T16:44:56.869959",
     "status": "completed"
    },
    "tags": []
   },
   "outputs": [],
   "source": [
    "# lets find out churn/non churn percentage\n",
    "print((data_filtered['churn_probability'].value_counts()/len(data))*100)\n",
    "((data_filtered['churn_probability'].value_counts()/len(data))*100).plot(kind=\"pie\")\n",
    "plt.show()"
   ]
  },
  {
   "cell_type": "markdown",
   "id": "0ab27d36-8824-4859-bf74-df6457fae4e7",
   "metadata": {
    "papermill": {
     "duration": 0.078714,
     "end_time": "2023-12-06T16:44:57.349044",
     "exception": false,
     "start_time": "2023-12-06T16:44:57.270330",
     "status": "completed"
    },
    "tags": []
   },
   "source": [
    "#### ***As we can see that 90% of the customers do not churn, there is a possibility of class imbalance*** \n",
    "Since this variable churn is the target variable, all the columns relating to this variable(i.e. all columns with suffix _8) can be dropped forn the dataset.\n"
   ]
  },
  {
   "cell_type": "markdown",
   "id": "27a4d989-fc3c-4362-b4e7-0ec3b60e140a",
   "metadata": {
    "papermill": {
     "duration": 0.078309,
     "end_time": "2023-12-06T16:44:57.505801",
     "exception": false,
     "start_time": "2023-12-06T16:44:57.427492",
     "status": "completed"
    },
    "tags": []
   },
   "source": [
    "We can still clean the data by few possible columns relating to the good phase.\n",
    "\n",
    "As we derived few columns in the good phase earlier, we can drop those related columns during creation."
   ]
  },
  {
   "cell_type": "code",
   "execution_count": null,
   "id": "359de508-deb8-4181-9bd6-16abb6a6df42",
   "metadata": {
    "papermill": {
     "duration": 0.097705,
     "end_time": "2023-12-06T16:44:57.681894",
     "exception": false,
     "start_time": "2023-12-06T16:44:57.584189",
     "status": "completed"
    },
    "tags": []
   },
   "outputs": [],
   "source": [
    "#data['total_rech_amt_data_6']=data['av_rech_amt_data_6'] * data['total_rech_data_6']\n",
    "# data['total_rech_amt_data_7']=data['av_rech_amt_data_7'] * data['total_rech_data_7']\n",
    "\n",
    "# # Calculating the overall recharge amount for the months 6,7 and 8\n",
    "\n",
    "# data['overall_rech_amt_6'] = data['total_rech_amt_data_6'] + data['total_rech_amt_6']\n",
    "# data['overall_rech_amt_7'] = data['total_rech_amt_data_7'] + data['total_rech_amt_7']\n",
    "\n",
    "# [Action]\n",
    "data_filtered.drop(['av_rech_amt_data_6',\n",
    "                   'total_rech_data_6','total_rech_amt_6',\n",
    "                  'av_rech_amt_data_7',\n",
    "                   'total_rech_data_7','total_rech_amt_7'], axis=1, inplace=True)"
   ]
  },
  {
   "cell_type": "markdown",
   "id": "569c704a-6fcb-4246-8c44-93d8f6086f08",
   "metadata": {
    "papermill": {
     "duration": 0.146223,
     "end_time": "2023-12-06T16:44:57.908408",
     "exception": false,
     "start_time": "2023-12-06T16:44:57.762185",
     "status": "completed"
    },
    "tags": []
   },
   "source": [
    "We can also create new columns for the defining the good phase variables and drop the seperate 6th and 7 month variables.\n",
    "\n",
    "Before proceding to check the remaining missing value handling, let us check the collineartity of the indepedent variables and try to understand their dependencies."
   ]
  },
  {
   "cell_type": "code",
   "execution_count": null,
   "id": "773be69d-aeed-4728-b47e-b4d47cffcf99",
   "metadata": {
    "papermill": {
     "duration": 0.090763,
     "end_time": "2023-12-06T16:44:58.078248",
     "exception": false,
     "start_time": "2023-12-06T16:44:57.987485",
     "status": "completed"
    },
    "tags": []
   },
   "outputs": [],
   "source": [
    "# creating a list of column names for each month\n",
    "mon_6_cols = [col for col in data_filtered.columns if '_6' in col]\n",
    "mon_7_cols = [col for col in data_filtered.columns if '_7' in col]\n",
    "mon_8_cols = [col for col in data_filtered.columns if '_8' in col]"
   ]
  },
  {
   "cell_type": "code",
   "execution_count": null,
   "id": "5dbb0fb8-fb60-4d62-9763-5944be771d8e",
   "metadata": {
    "papermill": {
     "duration": 0.093424,
     "end_time": "2023-12-06T16:44:58.253164",
     "exception": false,
     "start_time": "2023-12-06T16:44:58.159740",
     "status": "completed"
    },
    "tags": []
   },
   "outputs": [],
   "source": [
    "mon_7_cols"
   ]
  },
  {
   "cell_type": "code",
   "execution_count": null,
   "id": "c9db29bc-96dc-49da-ba74-7a39296cd262",
   "metadata": {
    "papermill": {
     "duration": 1.283184,
     "end_time": "2023-12-06T16:44:59.616643",
     "exception": false,
     "start_time": "2023-12-06T16:44:58.333459",
     "status": "completed"
    },
    "tags": []
   },
   "outputs": [],
   "source": [
    "# lets check the correlation amongst the independent variables, drop the highly correlated ones\n",
    "data_corr = data_filtered.corr()\n",
    "data_corr.loc[:,:] = np.tril(data_corr, k=-1)\n",
    "data_corr = data_corr.stack()\n",
    "data_corr\n",
    "data_corr[(data_corr > 0.80) | (data_corr < -0.80)].sort_values(ascending=False)"
   ]
  },
  {
   "cell_type": "code",
   "execution_count": null,
   "id": "007b8a9b-c870-4dea-be86-3a8216fab58f",
   "metadata": {
    "papermill": {
     "duration": 0.099925,
     "end_time": "2023-12-06T16:44:59.798009",
     "exception": false,
     "start_time": "2023-12-06T16:44:59.698084",
     "status": "completed"
    },
    "tags": []
   },
   "outputs": [],
   "source": [
    "# [Action]\n",
    "col_to_drop=['fb_user_6','fb_user_7','total_ic_mou_6','total_ic_mou_7',               \n",
    "               'std_og_t2t_mou_7','std_og_t2t_mou_6' ,'std_og_t2m_mou_7','std_ic_mou_7',]\n",
    "\n",
    "# These columns can be dropped as they are highly collinered with other predictor variables.\n",
    "# criteria set is for collinearity of 85%\n",
    "\n",
    "#  dropping these column\n",
    "data_filtered.drop(col_to_drop, axis=1, inplace=True)"
   ]
  },
  {
   "cell_type": "code",
   "execution_count": null,
   "id": "c3595767-fecc-4052-a63f-680df667e56f",
   "metadata": {
    "papermill": {
     "duration": 0.090114,
     "end_time": "2023-12-06T16:44:59.968817",
     "exception": false,
     "start_time": "2023-12-06T16:44:59.878703",
     "status": "completed"
    },
    "tags": []
   },
   "outputs": [],
   "source": [
    "# The curent dimension of the dataset after dropping few unwanted columns\n",
    "data_filtered.shape"
   ]
  },
  {
   "cell_type": "markdown",
   "id": "8e86440d-cf1f-455b-9b91-00d22aaadc41",
   "metadata": {
    "papermill": {
     "duration": 0.08941,
     "end_time": "2023-12-06T16:45:00.140271",
     "exception": false,
     "start_time": "2023-12-06T16:45:00.050861",
     "status": "completed"
    },
    "tags": []
   },
   "source": [
    "# Step 4:\n",
    "# Data preparation\n",
    "\n",
    "# 1. EDA"
   ]
  },
  {
   "cell_type": "code",
   "execution_count": null,
   "id": "3d3c32c0-5517-4daf-9a51-65f86f53f4fe",
   "metadata": {
    "papermill": {
     "duration": 0.099929,
     "end_time": "2023-12-06T16:45:00.333187",
     "exception": false,
     "start_time": "2023-12-06T16:45:00.233258",
     "status": "completed"
    },
    "tags": []
   },
   "outputs": [],
   "source": [
    "# We have a column called 'aon'\n",
    "\n",
    "# we can derive new variables from this to explain the data w.r.t churn.\n",
    "\n",
    "# creating a new variable 'tenure'\n",
    "# [Action]\n",
    "data_filtered['tenure'] = (data_filtered['aon']/30).round(0)\n",
    "\n",
    "# Since we derived a new column from 'aon', we can drop it\n",
    "data_filtered.drop('aon',axis=1, inplace=True)"
   ]
  },
  {
   "cell_type": "code",
   "execution_count": null,
   "id": "439f090c-ff33-4503-8deb-89127a4fdeb3",
   "metadata": {
    "papermill": {
     "duration": 0.607653,
     "end_time": "2023-12-06T16:45:01.020739",
     "exception": false,
     "start_time": "2023-12-06T16:45:00.413086",
     "status": "completed"
    },
    "tags": []
   },
   "outputs": [],
   "source": [
    "# Checking the distribution of he tenure variable\n",
    "\n",
    "sns.distplot(data_filtered['tenure'],bins=30)\n",
    "plt.show()"
   ]
  },
  {
   "cell_type": "code",
   "execution_count": null,
   "id": "83e3f169-cd36-4401-ab03-ad1f6671bcd3",
   "metadata": {
    "papermill": {
     "duration": 0.101545,
     "end_time": "2023-12-06T16:45:01.203053",
     "exception": false,
     "start_time": "2023-12-06T16:45:01.101508",
     "status": "completed"
    },
    "tags": []
   },
   "outputs": [],
   "source": [
    "# [Action]\n",
    "# [HB] tenure_range is created and then dropped later.  Then do really need it?\n",
    "# [HB] Is it just for analysis\n",
    "tn_range = [0, 6, 12, 24, 60, 61]\n",
    "tn_label = [ '0-6 Months', '6-12 Months', '1-2 Yrs', '2-5 Yrs', '5 Yrs and above']\n",
    "data_filtered['tenure_range'] = pd.cut(data_filtered['tenure'], tn_range, labels=tn_label)\n",
    "data_filtered['tenure_range'].head()"
   ]
  },
  {
   "cell_type": "code",
   "execution_count": null,
   "id": "e6a79b5d-b9c4-43fb-ae28-da58cdd2e404",
   "metadata": {
    "papermill": {
     "duration": 0.092459,
     "end_time": "2023-12-06T16:45:01.377018",
     "exception": true,
     "start_time": "2023-12-06T16:45:01.284559",
     "status": "failed"
    },
    "tags": []
   },
   "outputs": [],
   "source": [
    "# Plotting a bar plot for tenure range\n",
    "plt.figure(figsize=[12,7])\n",
    "sns.barplot(x='tenure_range',y='churn_probability', data=data_filtered )\n",
    "plt.show()"
   ]
  },
  {
   "cell_type": "markdown",
   "id": "74cbf0ce-1c3d-4c81-b2c4-486b604f2b05",
   "metadata": {
    "papermill": {
     "duration": null,
     "end_time": null,
     "exception": null,
     "start_time": null,
     "status": "pending"
    },
    "tags": []
   },
   "source": [
    "It can be seen that the maximum churn rate happens within 0-6 month, but it gradually decreases as the customer retains in the network.\n",
    "\n",
    "The average revenue per user is good phase of customer is given by arpu_6 and arpu_7. since we have two separate averages, lets take an average to these two and drop the other columns"
   ]
  },
  {
   "cell_type": "code",
   "execution_count": null,
   "id": "5e7fd930-19c2-485e-88f8-8673ab3ce836",
   "metadata": {
    "papermill": {
     "duration": null,
     "end_time": null,
     "exception": null,
     "start_time": null,
     "status": "pending"
    },
    "tags": []
   },
   "outputs": [],
   "source": [
    "# [Action]\n",
    "data_filtered[\"avg_arpu_6_7\"]= (data_filtered['arpu_6']+data_filtered['arpu_7'])/2\n",
    "data_filtered['avg_arpu_6_7'].head()"
   ]
  },
  {
   "cell_type": "code",
   "execution_count": null,
   "id": "f91d1944-55cc-40d0-877f-39b26e10da6e",
   "metadata": {
    "papermill": {
     "duration": null,
     "end_time": null,
     "exception": null,
     "start_time": null,
     "status": "pending"
    },
    "tags": []
   },
   "outputs": [],
   "source": [
    "# Lets drop the original columns as they are derived to a new column for better understanding of the data\n",
    "\n",
    "data_filtered.drop(['arpu_6','arpu_7'], axis=1, inplace=True)\n",
    "\n",
    "\n",
    "# The curent dimension of the dataset after dropping few unwanted columns\n",
    "data_filtered.shape"
   ]
  },
  {
   "cell_type": "code",
   "execution_count": null,
   "id": "eb8c6fd8-2b05-4ab0-9280-22103fb6cc34",
   "metadata": {
    "papermill": {
     "duration": null,
     "end_time": null,
     "exception": null,
     "start_time": null,
     "status": "pending"
    },
    "tags": []
   },
   "outputs": [],
   "source": [
    "# Visualizing the column created\n",
    "sns.distplot(data_filtered['avg_arpu_6_7'])\n",
    "plt.show()"
   ]
  },
  {
   "cell_type": "code",
   "execution_count": null,
   "id": "d3bd3a3c-006c-48af-a957-62bb95374041",
   "metadata": {
    "papermill": {
     "duration": null,
     "end_time": null,
     "exception": null,
     "start_time": null,
     "status": "pending"
    },
    "tags": []
   },
   "outputs": [],
   "source": [
    "# Checking Correlation between target variable(Churn Probability) with the other variable in the dataset\n",
    "plt.figure(figsize=(10,50))\n",
    "heatmap_churn = sns.heatmap(data_filtered.corr()[['churn_probability']].sort_values(ascending=False, by='churn_probability'),annot=True, \n",
    "                                cmap='summer')\n",
    "heatmap_churn.set_title(\"Features Correlating with Churn variable\", fontsize=15)"
   ]
  },
  {
   "cell_type": "code",
   "execution_count": null,
   "id": "8184e276-4e3b-465a-907e-5a485b24c6bd",
   "metadata": {
    "papermill": {
     "duration": null,
     "end_time": null,
     "exception": null,
     "start_time": null,
     "status": "pending"
    },
    "tags": []
   },
   "outputs": [],
   "source": [
    "data_filtered.columns"
   ]
  },
  {
   "cell_type": "markdown",
   "id": "8c79bcce-77cb-479c-bc6d-06d5368d5315",
   "metadata": {
    "papermill": {
     "duration": null,
     "end_time": null,
     "exception": null,
     "start_time": null,
     "status": "pending"
    },
    "tags": []
   },
   "source": [
    "- Avg Outgoing Calls & calls on roaming for 6th & 7th months are positively correlated with churn.\n",
    "- Avg Revenue, No. of Recharge for 8th month has negative correlation with churn."
   ]
  },
  {
   "cell_type": "code",
   "execution_count": null,
   "id": "971b57d1-adf7-4f2d-aedf-f3c58d325d8d",
   "metadata": {
    "papermill": {
     "duration": null,
     "end_time": null,
     "exception": null,
     "start_time": null,
     "status": "pending"
    },
    "tags": []
   },
   "outputs": [],
   "source": [
    "# lets now draw a scatter plot between total recharge and avg revenue for the 8th month\n",
    "data_filtered[['total_rech_num_8', 'arpu_8']].plot.scatter(x = 'total_rech_num_8',\n",
    "                                                              y='arpu_8')\n",
    "plt.show()"
   ]
  },
  {
   "cell_type": "code",
   "execution_count": null,
   "id": "2c1d529f-0821-49c0-9f6b-9e23b30909e6",
   "metadata": {
    "papermill": {
     "duration": null,
     "end_time": null,
     "exception": null,
     "start_time": null,
     "status": "pending"
    },
    "tags": []
   },
   "outputs": [],
   "source": [
    "# [Action] ???\n",
    "# Creating categories for month 8 column totalrecharge and their count\n",
    "data_filtered['total_rech_data_group_8']=pd.cut(data_filtered['total_rech_data_8'],[-1,0,10,25,100],labels=[\"No_Recharge\",\"<=10_Recharges\",\"10-25_Recharges\",\">25_Recharges\"])\n",
    "data_filtered['total_rech_num_group_8']=pd.cut(data_filtered['total_rech_num_8'],[-1,0,10,25,1000],labels=[\"No_Recharge\",\"<=10_Recharges\",\"10-25_Recharges\",\">25_Recharges\"])"
   ]
  },
  {
   "cell_type": "code",
   "execution_count": null,
   "id": "d332bc39-764d-4a7a-a1b9-51266ec433ca",
   "metadata": {
    "papermill": {
     "duration": null,
     "end_time": null,
     "exception": null,
     "start_time": null,
     "status": "pending"
    },
    "tags": []
   },
   "outputs": [],
   "source": [
    "# Plotting the results\n",
    "\n",
    "plt.figure(figsize=[12,4])\n",
    "sns.countplot(data=data_filtered,x=\"total_rech_data_group_8\",hue=\"churn_probability\")\n",
    "print(\"\\t\\t\\t\\t\\tDistribution of total_rech_data_8 variable\\n\",data_filtered['total_rech_data_group_8'].value_counts())\n",
    "plt.show()\n",
    "plt.figure(figsize=[12,4])\n",
    "sns.countplot(data=data_filtered,x=\"total_rech_num_group_8\",hue=\"churn_probability\")\n",
    "print(\"\\t\\t\\t\\t\\tDistribution of total_rech_num_8 variable\\n\",data_filtered['total_rech_num_group_8'].value_counts())\n",
    "plt.show()"
   ]
  },
  {
   "cell_type": "markdown",
   "id": "186fe446-e0f5-417c-a585-a06aa413515e",
   "metadata": {
    "papermill": {
     "duration": null,
     "end_time": null,
     "exception": null,
     "start_time": null,
     "status": "pending"
    },
    "tags": []
   },
   "source": [
    "As the number of recharge rate increases, the churn rate decreases clearly."
   ]
  },
  {
   "cell_type": "code",
   "execution_count": null,
   "id": "7efe856b-9b90-48cc-abc5-8869c3421eaa",
   "metadata": {
    "papermill": {
     "duration": null,
     "end_time": null,
     "exception": null,
     "start_time": null,
     "status": "pending"
    },
    "tags": []
   },
   "outputs": [],
   "source": [
    "# [Action]\n",
    "# So many feilds are dropped\n",
    "data_filtered.drop(['av_rech_amt_data_8','total_rech_data_8','sachet_2g_6','sachet_2g_7','sachet_3g_6',\n",
    "              'sachet_3g_7','sachet_3g_8','last_day_rch_amt_6','last_day_rch_amt_7',\n",
    "              'last_day_rch_amt_8',], axis=1, inplace=True)"
   ]
  },
  {
   "cell_type": "code",
   "execution_count": null,
   "id": "4c9f55b1-51bc-4088-85df-f0befe5e7397",
   "metadata": {
    "papermill": {
     "duration": null,
     "end_time": null,
     "exception": null,
     "start_time": null,
     "status": "pending"
    },
    "tags": []
   },
   "outputs": [],
   "source": [
    "# [Action]\n",
    "# So many feilds are dropped\n",
    "data_filtered.drop(['loc_og_t2o_mou', 'std_og_t2o_mou', 'loc_ic_t2o_mou','roam_ic_mou_6', 'roam_ic_mou_7', 'roam_ic_mou_8', \n",
    "         'roam_og_mou_6', 'roam_og_mou_7', 'roam_og_mou_8', 'loc_og_t2t_mou_6', 'loc_og_t2t_mou_7', 'loc_og_t2t_mou_8',\n",
    "         'loc_og_t2m_mou_6', 'loc_og_t2m_mou_7', 'loc_og_t2m_mou_8', 'loc_og_t2f_mou_6', 'loc_og_t2f_mou_7', 'loc_og_t2f_mou_8',\n",
    "         'loc_og_t2c_mou_6', 'loc_og_t2c_mou_7', 'loc_og_t2c_mou_8', 'loc_og_mou_6', 'loc_og_mou_7', 'loc_og_mou_8', \n",
    "         'std_og_t2m_mou_6', 'std_og_t2f_mou_6', 'std_og_t2f_mou_7', 'std_og_t2f_mou_8', 'std_og_t2c_mou_6', 'std_og_t2c_mou_7',\n",
    "         'std_og_t2c_mou_8', 'std_og_mou_6', 'std_og_mou_7', 'std_og_mou_8', 'isd_og_mou_6', 'isd_og_mou_7', 'spl_og_mou_6',\n",
    "         'spl_og_mou_7', 'spl_og_mou_8','total_og_mou_6', 'loc_ic_t2t_mou_6', 'loc_ic_t2t_mou_7', 'loc_ic_t2t_mou_8', \n",
    "         'loc_ic_t2m_mou_6', 'loc_ic_t2m_mou_7', 'loc_ic_t2m_mou_8', 'loc_ic_t2f_mou_6', 'loc_ic_t2f_mou_7', 'loc_ic_t2f_mou_8',\n",
    "         'loc_ic_mou_6', 'loc_ic_mou_7', 'loc_ic_mou_8', 'std_ic_t2t_mou_6', 'std_ic_t2t_mou_7', 'std_ic_t2t_mou_8', \n",
    "         'std_ic_t2m_mou_6', 'std_ic_t2m_mou_7', 'std_ic_t2m_mou_8', 'std_ic_t2f_mou_6', 'std_ic_t2f_mou_7', 'std_ic_t2f_mou_8',\n",
    "         'std_ic_t2o_mou_6', 'std_ic_t2o_mou_7', 'std_ic_t2o_mou_8', 'std_ic_mou_6', 'spl_ic_mou_6', 'spl_ic_mou_7',\n",
    "         'spl_ic_mou_8', 'isd_ic_mou_6', 'isd_ic_mou_7', 'isd_ic_mou_8',], axis=1, inplace=True)"
   ]
  },
  {
   "cell_type": "code",
   "execution_count": null,
   "id": "04a02c94-c34d-4e13-919d-9f2c30058f18",
   "metadata": {
    "papermill": {
     "duration": null,
     "end_time": null,
     "exception": null,
     "start_time": null,
     "status": "pending"
    },
    "tags": []
   },
   "outputs": [],
   "source": [
    "data_filtered.shape"
   ]
  },
  {
   "cell_type": "code",
   "execution_count": null,
   "id": "b94a9f6a-3152-4731-8246-410d77e6d742",
   "metadata": {
    "papermill": {
     "duration": null,
     "end_time": null,
     "exception": null,
     "start_time": null,
     "status": "pending"
    },
    "tags": []
   },
   "outputs": [],
   "source": [
    "plt.figure(figsize = (50, 50))\n",
    "sns.heatmap(data_filtered.corr())\n",
    "plt.show()"
   ]
  },
  {
   "cell_type": "code",
   "execution_count": null,
   "id": "41983ff7-94e6-4427-b981-d2c2ba528a72",
   "metadata": {
    "papermill": {
     "duration": null,
     "end_time": null,
     "exception": null,
     "start_time": null,
     "status": "pending"
    },
    "tags": []
   },
   "outputs": [],
   "source": [
    "data_filtered.info()"
   ]
  },
  {
   "cell_type": "code",
   "execution_count": null,
   "id": "894c515c-f103-4623-adfd-0a0df5338868",
   "metadata": {
    "papermill": {
     "duration": null,
     "end_time": null,
     "exception": null,
     "start_time": null,
     "status": "pending"
    },
    "tags": []
   },
   "outputs": [],
   "source": [
    "# [Action]\n",
    "data_filtered.drop(['total_rech_data_group_8','total_rech_num_group_8',] , axis=1, inplace=True)"
   ]
  },
  {
   "cell_type": "code",
   "execution_count": null,
   "id": "a9217d5b-e57f-4dda-b552-b3091f466014",
   "metadata": {
    "papermill": {
     "duration": null,
     "end_time": null,
     "exception": null,
     "start_time": null,
     "status": "pending"
    },
    "tags": []
   },
   "outputs": [],
   "source": [
    "data_filtered.shape"
   ]
  },
  {
   "cell_type": "code",
   "execution_count": null,
   "id": "79d439f7-3a91-4b2d-b193-304b8e8e0e33",
   "metadata": {
    "papermill": {
     "duration": null,
     "end_time": null,
     "exception": null,
     "start_time": null,
     "status": "pending"
    },
    "tags": []
   },
   "outputs": [],
   "source": [
    "data_filtered.info()"
   ]
  },
  {
   "cell_type": "code",
   "execution_count": null,
   "id": "44c6462f-9510-4713-8464-a5f80b556e04",
   "metadata": {
    "papermill": {
     "duration": null,
     "end_time": null,
     "exception": null,
     "start_time": null,
     "status": "pending"
    },
    "tags": []
   },
   "outputs": [],
   "source": [
    "# [Action]\n",
    "data_filtered.drop(['tenure_range'] , axis=1, inplace=True)"
   ]
  },
  {
   "cell_type": "code",
   "execution_count": 255,
   "id": "fb2d328d-9d1c-4f91-8f6a-e28e6a768f97",
   "metadata": {
    "papermill": {
     "duration": null,
     "end_time": null,
     "exception": null,
     "start_time": null,
     "status": "pending"
    },
    "tags": []
   },
   "outputs": [
    {
     "name": "stdout",
     "output_type": "stream",
     "text": [
      "<class 'pandas.core.frame.DataFrame'>\n",
      "RangeIndex: 69999 entries, 0 to 69998\n",
      "Columns: 132 entries, id to rech_day_8\n",
      "dtypes: datetime64[ns](3), float64(99), int32(3), int64(27)\n",
      "memory usage: 69.7 MB\n"
     ]
    }
   ],
   "source": [
    "data_filtered.info()"
   ]
  },
  {
   "cell_type": "code",
   "execution_count": null,
   "id": "9fc4aed0-f283-4fc7-a253-a0cab8533498",
   "metadata": {
    "papermill": {
     "duration": null,
     "end_time": null,
     "exception": null,
     "start_time": null,
     "status": "pending"
    },
    "tags": []
   },
   "outputs": [],
   "source": [
    "# [Analysis]\n",
    "data_rate = (sum(data_filtered[\"churn_probability\"])/len(data_filtered[\"churn_probability\"].index))*100\n",
    "data_rate"
   ]
  },
  {
   "cell_type": "markdown",
   "id": "64ed154b-1154-4aff-9447-0ed5b0e155db",
   "metadata": {
    "papermill": {
     "duration": null,
     "end_time": null,
     "exception": null,
     "start_time": null,
     "status": "pending"
    },
    "tags": []
   },
   "source": [
    "# 2. Split Data Into Train and Test Data"
   ]
  },
  {
   "cell_type": "code",
   "execution_count": null,
   "id": "abb71e8a-f06d-4fd1-bb26-4aed3d537424",
   "metadata": {
    "papermill": {
     "duration": null,
     "end_time": null,
     "exception": null,
     "start_time": null,
     "status": "pending"
    },
    "tags": []
   },
   "outputs": [],
   "source": [
    "data_filtered.shape"
   ]
  },
  {
   "cell_type": "code",
   "execution_count": null,
   "id": "b6576e15-0a2a-4f56-938f-6b959359f8bb",
   "metadata": {
    "papermill": {
     "duration": null,
     "end_time": null,
     "exception": null,
     "start_time": null,
     "status": "pending"
    },
    "tags": []
   },
   "outputs": [],
   "source": [
    "# divide data into train and test\n",
    "X = data_filtered.drop(\"churn_probability\", axis = 1)\n",
    "y = data_filtered.churn_probability\n",
    "X_train, X_test, y_train, y_test = train_test_split(X, y, test_size = 0.25, random_state = 4, stratify = y)"
   ]
  },
  {
   "cell_type": "code",
   "execution_count": null,
   "id": "8cc364c7-0ac6-488f-a708-f42cd991a8bd",
   "metadata": {
    "papermill": {
     "duration": null,
     "end_time": null,
     "exception": null,
     "start_time": null,
     "status": "pending"
    },
    "tags": []
   },
   "outputs": [],
   "source": [
    "# print shapes of train and test sets\n",
    "X_train.shape"
   ]
  },
  {
   "cell_type": "code",
   "execution_count": null,
   "id": "d4cfb51e-1cf5-45dd-bb88-fff4b9923c01",
   "metadata": {
    "papermill": {
     "duration": null,
     "end_time": null,
     "exception": null,
     "start_time": null,
     "status": "pending"
    },
    "tags": []
   },
   "outputs": [],
   "source": [
    "print(y_train.shape)\n",
    "print(X_test.shape)\n",
    "print(y_test.shape)"
   ]
  },
  {
   "cell_type": "markdown",
   "id": "255f1777-8ba1-498e-991f-028ca5abdb51",
   "metadata": {
    "papermill": {
     "duration": null,
     "end_time": null,
     "exception": null,
     "start_time": null,
     "status": "pending"
    },
    "tags": []
   },
   "source": [
    "# Data Modeling and Model Evaluation and Prepare Model for Predictor variables selection\n"
   ]
  },
  {
   "cell_type": "markdown",
   "id": "d49be44c-59cb-4c9e-9740-a8d59e7b4912",
   "metadata": {
    "papermill": {
     "duration": null,
     "end_time": null,
     "exception": null,
     "start_time": null,
     "status": "pending"
    },
    "tags": []
   },
   "source": [
    "## Data Imbalance Handling\n",
    "Using SMOTE method, we can balance the data w.r.t. churn variable and proceed further"
   ]
  },
  {
   "cell_type": "code",
   "execution_count": null,
   "id": "1f9b6cb7-bce0-4fb6-b09a-1a1603759fb1",
   "metadata": {
    "papermill": {
     "duration": null,
     "end_time": null,
     "exception": null,
     "start_time": null,
     "status": "pending"
    },
    "tags": []
   },
   "outputs": [],
   "source": [
    "smote = SMOTE(random_state=42)\n",
    "X_train_sm,y_train_sm = smote.fit_resample(X_train,y_train)"
   ]
  },
  {
   "cell_type": "code",
   "execution_count": null,
   "id": "515774f8-9657-421d-bd09-9cb9732f92c8",
   "metadata": {},
   "outputs": [],
   "source": [
    "import numpy as np\n",
    "print(np.isnan(X_train).any())  # Check for NaN values in X_train\n"
   ]
  },
  {
   "cell_type": "code",
   "execution_count": null,
   "id": "5a256e49-5ad9-4ad3-adfd-649a28ec95c6",
   "metadata": {
    "papermill": {
     "duration": null,
     "end_time": null,
     "exception": null,
     "start_time": null,
     "status": "pending"
    },
    "tags": []
   },
   "outputs": [],
   "source": [
    "print(\"Dimension of X_train_sm Shape:\", X_train_sm.shape)\n",
    "print(\"Dimension of y_train_sm Shape:\", y_train_sm.shape)"
   ]
  },
  {
   "cell_type": "markdown",
   "id": "04ac70ff-de79-42e1-b129-fa2a9bc3c375",
   "metadata": {
    "papermill": {
     "duration": null,
     "end_time": null,
     "exception": null,
     "start_time": null,
     "status": "pending"
    },
    "tags": []
   },
   "source": [
    "# Logistic Regression"
   ]
  },
  {
   "cell_type": "code",
   "execution_count": null,
   "id": "e5f74368-6fa4-4057-a5aa-1bf2a387a479",
   "metadata": {
    "papermill": {
     "duration": null,
     "end_time": null,
     "exception": null,
     "start_time": null,
     "status": "pending"
    },
    "tags": []
   },
   "outputs": [],
   "source": [
    "# Logistic regression model\n",
    "logm1 = sm.GLM(y_train_sm,(sm.add_constant(X_train_sm)), family = sm.families.Binomial())\n",
    "logm1.fit().summary()"
   ]
  },
  {
   "cell_type": "markdown",
   "id": "3d7b2d00-b295-4c9e-96c5-5b1b00c05b79",
   "metadata": {
    "papermill": {
     "duration": null,
     "end_time": null,
     "exception": null,
     "start_time": null,
     "status": "pending"
    },
    "tags": []
   },
   "source": [
    "# Logistic Regression using Feature Selection (RFE method)\n"
   ]
  },
  {
   "cell_type": "code",
   "execution_count": null,
   "id": "80667c41-790c-490d-bc57-b9071aa8499b",
   "metadata": {
    "papermill": {
     "duration": null,
     "end_time": null,
     "exception": null,
     "start_time": null,
     "status": "pending"
    },
    "tags": []
   },
   "outputs": [],
   "source": [
    "logreg = LogisticRegression()\n",
    "\n",
    "from sklearn.feature_selection import RFE\n",
    "\n",
    "# running RFE with 20 variables as output\n",
    "rfe = RFE(logreg,  n_features_to_select= 20)             \n",
    "rfe = rfe.fit(X_train_sm, y_train_sm)"
   ]
  },
  {
   "cell_type": "code",
   "execution_count": null,
   "id": "a33a4456-2396-41ff-ada2-ee5f1ed1969f",
   "metadata": {
    "papermill": {
     "duration": null,
     "end_time": null,
     "exception": null,
     "start_time": null,
     "status": "pending"
    },
    "tags": []
   },
   "outputs": [],
   "source": [
    "rfe.support_"
   ]
  },
  {
   "cell_type": "code",
   "execution_count": null,
   "id": "3b08ddca-525d-4c4c-be0e-1f8d4dd5a782",
   "metadata": {
    "papermill": {
     "duration": null,
     "end_time": null,
     "exception": null,
     "start_time": null,
     "status": "pending"
    },
    "tags": []
   },
   "outputs": [],
   "source": [
    "rfe_columns=X_train_sm.columns[rfe.support_]\n",
    "print(\"The selected columns by RFE for modelling are: \\n\\n\",rfe_columns)"
   ]
  },
  {
   "cell_type": "code",
   "execution_count": null,
   "id": "f9c59920-e9cf-4bcf-a84b-c9ca6bcb82c5",
   "metadata": {
    "papermill": {
     "duration": null,
     "end_time": null,
     "exception": null,
     "start_time": null,
     "status": "pending"
    },
    "tags": []
   },
   "outputs": [],
   "source": [
    "list(zip(X_train_sm.columns, rfe.support_, rfe.ranking_))"
   ]
  },
  {
   "cell_type": "markdown",
   "id": "eac3b017-df94-4272-8390-2977deca8ea2",
   "metadata": {
    "papermill": {
     "duration": null,
     "end_time": null,
     "exception": null,
     "start_time": null,
     "status": "pending"
    },
    "tags": []
   },
   "source": [
    "# Assessing the model with StatsModels"
   ]
  },
  {
   "cell_type": "code",
   "execution_count": null,
   "id": "bd0ee358-0020-4aac-b3e0-99787d00f1c0",
   "metadata": {
    "papermill": {
     "duration": null,
     "end_time": null,
     "exception": null,
     "start_time": null,
     "status": "pending"
    },
    "tags": []
   },
   "outputs": [],
   "source": [
    "X_train_SM = sm.add_constant(X_train_sm[rfe_columns])\n",
    "logm2 = sm.GLM(y_train_sm,X_train_SM, family = sm.families.Binomial())\n",
    "res = logm2.fit()\n",
    "res.summary()"
   ]
  },
  {
   "cell_type": "code",
   "execution_count": null,
   "id": "2c6347a0-40aa-434c-bf36-cb9b9ecfb426",
   "metadata": {
    "papermill": {
     "duration": null,
     "end_time": null,
     "exception": null,
     "start_time": null,
     "status": "pending"
    },
    "tags": []
   },
   "outputs": [],
   "source": [
    "# Getting the predicted values on the train set\n",
    "y_train_sm_pred = res.predict(X_train_SM)\n",
    "y_train_sm_pred = y_train_sm_pred.values.reshape(-1)\n",
    "y_train_sm_pred[:10]"
   ]
  },
  {
   "cell_type": "code",
   "execution_count": null,
   "id": "62d343a3-baea-4892-810b-cb99ac30a695",
   "metadata": {
    "papermill": {
     "duration": null,
     "end_time": null,
     "exception": null,
     "start_time": null,
     "status": "pending"
    },
    "tags": []
   },
   "outputs": [],
   "source": [
    "# Creating a dataframe with the actual churn flag and the predicted probabilities\n",
    "y_train_sm_pred_final = pd.DataFrame({'Converted':y_train_sm.values, 'Converted_prob':y_train_sm_pred})\n",
    "y_train_sm_pred_final.head()"
   ]
  },
  {
   "cell_type": "markdown",
   "id": "9f804072-36e5-447d-90b9-6417b03ce867",
   "metadata": {
    "papermill": {
     "duration": null,
     "end_time": null,
     "exception": null,
     "start_time": null,
     "status": "pending"
    },
    "tags": []
   },
   "source": [
    "# Creating new column 'churn_pred' with 1 if Churn_Prob > 0.8 else 0"
   ]
  },
  {
   "cell_type": "code",
   "execution_count": null,
   "id": "7270d263-6a09-41df-9732-c9505babbb2e",
   "metadata": {
    "papermill": {
     "duration": null,
     "end_time": null,
     "exception": null,
     "start_time": null,
     "status": "pending"
    },
    "tags": []
   },
   "outputs": [],
   "source": [
    "y_train_sm_pred_final['churn_pred'] = y_train_sm_pred_final.Converted_prob.map(lambda x: 1 if x > 0.5 else 0)\n",
    "\n",
    "# Viewing the prediction results\n",
    "y_train_sm_pred_final.head()"
   ]
  },
  {
   "cell_type": "code",
   "execution_count": null,
   "id": "19c099e0-c8b3-419f-aa01-0c2539d76364",
   "metadata": {
    "papermill": {
     "duration": null,
     "end_time": null,
     "exception": null,
     "start_time": null,
     "status": "pending"
    },
    "tags": []
   },
   "outputs": [],
   "source": [
    "# Confusion matrix \n",
    "confusion = metrics.confusion_matrix(y_train_sm_pred_final.Converted, y_train_sm_pred_final.churn_pred )\n",
    "print(confusion)"
   ]
  },
  {
   "cell_type": "markdown",
   "id": "2626e174-332e-4157-b469-a5bf6ec7a029",
   "metadata": {
    "papermill": {
     "duration": null,
     "end_time": null,
     "exception": null,
     "start_time": null,
     "status": "pending"
    },
    "tags": []
   },
   "source": [
    "# Confusion matrix\n",
    "\n",
    "# Predicted     not_churn    churn\n",
    "# Actual\n",
    "\n",
    "# not_churn     11630           2825\n",
    "                    \n",
    "# churn             2238            12217  "
   ]
  },
  {
   "cell_type": "code",
   "execution_count": null,
   "id": "8c88c33c-5b40-4d72-b8fe-2cf3f08c9c4d",
   "metadata": {
    "papermill": {
     "duration": null,
     "end_time": null,
     "exception": null,
     "start_time": null,
     "status": "pending"
    },
    "tags": []
   },
   "outputs": [],
   "source": [
    "# Checking the overall accuracy.\n",
    "print(\"The overall accuracy of the model is:\",metrics.accuracy_score(y_train_sm_pred_final.Converted, y_train_sm_pred_final.churn_pred))"
   ]
  },
  {
   "cell_type": "markdown",
   "id": "781b63f5-99d2-4355-bcf4-6b023a451307",
   "metadata": {
    "papermill": {
     "duration": null,
     "end_time": null,
     "exception": null,
     "start_time": null,
     "status": "pending"
    },
    "tags": []
   },
   "source": [
    "# Check for the VIF values of the feature variables\n"
   ]
  },
  {
   "cell_type": "code",
   "execution_count": null,
   "id": "e32026b2-511d-407b-b20f-bbd7a411bbc4",
   "metadata": {
    "papermill": {
     "duration": null,
     "end_time": null,
     "exception": null,
     "start_time": null,
     "status": "pending"
    },
    "tags": []
   },
   "outputs": [],
   "source": [
    "# Create a dataframe that will contain the names of all the feature variables and their respective VIFs\n",
    "vif = pd.DataFrame()\n",
    "vif['Features'] = X_train_sm[rfe_columns].columns\n",
    "vif['VIF'] = [variance_inflation_factor(X_train_sm[rfe_columns].values, i) for i in range(X_train_sm[rfe_columns].shape[1])]\n",
    "vif['VIF'] = round(vif['VIF'], 2)\n",
    "vif = vif.sort_values(by = \"VIF\", ascending = False)\n",
    "vif"
   ]
  },
  {
   "cell_type": "markdown",
   "id": "514e7037-de55-4a2e-9bb1-4ccf6a64aab3",
   "metadata": {
    "papermill": {
     "duration": null,
     "end_time": null,
     "exception": null,
     "start_time": null,
     "status": "pending"
    },
    "tags": []
   },
   "source": [
    "## Metrics beyond simply accuracy\n"
   ]
  },
  {
   "cell_type": "code",
   "execution_count": null,
   "id": "16ab8589-6cf6-41f7-8992-266c9f52e1c1",
   "metadata": {
    "papermill": {
     "duration": null,
     "end_time": null,
     "exception": null,
     "start_time": null,
     "status": "pending"
    },
    "tags": []
   },
   "outputs": [],
   "source": [
    "TP = confusion[1,1] # true positive \n",
    "TN = confusion[0,0] # true negatives\n",
    "FP = confusion[0,1] # false positives\n",
    "FN = confusion[1,0] # false negatives"
   ]
  },
  {
   "cell_type": "code",
   "execution_count": null,
   "id": "efdf719f-ce36-45d1-98f0-a6d0cc157a7c",
   "metadata": {
    "papermill": {
     "duration": null,
     "end_time": null,
     "exception": null,
     "start_time": null,
     "status": "pending"
    },
    "tags": []
   },
   "outputs": [],
   "source": [
    "# Let's see the sensitivity of our logistic regression model\n",
    "print(\"Sensitivity = \",TP / float(TP+FN))\n",
    "\n",
    "# Let us calculate specificity\n",
    "print(\"Specificity = \",TN / float(TN+FP))\n",
    "\n",
    "# Calculate false postive rate - predicting churn when customer does not have churned\n",
    "print(\"False Positive Rate = \",FP/ float(TN+FP))\n",
    "\n",
    "# positive predictive value \n",
    "print (\"Precision = \",TP / float(TP+FP))\n",
    "\n",
    "# Negative predictive value\n",
    "print (\"True Negative Prediction Rate = \",TN / float(TN+ FN))"
   ]
  },
  {
   "cell_type": "markdown",
   "id": "f5edf6a3-50b2-463f-a959-c9f476fabef3",
   "metadata": {
    "papermill": {
     "duration": null,
     "end_time": null,
     "exception": null,
     "start_time": null,
     "status": "pending"
    },
    "tags": []
   },
   "source": [
    "#### Plotting the ROC Curve"
   ]
  },
  {
   "cell_type": "code",
   "execution_count": null,
   "id": "2d39241d-cb09-4fc7-94f2-4f1953bc4218",
   "metadata": {
    "papermill": {
     "duration": null,
     "end_time": null,
     "exception": null,
     "start_time": null,
     "status": "pending"
    },
    "tags": []
   },
   "outputs": [],
   "source": [
    "# Defining a function to plot the roc curve\n",
    "def draw_roc( actual, probs ):\n",
    "    fpr, tpr, thresholds = metrics.roc_curve( actual, probs,\n",
    "                                              drop_intermediate = False )\n",
    "    auc_score = metrics.roc_auc_score( actual, probs )\n",
    "    plt.figure(figsize=(5, 5))\n",
    "    plt.plot( fpr, tpr, label='ROC curve (area = %0.2f)' % auc_score )\n",
    "    plt.plot([0, 1], [0, 1], 'k--')\n",
    "    plt.xlim([0.0, 1.0])\n",
    "    plt.ylim([0.0, 1.05])\n",
    "    plt.xlabel('False Positive Rate or [1 - True Negative Prediction Rate]')\n",
    "    plt.ylabel('True Positive Rate')\n",
    "    plt.title('Receiver operating characteristic example')\n",
    "    plt.legend(loc=\"lower right\")\n",
    "    plt.show()\n",
    "\n",
    "    return None"
   ]
  },
  {
   "cell_type": "code",
   "execution_count": null,
   "id": "0efc78dc-538d-46b8-94d2-1037bd53e0a8",
   "metadata": {
    "papermill": {
     "duration": null,
     "end_time": null,
     "exception": null,
     "start_time": null,
     "status": "pending"
    },
    "tags": []
   },
   "outputs": [],
   "source": [
    "# Defining the variables to plot the curve\n",
    "fpr, tpr, thresholds = metrics.roc_curve( y_train_sm_pred_final.Converted, y_train_sm_pred_final.Converted_prob, drop_intermediate = False )"
   ]
  },
  {
   "cell_type": "code",
   "execution_count": null,
   "id": "387419ec-d71c-4932-a43b-e13dd6188737",
   "metadata": {
    "papermill": {
     "duration": null,
     "end_time": null,
     "exception": null,
     "start_time": null,
     "status": "pending"
    },
    "tags": []
   },
   "outputs": [],
   "source": [
    "# Plotting the curve for the obtained metrics\n",
    "draw_roc(y_train_sm_pred_final.Converted, y_train_sm_pred_final.Converted_prob)"
   ]
  },
  {
   "cell_type": "markdown",
   "id": "a753f51c-c11a-476f-a2b3-caf0c2b33a0e",
   "metadata": {
    "papermill": {
     "duration": null,
     "end_time": null,
     "exception": null,
     "start_time": null,
     "status": "pending"
    },
    "tags": []
   },
   "source": [
    "#### Finding Optimal Cutoff Point\n"
   ]
  },
  {
   "cell_type": "code",
   "execution_count": null,
   "id": "0b8c6949-9860-4fe9-b561-23df745c233e",
   "metadata": {
    "papermill": {
     "duration": null,
     "end_time": null,
     "exception": null,
     "start_time": null,
     "status": "pending"
    },
    "tags": []
   },
   "outputs": [],
   "source": [
    "# Let's create columns with different probability cutoffs \n",
    "numbers = [float(x)/10 for x in range(10)]\n",
    "for i in numbers:\n",
    "    y_train_sm_pred_final[i]= y_train_sm_pred_final.Converted_prob.map(lambda x: 1 if x > i else 0)\n",
    "y_train_sm_pred_final.head()"
   ]
  },
  {
   "cell_type": "code",
   "execution_count": null,
   "id": "212037c6-e1d1-4f0b-83b9-64026bb296ce",
   "metadata": {
    "papermill": {
     "duration": null,
     "end_time": null,
     "exception": null,
     "start_time": null,
     "status": "pending"
    },
    "tags": []
   },
   "outputs": [],
   "source": [
    "# Now let's calculate accuracy sensitivity and specificity for various probability cutoffs.\n",
    "cutoff_df = pd.DataFrame( columns = ['probability','accuracy','sensitivity','specificity'])\n",
    "from sklearn.metrics import confusion_matrix\n",
    "\n",
    "# TP = confusion[1,1] # true positive \n",
    "# TN = confusion[0,0] # true negatives\n",
    "# FP = confusion[0,1] # false positives\n",
    "# FN = confusion[1,0] # false negatives\n",
    "\n",
    "num = [0.0,0.1,0.2,0.3,0.4,0.5,0.6,0.7,0.8,0.9]\n",
    "for i in num:\n",
    "    cm1 = metrics.confusion_matrix(y_train_sm_pred_final.Converted, y_train_sm_pred_final[i] )\n",
    "    total1=sum(sum(cm1))\n",
    "    accuracy = (cm1[0,0]+cm1[1,1])/total1\n",
    "    \n",
    "    specificity = cm1[0,0]/(cm1[0,0]+cm1[0,1])\n",
    "    sensitivity = cm1[1,1]/(cm1[1,0]+cm1[1,1])\n",
    "    cutoff_df.loc[i] =[ i ,accuracy,sensitivity,specificity]\n",
    "print(cutoff_df)"
   ]
  },
  {
   "cell_type": "code",
   "execution_count": null,
   "id": "736103ee-2736-4989-87f2-8f3cb5657e46",
   "metadata": {
    "papermill": {
     "duration": null,
     "end_time": null,
     "exception": null,
     "start_time": null,
     "status": "pending"
    },
    "tags": []
   },
   "outputs": [],
   "source": [
    "# plotting accuracy sensitivity and specificity for various probabilities calculated above.\n",
    "cutoff_df.plot.line(x='probability', y=['accuracy','sensitivity','specificity'])\n",
    "plt.show()"
   ]
  },
  {
   "cell_type": "markdown",
   "id": "ba2bdd84-7a88-43a2-9df9-562a1a3c8533",
   "metadata": {
    "papermill": {
     "duration": null,
     "end_time": null,
     "exception": null,
     "start_time": null,
     "status": "pending"
    },
    "tags": []
   },
   "source": [
    "**Initially we selected the optimum point of classification as 0.5.<br><br>From the above graph, we can see the optimum cutoff is slightly higher than 0.5 but lies lower than 0.6. So lets tweek a little more within this range.**"
   ]
  },
  {
   "cell_type": "code",
   "execution_count": null,
   "id": "fb99b76a-b458-438b-ab71-719976bc821c",
   "metadata": {
    "papermill": {
     "duration": null,
     "end_time": null,
     "exception": null,
     "start_time": null,
     "status": "pending"
    },
    "tags": []
   },
   "outputs": [],
   "source": [
    "# Let's create columns with refined probability cutoffs \n",
    "numbers = [0.50,0.51,0.52,0.53,0.54,0.55,0.56,0.57,0.58,0.59]\n",
    "for i in numbers:\n",
    "    y_train_sm_pred_final[i]= y_train_sm_pred_final.Converted_prob.map(lambda x: 1 if x > i else 0)\n",
    "y_train_sm_pred_final.head()"
   ]
  },
  {
   "cell_type": "code",
   "execution_count": null,
   "id": "68257dcd-0bf2-49e0-9edb-ca275a624470",
   "metadata": {
    "papermill": {
     "duration": null,
     "end_time": null,
     "exception": null,
     "start_time": null,
     "status": "pending"
    },
    "tags": []
   },
   "outputs": [],
   "source": [
    "# Now let's calculate accuracy sensitivity and specificity for various probability cutoffs.\n",
    "cutoff_df = pd.DataFrame( columns = ['probability','accuracy','sensitivity','specificity'])\n",
    "from sklearn.metrics import confusion_matrix\n",
    "\n",
    "# TP = confusion[1,1] # true positive \n",
    "# TN = confusion[0,0] # true negatives\n",
    "# FP = confusion[0,1] # false positives\n",
    "# FN = confusion[1,0] # false negatives\n",
    "\n",
    "num = [0.50,0.51,0.52,0.53,0.54,0.55,0.56,0.57,0.58,0.59]\n",
    "for i in num:\n",
    "    cm1 = metrics.confusion_matrix(y_train_sm_pred_final.Converted, y_train_sm_pred_final[i] )\n",
    "    total1=sum(sum(cm1))\n",
    "    accuracy = (cm1[0,0]+cm1[1,1])/total1\n",
    "    \n",
    "    specificity = cm1[0,0]/(cm1[0,0]+cm1[0,1])\n",
    "    sensitivity = cm1[1,1]/(cm1[1,0]+cm1[1,1])\n",
    "    cutoff_df.loc[i] =[ i ,accuracy,sensitivity,specificity]\n",
    "print(cutoff_df)"
   ]
  },
  {
   "cell_type": "code",
   "execution_count": null,
   "id": "0625bfcd-d988-4f6a-ba82-58e27a1b54cb",
   "metadata": {
    "papermill": {
     "duration": null,
     "end_time": null,
     "exception": null,
     "start_time": null,
     "status": "pending"
    },
    "tags": []
   },
   "outputs": [],
   "source": [
    "# plotting accuracy sensitivity and specificity for various probabilities calculated above.\n",
    "cutoff_df.plot.line(x='probability', y=['accuracy','sensitivity','specificity'])\n",
    "plt.show()"
   ]
  },
  {
   "cell_type": "markdown",
   "id": "109f6276-df41-4a18-95a6-7e32c9ff538f",
   "metadata": {
    "papermill": {
     "duration": null,
     "end_time": null,
     "exception": null,
     "start_time": null,
     "status": "pending"
    },
    "tags": []
   },
   "source": [
    "**From the above graph we can conclude, the optimal cutoff point in the probability to define the predicted churn variabe converges at `0.54`**"
   ]
  },
  {
   "cell_type": "code",
   "execution_count": null,
   "id": "3b6206c7-5508-4dc8-84f0-ac7da7de8afa",
   "metadata": {
    "papermill": {
     "duration": null,
     "end_time": null,
     "exception": null,
     "start_time": null,
     "status": "pending"
    },
    "tags": []
   },
   "outputs": [],
   "source": [
    "#### From the curve above,we can take 0.54 is the optimum point to take it as a cutoff probability.\n",
    "\n",
    "y_train_sm_pred_final['final_churn_pred'] = y_train_sm_pred_final.Converted_prob.map( lambda x: 1 if x > 0.53 else 0)\n",
    "\n",
    "y_train_sm_pred_final.head()"
   ]
  },
  {
   "cell_type": "code",
   "execution_count": null,
   "id": "a813dfec-94d1-47cf-a7db-379a39cd64ef",
   "metadata": {
    "papermill": {
     "duration": null,
     "end_time": null,
     "exception": null,
     "start_time": null,
     "status": "pending"
    },
    "tags": []
   },
   "outputs": [],
   "source": [
    "# Calculating the ovearall accuracy again\n",
    "print(\"The overall accuracy of the model now is:\",metrics.accuracy_score(y_train_sm_pred_final.Converted, y_train_sm_pred_final.final_churn_pred))"
   ]
  },
  {
   "cell_type": "code",
   "execution_count": null,
   "id": "e18ddbe1-f600-4e5b-87b7-b9faa228ffc0",
   "metadata": {
    "papermill": {
     "duration": null,
     "end_time": null,
     "exception": null,
     "start_time": null,
     "status": "pending"
    },
    "tags": []
   },
   "outputs": [],
   "source": [
    "confusion2 = metrics.confusion_matrix(y_train_sm_pred_final.Converted, y_train_sm_pred_final.final_churn_pred )\n",
    "print(confusion2)"
   ]
  },
  {
   "cell_type": "code",
   "execution_count": null,
   "id": "878f4d09-be46-4255-88bc-de87f24bc62f",
   "metadata": {
    "papermill": {
     "duration": null,
     "end_time": null,
     "exception": null,
     "start_time": null,
     "status": "pending"
    },
    "tags": []
   },
   "outputs": [],
   "source": [
    "TP2 = confusion2[1,1] # true positive \n",
    "TN2 = confusion2[0,0] # true negatives\n",
    "FP2 = confusion2[0,1] # false positives\n",
    "FN2 = confusion2[1,0] # false negatives\n",
    "\n",
    "# Let's see the sensitivity of our logistic regression model\n",
    "print(\"Sensitivity = \",TP2 / float(TP2+FN2))\n",
    "\n",
    "# Let us calculate specificity\n",
    "print(\"Specificity = \",TN2 / float(TN2+FP2))\n",
    "\n",
    "# Calculate false postive rate - predicting churn when customer does not have churned\n",
    "print(\"False Positive Rate = \",FP2/ float(TN2+FP2))\n",
    "\n",
    "# positive predictive value \n",
    "print (\"Precision = \",TP2 / float(TP2+FP2))\n",
    "\n",
    "# Negative predictive value\n",
    "print (\"True Negative Prediction Rate = \",TN2 / float(TN2 + FN2))"
   ]
  },
  {
   "cell_type": "markdown",
   "id": "a5ac61e4-b198-4b34-a2db-4251a1da8d7d",
   "metadata": {
    "papermill": {
     "duration": null,
     "end_time": null,
     "exception": null,
     "start_time": null,
     "status": "pending"
    },
    "tags": []
   },
   "source": [
    "#### Precision and recall tradeoff\n"
   ]
  },
  {
   "cell_type": "code",
   "execution_count": null,
   "id": "44da3749-7778-428e-acff-ea02500d87ae",
   "metadata": {
    "papermill": {
     "duration": null,
     "end_time": null,
     "exception": null,
     "start_time": null,
     "status": "pending"
    },
    "tags": []
   },
   "outputs": [],
   "source": [
    "p, r, thresholds = precision_recall_curve(y_train_sm_pred_final.Converted, y_train_sm_pred_final.Converted_prob)\n",
    "\n",
    "# Plotting the curve\n",
    "plt.plot(thresholds, p[:-1], \"g-\")\n",
    "plt.plot(thresholds, r[:-1], \"r-\")\n",
    "plt.show()"
   ]
  },
  {
   "cell_type": "markdown",
   "id": "d3431953-ef0d-4f21-b45c-edc6c17a6b49",
   "metadata": {
    "papermill": {
     "duration": null,
     "end_time": null,
     "exception": null,
     "start_time": null,
     "status": "pending"
    },
    "tags": []
   },
   "source": [
    "### Making predictions on the test set\n",
    "**Transforming and feature selection for test data**"
   ]
  },
  {
   "cell_type": "code",
   "execution_count": null,
   "id": "51f9b9b3-ee12-4611-a990-45c477be71fa",
   "metadata": {
    "papermill": {
     "duration": null,
     "end_time": null,
     "exception": null,
     "start_time": null,
     "status": "pending"
    },
    "tags": []
   },
   "outputs": [],
   "source": [
    "# Scaling the test data\n",
    "X_test[num_col] = scaler.transform(X_test[num_col])\n",
    "X_test.head()"
   ]
  },
  {
   "cell_type": "code",
   "execution_count": null,
   "id": "6714e751-dabb-4133-bdd9-d424257a8fcc",
   "metadata": {
    "papermill": {
     "duration": null,
     "end_time": null,
     "exception": null,
     "start_time": null,
     "status": "pending"
    },
    "tags": []
   },
   "outputs": [],
   "source": [
    "# Feature selection\n",
    "X_test=X_test[rfe_columns]\n",
    "X_test.head()"
   ]
  },
  {
   "cell_type": "code",
   "execution_count": null,
   "id": "cb4899e8-6cac-4dce-bfe1-217bc02489dc",
   "metadata": {
    "papermill": {
     "duration": null,
     "end_time": null,
     "exception": null,
     "start_time": null,
     "status": "pending"
    },
    "tags": []
   },
   "outputs": [],
   "source": [
    "# Adding constant to the test model.\n",
    "X_test_SM = sm.add_constant(X_test)"
   ]
  },
  {
   "cell_type": "markdown",
   "id": "7852cf98-0ceb-446d-b236-c4e7ed7d4e9e",
   "metadata": {
    "papermill": {
     "duration": null,
     "end_time": null,
     "exception": null,
     "start_time": null,
     "status": "pending"
    },
    "tags": []
   },
   "source": [
    "## Predicting the target variable"
   ]
  },
  {
   "cell_type": "code",
   "execution_count": null,
   "id": "3a342b87-feea-4f20-8528-10ee66ff580a",
   "metadata": {
    "papermill": {
     "duration": null,
     "end_time": null,
     "exception": null,
     "start_time": null,
     "status": "pending"
    },
    "tags": []
   },
   "outputs": [],
   "source": [
    "y_test_pred = res.predict(X_test_SM)\n",
    "print(\"\\n The first ten probability value of the prediction are:\\n\",y_test_pred[:10])"
   ]
  },
  {
   "cell_type": "code",
   "execution_count": null,
   "id": "685cb19a-0c17-473a-928e-f5b2e21a1b3d",
   "metadata": {
    "papermill": {
     "duration": null,
     "end_time": null,
     "exception": null,
     "start_time": null,
     "status": "pending"
    },
    "tags": []
   },
   "outputs": [],
   "source": [
    "y_pred = pd.DataFrame(y_test_pred)\n",
    "y_pred.head()"
   ]
  },
  {
   "cell_type": "code",
   "execution_count": null,
   "id": "1d309c61-94bc-4b43-afca-14930b6d7dcd",
   "metadata": {
    "papermill": {
     "duration": null,
     "end_time": null,
     "exception": null,
     "start_time": null,
     "status": "pending"
    },
    "tags": []
   },
   "outputs": [],
   "source": [
    "y_pred=y_pred.rename(columns = {0:\"Conv_prob\"})"
   ]
  },
  {
   "cell_type": "code",
   "execution_count": null,
   "id": "1c651e9f-9cca-4d95-8866-56ebf3be7449",
   "metadata": {
    "papermill": {
     "duration": null,
     "end_time": null,
     "exception": null,
     "start_time": null,
     "status": "pending"
    },
    "tags": []
   },
   "outputs": [],
   "source": [
    "y_test_df = pd.DataFrame(y_test)\n",
    "y_test_df.head()"
   ]
  },
  {
   "cell_type": "code",
   "execution_count": null,
   "id": "2d161d17-dfd3-48f9-9575-5699858aeb56",
   "metadata": {
    "papermill": {
     "duration": null,
     "end_time": null,
     "exception": null,
     "start_time": null,
     "status": "pending"
    },
    "tags": []
   },
   "outputs": [],
   "source": [
    "y_pred_final = pd.concat([y_test_df,y_pred],axis=1)\n",
    "y_pred_final.head()"
   ]
  },
  {
   "cell_type": "code",
   "execution_count": null,
   "id": "4a4826db-598a-4576-8bb3-c25ef418fcf9",
   "metadata": {
    "papermill": {
     "duration": null,
     "end_time": null,
     "exception": null,
     "start_time": null,
     "status": "pending"
    },
    "tags": []
   },
   "outputs": [],
   "source": [
    "y_pred_final['test_churn_pred'] = y_pred_final.Conv_prob.map(lambda x: 1 if x>0.54 else 0)\n",
    "y_pred_final.head()"
   ]
  },
  {
   "cell_type": "code",
   "execution_count": null,
   "id": "553905f9-14c9-41eb-8016-817edcb0676d",
   "metadata": {
    "papermill": {
     "duration": null,
     "end_time": null,
     "exception": null,
     "start_time": null,
     "status": "pending"
    },
    "tags": []
   },
   "outputs": [],
   "source": [
    "# Checking the overall accuracy of the predicted set.\n",
    "metrics.accuracy_score(y_pred_final.churn_probability, y_pred_final.test_churn_pred)"
   ]
  },
  {
   "cell_type": "markdown",
   "id": "aaae0d2c-d3d8-4a9d-a629-27423b754325",
   "metadata": {
    "papermill": {
     "duration": null,
     "end_time": null,
     "exception": null,
     "start_time": null,
     "status": "pending"
    },
    "tags": []
   },
   "source": [
    "**Metrics Evaluation**"
   ]
  },
  {
   "cell_type": "code",
   "execution_count": null,
   "id": "140def44-cace-46f7-be43-ec49f002d1b5",
   "metadata": {
    "papermill": {
     "duration": null,
     "end_time": null,
     "exception": null,
     "start_time": null,
     "status": "pending"
    },
    "tags": []
   },
   "outputs": [],
   "source": [
    "# Confusion Matrix\n",
    "confusion2_test = metrics.confusion_matrix(y_pred_final.churn_probability, y_pred_final.test_churn_pred)\n",
    "print(\"Confusion Matrix\\n\",confusion2_test)"
   ]
  },
  {
   "cell_type": "code",
   "execution_count": null,
   "id": "81cda201-9a21-4299-b21c-a6cadb897a46",
   "metadata": {
    "papermill": {
     "duration": null,
     "end_time": null,
     "exception": null,
     "start_time": null,
     "status": "pending"
    },
    "tags": []
   },
   "outputs": [],
   "source": [
    "# Calculating model validation parameters\n",
    "TP3 = confusion2_test[1,1] # true positive \n",
    "TN3 = confusion2_test[0,0] # true negatives\n",
    "FP3 = confusion2_test[0,1] # false positives\n",
    "FN3 = confusion2_test[1,0] # false negatives"
   ]
  },
  {
   "cell_type": "code",
   "execution_count": null,
   "id": "b05a6036-2c77-47a1-a48a-01e83ebeb61c",
   "metadata": {
    "papermill": {
     "duration": null,
     "end_time": null,
     "exception": null,
     "start_time": null,
     "status": "pending"
    },
    "tags": []
   },
   "outputs": [],
   "source": [
    "# Let's see the sensitivity of our logistic regression model\n",
    "print(\"Sensitivity = \",TP3 / float(TP3+FN3))\n",
    "\n",
    "# Let us calculate specificity\n",
    "print(\"Specificity = \",TN3 / float(TN3+FP3))\n",
    "\n",
    "# Calculate false postive rate - predicting churn when customer does not have churned\n",
    "print(\"False Positive Rate = \",FP3/ float(TN3+FP3))\n",
    "\n",
    "# positive predictive value \n",
    "print (\"Precision = \",TP3 / float(TP3+FP3))\n",
    "\n",
    "# Negative predictive value\n",
    "print (\"True Negative Prediction Rate = \",TN3 / float(TN3+FN3))"
   ]
  },
  {
   "cell_type": "markdown",
   "id": "c384ecf7-9431-47fb-afe5-44a4cbbbb9be",
   "metadata": {
    "papermill": {
     "duration": null,
     "end_time": null,
     "exception": null,
     "start_time": null,
     "status": "pending"
    },
    "tags": []
   },
   "source": [
    "### Explaining the results"
   ]
  },
  {
   "cell_type": "code",
   "execution_count": null,
   "id": "aef1ef73-1a69-4ab7-a1c2-61b535018170",
   "metadata": {
    "papermill": {
     "duration": null,
     "end_time": null,
     "exception": null,
     "start_time": null,
     "status": "pending"
    },
    "tags": []
   },
   "outputs": [],
   "source": [
    "print(\"The accuracy of the predicted model is: \",round(metrics.accuracy_score(y_pred_final.churn_probability, y_pred_final.test_churn_pred),2)*100,\"%\")\n",
    "print(\"The sensitivity of the predicted model is: \",round(TP3 / float(TP3+FN3),2)*100,\"%\")\n",
    "\n",
    "print(\"\\nAs the model created is based on a sentivity model, i.e. the True positive rate is given more importance as the actual and prediction of churn by a customer\\n\") "
   ]
  },
  {
   "cell_type": "code",
   "execution_count": null,
   "id": "c75ac337-533c-4aee-845d-f70ac90fc1bf",
   "metadata": {
    "papermill": {
     "duration": null,
     "end_time": null,
     "exception": null,
     "start_time": null,
     "status": "pending"
    },
    "tags": []
   },
   "outputs": [],
   "source": [
    "# ROC curve for the test dataset\n",
    "\n",
    "# Defining the variables to plot the curve\n",
    "fpr, tpr, thresholds = metrics.roc_curve(y_pred_final.churn_probability,y_pred_final.Conv_prob, drop_intermediate = False )\n",
    "# Plotting the curve for the obtained metrics\n",
    "draw_roc(y_pred_final.churn_probability,y_pred_final.Conv_prob)"
   ]
  },
  {
   "cell_type": "markdown",
   "id": "4920645d-6299-42b0-b06b-421534842bfb",
   "metadata": {
    "papermill": {
     "duration": null,
     "end_time": null,
     "exception": null,
     "start_time": null,
     "status": "pending"
    },
    "tags": []
   },
   "source": [
    "## The AUC score for train dataset is 0.90 and the test dataset is 0.88.\n",
    "# This model can be considered as a good model.**"
   ]
  },
  {
   "cell_type": "markdown",
   "id": "71d4c043-5b0e-42a4-905e-f6385d9a661d",
   "metadata": {
    "papermill": {
     "duration": null,
     "end_time": null,
     "exception": null,
     "start_time": null,
     "status": "pending"
    },
    "tags": []
   },
   "source": [
    "# PCA"
   ]
  },
  {
   "cell_type": "code",
   "execution_count": null,
   "id": "d17c2718-a9e3-494c-b200-bb550c7ece84",
   "metadata": {
    "papermill": {
     "duration": null,
     "end_time": null,
     "exception": null,
     "start_time": null,
     "status": "pending"
    },
    "tags": []
   },
   "outputs": [],
   "source": [
    "X_train, X_test, y_train, y_test = train_test_split(X, y, train_size=0.8, test_size=0.2, random_state=10)"
   ]
  },
  {
   "cell_type": "code",
   "execution_count": null,
   "id": "8c9cd2ae-616a-4e90-bd74-1119c9b2c848",
   "metadata": {
    "papermill": {
     "duration": null,
     "end_time": null,
     "exception": null,
     "start_time": null,
     "status": "pending"
    },
    "tags": []
   },
   "outputs": [],
   "source": [
    "X_train.shape"
   ]
  },
  {
   "cell_type": "code",
   "execution_count": null,
   "id": "0485dc04-5333-478c-9d1e-daefca597a73",
   "metadata": {
    "papermill": {
     "duration": null,
     "end_time": null,
     "exception": null,
     "start_time": null,
     "status": "pending"
    },
    "tags": []
   },
   "outputs": [],
   "source": [
    "pca = PCA(random_state=42)"
   ]
  },
  {
   "cell_type": "code",
   "execution_count": null,
   "id": "707074f8-4ad9-490a-a368-5ebe29963853",
   "metadata": {
    "papermill": {
     "duration": null,
     "end_time": null,
     "exception": null,
     "start_time": null,
     "status": "pending"
    },
    "tags": []
   },
   "outputs": [],
   "source": [
    "pca.fit(X_train)"
   ]
  },
  {
   "cell_type": "code",
   "execution_count": null,
   "id": "9c8339c3-6054-4821-9658-cd99ea1e605d",
   "metadata": {
    "papermill": {
     "duration": null,
     "end_time": null,
     "exception": null,
     "start_time": null,
     "status": "pending"
    },
    "tags": []
   },
   "outputs": [],
   "source": [
    "pca.components_"
   ]
  },
  {
   "cell_type": "markdown",
   "id": "57267449-5503-4fd1-bc43-901adfadfa71",
   "metadata": {
    "papermill": {
     "duration": null,
     "end_time": null,
     "exception": null,
     "start_time": null,
     "status": "pending"
    },
    "tags": []
   },
   "source": [
    "### Analysing the explained variance ratio"
   ]
  },
  {
   "cell_type": "code",
   "execution_count": null,
   "id": "a530e09d-bd92-4489-9084-aa69b2cbe535",
   "metadata": {
    "papermill": {
     "duration": null,
     "end_time": null,
     "exception": null,
     "start_time": null,
     "status": "pending"
    },
    "tags": []
   },
   "outputs": [],
   "source": [
    "pca.explained_variance_ratio_"
   ]
  },
  {
   "cell_type": "code",
   "execution_count": null,
   "id": "d8a56b36-6cbc-4f36-ae0b-a943c07c7533",
   "metadata": {
    "papermill": {
     "duration": null,
     "end_time": null,
     "exception": null,
     "start_time": null,
     "status": "pending"
    },
    "tags": []
   },
   "outputs": [],
   "source": [
    "var_cumu = np.cumsum(pca.explained_variance_ratio_)"
   ]
  },
  {
   "cell_type": "code",
   "execution_count": null,
   "id": "88b33312-c372-4f01-ba3b-85b209e6049f",
   "metadata": {
    "papermill": {
     "duration": null,
     "end_time": null,
     "exception": null,
     "start_time": null,
     "status": "pending"
    },
    "tags": []
   },
   "outputs": [],
   "source": [
    "fig = plt.figure(figsize=[12,8])\n",
    "plt.vlines(x=15, ymax=1, ymin=0, colors=\"r\", linestyles=\"--\")\n",
    "plt.hlines(y=0.95, xmax=30, xmin=0, colors=\"g\", linestyles=\"--\")\n",
    "plt.plot(var_cumu)\n",
    "plt.ylabel(\"Cumulative variance explained\")\n",
    "plt.show()"
   ]
  },
  {
   "cell_type": "markdown",
   "id": "248d89ae-e74b-4dc1-8e2c-db635f0b28ad",
   "metadata": {
    "papermill": {
     "duration": null,
     "end_time": null,
     "exception": null,
     "start_time": null,
     "status": "pending"
    },
    "tags": []
   },
   "source": [
    "we can use IncrementalPCA for the best result"
   ]
  },
  {
   "cell_type": "code",
   "execution_count": null,
   "id": "0018d15e-e253-4e0d-b2f1-8085d1674cbf",
   "metadata": {
    "papermill": {
     "duration": null,
     "end_time": null,
     "exception": null,
     "start_time": null,
     "status": "pending"
    },
    "tags": []
   },
   "outputs": [],
   "source": [
    "pca_final = IncrementalPCA(n_components=16)"
   ]
  },
  {
   "cell_type": "code",
   "execution_count": null,
   "id": "13e677a3-783d-4a14-a983-0acad49941ef",
   "metadata": {
    "papermill": {
     "duration": null,
     "end_time": null,
     "exception": null,
     "start_time": null,
     "status": "pending"
    },
    "tags": []
   },
   "outputs": [],
   "source": [
    "df_train_pca = pca_final.fit_transform(X_train)"
   ]
  },
  {
   "cell_type": "code",
   "execution_count": null,
   "id": "348e7a96-265a-4115-a9ae-45b93d51ebe2",
   "metadata": {
    "papermill": {
     "duration": null,
     "end_time": null,
     "exception": null,
     "start_time": null,
     "status": "pending"
    },
    "tags": []
   },
   "outputs": [],
   "source": [
    "df_train_pca.shape"
   ]
  },
  {
   "cell_type": "code",
   "execution_count": null,
   "id": "07ed769c-e312-441d-9ecd-f024fa22f818",
   "metadata": {
    "papermill": {
     "duration": null,
     "end_time": null,
     "exception": null,
     "start_time": null,
     "status": "pending"
    },
    "tags": []
   },
   "outputs": [],
   "source": [
    "corrmat = np.corrcoef(df_train_pca.transpose())"
   ]
  },
  {
   "cell_type": "code",
   "execution_count": null,
   "id": "bfcf5c64-9e93-4886-aac8-a752775d8621",
   "metadata": {
    "papermill": {
     "duration": null,
     "end_time": null,
     "exception": null,
     "start_time": null,
     "status": "pending"
    },
    "tags": []
   },
   "outputs": [],
   "source": [
    "corrmat.shape"
   ]
  },
  {
   "cell_type": "code",
   "execution_count": null,
   "id": "145bdced-2005-46d1-8425-b6a2a934a8b8",
   "metadata": {
    "papermill": {
     "duration": null,
     "end_time": null,
     "exception": null,
     "start_time": null,
     "status": "pending"
    },
    "tags": []
   },
   "outputs": [],
   "source": [
    "df_test_pca = pca_final.transform(X_test)\n",
    "df_test_pca.shape"
   ]
  },
  {
   "cell_type": "code",
   "execution_count": null,
   "id": "46edabc3-0c39-425c-b7a0-9715f2ba87e6",
   "metadata": {},
   "outputs": [],
   "source": []
  },
  {
   "cell_type": "markdown",
   "id": "20680b6d-1f2a-4e52-b0fd-f151d3b1c2e8",
   "metadata": {},
   "source": [
    "#### Create LGBM Classifer with PCA Data"
   ]
  },
  {
   "cell_type": "code",
   "execution_count": null,
   "id": "5fd519d3-4b57-4613-88cf-269c8a29148f",
   "metadata": {},
   "outputs": [],
   "source": []
  },
  {
   "cell_type": "code",
   "execution_count": null,
   "id": "908194c4-5c2a-4508-ab30-49a2d3a1acf1",
   "metadata": {},
   "outputs": [],
   "source": [
    "def evaluate_model_with_data(classifier, X, y):\n",
    "    print(\"Train Accuracy :\", accuracy_score(y, classifier.predict(X)))\n",
    "    print(\"Train Confusion Matrix:\")\n",
    "    print(confusion_matrix(y, classifier.predict(X)))"
   ]
  },
  {
   "cell_type": "code",
   "execution_count": null,
   "id": "4d90ec5f-4244-48ad-b16f-ffec43021108",
   "metadata": {},
   "outputs": [],
   "source": []
  },
  {
   "cell_type": "code",
   "execution_count": null,
   "id": "20c33271-6e4d-4e75-b38c-7b98fa3fc289",
   "metadata": {},
   "outputs": [],
   "source": [
    "# Hyper-parameters\n",
    "param = {\n",
    "    'num_leaves': 150,\n",
    "    'max_depth':7,\n",
    "    'learning_rate':.05,\n",
    "    'max_bin':200,\n",
    "    'metric': ['auc', 'binary_logloss'],\n",
    "    'boosting_type': 'gbdt'\n",
    "}"
   ]
  },
  {
   "cell_type": "code",
   "execution_count": null,
   "id": "420773b4-a472-4b04-a834-627e62396326",
   "metadata": {},
   "outputs": [],
   "source": []
  },
  {
   "cell_type": "code",
   "execution_count": null,
   "id": "56dbf430-eff2-4f1d-a7fc-40cc3ebb6516",
   "metadata": {},
   "outputs": [],
   "source": [
    "# LightGBM Learning Algo\n",
    "import lightgbm as gbm\n",
    "lgb_classifier_after_pca = gbm.LGBMClassifier(random_state=42, **param)"
   ]
  },
  {
   "cell_type": "code",
   "execution_count": null,
   "id": "d83a2501-ef53-4d55-a5c8-562ea66b851f",
   "metadata": {},
   "outputs": [],
   "source": [
    "lgb_classifier_after_pca.fit(df_train_pca, y_train)"
   ]
  },
  {
   "cell_type": "code",
   "execution_count": null,
   "id": "7bc5d099-0ed3-408c-80f0-71963891246a",
   "metadata": {},
   "outputs": [],
   "source": [
    "evaluate_model_with_data(lgb_classifier_after_pca, df_train_pca, y_train)"
   ]
  },
  {
   "cell_type": "code",
   "execution_count": null,
   "id": "12c88545-e382-4bb3-a7c7-b603456656e3",
   "metadata": {},
   "outputs": [],
   "source": []
  },
  {
   "cell_type": "code",
   "execution_count": null,
   "id": "2c4fe792-db21-4edb-93d7-fd7ed804f297",
   "metadata": {},
   "outputs": [],
   "source": [
    "evaluate_model_with_data(lgb_classifier_after_pca, df_test_pca, y_test)"
   ]
  },
  {
   "cell_type": "code",
   "execution_count": null,
   "id": "9dd97c31-a2f7-44cf-b7bb-6d98eec2ba2e",
   "metadata": {},
   "outputs": [],
   "source": []
  },
  {
   "cell_type": "code",
   "execution_count": null,
   "id": "f539e901-6f2d-4169-a764-317d8aedd16a",
   "metadata": {},
   "outputs": [],
   "source": []
  },
  {
   "cell_type": "code",
   "execution_count": null,
   "id": "d73cc239-4b8a-462d-99a7-452cba07e2d0",
   "metadata": {},
   "outputs": [],
   "source": []
  },
  {
   "cell_type": "code",
   "execution_count": null,
   "id": "e28f02f6-6408-45c3-a70f-ace8ee3b08fc",
   "metadata": {},
   "outputs": [],
   "source": []
  },
  {
   "cell_type": "markdown",
   "id": "b87f9f13-7e2e-4e2a-910d-c8a2343d5a48",
   "metadata": {
    "papermill": {
     "duration": null,
     "end_time": null,
     "exception": null,
     "start_time": null,
     "status": "pending"
    },
    "tags": []
   },
   "source": [
    "## Applying logistic regression on the Principal components"
   ]
  },
  {
   "cell_type": "code",
   "execution_count": null,
   "id": "d1156257-e351-454e-aa42-bd6e698c8cbd",
   "metadata": {
    "papermill": {
     "duration": null,
     "end_time": null,
     "exception": null,
     "start_time": null,
     "status": "pending"
    },
    "tags": []
   },
   "outputs": [],
   "source": [
    "learner_pca = LogisticRegression()"
   ]
  },
  {
   "cell_type": "code",
   "execution_count": null,
   "id": "8122efc2-e1e2-453b-bff1-fc15addd36b2",
   "metadata": {
    "papermill": {
     "duration": null,
     "end_time": null,
     "exception": null,
     "start_time": null,
     "status": "pending"
    },
    "tags": []
   },
   "outputs": [],
   "source": [
    "model_pca = learner_pca.fit(df_train_pca, y_train)"
   ]
  },
  {
   "cell_type": "markdown",
   "id": "16cbedff-42a1-404a-9cdb-6dbd2a13fe3c",
   "metadata": {
    "papermill": {
     "duration": null,
     "end_time": null,
     "exception": null,
     "start_time": null,
     "status": "pending"
    },
    "tags": []
   },
   "source": [
    "## Making predictions on the test set\n"
   ]
  },
  {
   "cell_type": "code",
   "execution_count": null,
   "id": "96650c20-13a9-4741-b6b8-03b365aeb70d",
   "metadata": {
    "papermill": {
     "duration": null,
     "end_time": null,
     "exception": null,
     "start_time": null,
     "status": "pending"
    },
    "tags": []
   },
   "outputs": [],
   "source": [
    "pred_probs_test = model_pca.predict_proba(df_test_pca)"
   ]
  },
  {
   "cell_type": "code",
   "execution_count": null,
   "id": "e28a1650-6a47-43c1-9715-26535fa23980",
   "metadata": {
    "papermill": {
     "duration": null,
     "end_time": null,
     "exception": null,
     "start_time": null,
     "status": "pending"
    },
    "tags": []
   },
   "outputs": [],
   "source": [
    "\"{:2.2}\".format(metrics.roc_auc_score(y_test, pred_probs_test[:,1]))"
   ]
  },
  {
   "cell_type": "markdown",
   "id": "77180f24-f7d7-4a10-a2b3-e7469150dfe3",
   "metadata": {
    "papermill": {
     "duration": null,
     "end_time": null,
     "exception": null,
     "start_time": null,
     "status": "pending"
    },
    "tags": []
   },
   "source": [
    "### Confusion matrix, Sensitivity and Specificity\n"
   ]
  },
  {
   "cell_type": "code",
   "execution_count": null,
   "id": "191f7cb1-dbfb-4d7a-87eb-fb013bd55cec",
   "metadata": {
    "papermill": {
     "duration": null,
     "end_time": null,
     "exception": null,
     "start_time": null,
     "status": "pending"
    },
    "tags": []
   },
   "outputs": [],
   "source": [
    "pred_probs_test1 = model_pca.predict(df_test_pca)"
   ]
  },
  {
   "cell_type": "code",
   "execution_count": null,
   "id": "d9f438fe-e6a6-4280-a071-5428543ab03f",
   "metadata": {
    "papermill": {
     "duration": null,
     "end_time": null,
     "exception": null,
     "start_time": null,
     "status": "pending"
    },
    "tags": []
   },
   "outputs": [],
   "source": [
    "# Confusion matrix\n",
    "confusion = metrics.confusion_matrix(y_test, pred_probs_test1)\n",
    "print(confusion)"
   ]
  },
  {
   "cell_type": "code",
   "execution_count": null,
   "id": "ca0e1740-b1ca-4142-acfb-64b2d68df0a8",
   "metadata": {
    "papermill": {
     "duration": null,
     "end_time": null,
     "exception": null,
     "start_time": null,
     "status": "pending"
    },
    "tags": []
   },
   "outputs": [],
   "source": [
    "TP = confusion[1,1] # true positive \n",
    "TN = confusion[0,0] # true negatives\n",
    "FP = confusion[0,1] # false positives\n",
    "FN = confusion[1,0] # false negatives"
   ]
  },
  {
   "cell_type": "code",
   "execution_count": null,
   "id": "c162bbff-f9cf-4a53-aa7f-cee74fa1206a",
   "metadata": {
    "papermill": {
     "duration": null,
     "end_time": null,
     "exception": null,
     "start_time": null,
     "status": "pending"
    },
    "tags": []
   },
   "outputs": [],
   "source": [
    "# Accuracy\n",
    "print(\"Accuracy:-\",metrics.accuracy_score(y_test, pred_probs_test1))\n",
    "\n",
    "# Sensitivity\n",
    "print(\"Sensitivity:-\",TP / float(TP+FN))\n",
    "\n",
    "# Specificity\n",
    "print(\"Specificity:-\", TN / float(TN+FP))"
   ]
  },
  {
   "cell_type": "markdown",
   "id": "5664f636-b664-4a0c-acb4-3332fd2eceb6",
   "metadata": {
    "papermill": {
     "duration": null,
     "end_time": null,
     "exception": null,
     "start_time": null,
     "status": "pending"
    },
    "tags": []
   },
   "source": [
    "## Making predictions on the train set"
   ]
  },
  {
   "cell_type": "code",
   "execution_count": null,
   "id": "447206ff-b9e2-4127-816b-df0b94ffa2a7",
   "metadata": {
    "papermill": {
     "duration": null,
     "end_time": null,
     "exception": null,
     "start_time": null,
     "status": "pending"
    },
    "tags": []
   },
   "outputs": [],
   "source": [
    "pred_probs_train = model_pca.predict_proba(df_train_pca)"
   ]
  },
  {
   "cell_type": "code",
   "execution_count": null,
   "id": "02a70e87-c294-422c-8055-fa1c93bb98e6",
   "metadata": {
    "papermill": {
     "duration": null,
     "end_time": null,
     "exception": null,
     "start_time": null,
     "status": "pending"
    },
    "tags": []
   },
   "outputs": [],
   "source": [
    "\"{:2.2}\".format(metrics.roc_auc_score(y_train, pred_probs_train[:,1]))"
   ]
  },
  {
   "cell_type": "markdown",
   "id": "d03cd968-c2a4-4825-9154-6c49bac2b9e0",
   "metadata": {
    "papermill": {
     "duration": null,
     "end_time": null,
     "exception": null,
     "start_time": null,
     "status": "pending"
    },
    "tags": []
   },
   "source": [
    "### Confusion matrix, Sensitivity and Specificity\n"
   ]
  },
  {
   "cell_type": "code",
   "execution_count": null,
   "id": "11c01d1f-cd1a-42cb-ab59-36b8194daa60",
   "metadata": {
    "papermill": {
     "duration": null,
     "end_time": null,
     "exception": null,
     "start_time": null,
     "status": "pending"
    },
    "tags": []
   },
   "outputs": [],
   "source": [
    "pred_probs_train1 = model_pca.predict(df_train_pca)"
   ]
  },
  {
   "cell_type": "code",
   "execution_count": null,
   "id": "b6d8271a-e142-4de8-9f8a-a5562119cc45",
   "metadata": {
    "papermill": {
     "duration": null,
     "end_time": null,
     "exception": null,
     "start_time": null,
     "status": "pending"
    },
    "tags": []
   },
   "outputs": [],
   "source": [
    "# Confusion matrix\n",
    "confusion = metrics.confusion_matrix(y_train, pred_probs_train1)\n",
    "print(confusion)"
   ]
  },
  {
   "cell_type": "code",
   "execution_count": null,
   "id": "7f7bd102-7a4f-480a-8269-72c77b1ba9d9",
   "metadata": {
    "papermill": {
     "duration": null,
     "end_time": null,
     "exception": null,
     "start_time": null,
     "status": "pending"
    },
    "tags": []
   },
   "outputs": [],
   "source": [
    "TP = confusion[1,1] # true positive \n",
    "TN = confusion[0,0] # true negatives\n",
    "FP = confusion[0,1] # false positives\n",
    "FN = confusion[1,0] # false negatives"
   ]
  },
  {
   "cell_type": "code",
   "execution_count": null,
   "id": "2329826c-5b40-41ad-ac0c-10c59e635b39",
   "metadata": {
    "papermill": {
     "duration": null,
     "end_time": null,
     "exception": null,
     "start_time": null,
     "status": "pending"
    },
    "tags": []
   },
   "outputs": [],
   "source": [
    "# Accuracy\n",
    "print(\"Accuracy:-\",metrics.accuracy_score(y_train, pred_probs_train1))\n",
    "\n",
    "# Sensitivity\n",
    "print(\"Sensitivity:-\",TP / float(TP+FN))\n",
    "\n",
    "# Specificity\n",
    "print(\"Specificity:-\", TN / float(TN+FP))"
   ]
  },
  {
   "cell_type": "markdown",
   "id": "aa77652a-ae75-40e2-91ce-fadc46a38728",
   "metadata": {
    "papermill": {
     "duration": null,
     "end_time": null,
     "exception": null,
     "start_time": null,
     "status": "pending"
    },
    "tags": []
   },
   "source": [
    "## Decision Tree with PCA"
   ]
  },
  {
   "cell_type": "code",
   "execution_count": null,
   "id": "a842ae20-76b4-4695-bdf3-1410e2f7b042",
   "metadata": {
    "papermill": {
     "duration": null,
     "end_time": null,
     "exception": null,
     "start_time": null,
     "status": "pending"
    },
    "tags": []
   },
   "outputs": [],
   "source": [
    "from sklearn.tree import DecisionTreeClassifier"
   ]
  },
  {
   "cell_type": "code",
   "execution_count": null,
   "id": "fe2ff1eb-39ba-40d4-baf3-9d2889117a34",
   "metadata": {
    "papermill": {
     "duration": null,
     "end_time": null,
     "exception": null,
     "start_time": null,
     "status": "pending"
    },
    "tags": []
   },
   "outputs": [],
   "source": [
    "dt = DecisionTreeClassifier(random_state=42)"
   ]
  },
  {
   "cell_type": "code",
   "execution_count": null,
   "id": "acbb0ecb-5a18-4bf5-a043-54f6a86880fa",
   "metadata": {
    "papermill": {
     "duration": null,
     "end_time": null,
     "exception": null,
     "start_time": null,
     "status": "pending"
    },
    "tags": []
   },
   "outputs": [],
   "source": [
    "from sklearn.model_selection import GridSearchCV"
   ]
  },
  {
   "cell_type": "code",
   "execution_count": null,
   "id": "9739fba9-2525-4222-bba0-df0acec9a3e4",
   "metadata": {
    "papermill": {
     "duration": null,
     "end_time": null,
     "exception": null,
     "start_time": null,
     "status": "pending"
    },
    "tags": []
   },
   "outputs": [],
   "source": [
    "params = {\n",
    "    'max_depth': [2, 3, 5, 10, 20],\n",
    "    'min_samples_leaf': [5, 10, 20, 50, 100],\n",
    "    'min_samples_split': [50, 150, 50]\n",
    "}"
   ]
  },
  {
   "cell_type": "code",
   "execution_count": null,
   "id": "32d05a34-03b7-4659-ab46-80b56623de63",
   "metadata": {
    "papermill": {
     "duration": null,
     "end_time": null,
     "exception": null,
     "start_time": null,
     "status": "pending"
    },
    "tags": []
   },
   "outputs": [],
   "source": [
    "# Instantiate the grid search model\n",
    "grid_search = GridSearchCV(estimator=dt, \n",
    "                           param_grid=params, \n",
    "                           cv=4, n_jobs=-1, verbose=1, scoring = \"accuracy\")"
   ]
  },
  {
   "cell_type": "code",
   "execution_count": null,
   "id": "11dcf7cb-f5fd-489d-a8e6-cb676886fb09",
   "metadata": {
    "papermill": {
     "duration": null,
     "end_time": null,
     "exception": null,
     "start_time": null,
     "status": "pending"
    },
    "tags": []
   },
   "outputs": [],
   "source": [
    "grid_search.fit(df_train_pca, y_train)"
   ]
  },
  {
   "cell_type": "code",
   "execution_count": null,
   "id": "79e4825d-ba25-4df9-bb31-7e08a47097fe",
   "metadata": {
    "papermill": {
     "duration": null,
     "end_time": null,
     "exception": null,
     "start_time": null,
     "status": "pending"
    },
    "tags": []
   },
   "outputs": [],
   "source": [
    "score_df = pd.DataFrame(grid_search.cv_results_)\n",
    "score_df.head()"
   ]
  },
  {
   "cell_type": "code",
   "execution_count": null,
   "id": "60615d76-eb09-4bf0-840d-ff37f0e8fccb",
   "metadata": {
    "papermill": {
     "duration": null,
     "end_time": null,
     "exception": null,
     "start_time": null,
     "status": "pending"
    },
    "tags": []
   },
   "outputs": [],
   "source": [
    "score_df.nlargest(5,\"mean_test_score\")"
   ]
  },
  {
   "cell_type": "code",
   "execution_count": null,
   "id": "e11b4873-5d5e-4bb6-b998-3eaec12c1665",
   "metadata": {
    "papermill": {
     "duration": null,
     "end_time": null,
     "exception": null,
     "start_time": null,
     "status": "pending"
    },
    "tags": []
   },
   "outputs": [],
   "source": [
    "grid_search.best_estimator_"
   ]
  },
  {
   "cell_type": "code",
   "execution_count": null,
   "id": "33a7c308-3fc6-41f5-8c9e-f73a0916b29d",
   "metadata": {
    "papermill": {
     "duration": null,
     "end_time": null,
     "exception": null,
     "start_time": null,
     "status": "pending"
    },
    "tags": []
   },
   "outputs": [],
   "source": [
    "dt_best = DecisionTreeClassifier( random_state = 42,\n",
    "                                  max_depth=10, \n",
    "                                  min_samples_leaf=20,\n",
    "                                  min_samples_split=50)"
   ]
  },
  {
   "cell_type": "code",
   "execution_count": null,
   "id": "d5822e4a-bd9b-464c-8323-f457d4264999",
   "metadata": {
    "papermill": {
     "duration": null,
     "end_time": null,
     "exception": null,
     "start_time": null,
     "status": "pending"
    },
    "tags": []
   },
   "outputs": [],
   "source": [
    "dt_best.fit(df_train_pca, y_train)"
   ]
  },
  {
   "cell_type": "code",
   "execution_count": null,
   "id": "6d94eccc-d430-40b8-9208-3e1ebd180671",
   "metadata": {
    "papermill": {
     "duration": null,
     "end_time": null,
     "exception": null,
     "start_time": null,
     "status": "pending"
    },
    "tags": []
   },
   "outputs": [],
   "source": [
    "from sklearn.metrics import confusion_matrix, accuracy_score"
   ]
  },
  {
   "cell_type": "code",
   "execution_count": null,
   "id": "4bae2a19-5720-4bcc-80d9-7b3164fa83da",
   "metadata": {
    "papermill": {
     "duration": null,
     "end_time": null,
     "exception": null,
     "start_time": null,
     "status": "pending"
    },
    "tags": []
   },
   "outputs": [],
   "source": [
    "def evaluate_model(dt_classifier):\n",
    "    print(\"Train Accuracy :\", accuracy_score(y_train, dt_classifier.predict(df_train_pca)))\n",
    "    print(\"Train Confusion Matrix:\")\n",
    "    print(confusion_matrix(y_train, dt_classifier.predict(df_train_pca)))\n",
    "    print(\"-\"*50)\n",
    "    print(\"Test Accuracy :\", accuracy_score(y_test, dt_classifier.predict(df_test_pca)))\n",
    "    print(\"Test Confusion Matrix:\")\n",
    "    print(confusion_matrix(y_test, dt_classifier.predict(df_test_pca)))"
   ]
  },
  {
   "cell_type": "code",
   "execution_count": null,
   "id": "fee3de90-14f0-4de1-84b4-b294cd04e151",
   "metadata": {
    "papermill": {
     "duration": null,
     "end_time": null,
     "exception": null,
     "start_time": null,
     "status": "pending"
    },
    "tags": []
   },
   "outputs": [],
   "source": [
    "evaluate_model(dt_best)"
   ]
  },
  {
   "cell_type": "markdown",
   "id": "3b25af0e-5744-4c8e-949c-9fae3655cb1a",
   "metadata": {
    "papermill": {
     "duration": null,
     "end_time": null,
     "exception": null,
     "start_time": null,
     "status": "pending"
    },
    "tags": []
   },
   "source": [
    "##  Random Forest with PCA"
   ]
  },
  {
   "cell_type": "code",
   "execution_count": null,
   "id": "d1ba6849-9a26-46e6-8cf1-95eb5a5c1a51",
   "metadata": {
    "papermill": {
     "duration": null,
     "end_time": null,
     "exception": null,
     "start_time": null,
     "status": "pending"
    },
    "tags": []
   },
   "outputs": [],
   "source": [
    "from sklearn.ensemble import RandomForestClassifier"
   ]
  },
  {
   "cell_type": "code",
   "execution_count": null,
   "id": "d473a21d-b390-4c20-bd2e-5afd92792488",
   "metadata": {
    "papermill": {
     "duration": null,
     "end_time": null,
     "exception": null,
     "start_time": null,
     "status": "pending"
    },
    "tags": []
   },
   "outputs": [],
   "source": [
    "max_features = int(round(np.sqrt(X_train.shape[1])))    # number of variables to consider to split each node\n",
    "print(max_features)"
   ]
  },
  {
   "cell_type": "code",
   "execution_count": null,
   "id": "5701f668-b4bc-489b-950b-f134456db5b7",
   "metadata": {
    "papermill": {
     "duration": null,
     "end_time": null,
     "exception": null,
     "start_time": null,
     "status": "pending"
    },
    "tags": []
   },
   "outputs": [],
   "source": [
    "rf = RandomForestClassifier(n_estimators=100, max_depth=4, max_features=7, random_state=100, oob_score=True, verbose=1)"
   ]
  },
  {
   "cell_type": "code",
   "execution_count": null,
   "id": "ec65c30d-4df7-4593-b55e-55c7189a69ec",
   "metadata": {
    "papermill": {
     "duration": null,
     "end_time": null,
     "exception": null,
     "start_time": null,
     "status": "pending"
    },
    "tags": []
   },
   "outputs": [],
   "source": [
    "rf.fit(df_train_pca, y_train)"
   ]
  },
  {
   "cell_type": "code",
   "execution_count": null,
   "id": "3c1b057e-94be-42b7-82c4-eac3ccda9edc",
   "metadata": {
    "papermill": {
     "duration": null,
     "end_time": null,
     "exception": null,
     "start_time": null,
     "status": "pending"
    },
    "tags": []
   },
   "outputs": [],
   "source": [
    "rf.oob_score_"
   ]
  },
  {
   "cell_type": "code",
   "execution_count": null,
   "id": "3af9854d-6742-4ac2-aff1-0fdc799d5ecf",
   "metadata": {
    "papermill": {
     "duration": null,
     "end_time": null,
     "exception": null,
     "start_time": null,
     "status": "pending"
    },
    "tags": []
   },
   "outputs": [],
   "source": [
    "#from sklearn.metrics import plot_roc_curve\n",
    "from sklearn.metrics import RocCurveDisplay"
   ]
  },
  {
   "cell_type": "code",
   "execution_count": null,
   "id": "3a64c83c-6686-4c92-8466-ba8f38914151",
   "metadata": {
    "papermill": {
     "duration": null,
     "end_time": null,
     "exception": null,
     "start_time": null,
     "status": "pending"
    },
    "tags": []
   },
   "outputs": [],
   "source": [
    "#plot_roc_curve(rf, df_train_pca, y_train)\n",
    "RocCurveDisplay.from_estimator(rf, df_train_pca, y_train)\n",
    "plt.show()"
   ]
  },
  {
   "cell_type": "markdown",
   "id": "e19a7c68-7456-4329-ab83-d7d4cad0dc8b",
   "metadata": {
    "papermill": {
     "duration": null,
     "end_time": null,
     "exception": null,
     "start_time": null,
     "status": "pending"
    },
    "tags": []
   },
   "source": [
    "### Hyper-parameter tuning for the Random Forest"
   ]
  },
  {
   "cell_type": "code",
   "execution_count": null,
   "id": "33ad05af-1b46-47c1-b62f-b050d0d13e41",
   "metadata": {
    "papermill": {
     "duration": null,
     "end_time": null,
     "exception": null,
     "start_time": null,
     "status": "pending"
    },
    "tags": []
   },
   "outputs": [],
   "source": [
    "rf = RandomForestClassifier(random_state=42, n_jobs=-1)"
   ]
  },
  {
   "cell_type": "code",
   "execution_count": null,
   "id": "f574e438-33b8-4dd7-9977-c6065412ff34",
   "metadata": {
    "papermill": {
     "duration": null,
     "end_time": null,
     "exception": null,
     "start_time": null,
     "status": "pending"
    },
    "tags": []
   },
   "outputs": [],
   "source": [
    "params = {\n",
    "    'max_depth': [2,3,5],\n",
    "    'min_samples_leaf': [50,100],\n",
    "    'min_samples_split': [ 100, 150, ],\n",
    "    'n_estimators': [100, 200 ]\n",
    "}"
   ]
  },
  {
   "cell_type": "code",
   "execution_count": null,
   "id": "57e2909d-df6d-44df-b724-62764ff505d1",
   "metadata": {
    "papermill": {
     "duration": null,
     "end_time": null,
     "exception": null,
     "start_time": null,
     "status": "pending"
    },
    "tags": []
   },
   "outputs": [],
   "source": [
    "grid_search = GridSearchCV(estimator=rf,\n",
    "                           param_grid=params,\n",
    "                           cv = 4,\n",
    "                           n_jobs=-1, verbose=1, scoring=\"accuracy\")"
   ]
  },
  {
   "cell_type": "code",
   "execution_count": null,
   "id": "0d924b20-e3cd-4f1e-9b44-5b69b89f51a5",
   "metadata": {
    "papermill": {
     "duration": null,
     "end_time": null,
     "exception": null,
     "start_time": null,
     "status": "pending"
    },
    "tags": []
   },
   "outputs": [],
   "source": [
    "grid_search.fit(df_train_pca, y_train)"
   ]
  },
  {
   "cell_type": "code",
   "execution_count": null,
   "id": "68a25451-ef12-41a0-bacc-04a7c6383f2f",
   "metadata": {
    "papermill": {
     "duration": null,
     "end_time": null,
     "exception": null,
     "start_time": null,
     "status": "pending"
    },
    "tags": []
   },
   "outputs": [],
   "source": [
    "grid_search.best_score_ "
   ]
  },
  {
   "cell_type": "code",
   "execution_count": null,
   "id": "62340356-1519-4afc-8ef8-22782930d286",
   "metadata": {
    "papermill": {
     "duration": null,
     "end_time": null,
     "exception": null,
     "start_time": null,
     "status": "pending"
    },
    "tags": []
   },
   "outputs": [],
   "source": [
    "grid_search.best_params_"
   ]
  },
  {
   "cell_type": "code",
   "execution_count": null,
   "id": "bb37f789-2101-466f-9d32-e528441601a2",
   "metadata": {
    "papermill": {
     "duration": null,
     "end_time": null,
     "exception": null,
     "start_time": null,
     "status": "pending"
    },
    "tags": []
   },
   "outputs": [],
   "source": [
    "rfc_model = RandomForestClassifier(bootstrap=True,\n",
    "                             max_depth=5,\n",
    "                             min_samples_leaf=50, \n",
    "                             min_samples_split=100,\n",
    "                             n_estimators=200)"
   ]
  },
  {
   "cell_type": "code",
   "execution_count": null,
   "id": "8ed2e4b8-7e85-458e-b75e-b916f1546a74",
   "metadata": {
    "papermill": {
     "duration": null,
     "end_time": null,
     "exception": null,
     "start_time": null,
     "status": "pending"
    },
    "tags": []
   },
   "outputs": [],
   "source": [
    "rfc_model.fit(df_train_pca, y_train)"
   ]
  },
  {
   "cell_type": "code",
   "execution_count": null,
   "id": "0278e465-aa39-4880-a710-05f912d4cb0b",
   "metadata": {
    "papermill": {
     "duration": null,
     "end_time": null,
     "exception": null,
     "start_time": null,
     "status": "pending"
    },
    "tags": []
   },
   "outputs": [],
   "source": [
    "evaluate_model(rfc_model)"
   ]
  },
  {
   "cell_type": "code",
   "execution_count": null,
   "id": "7e3d7846-fc07-46ef-a432-6eea47ea5dd3",
   "metadata": {
    "papermill": {
     "duration": null,
     "end_time": null,
     "exception": null,
     "start_time": null,
     "status": "pending"
    },
    "tags": []
   },
   "outputs": [],
   "source": [
    "rfc_model.feature_importances_"
   ]
  },
  {
   "cell_type": "markdown",
   "id": "7deb30cc-dbff-4e71-8237-0b482b118e3d",
   "metadata": {
    "papermill": {
     "duration": null,
     "end_time": null,
     "exception": null,
     "start_time": null,
     "status": "pending"
    },
    "tags": []
   },
   "source": [
    "## Note:\n",
    "\n",
    "Note that the best parameters procuded the accuracy of 91% which is not significantly deterred than the accuracy of original random forest, which is pegged around 92%\n",
    "\n",
    "## Conclusion :\n",
    "\n",
    "The best model to predict the churn is observed to be Random Forest based on the accuracy as performance measure.\n",
    "\n",
    "\n",
    "The incoming calls (with local same operator mobile/other operator mobile/fixed lines, STD or Special) plays a vital role in understanding the possibility of churn. Hence, the operator should focus on incoming calls data and has to provide some kind of special offers to the customers whose incoming calls turning lower.\n",
    "\n",
    "## Details:\n",
    "\n",
    " After cleaning the data, we broadly employed three models as mentioned below including some variations within these models in order to arrive at the best model in each of the cases.\n",
    "\n",
    "### Logistic Regression  :\n",
    "\n",
    "Logistic Regression with RFE Logistic regression with PCA Random Forest For each of these models, the summary of performance measures are as follows:\n",
    "\n",
    "#### Logistic Regression\n",
    "\n",
    ".  Train Accuracy : ~90%\n",
    ". Test Accuracy : ~88%\n",
    "\n",
    "#### Logistic regression with PCA\n",
    "\n",
    ". Train Accuracy : ~92%\n",
    ". Test Accuracy : ~92%\n",
    "\n",
    "#### Decision Tree with PCA:\n",
    "\n",
    ". Train Accuracy : ~94%\n",
    ". Test Accuracy : ~93%\n",
    "\n",
    "\n",
    "#### Random Forest with PCA:\n",
    ". Train Accuracy :~ 92%\n",
    ". Test Accuracy :~ 92%"
   ]
  },
  {
   "cell_type": "markdown",
   "id": "01d6eb42-b708-43c0-b3e2-2e45a6484400",
   "metadata": {},
   "source": [
    "# v.Split Data Into Train and Test Data"
   ]
  },
  {
   "cell_type": "code",
   "execution_count": 420,
   "id": "6b3623b5-c975-4d67-9d45-87f6a96bfb02",
   "metadata": {},
   "outputs": [],
   "source": [
    "# divide data into train and test\n",
    "filtered_df.drop('id', axis=1, inplace=True)\n",
    "X = filtered_df.drop(\"churn_probability\", axis = 1)\n",
    "y = filtered_df.churn_probability\n",
    "X_train, X_test, y_train, y_test = train_test_split(X, y, test_size = 0.25, random_state = 4, stratify = y)"
   ]
  },
  {
   "cell_type": "code",
   "execution_count": 421,
   "id": "bc836084-bd0e-4179-b8a8-86e85b0f2313",
   "metadata": {},
   "outputs": [
    {
     "name": "stdout",
     "output_type": "stream",
     "text": [
      "(69999, 126)\n",
      "(69999, 125)\n",
      "(69999,)\n"
     ]
    }
   ],
   "source": [
    "print(filtered_df.shape)\n",
    "print(X.shape)\n",
    "print(y.shape)"
   ]
  },
  {
   "cell_type": "markdown",
   "id": "e1dbdc58-3e56-4fcf-80ab-b451aa4ca252",
   "metadata": {},
   "source": [
    "# vi.Perform Scaling"
   ]
  },
  {
   "cell_type": "code",
   "execution_count": 422,
   "id": "354bd466-ff2b-4dc6-8c8e-2eb2339501ad",
   "metadata": {},
   "outputs": [],
   "source": [
    "# Standard Scaler\n",
    "#Logistic Regression\n",
    "pipe_lr = Pipeline([('scl', StandardScaler()),\n",
    "                   ('LR', LogisticRegression(random_state=1))])\n",
    "# descion tree\n",
    "pipe_dt =Pipeline([('scl', StandardScaler()),\n",
    "                   ('DT', DecisionTreeClassifier(random_state=1))])\n",
    "# Random Forest\n",
    "pipe_rf = Pipeline ([\n",
    "    ('pca', IncrementalPCA(n_components=16)),\n",
    "    ('scl', StandardScaler()),\n",
    "    ('RF', RandomForestClassifier(random_state=1))\n",
    "])\n",
    "# K Nearest Neighbour\n",
    "pipe_knn =Pipeline([('scl', StandardScaler()),\n",
    "                   ('KNN', KNeighborsClassifier())])\n",
    "# XGB\n",
    "pipe_xgb =Pipeline([('scl', StandardScaler()),\n",
    "                   ('XGB', XGBClassifier(random_state=1))])"
   ]
  },
  {
   "cell_type": "markdown",
   "id": "8766341c-1847-4a86-80b5-b19b5e5ae56b",
   "metadata": {},
   "source": [
    "# FIT Model "
   ]
  },
  {
   "cell_type": "markdown",
   "id": "c0ba6d21-517b-4213-83f6-470003c5141e",
   "metadata": {},
   "source": [
    "## Logistic Regression"
   ]
  },
  {
   "cell_type": "code",
   "execution_count": 423,
   "id": "06a6b6c4-ac66-4f74-ad01-b04cef1e5960",
   "metadata": {},
   "outputs": [
    {
     "data": {
      "text/html": [
       "<style>#sk-container-id-9 {color: black;background-color: white;}#sk-container-id-9 pre{padding: 0;}#sk-container-id-9 div.sk-toggleable {background-color: white;}#sk-container-id-9 label.sk-toggleable__label {cursor: pointer;display: block;width: 100%;margin-bottom: 0;padding: 0.3em;box-sizing: border-box;text-align: center;}#sk-container-id-9 label.sk-toggleable__label-arrow:before {content: \"▸\";float: left;margin-right: 0.25em;color: #696969;}#sk-container-id-9 label.sk-toggleable__label-arrow:hover:before {color: black;}#sk-container-id-9 div.sk-estimator:hover label.sk-toggleable__label-arrow:before {color: black;}#sk-container-id-9 div.sk-toggleable__content {max-height: 0;max-width: 0;overflow: hidden;text-align: left;background-color: #f0f8ff;}#sk-container-id-9 div.sk-toggleable__content pre {margin: 0.2em;color: black;border-radius: 0.25em;background-color: #f0f8ff;}#sk-container-id-9 input.sk-toggleable__control:checked~div.sk-toggleable__content {max-height: 200px;max-width: 100%;overflow: auto;}#sk-container-id-9 input.sk-toggleable__control:checked~label.sk-toggleable__label-arrow:before {content: \"▾\";}#sk-container-id-9 div.sk-estimator input.sk-toggleable__control:checked~label.sk-toggleable__label {background-color: #d4ebff;}#sk-container-id-9 div.sk-label input.sk-toggleable__control:checked~label.sk-toggleable__label {background-color: #d4ebff;}#sk-container-id-9 input.sk-hidden--visually {border: 0;clip: rect(1px 1px 1px 1px);clip: rect(1px, 1px, 1px, 1px);height: 1px;margin: -1px;overflow: hidden;padding: 0;position: absolute;width: 1px;}#sk-container-id-9 div.sk-estimator {font-family: monospace;background-color: #f0f8ff;border: 1px dotted black;border-radius: 0.25em;box-sizing: border-box;margin-bottom: 0.5em;}#sk-container-id-9 div.sk-estimator:hover {background-color: #d4ebff;}#sk-container-id-9 div.sk-parallel-item::after {content: \"\";width: 100%;border-bottom: 1px solid gray;flex-grow: 1;}#sk-container-id-9 div.sk-label:hover label.sk-toggleable__label {background-color: #d4ebff;}#sk-container-id-9 div.sk-serial::before {content: \"\";position: absolute;border-left: 1px solid gray;box-sizing: border-box;top: 0;bottom: 0;left: 50%;z-index: 0;}#sk-container-id-9 div.sk-serial {display: flex;flex-direction: column;align-items: center;background-color: white;padding-right: 0.2em;padding-left: 0.2em;position: relative;}#sk-container-id-9 div.sk-item {position: relative;z-index: 1;}#sk-container-id-9 div.sk-parallel {display: flex;align-items: stretch;justify-content: center;background-color: white;position: relative;}#sk-container-id-9 div.sk-item::before, #sk-container-id-9 div.sk-parallel-item::before {content: \"\";position: absolute;border-left: 1px solid gray;box-sizing: border-box;top: 0;bottom: 0;left: 50%;z-index: -1;}#sk-container-id-9 div.sk-parallel-item {display: flex;flex-direction: column;z-index: 1;position: relative;background-color: white;}#sk-container-id-9 div.sk-parallel-item:first-child::after {align-self: flex-end;width: 50%;}#sk-container-id-9 div.sk-parallel-item:last-child::after {align-self: flex-start;width: 50%;}#sk-container-id-9 div.sk-parallel-item:only-child::after {width: 0;}#sk-container-id-9 div.sk-dashed-wrapped {border: 1px dashed gray;margin: 0 0.4em 0.5em 0.4em;box-sizing: border-box;padding-bottom: 0.4em;background-color: white;}#sk-container-id-9 div.sk-label label {font-family: monospace;font-weight: bold;display: inline-block;line-height: 1.2em;}#sk-container-id-9 div.sk-label-container {text-align: center;}#sk-container-id-9 div.sk-container {/* jupyter's `normalize.less` sets `[hidden] { display: none; }` but bootstrap.min.css set `[hidden] { display: none !important; }` so we also need the `!important` here to be able to override the default hidden behavior on the sphinx rendered scikit-learn.org. See: https://github.com/scikit-learn/scikit-learn/issues/21755 */display: inline-block !important;position: relative;}#sk-container-id-9 div.sk-text-repr-fallback {display: none;}</style><div id=\"sk-container-id-9\" class=\"sk-top-container\"><div class=\"sk-text-repr-fallback\"><pre>Pipeline(steps=[(&#x27;scl&#x27;, StandardScaler()),\n",
       "                (&#x27;LR&#x27;, LogisticRegression(random_state=1))])</pre><b>In a Jupyter environment, please rerun this cell to show the HTML representation or trust the notebook. <br />On GitHub, the HTML representation is unable to render, please try loading this page with nbviewer.org.</b></div><div class=\"sk-container\" hidden><div class=\"sk-item sk-dashed-wrapped\"><div class=\"sk-label-container\"><div class=\"sk-label sk-toggleable\"><input class=\"sk-toggleable__control sk-hidden--visually\" id=\"sk-estimator-id-28\" type=\"checkbox\" ><label for=\"sk-estimator-id-28\" class=\"sk-toggleable__label sk-toggleable__label-arrow\">Pipeline</label><div class=\"sk-toggleable__content\"><pre>Pipeline(steps=[(&#x27;scl&#x27;, StandardScaler()),\n",
       "                (&#x27;LR&#x27;, LogisticRegression(random_state=1))])</pre></div></div></div><div class=\"sk-serial\"><div class=\"sk-item\"><div class=\"sk-estimator sk-toggleable\"><input class=\"sk-toggleable__control sk-hidden--visually\" id=\"sk-estimator-id-29\" type=\"checkbox\" ><label for=\"sk-estimator-id-29\" class=\"sk-toggleable__label sk-toggleable__label-arrow\">StandardScaler</label><div class=\"sk-toggleable__content\"><pre>StandardScaler()</pre></div></div></div><div class=\"sk-item\"><div class=\"sk-estimator sk-toggleable\"><input class=\"sk-toggleable__control sk-hidden--visually\" id=\"sk-estimator-id-30\" type=\"checkbox\" ><label for=\"sk-estimator-id-30\" class=\"sk-toggleable__label sk-toggleable__label-arrow\">LogisticRegression</label><div class=\"sk-toggleable__content\"><pre>LogisticRegression(random_state=1)</pre></div></div></div></div></div></div></div>"
      ],
      "text/plain": [
       "Pipeline(steps=[('scl', StandardScaler()),\n",
       "                ('LR', LogisticRegression(random_state=1))])"
      ]
     },
     "execution_count": 423,
     "metadata": {},
     "output_type": "execute_result"
    }
   ],
   "source": [
    "pipe_lr.fit(X_train, y_train)"
   ]
  },
  {
   "cell_type": "code",
   "execution_count": 424,
   "id": "f48b8706-e5dd-492a-9e03-8ab4960cb7bd",
   "metadata": {},
   "outputs": [
    {
     "name": "stdout",
     "output_type": "stream",
     "text": [
      "Logistic Regression Model\n",
      "Train=> 93.15986971180403\n",
      "Test=> 93.02285714285713\n",
      "++++++++++++++++++++++++++++++++++++++++++++++++++++++++++++++++++++++++++++++++++++++++++++++++++++\n",
      "Pipeline(steps=[('scl', StandardScaler()),\n",
      "                ('LR', LogisticRegression(random_state=1))])\n"
     ]
    }
   ],
   "source": [
    "# print(\"Logistic Regression Model\")\n",
    "# print(lr_grid_search.score(x_test, y_test)*100)\n",
    "# print(\"+\"*100)\n",
    "# print(lr_grid_search.score(x_train, y_train)*100)\n",
    "# print(lr_grid_search.best_params_)\n",
    "\n",
    "print(\"Logistic Regression Model\")\n",
    "print(\"Train=>\",pipe_lr.score(X_train, y_train)*100)\n",
    "print(\"Test=>\",pipe_lr.score(X_test, y_test)*100)\n",
    "print(\"+\"*100)\n",
    "print(pipe_lr)\n"
   ]
  },
  {
   "cell_type": "code",
   "execution_count": 486,
   "id": "05d60e77-d97d-4b5a-8ac1-c02ef70e248c",
   "metadata": {},
   "outputs": [
    {
     "data": {
      "text/plain": [
       "<Axes: ylabel='Feature'>"
      ]
     },
     "execution_count": 486,
     "metadata": {},
     "output_type": "execute_result"
    },
    {
     "data": {
      "image/png": "[encoded data removed]",
      "text/plain": [
       "<Figure size 1000x600 with 1 Axes>"
      ]
     },
     "metadata": {},
     "output_type": "display_data"
    }
   ],
   "source": [
    "\n",
    "coefficients = pipe_lr['LR'].coef_[0]\n",
    "\n",
    "feature_importance = pd.DataFrame({'Feature': X.columns, 'Importance': np.abs(coefficients)})\n",
    "feature_importance = feature_importance.sort_values('Importance', ascending=True).tail(20)\n",
    "feature_importance.plot(x='Feature', y='Importance', kind='barh', figsize=(10, 6))\n"
   ]
  },
  {
   "cell_type": "code",
   "execution_count": null,
   "id": "f59337f8-1bd8-407a-a116-d3a391d2a2b4",
   "metadata": {},
   "outputs": [],
   "source": []
  },
  {
   "cell_type": "markdown",
   "id": "32f4fefb-6540-44d9-a156-a8147eb87721",
   "metadata": {},
   "source": [
    "# Decision Tree"
   ]
  },
  {
   "cell_type": "code",
   "execution_count": 315,
   "id": "deaf32ac-33de-4a86-b059-45550d25b436",
   "metadata": {},
   "outputs": [
    {
     "data": {
      "text/html": [
       "<style>#sk-container-id-14 {color: black;background-color: white;}#sk-container-id-14 pre{padding: 0;}#sk-container-id-14 div.sk-toggleable {background-color: white;}#sk-container-id-14 label.sk-toggleable__label {cursor: pointer;display: block;width: 100%;margin-bottom: 0;padding: 0.3em;box-sizing: border-box;text-align: center;}#sk-container-id-14 label.sk-toggleable__label-arrow:before {content: \"▸\";float: left;margin-right: 0.25em;color: #696969;}#sk-container-id-14 label.sk-toggleable__label-arrow:hover:before {color: black;}#sk-container-id-14 div.sk-estimator:hover label.sk-toggleable__label-arrow:before {color: black;}#sk-container-id-14 div.sk-toggleable__content {max-height: 0;max-width: 0;overflow: hidden;text-align: left;background-color: #f0f8ff;}#sk-container-id-14 div.sk-toggleable__content pre {margin: 0.2em;color: black;border-radius: 0.25em;background-color: #f0f8ff;}#sk-container-id-14 input.sk-toggleable__control:checked~div.sk-toggleable__content {max-height: 200px;max-width: 100%;overflow: auto;}#sk-container-id-14 input.sk-toggleable__control:checked~label.sk-toggleable__label-arrow:before {content: \"▾\";}#sk-container-id-14 div.sk-estimator input.sk-toggleable__control:checked~label.sk-toggleable__label {background-color: #d4ebff;}#sk-container-id-14 div.sk-label input.sk-toggleable__control:checked~label.sk-toggleable__label {background-color: #d4ebff;}#sk-container-id-14 input.sk-hidden--visually {border: 0;clip: rect(1px 1px 1px 1px);clip: rect(1px, 1px, 1px, 1px);height: 1px;margin: -1px;overflow: hidden;padding: 0;position: absolute;width: 1px;}#sk-container-id-14 div.sk-estimator {font-family: monospace;background-color: #f0f8ff;border: 1px dotted black;border-radius: 0.25em;box-sizing: border-box;margin-bottom: 0.5em;}#sk-container-id-14 div.sk-estimator:hover {background-color: #d4ebff;}#sk-container-id-14 div.sk-parallel-item::after {content: \"\";width: 100%;border-bottom: 1px solid gray;flex-grow: 1;}#sk-container-id-14 div.sk-label:hover label.sk-toggleable__label {background-color: #d4ebff;}#sk-container-id-14 div.sk-serial::before {content: \"\";position: absolute;border-left: 1px solid gray;box-sizing: border-box;top: 0;bottom: 0;left: 50%;z-index: 0;}#sk-container-id-14 div.sk-serial {display: flex;flex-direction: column;align-items: center;background-color: white;padding-right: 0.2em;padding-left: 0.2em;position: relative;}#sk-container-id-14 div.sk-item {position: relative;z-index: 1;}#sk-container-id-14 div.sk-parallel {display: flex;align-items: stretch;justify-content: center;background-color: white;position: relative;}#sk-container-id-14 div.sk-item::before, #sk-container-id-14 div.sk-parallel-item::before {content: \"\";position: absolute;border-left: 1px solid gray;box-sizing: border-box;top: 0;bottom: 0;left: 50%;z-index: -1;}#sk-container-id-14 div.sk-parallel-item {display: flex;flex-direction: column;z-index: 1;position: relative;background-color: white;}#sk-container-id-14 div.sk-parallel-item:first-child::after {align-self: flex-end;width: 50%;}#sk-container-id-14 div.sk-parallel-item:last-child::after {align-self: flex-start;width: 50%;}#sk-container-id-14 div.sk-parallel-item:only-child::after {width: 0;}#sk-container-id-14 div.sk-dashed-wrapped {border: 1px dashed gray;margin: 0 0.4em 0.5em 0.4em;box-sizing: border-box;padding-bottom: 0.4em;background-color: white;}#sk-container-id-14 div.sk-label label {font-family: monospace;font-weight: bold;display: inline-block;line-height: 1.2em;}#sk-container-id-14 div.sk-label-container {text-align: center;}#sk-container-id-14 div.sk-container {/* jupyter's `normalize.less` sets `[hidden] { display: none; }` but bootstrap.min.css set `[hidden] { display: none !important; }` so we also need the `!important` here to be able to override the default hidden behavior on the sphinx rendered scikit-learn.org. See: https://github.com/scikit-learn/scikit-learn/issues/21755 */display: inline-block !important;position: relative;}#sk-container-id-14 div.sk-text-repr-fallback {display: none;}</style><div id=\"sk-container-id-14\" class=\"sk-top-container\"><div class=\"sk-text-repr-fallback\"><pre>Pipeline(steps=[(&#x27;scl&#x27;, StandardScaler()),\n",
       "                (&#x27;DT&#x27;, DecisionTreeClassifier(random_state=1))])</pre><b>In a Jupyter environment, please rerun this cell to show the HTML representation or trust the notebook. <br />On GitHub, the HTML representation is unable to render, please try loading this page with nbviewer.org.</b></div><div class=\"sk-container\" hidden><div class=\"sk-item sk-dashed-wrapped\"><div class=\"sk-label-container\"><div class=\"sk-label sk-toggleable\"><input class=\"sk-toggleable__control sk-hidden--visually\" id=\"sk-estimator-id-40\" type=\"checkbox\" ><label for=\"sk-estimator-id-40\" class=\"sk-toggleable__label sk-toggleable__label-arrow\">Pipeline</label><div class=\"sk-toggleable__content\"><pre>Pipeline(steps=[(&#x27;scl&#x27;, StandardScaler()),\n",
       "                (&#x27;DT&#x27;, DecisionTreeClassifier(random_state=1))])</pre></div></div></div><div class=\"sk-serial\"><div class=\"sk-item\"><div class=\"sk-estimator sk-toggleable\"><input class=\"sk-toggleable__control sk-hidden--visually\" id=\"sk-estimator-id-41\" type=\"checkbox\" ><label for=\"sk-estimator-id-41\" class=\"sk-toggleable__label sk-toggleable__label-arrow\">StandardScaler</label><div class=\"sk-toggleable__content\"><pre>StandardScaler()</pre></div></div></div><div class=\"sk-item\"><div class=\"sk-estimator sk-toggleable\"><input class=\"sk-toggleable__control sk-hidden--visually\" id=\"sk-estimator-id-42\" type=\"checkbox\" ><label for=\"sk-estimator-id-42\" class=\"sk-toggleable__label sk-toggleable__label-arrow\">DecisionTreeClassifier</label><div class=\"sk-toggleable__content\"><pre>DecisionTreeClassifier(random_state=1)</pre></div></div></div></div></div></div></div>"
      ],
      "text/plain": [
       "Pipeline(steps=[('scl', StandardScaler()),\n",
       "                ('DT', DecisionTreeClassifier(random_state=1))])"
      ]
     },
     "execution_count": 315,
     "metadata": {},
     "output_type": "execute_result"
    }
   ],
   "source": [
    "#dt_grid_search.fit(x_train, y_train)\n",
    "pipe_dt.fit(X_train, y_train)"
   ]
  },
  {
   "cell_type": "code",
   "execution_count": 316,
   "id": "da1c16b8-4afa-4a62-b20f-24aae00a9fca",
   "metadata": {},
   "outputs": [
    {
     "name": "stdout",
     "output_type": "stream",
     "text": [
      "Decision Trees Model\n",
      "Train 100.0\n",
      "Test 90.90857142857143\n",
      "++++++++++++++++++++++++++++++++++++++++++++++++++++++++++++++++++++++++++++++++++++++++++++++++++++++++++++++++++++++++++++++++++++++++++++++++++++++\n"
     ]
    }
   ],
   "source": [
    "# print(\"Decision Trees Model\")\n",
    "# print(dt_grid_search.score(x_test, y_test)*100)\n",
    "# print(\"+\"*100)\n",
    "# print(dt_grid_search.best_params_)\n",
    "# print(dt_grid_search.score(x_train, y_train)*100)\n",
    "\n",
    "print(\"Decision Trees Model\")\n",
    "print(\"Train\",pipe_dt.score(X_train, y_train)*100)\n",
    "print(\"Test\",pipe_dt.score(X_test, y_test)*100)\n",
    "print(\"+\"*150)\n"
   ]
  },
  {
   "cell_type": "markdown",
   "id": "66bf9373-caec-48e2-8480-1bb3ea2db407",
   "metadata": {},
   "source": [
    "# Random Forest"
   ]
  },
  {
   "cell_type": "code",
   "execution_count": 388,
   "id": "73e837c5-c75b-4ea9-95ff-7ef254d8a5ef",
   "metadata": {},
   "outputs": [
    {
     "ename": "ValueError",
     "evalue": "could not convert string to float: '6/30/2014'",
     "output_type": "error",
     "traceback": [
      "\u001b[0;31m---------------------------------------------------------------------------\u001b[0m",
      "\u001b[0;31mValueError\u001b[0m                                Traceback (most recent call last)",
      "\u001b[0;32m/var/folders/ch/488bhs214vdbj61c6vz1q24w0000gn/T/ipykernel_19940/3802992151.py\u001b[0m in \u001b[0;36m?\u001b[0;34m()\u001b[0m\n\u001b[0;32m----> 1\u001b[0;31m \u001b[0mpipe_rf\u001b[0m\u001b[0;34m.\u001b[0m\u001b[0mfit\u001b[0m\u001b[0;34m(\u001b[0m\u001b[0mX_train\u001b[0m\u001b[0;34m,\u001b[0m \u001b[0my_train\u001b[0m\u001b[0;34m)\u001b[0m\u001b[0;34m\u001b[0m\u001b[0;34m\u001b[0m\u001b[0m\n\u001b[0m",
      "\u001b[0;32m/opt/homebrew/anaconda3/lib/python3.11/site-packages/sklearn/pipeline.py\u001b[0m in \u001b[0;36m?\u001b[0;34m(self, X, y, **fit_params)\u001b[0m\n\u001b[1;32m    397\u001b[0m         \u001b[0mself\u001b[0m \u001b[0;34m:\u001b[0m \u001b[0mobject\u001b[0m\u001b[0;34m\u001b[0m\u001b[0;34m\u001b[0m\u001b[0m\n\u001b[1;32m    398\u001b[0m             \u001b[0mPipeline\u001b[0m \u001b[0;32mwith\u001b[0m \u001b[0mfitted\u001b[0m \u001b[0msteps\u001b[0m\u001b[0;34m.\u001b[0m\u001b[0;34m\u001b[0m\u001b[0;34m\u001b[0m\u001b[0m\n\u001b[1;32m    399\u001b[0m         \"\"\"\n\u001b[1;32m    400\u001b[0m         \u001b[0mfit_params_steps\u001b[0m \u001b[0;34m=\u001b[0m \u001b[0mself\u001b[0m\u001b[0;34m.\u001b[0m\u001b[0m_check_fit_params\u001b[0m\u001b[0;34m(\u001b[0m\u001b[0;34m**\u001b[0m\u001b[0mfit_params\u001b[0m\u001b[0;34m)\u001b[0m\u001b[0;34m\u001b[0m\u001b[0;34m\u001b[0m\u001b[0m\n\u001b[0;32m--> 401\u001b[0;31m         \u001b[0mXt\u001b[0m \u001b[0;34m=\u001b[0m \u001b[0mself\u001b[0m\u001b[0;34m.\u001b[0m\u001b[0m_fit\u001b[0m\u001b[0;34m(\u001b[0m\u001b[0mX\u001b[0m\u001b[0;34m,\u001b[0m \u001b[0my\u001b[0m\u001b[0;34m,\u001b[0m \u001b[0;34m**\u001b[0m\u001b[0mfit_params_steps\u001b[0m\u001b[0;34m)\u001b[0m\u001b[0;34m\u001b[0m\u001b[0;34m\u001b[0m\u001b[0m\n\u001b[0m\u001b[1;32m    402\u001b[0m         \u001b[0;32mwith\u001b[0m \u001b[0m_print_elapsed_time\u001b[0m\u001b[0;34m(\u001b[0m\u001b[0;34m\"Pipeline\"\u001b[0m\u001b[0;34m,\u001b[0m \u001b[0mself\u001b[0m\u001b[0;34m.\u001b[0m\u001b[0m_log_message\u001b[0m\u001b[0;34m(\u001b[0m\u001b[0mlen\u001b[0m\u001b[0;34m(\u001b[0m\u001b[0mself\u001b[0m\u001b[0;34m.\u001b[0m\u001b[0msteps\u001b[0m\u001b[0;34m)\u001b[0m \u001b[0;34m-\u001b[0m \u001b[0;36m1\u001b[0m\u001b[0;34m)\u001b[0m\u001b[0;34m)\u001b[0m\u001b[0;34m:\u001b[0m\u001b[0;34m\u001b[0m\u001b[0;34m\u001b[0m\u001b[0m\n\u001b[1;32m    403\u001b[0m             \u001b[0;32mif\u001b[0m \u001b[0mself\u001b[0m\u001b[0;34m.\u001b[0m\u001b[0m_final_estimator\u001b[0m \u001b[0;34m!=\u001b[0m \u001b[0;34m\"passthrough\"\u001b[0m\u001b[0;34m:\u001b[0m\u001b[0;34m\u001b[0m\u001b[0;34m\u001b[0m\u001b[0m\n\u001b[1;32m    404\u001b[0m                 \u001b[0mfit_params_last_step\u001b[0m \u001b[0;34m=\u001b[0m \u001b[0mfit_params_steps\u001b[0m\u001b[0;34m[\u001b[0m\u001b[0mself\u001b[0m\u001b[0;34m.\u001b[0m\u001b[0msteps\u001b[0m\u001b[0;34m[\u001b[0m\u001b[0;34m-\u001b[0m\u001b[0;36m1\u001b[0m\u001b[0;34m]\u001b[0m\u001b[0;34m[\u001b[0m\u001b[0;36m0\u001b[0m\u001b[0;34m]\u001b[0m\u001b[0;34m]\u001b[0m\u001b[0;34m\u001b[0m\u001b[0;34m\u001b[0m\u001b[0m\n",
      "\u001b[0;32m/opt/homebrew/anaconda3/lib/python3.11/site-packages/sklearn/pipeline.py\u001b[0m in \u001b[0;36m?\u001b[0;34m(self, X, y, **fit_params_steps)\u001b[0m\n\u001b[1;32m    355\u001b[0m                 \u001b[0mcloned_transformer\u001b[0m \u001b[0;34m=\u001b[0m \u001b[0mtransformer\u001b[0m\u001b[0;34m\u001b[0m\u001b[0;34m\u001b[0m\u001b[0m\n\u001b[1;32m    356\u001b[0m             \u001b[0;32melse\u001b[0m\u001b[0;34m:\u001b[0m\u001b[0;34m\u001b[0m\u001b[0;34m\u001b[0m\u001b[0m\n\u001b[1;32m    357\u001b[0m                 \u001b[0mcloned_transformer\u001b[0m \u001b[0;34m=\u001b[0m \u001b[0mclone\u001b[0m\u001b[0;34m(\u001b[0m\u001b[0mtransformer\u001b[0m\u001b[0;34m)\u001b[0m\u001b[0;34m\u001b[0m\u001b[0;34m\u001b[0m\u001b[0m\n\u001b[1;32m    358\u001b[0m             \u001b[0;31m# Fit or load from cache the current transformer\u001b[0m\u001b[0;34m\u001b[0m\u001b[0;34m\u001b[0m\u001b[0m\n\u001b[0;32m--> 359\u001b[0;31m             X, fitted_transformer = fit_transform_one_cached(\n\u001b[0m\u001b[1;32m    360\u001b[0m                 \u001b[0mcloned_transformer\u001b[0m\u001b[0;34m,\u001b[0m\u001b[0;34m\u001b[0m\u001b[0;34m\u001b[0m\u001b[0m\n\u001b[1;32m    361\u001b[0m                 \u001b[0mX\u001b[0m\u001b[0;34m,\u001b[0m\u001b[0;34m\u001b[0m\u001b[0;34m\u001b[0m\u001b[0m\n\u001b[1;32m    362\u001b[0m                 \u001b[0my\u001b[0m\u001b[0;34m,\u001b[0m\u001b[0;34m\u001b[0m\u001b[0;34m\u001b[0m\u001b[0m\n",
      "\u001b[0;32m/opt/homebrew/anaconda3/lib/python3.11/site-packages/joblib/memory.py\u001b[0m in \u001b[0;36m?\u001b[0;34m(self, *args, **kwargs)\u001b[0m\n\u001b[1;32m    348\u001b[0m     \u001b[0;32mdef\u001b[0m \u001b[0m__call__\u001b[0m\u001b[0;34m(\u001b[0m\u001b[0mself\u001b[0m\u001b[0;34m,\u001b[0m \u001b[0;34m*\u001b[0m\u001b[0margs\u001b[0m\u001b[0;34m,\u001b[0m \u001b[0;34m**\u001b[0m\u001b[0mkwargs\u001b[0m\u001b[0;34m)\u001b[0m\u001b[0;34m:\u001b[0m\u001b[0;34m\u001b[0m\u001b[0;34m\u001b[0m\u001b[0m\n\u001b[0;32m--> 349\u001b[0;31m         \u001b[0;32mreturn\u001b[0m \u001b[0mself\u001b[0m\u001b[0;34m.\u001b[0m\u001b[0mfunc\u001b[0m\u001b[0;34m(\u001b[0m\u001b[0;34m*\u001b[0m\u001b[0margs\u001b[0m\u001b[0;34m,\u001b[0m \u001b[0;34m**\u001b[0m\u001b[0mkwargs\u001b[0m\u001b[0;34m)\u001b[0m\u001b[0;34m\u001b[0m\u001b[0;34m\u001b[0m\u001b[0m\n\u001b[0m",
      "\u001b[0;32m/opt/homebrew/anaconda3/lib/python3.11/site-packages/sklearn/pipeline.py\u001b[0m in \u001b[0;36m?\u001b[0;34m(transformer, X, y, weight, message_clsname, message, **fit_params)\u001b[0m\n\u001b[1;32m    889\u001b[0m     \u001b[0mbe\u001b[0m \u001b[0mmultiplied\u001b[0m \u001b[0mby\u001b[0m\u001b[0;31m \u001b[0m\u001b[0;31m`\u001b[0m\u001b[0;31m`\u001b[0m\u001b[0mweight\u001b[0m\u001b[0;31m`\u001b[0m\u001b[0;31m`\u001b[0m\u001b[0;34m.\u001b[0m\u001b[0;34m\u001b[0m\u001b[0;34m\u001b[0m\u001b[0m\n\u001b[1;32m    890\u001b[0m     \"\"\"\n\u001b[1;32m    891\u001b[0m     \u001b[0;32mwith\u001b[0m \u001b[0m_print_elapsed_time\u001b[0m\u001b[0;34m(\u001b[0m\u001b[0mmessage_clsname\u001b[0m\u001b[0;34m,\u001b[0m \u001b[0mmessage\u001b[0m\u001b[0;34m)\u001b[0m\u001b[0;34m:\u001b[0m\u001b[0;34m\u001b[0m\u001b[0;34m\u001b[0m\u001b[0m\n\u001b[1;32m    892\u001b[0m         \u001b[0;32mif\u001b[0m \u001b[0mhasattr\u001b[0m\u001b[0;34m(\u001b[0m\u001b[0mtransformer\u001b[0m\u001b[0;34m,\u001b[0m \u001b[0;34m\"fit_transform\"\u001b[0m\u001b[0;34m)\u001b[0m\u001b[0;34m:\u001b[0m\u001b[0;34m\u001b[0m\u001b[0;34m\u001b[0m\u001b[0m\n\u001b[0;32m--> 893\u001b[0;31m             \u001b[0mres\u001b[0m \u001b[0;34m=\u001b[0m \u001b[0mtransformer\u001b[0m\u001b[0;34m.\u001b[0m\u001b[0mfit_transform\u001b[0m\u001b[0;34m(\u001b[0m\u001b[0mX\u001b[0m\u001b[0;34m,\u001b[0m \u001b[0my\u001b[0m\u001b[0;34m,\u001b[0m \u001b[0;34m**\u001b[0m\u001b[0mfit_params\u001b[0m\u001b[0;34m)\u001b[0m\u001b[0;34m\u001b[0m\u001b[0;34m\u001b[0m\u001b[0m\n\u001b[0m\u001b[1;32m    894\u001b[0m         \u001b[0;32melse\u001b[0m\u001b[0;34m:\u001b[0m\u001b[0;34m\u001b[0m\u001b[0;34m\u001b[0m\u001b[0m\n\u001b[1;32m    895\u001b[0m             \u001b[0mres\u001b[0m \u001b[0;34m=\u001b[0m \u001b[0mtransformer\u001b[0m\u001b[0;34m.\u001b[0m\u001b[0mfit\u001b[0m\u001b[0;34m(\u001b[0m\u001b[0mX\u001b[0m\u001b[0;34m,\u001b[0m \u001b[0my\u001b[0m\u001b[0;34m,\u001b[0m \u001b[0;34m**\u001b[0m\u001b[0mfit_params\u001b[0m\u001b[0;34m)\u001b[0m\u001b[0;34m.\u001b[0m\u001b[0mtransform\u001b[0m\u001b[0;34m(\u001b[0m\u001b[0mX\u001b[0m\u001b[0;34m)\u001b[0m\u001b[0;34m\u001b[0m\u001b[0;34m\u001b[0m\u001b[0m\n\u001b[1;32m    896\u001b[0m \u001b[0;34m\u001b[0m\u001b[0m\n",
      "\u001b[0;32m/opt/homebrew/anaconda3/lib/python3.11/site-packages/sklearn/utils/_set_output.py\u001b[0m in \u001b[0;36m?\u001b[0;34m(self, X, *args, **kwargs)\u001b[0m\n\u001b[1;32m    138\u001b[0m     \u001b[0;34m@\u001b[0m\u001b[0mwraps\u001b[0m\u001b[0;34m(\u001b[0m\u001b[0mf\u001b[0m\u001b[0;34m)\u001b[0m\u001b[0;34m\u001b[0m\u001b[0;34m\u001b[0m\u001b[0m\n\u001b[1;32m    139\u001b[0m     \u001b[0;32mdef\u001b[0m \u001b[0mwrapped\u001b[0m\u001b[0;34m(\u001b[0m\u001b[0mself\u001b[0m\u001b[0;34m,\u001b[0m \u001b[0mX\u001b[0m\u001b[0;34m,\u001b[0m \u001b[0;34m*\u001b[0m\u001b[0margs\u001b[0m\u001b[0;34m,\u001b[0m \u001b[0;34m**\u001b[0m\u001b[0mkwargs\u001b[0m\u001b[0;34m)\u001b[0m\u001b[0;34m:\u001b[0m\u001b[0;34m\u001b[0m\u001b[0;34m\u001b[0m\u001b[0m\n\u001b[0;32m--> 140\u001b[0;31m         \u001b[0mdata_to_wrap\u001b[0m \u001b[0;34m=\u001b[0m \u001b[0mf\u001b[0m\u001b[0;34m(\u001b[0m\u001b[0mself\u001b[0m\u001b[0;34m,\u001b[0m \u001b[0mX\u001b[0m\u001b[0;34m,\u001b[0m \u001b[0;34m*\u001b[0m\u001b[0margs\u001b[0m\u001b[0;34m,\u001b[0m \u001b[0;34m**\u001b[0m\u001b[0mkwargs\u001b[0m\u001b[0;34m)\u001b[0m\u001b[0;34m\u001b[0m\u001b[0;34m\u001b[0m\u001b[0m\n\u001b[0m\u001b[1;32m    141\u001b[0m         \u001b[0;32mif\u001b[0m \u001b[0misinstance\u001b[0m\u001b[0;34m(\u001b[0m\u001b[0mdata_to_wrap\u001b[0m\u001b[0;34m,\u001b[0m \u001b[0mtuple\u001b[0m\u001b[0;34m)\u001b[0m\u001b[0;34m:\u001b[0m\u001b[0;34m\u001b[0m\u001b[0;34m\u001b[0m\u001b[0m\n\u001b[1;32m    142\u001b[0m             \u001b[0;31m# only wrap the first output for cross decomposition\u001b[0m\u001b[0;34m\u001b[0m\u001b[0;34m\u001b[0m\u001b[0m\n\u001b[1;32m    143\u001b[0m             return (\n",
      "\u001b[0;32m/opt/homebrew/anaconda3/lib/python3.11/site-packages/sklearn/base.py\u001b[0m in \u001b[0;36m?\u001b[0;34m(self, X, y, **fit_params)\u001b[0m\n\u001b[1;32m    877\u001b[0m             \u001b[0;31m# fit method of arity 1 (unsupervised transformation)\u001b[0m\u001b[0;34m\u001b[0m\u001b[0;34m\u001b[0m\u001b[0m\n\u001b[1;32m    878\u001b[0m             \u001b[0;32mreturn\u001b[0m \u001b[0mself\u001b[0m\u001b[0;34m.\u001b[0m\u001b[0mfit\u001b[0m\u001b[0;34m(\u001b[0m\u001b[0mX\u001b[0m\u001b[0;34m,\u001b[0m \u001b[0;34m**\u001b[0m\u001b[0mfit_params\u001b[0m\u001b[0;34m)\u001b[0m\u001b[0;34m.\u001b[0m\u001b[0mtransform\u001b[0m\u001b[0;34m(\u001b[0m\u001b[0mX\u001b[0m\u001b[0;34m)\u001b[0m\u001b[0;34m\u001b[0m\u001b[0;34m\u001b[0m\u001b[0m\n\u001b[1;32m    879\u001b[0m         \u001b[0;32melse\u001b[0m\u001b[0;34m:\u001b[0m\u001b[0;34m\u001b[0m\u001b[0;34m\u001b[0m\u001b[0m\n\u001b[1;32m    880\u001b[0m             \u001b[0;31m# fit method of arity 2 (supervised transformation)\u001b[0m\u001b[0;34m\u001b[0m\u001b[0;34m\u001b[0m\u001b[0m\n\u001b[0;32m--> 881\u001b[0;31m             \u001b[0;32mreturn\u001b[0m \u001b[0mself\u001b[0m\u001b[0;34m.\u001b[0m\u001b[0mfit\u001b[0m\u001b[0;34m(\u001b[0m\u001b[0mX\u001b[0m\u001b[0;34m,\u001b[0m \u001b[0my\u001b[0m\u001b[0;34m,\u001b[0m \u001b[0;34m**\u001b[0m\u001b[0mfit_params\u001b[0m\u001b[0;34m)\u001b[0m\u001b[0;34m.\u001b[0m\u001b[0mtransform\u001b[0m\u001b[0;34m(\u001b[0m\u001b[0mX\u001b[0m\u001b[0;34m)\u001b[0m\u001b[0;34m\u001b[0m\u001b[0;34m\u001b[0m\u001b[0m\n\u001b[0m",
      "\u001b[0;32m/opt/homebrew/anaconda3/lib/python3.11/site-packages/sklearn/decomposition/_incremental_pca.py\u001b[0m in \u001b[0;36m?\u001b[0;34m(self, X, y)\u001b[0m\n\u001b[1;32m    219\u001b[0m         \u001b[0mself\u001b[0m\u001b[0;34m.\u001b[0m\u001b[0mexplained_variance_\u001b[0m \u001b[0;34m=\u001b[0m \u001b[0;32mNone\u001b[0m\u001b[0;34m\u001b[0m\u001b[0;34m\u001b[0m\u001b[0m\n\u001b[1;32m    220\u001b[0m         \u001b[0mself\u001b[0m\u001b[0;34m.\u001b[0m\u001b[0mexplained_variance_ratio_\u001b[0m \u001b[0;34m=\u001b[0m \u001b[0;32mNone\u001b[0m\u001b[0;34m\u001b[0m\u001b[0;34m\u001b[0m\u001b[0m\n\u001b[1;32m    221\u001b[0m         \u001b[0mself\u001b[0m\u001b[0;34m.\u001b[0m\u001b[0mnoise_variance_\u001b[0m \u001b[0;34m=\u001b[0m \u001b[0;32mNone\u001b[0m\u001b[0;34m\u001b[0m\u001b[0;34m\u001b[0m\u001b[0m\n\u001b[1;32m    222\u001b[0m \u001b[0;34m\u001b[0m\u001b[0m\n\u001b[0;32m--> 223\u001b[0;31m         X = self._validate_data(\n\u001b[0m\u001b[1;32m    224\u001b[0m             \u001b[0mX\u001b[0m\u001b[0;34m,\u001b[0m\u001b[0;34m\u001b[0m\u001b[0;34m\u001b[0m\u001b[0m\n\u001b[1;32m    225\u001b[0m             \u001b[0maccept_sparse\u001b[0m\u001b[0;34m=\u001b[0m\u001b[0;34m[\u001b[0m\u001b[0;34m\"csr\"\u001b[0m\u001b[0;34m,\u001b[0m \u001b[0;34m\"csc\"\u001b[0m\u001b[0;34m,\u001b[0m \u001b[0;34m\"lil\"\u001b[0m\u001b[0;34m]\u001b[0m\u001b[0;34m,\u001b[0m\u001b[0;34m\u001b[0m\u001b[0;34m\u001b[0m\u001b[0m\n\u001b[1;32m    226\u001b[0m             \u001b[0mcopy\u001b[0m\u001b[0;34m=\u001b[0m\u001b[0mself\u001b[0m\u001b[0;34m.\u001b[0m\u001b[0mcopy\u001b[0m\u001b[0;34m,\u001b[0m\u001b[0;34m\u001b[0m\u001b[0;34m\u001b[0m\u001b[0m\n",
      "\u001b[0;32m/opt/homebrew/anaconda3/lib/python3.11/site-packages/sklearn/base.py\u001b[0m in \u001b[0;36m?\u001b[0;34m(self, X, y, reset, validate_separately, **check_params)\u001b[0m\n\u001b[1;32m    561\u001b[0m \u001b[0;34m\u001b[0m\u001b[0m\n\u001b[1;32m    562\u001b[0m         \u001b[0;32mif\u001b[0m \u001b[0mno_val_X\u001b[0m \u001b[0;32mand\u001b[0m \u001b[0mno_val_y\u001b[0m\u001b[0;34m:\u001b[0m\u001b[0;34m\u001b[0m\u001b[0;34m\u001b[0m\u001b[0m\n\u001b[1;32m    563\u001b[0m             \u001b[0;32mraise\u001b[0m \u001b[0mValueError\u001b[0m\u001b[0;34m(\u001b[0m\u001b[0;34m\"Validation should be done on X, y or both.\"\u001b[0m\u001b[0;34m)\u001b[0m\u001b[0;34m\u001b[0m\u001b[0;34m\u001b[0m\u001b[0m\n\u001b[1;32m    564\u001b[0m         \u001b[0;32melif\u001b[0m \u001b[0;32mnot\u001b[0m \u001b[0mno_val_X\u001b[0m \u001b[0;32mand\u001b[0m \u001b[0mno_val_y\u001b[0m\u001b[0;34m:\u001b[0m\u001b[0;34m\u001b[0m\u001b[0;34m\u001b[0m\u001b[0m\n\u001b[0;32m--> 565\u001b[0;31m             \u001b[0mX\u001b[0m \u001b[0;34m=\u001b[0m \u001b[0mcheck_array\u001b[0m\u001b[0;34m(\u001b[0m\u001b[0mX\u001b[0m\u001b[0;34m,\u001b[0m \u001b[0minput_name\u001b[0m\u001b[0;34m=\u001b[0m\u001b[0;34m\"X\"\u001b[0m\u001b[0;34m,\u001b[0m \u001b[0;34m**\u001b[0m\u001b[0mcheck_params\u001b[0m\u001b[0;34m)\u001b[0m\u001b[0;34m\u001b[0m\u001b[0;34m\u001b[0m\u001b[0m\n\u001b[0m\u001b[1;32m    566\u001b[0m             \u001b[0mout\u001b[0m \u001b[0;34m=\u001b[0m \u001b[0mX\u001b[0m\u001b[0;34m\u001b[0m\u001b[0;34m\u001b[0m\u001b[0m\n\u001b[1;32m    567\u001b[0m         \u001b[0;32melif\u001b[0m \u001b[0mno_val_X\u001b[0m \u001b[0;32mand\u001b[0m \u001b[0;32mnot\u001b[0m \u001b[0mno_val_y\u001b[0m\u001b[0;34m:\u001b[0m\u001b[0;34m\u001b[0m\u001b[0;34m\u001b[0m\u001b[0m\n\u001b[1;32m    568\u001b[0m             \u001b[0my\u001b[0m \u001b[0;34m=\u001b[0m \u001b[0m_check_y\u001b[0m\u001b[0;34m(\u001b[0m\u001b[0my\u001b[0m\u001b[0;34m,\u001b[0m \u001b[0;34m**\u001b[0m\u001b[0mcheck_params\u001b[0m\u001b[0;34m)\u001b[0m\u001b[0;34m\u001b[0m\u001b[0;34m\u001b[0m\u001b[0m\n",
      "\u001b[0;32m/opt/homebrew/anaconda3/lib/python3.11/site-packages/sklearn/utils/validation.py\u001b[0m in \u001b[0;36m?\u001b[0;34m(array, accept_sparse, accept_large_sparse, dtype, order, copy, force_all_finite, ensure_2d, allow_nd, ensure_min_samples, ensure_min_features, estimator, input_name)\u001b[0m\n\u001b[1;32m    876\u001b[0m                         )\n\u001b[1;32m    877\u001b[0m                     \u001b[0marray\u001b[0m \u001b[0;34m=\u001b[0m \u001b[0mxp\u001b[0m\u001b[0;34m.\u001b[0m\u001b[0mastype\u001b[0m\u001b[0;34m(\u001b[0m\u001b[0marray\u001b[0m\u001b[0;34m,\u001b[0m \u001b[0mdtype\u001b[0m\u001b[0;34m,\u001b[0m \u001b[0mcopy\u001b[0m\u001b[0;34m=\u001b[0m\u001b[0;32mFalse\u001b[0m\u001b[0;34m)\u001b[0m\u001b[0;34m\u001b[0m\u001b[0;34m\u001b[0m\u001b[0m\n\u001b[1;32m    878\u001b[0m                 \u001b[0;32melse\u001b[0m\u001b[0;34m:\u001b[0m\u001b[0;34m\u001b[0m\u001b[0;34m\u001b[0m\u001b[0m\n\u001b[1;32m    879\u001b[0m                     \u001b[0marray\u001b[0m \u001b[0;34m=\u001b[0m \u001b[0m_asarray_with_order\u001b[0m\u001b[0;34m(\u001b[0m\u001b[0marray\u001b[0m\u001b[0;34m,\u001b[0m \u001b[0morder\u001b[0m\u001b[0;34m=\u001b[0m\u001b[0morder\u001b[0m\u001b[0;34m,\u001b[0m \u001b[0mdtype\u001b[0m\u001b[0;34m=\u001b[0m\u001b[0mdtype\u001b[0m\u001b[0;34m,\u001b[0m \u001b[0mxp\u001b[0m\u001b[0;34m=\u001b[0m\u001b[0mxp\u001b[0m\u001b[0;34m)\u001b[0m\u001b[0;34m\u001b[0m\u001b[0;34m\u001b[0m\u001b[0m\n\u001b[0;32m--> 880\u001b[0;31m             \u001b[0;32mexcept\u001b[0m \u001b[0mComplexWarning\u001b[0m \u001b[0;32mas\u001b[0m \u001b[0mcomplex_warning\u001b[0m\u001b[0;34m:\u001b[0m\u001b[0;34m\u001b[0m\u001b[0;34m\u001b[0m\u001b[0m\n\u001b[0m\u001b[1;32m    881\u001b[0m                 raise ValueError(\n\u001b[1;32m    882\u001b[0m                     \u001b[0;34m\"Complex data not supported\\n{}\\n\"\u001b[0m\u001b[0;34m.\u001b[0m\u001b[0mformat\u001b[0m\u001b[0;34m(\u001b[0m\u001b[0marray\u001b[0m\u001b[0;34m)\u001b[0m\u001b[0;34m\u001b[0m\u001b[0;34m\u001b[0m\u001b[0m\n\u001b[1;32m    883\u001b[0m                 ) from complex_warning\n",
      "\u001b[0;32m/opt/homebrew/anaconda3/lib/python3.11/site-packages/sklearn/utils/_array_api.py\u001b[0m in \u001b[0;36m?\u001b[0;34m(array, dtype, order, copy, xp)\u001b[0m\n\u001b[1;32m    181\u001b[0m     \u001b[0;32mif\u001b[0m \u001b[0mxp\u001b[0m \u001b[0;32mis\u001b[0m \u001b[0;32mNone\u001b[0m\u001b[0;34m:\u001b[0m\u001b[0;34m\u001b[0m\u001b[0;34m\u001b[0m\u001b[0m\n\u001b[1;32m    182\u001b[0m         \u001b[0mxp\u001b[0m\u001b[0;34m,\u001b[0m \u001b[0m_\u001b[0m \u001b[0;34m=\u001b[0m \u001b[0mget_namespace\u001b[0m\u001b[0;34m(\u001b[0m\u001b[0marray\u001b[0m\u001b[0;34m)\u001b[0m\u001b[0;34m\u001b[0m\u001b[0;34m\u001b[0m\u001b[0m\n\u001b[1;32m    183\u001b[0m     \u001b[0;32mif\u001b[0m \u001b[0mxp\u001b[0m\u001b[0;34m.\u001b[0m\u001b[0m__name__\u001b[0m \u001b[0;32min\u001b[0m \u001b[0;34m{\u001b[0m\u001b[0;34m\"numpy\"\u001b[0m\u001b[0;34m,\u001b[0m \u001b[0;34m\"numpy.array_api\"\u001b[0m\u001b[0;34m}\u001b[0m\u001b[0;34m:\u001b[0m\u001b[0;34m\u001b[0m\u001b[0;34m\u001b[0m\u001b[0m\n\u001b[1;32m    184\u001b[0m         \u001b[0;31m# Use NumPy API to support order\u001b[0m\u001b[0;34m\u001b[0m\u001b[0;34m\u001b[0m\u001b[0m\n\u001b[0;32m--> 185\u001b[0;31m         \u001b[0marray\u001b[0m \u001b[0;34m=\u001b[0m \u001b[0mnumpy\u001b[0m\u001b[0;34m.\u001b[0m\u001b[0masarray\u001b[0m\u001b[0;34m(\u001b[0m\u001b[0marray\u001b[0m\u001b[0;34m,\u001b[0m \u001b[0morder\u001b[0m\u001b[0;34m=\u001b[0m\u001b[0morder\u001b[0m\u001b[0;34m,\u001b[0m \u001b[0mdtype\u001b[0m\u001b[0;34m=\u001b[0m\u001b[0mdtype\u001b[0m\u001b[0;34m)\u001b[0m\u001b[0;34m\u001b[0m\u001b[0;34m\u001b[0m\u001b[0m\n\u001b[0m\u001b[1;32m    186\u001b[0m         \u001b[0;32mreturn\u001b[0m \u001b[0mxp\u001b[0m\u001b[0;34m.\u001b[0m\u001b[0masarray\u001b[0m\u001b[0;34m(\u001b[0m\u001b[0marray\u001b[0m\u001b[0;34m,\u001b[0m \u001b[0mcopy\u001b[0m\u001b[0;34m=\u001b[0m\u001b[0mcopy\u001b[0m\u001b[0;34m)\u001b[0m\u001b[0;34m\u001b[0m\u001b[0;34m\u001b[0m\u001b[0m\n\u001b[1;32m    187\u001b[0m     \u001b[0;32melse\u001b[0m\u001b[0;34m:\u001b[0m\u001b[0;34m\u001b[0m\u001b[0;34m\u001b[0m\u001b[0m\n\u001b[1;32m    188\u001b[0m         \u001b[0;32mreturn\u001b[0m \u001b[0mxp\u001b[0m\u001b[0;34m.\u001b[0m\u001b[0masarray\u001b[0m\u001b[0;34m(\u001b[0m\u001b[0marray\u001b[0m\u001b[0;34m,\u001b[0m \u001b[0mdtype\u001b[0m\u001b[0;34m=\u001b[0m\u001b[0mdtype\u001b[0m\u001b[0;34m,\u001b[0m \u001b[0mcopy\u001b[0m\u001b[0;34m=\u001b[0m\u001b[0mcopy\u001b[0m\u001b[0;34m)\u001b[0m\u001b[0;34m\u001b[0m\u001b[0;34m\u001b[0m\u001b[0m\n",
      "\u001b[0;32m/opt/homebrew/anaconda3/lib/python3.11/site-packages/pandas/core/generic.py\u001b[0m in \u001b[0;36m?\u001b[0;34m(self, dtype)\u001b[0m\n\u001b[1;32m   2082\u001b[0m     \u001b[0;32mdef\u001b[0m \u001b[0m__array__\u001b[0m\u001b[0;34m(\u001b[0m\u001b[0mself\u001b[0m\u001b[0;34m,\u001b[0m \u001b[0mdtype\u001b[0m\u001b[0;34m:\u001b[0m \u001b[0mnpt\u001b[0m\u001b[0;34m.\u001b[0m\u001b[0mDTypeLike\u001b[0m \u001b[0;34m|\u001b[0m \u001b[0;32mNone\u001b[0m \u001b[0;34m=\u001b[0m \u001b[0;32mNone\u001b[0m\u001b[0;34m)\u001b[0m \u001b[0;34m->\u001b[0m \u001b[0mnp\u001b[0m\u001b[0;34m.\u001b[0m\u001b[0mndarray\u001b[0m\u001b[0;34m:\u001b[0m\u001b[0;34m\u001b[0m\u001b[0;34m\u001b[0m\u001b[0m\n\u001b[1;32m   2083\u001b[0m         \u001b[0mvalues\u001b[0m \u001b[0;34m=\u001b[0m \u001b[0mself\u001b[0m\u001b[0;34m.\u001b[0m\u001b[0m_values\u001b[0m\u001b[0;34m\u001b[0m\u001b[0;34m\u001b[0m\u001b[0m\n\u001b[0;32m-> 2084\u001b[0;31m         \u001b[0marr\u001b[0m \u001b[0;34m=\u001b[0m \u001b[0mnp\u001b[0m\u001b[0;34m.\u001b[0m\u001b[0masarray\u001b[0m\u001b[0;34m(\u001b[0m\u001b[0mvalues\u001b[0m\u001b[0;34m,\u001b[0m \u001b[0mdtype\u001b[0m\u001b[0;34m=\u001b[0m\u001b[0mdtype\u001b[0m\u001b[0;34m)\u001b[0m\u001b[0;34m\u001b[0m\u001b[0;34m\u001b[0m\u001b[0m\n\u001b[0m\u001b[1;32m   2085\u001b[0m         if (\n\u001b[1;32m   2086\u001b[0m             \u001b[0mastype_is_view\u001b[0m\u001b[0;34m(\u001b[0m\u001b[0mvalues\u001b[0m\u001b[0;34m.\u001b[0m\u001b[0mdtype\u001b[0m\u001b[0;34m,\u001b[0m \u001b[0marr\u001b[0m\u001b[0;34m.\u001b[0m\u001b[0mdtype\u001b[0m\u001b[0;34m)\u001b[0m\u001b[0;34m\u001b[0m\u001b[0;34m\u001b[0m\u001b[0m\n\u001b[1;32m   2087\u001b[0m             \u001b[0;32mand\u001b[0m \u001b[0musing_copy_on_write\u001b[0m\u001b[0;34m(\u001b[0m\u001b[0;34m)\u001b[0m\u001b[0;34m\u001b[0m\u001b[0;34m\u001b[0m\u001b[0m\n",
      "\u001b[0;31mValueError\u001b[0m: could not convert string to float: '6/30/2014'"
     ]
    }
   ],
   "source": [
    "pipe_rf.fit(X_train, y_train)"
   ]
  },
  {
   "cell_type": "code",
   "execution_count": 325,
   "id": "c9807b82-484c-4c2c-87f6-2622f7816287",
   "metadata": {},
   "outputs": [
    {
     "name": "stdout",
     "output_type": "stream",
     "text": [
      "Random forest Model\n",
      "Train 100.0\n",
      "Test 91.52571428571429\n",
      "++++++++++++++++++++++++++++++++++++++++++++++++++++++++++++++++++++++++++++++++++++++++++++++++++++\n",
      "              precision    recall  f1-score   support\n",
      "\n",
      "         0.0       1.00      1.00      1.00     47150\n",
      "         1.0       1.00      1.00      1.00      5349\n",
      "\n",
      "    accuracy                           1.00     52499\n",
      "   macro avg       1.00      1.00      1.00     52499\n",
      "weighted avg       1.00      1.00      1.00     52499\n",
      "\n",
      "++++++++++++++++++++++++++++++++++++++++++++++++++++++++++++++++++++++++++++++++++++++++++++++++++++\n",
      "              precision    recall  f1-score   support\n",
      "\n",
      "         0.0       0.92      0.99      0.95     15717\n",
      "         1.0       0.71      0.28      0.40      1783\n",
      "\n",
      "    accuracy                           0.92     17500\n",
      "   macro avg       0.82      0.63      0.68     17500\n",
      "weighted avg       0.90      0.92      0.90     17500\n",
      "\n"
     ]
    }
   ],
   "source": [
    "print(\"Random forest Model\")\n",
    "print(\"Train\",pipe_rf.score(X_train, y_train)*100)\n",
    "print(\"Test\",pipe_rf.score(X_test, y_test)*100)\n",
    "print(\"+\"*100)\n",
    "y_train_pred = pipe_rf.predict(X_train)\n",
    "print(classification_report(y_train, y_train_pred))\n",
    "print(\"+\"*100)\n",
    "\n",
    "y_test_pred = pipe_rf.predict(X_test)\n",
    "print(classification_report(y_test, y_test_pred))\n",
    "\n"
   ]
  },
  {
   "cell_type": "markdown",
   "id": "afe236ee-ee2a-4ac8-b965-ab59d4387345",
   "metadata": {},
   "source": [
    "# K-nearest Neighbour"
   ]
  },
  {
   "cell_type": "code",
   "execution_count": 319,
   "id": "ef9eb227-29a7-4fa0-a993-ebd36cae9470",
   "metadata": {},
   "outputs": [
    {
     "name": "stdout",
     "output_type": "stream",
     "text": [
      "K nearest Neighbour Model\n",
      "Train 93.11415455532487\n",
      "Test 90.88571428571429\n",
      "++++++++++++++++++++++++++++++++++++++++++++++++++++++++++++++++++++++++++++++++++++++++++++++++++++\n"
     ]
    }
   ],
   "source": [
    "pipe_knn.fit(X_train, y_train)\n",
    "\n",
    "print(\"K nearest Neighbour Model\")\n",
    "print(\"Train\",pipe_knn.score(X_train, y_train)*100)\n",
    "print(\"Test\",pipe_knn.score(X_test, y_test)*100)\n",
    "print(\"+\"*100)"
   ]
  },
  {
   "cell_type": "markdown",
   "id": "58e73bdf-50c0-4c59-97e5-ecd8fb9dec9d",
   "metadata": {},
   "source": [
    "# XGB "
   ]
  },
  {
   "cell_type": "code",
   "execution_count": 318,
   "id": "638930c7-b2dd-483f-90b1-9ee4be8461e6",
   "metadata": {},
   "outputs": [
    {
     "name": "stdout",
     "output_type": "stream",
     "text": [
      "XGB Model\n",
      "Train 98.2094897045658\n",
      "Test 94.01714285714286\n",
      "++++++++++++++++++++++++++++++++++++++++++++++++++++++++++++++++++++++++++++++++++++++++++++++++++++\n"
     ]
    }
   ],
   "source": [
    "pipe_xgb.fit(X_train, y_train)\n",
    "\n",
    "print(\"XGB Model\")\n",
    "print(\"Train\",pipe_xgb.score(X_train, y_train)*100)\n",
    "print(\"Test\",pipe_xgb.score(X_test, y_test)*100)\n",
    "print(\"+\"*100)"
   ]
  },
  {
   "cell_type": "markdown",
   "id": "95711f4d-1b8d-4309-916c-88f95101da49",
   "metadata": {},
   "source": [
    "# TEST DATA"
   ]
  },
  {
   "cell_type": "code",
   "execution_count": 326,
   "id": "602d5bf1-fe4c-4703-a2d1-7bd094f165d8",
   "metadata": {},
   "outputs": [],
   "source": [
    "data_unseen=pd.read_csv(\"test.csv\")"
   ]
  },
  {
   "cell_type": "code",
   "execution_count": 327,
   "id": "852c2a89-b50b-4104-bf43-ce527b172974",
   "metadata": {},
   "outputs": [],
   "source": [
    "data_unseen=prepare_data(data_unseen)"
   ]
  },
  {
   "cell_type": "code",
   "execution_count": 328,
   "id": "85139678-1054-495c-94df-a36788a65ac5",
   "metadata": {},
   "outputs": [
    {
     "data": {
      "text/html": [
       "<div>\n",
       "<style scoped>\n",
       "    .dataframe tbody tr th:only-of-type {\n",
       "        vertical-align: middle;\n",
       "    }\n",
       "\n",
       "    .dataframe tbody tr th {\n",
       "        vertical-align: top;\n",
       "    }\n",
       "\n",
       "    .dataframe thead th {\n",
       "        text-align: right;\n",
       "    }\n",
       "</style>\n",
       "<table border=\"1\" class=\"dataframe\">\n",
       "  <thead>\n",
       "    <tr style=\"text-align: right;\">\n",
       "      <th></th>\n",
       "      <th>id</th>\n",
       "      <th>arpu_6</th>\n",
       "      <th>arpu_7</th>\n",
       "      <th>arpu_8</th>\n",
       "      <th>onnet_mou_6</th>\n",
       "      <th>onnet_mou_7</th>\n",
       "      <th>onnet_mou_8</th>\n",
       "      <th>offnet_mou_6</th>\n",
       "      <th>offnet_mou_7</th>\n",
       "      <th>offnet_mou_8</th>\n",
       "      <th>...</th>\n",
       "      <th>monthly_3g_7</th>\n",
       "      <th>monthly_3g_8</th>\n",
       "      <th>sachet_3g_6</th>\n",
       "      <th>sachet_3g_7</th>\n",
       "      <th>sachet_3g_8</th>\n",
       "      <th>aon</th>\n",
       "      <th>aug_vbc_3g</th>\n",
       "      <th>jul_vbc_3g</th>\n",
       "      <th>jun_vbc_3g</th>\n",
       "      <th>months_since_last_charge</th>\n",
       "    </tr>\n",
       "  </thead>\n",
       "  <tbody>\n",
       "    <tr>\n",
       "      <th>0</th>\n",
       "      <td>69999.0</td>\n",
       "      <td>91.882</td>\n",
       "      <td>65.330</td>\n",
       "      <td>64.445</td>\n",
       "      <td>31.78</td>\n",
       "      <td>20.23</td>\n",
       "      <td>23.11</td>\n",
       "      <td>60.16</td>\n",
       "      <td>32.16</td>\n",
       "      <td>34.83</td>\n",
       "      <td>...</td>\n",
       "      <td>0.0</td>\n",
       "      <td>0.0</td>\n",
       "      <td>0.0</td>\n",
       "      <td>0.0</td>\n",
       "      <td>0.0</td>\n",
       "      <td>1692.0</td>\n",
       "      <td>0.00</td>\n",
       "      <td>0.00</td>\n",
       "      <td>0.00</td>\n",
       "      <td>0.0</td>\n",
       "    </tr>\n",
       "    <tr>\n",
       "      <th>1</th>\n",
       "      <td>70000.0</td>\n",
       "      <td>414.168</td>\n",
       "      <td>515.568</td>\n",
       "      <td>360.868</td>\n",
       "      <td>75.51</td>\n",
       "      <td>41.21</td>\n",
       "      <td>19.84</td>\n",
       "      <td>474.34</td>\n",
       "      <td>621.84</td>\n",
       "      <td>394.94</td>\n",
       "      <td>...</td>\n",
       "      <td>0.0</td>\n",
       "      <td>0.0</td>\n",
       "      <td>0.0</td>\n",
       "      <td>0.0</td>\n",
       "      <td>0.0</td>\n",
       "      <td>2533.0</td>\n",
       "      <td>0.00</td>\n",
       "      <td>0.00</td>\n",
       "      <td>0.00</td>\n",
       "      <td>0.0</td>\n",
       "    </tr>\n",
       "    <tr>\n",
       "      <th>2</th>\n",
       "      <td>70001.0</td>\n",
       "      <td>329.844</td>\n",
       "      <td>434.884</td>\n",
       "      <td>746.239</td>\n",
       "      <td>7.54</td>\n",
       "      <td>7.86</td>\n",
       "      <td>8.40</td>\n",
       "      <td>16.98</td>\n",
       "      <td>45.81</td>\n",
       "      <td>45.04</td>\n",
       "      <td>...</td>\n",
       "      <td>0.0</td>\n",
       "      <td>0.0</td>\n",
       "      <td>0.0</td>\n",
       "      <td>0.0</td>\n",
       "      <td>0.0</td>\n",
       "      <td>277.0</td>\n",
       "      <td>525.61</td>\n",
       "      <td>758.41</td>\n",
       "      <td>241.84</td>\n",
       "      <td>0.0</td>\n",
       "    </tr>\n",
       "    <tr>\n",
       "      <th>3</th>\n",
       "      <td>70002.0</td>\n",
       "      <td>43.550</td>\n",
       "      <td>171.390</td>\n",
       "      <td>24.400</td>\n",
       "      <td>5.31</td>\n",
       "      <td>2.16</td>\n",
       "      <td>0.00</td>\n",
       "      <td>40.04</td>\n",
       "      <td>205.01</td>\n",
       "      <td>24.01</td>\n",
       "      <td>...</td>\n",
       "      <td>0.0</td>\n",
       "      <td>0.0</td>\n",
       "      <td>0.0</td>\n",
       "      <td>0.0</td>\n",
       "      <td>0.0</td>\n",
       "      <td>1244.0</td>\n",
       "      <td>0.00</td>\n",
       "      <td>0.00</td>\n",
       "      <td>0.00</td>\n",
       "      <td>0.0</td>\n",
       "    </tr>\n",
       "    <tr>\n",
       "      <th>4</th>\n",
       "      <td>70003.0</td>\n",
       "      <td>306.854</td>\n",
       "      <td>406.289</td>\n",
       "      <td>413.329</td>\n",
       "      <td>450.93</td>\n",
       "      <td>609.03</td>\n",
       "      <td>700.68</td>\n",
       "      <td>60.94</td>\n",
       "      <td>23.84</td>\n",
       "      <td>74.16</td>\n",
       "      <td>...</td>\n",
       "      <td>0.0</td>\n",
       "      <td>0.0</td>\n",
       "      <td>0.0</td>\n",
       "      <td>0.0</td>\n",
       "      <td>0.0</td>\n",
       "      <td>462.0</td>\n",
       "      <td>0.00</td>\n",
       "      <td>0.00</td>\n",
       "      <td>0.00</td>\n",
       "      <td>0.0</td>\n",
       "    </tr>\n",
       "  </tbody>\n",
       "</table>\n",
       "<p>5 rows × 126 columns</p>\n",
       "</div>"
      ],
      "text/plain": [
       "        id   arpu_6   arpu_7   arpu_8  onnet_mou_6  onnet_mou_7  onnet_mou_8  \\\n",
       "0  69999.0   91.882   65.330   64.445        31.78        20.23        23.11   \n",
       "1  70000.0  414.168  515.568  360.868        75.51        41.21        19.84   \n",
       "2  70001.0  329.844  434.884  746.239         7.54         7.86         8.40   \n",
       "3  70002.0   43.550  171.390   24.400         5.31         2.16         0.00   \n",
       "4  70003.0  306.854  406.289  413.329       450.93       609.03       700.68   \n",
       "\n",
       "   offnet_mou_6  offnet_mou_7  offnet_mou_8  ...  monthly_3g_7  monthly_3g_8  \\\n",
       "0         60.16         32.16         34.83  ...           0.0           0.0   \n",
       "1        474.34        621.84        394.94  ...           0.0           0.0   \n",
       "2         16.98         45.81         45.04  ...           0.0           0.0   \n",
       "3         40.04        205.01         24.01  ...           0.0           0.0   \n",
       "4         60.94         23.84         74.16  ...           0.0           0.0   \n",
       "\n",
       "   sachet_3g_6  sachet_3g_7  sachet_3g_8     aon  aug_vbc_3g  jul_vbc_3g  \\\n",
       "0          0.0          0.0          0.0  1692.0        0.00        0.00   \n",
       "1          0.0          0.0          0.0  2533.0        0.00        0.00   \n",
       "2          0.0          0.0          0.0   277.0      525.61      758.41   \n",
       "3          0.0          0.0          0.0  1244.0        0.00        0.00   \n",
       "4          0.0          0.0          0.0   462.0        0.00        0.00   \n",
       "\n",
       "   jun_vbc_3g  months_since_last_charge  \n",
       "0        0.00                       0.0  \n",
       "1        0.00                       0.0  \n",
       "2      241.84                       0.0  \n",
       "3        0.00                       0.0  \n",
       "4        0.00                       0.0  \n",
       "\n",
       "[5 rows x 126 columns]"
      ]
     },
     "execution_count": 328,
     "metadata": {},
     "output_type": "execute_result"
    }
   ],
   "source": [
    "data_unseen.head()"
   ]
  },
  {
   "cell_type": "code",
   "execution_count": 329,
   "id": "dd783d65-7656-457a-a21f-e3beca7b3c65",
   "metadata": {},
   "outputs": [],
   "source": [
    "data_unseen['churn_probability'] = pipe_rf.predict(data_unseen.drop(['id'], axis =1 ))"
   ]
  },
  {
   "cell_type": "code",
   "execution_count": 330,
   "id": "5f4e866f-c8c8-4de8-bb25-0bf5774f2d0a",
   "metadata": {},
   "outputs": [
    {
     "data": {
      "text/plain": [
       "churn_probability\n",
       "0.0    28694\n",
       "1.0     1306\n",
       "Name: count, dtype: int64"
      ]
     },
     "execution_count": 330,
     "metadata": {},
     "output_type": "execute_result"
    }
   ],
   "source": [
    "data_unseen['churn_probability'].value_counts()"
   ]
  },
  {
   "cell_type": "code",
   "execution_count": null,
   "id": "42c82117-cbeb-470c-9875-f1e3ff4279ca",
   "metadata": {},
   "outputs": [],
   "source": []
  },
  {
   "cell_type": "code",
   "execution_count": 331,
   "id": "5225d849-2a34-4078-9fa1-bace11cea065",
   "metadata": {},
   "outputs": [],
   "source": [
    "final_prediction = data_unseen[['id','churn_probability']]"
   ]
  },
  {
   "cell_type": "code",
   "execution_count": null,
   "id": "c8377e53-9af7-439e-b09b-92a8eba776d9",
   "metadata": {},
   "outputs": [],
   "source": []
  },
  {
   "cell_type": "code",
   "execution_count": 332,
   "id": "68f53325-5a51-4279-8c1f-89d9395cf21b",
   "metadata": {},
   "outputs": [],
   "source": [
    "final_prediction['churn_probability'] = final_prediction.churn_probability.apply(np.int64)\n",
    "final_prediction['id'] = final_prediction.id.apply(np.int64)"
   ]
  },
  {
   "cell_type": "code",
   "execution_count": null,
   "id": "835cb5e7-a58d-4c31-8bfd-a399e2149ccd",
   "metadata": {},
   "outputs": [],
   "source": []
  },
  {
   "cell_type": "code",
   "execution_count": 333,
   "id": "913e9a23-9374-4cd0-b6e7-ccf3d6559a7a",
   "metadata": {
    "scrolled": true
   },
   "outputs": [
    {
     "data": {
      "text/plain": [
       "<bound method NDFrame.head of           id  churn_probability\n",
       "0      69999                  0\n",
       "1      70000                  0\n",
       "2      70001                  0\n",
       "3      70002                  0\n",
       "4      70003                  0\n",
       "...      ...                ...\n",
       "29995  99994                  0\n",
       "29996  99995                  0\n",
       "29997  99996                  0\n",
       "29998  99997                  0\n",
       "29999  99998                  0\n",
       "\n",
       "[30000 rows x 2 columns]>"
      ]
     },
     "execution_count": 333,
     "metadata": {},
     "output_type": "execute_result"
    }
   ],
   "source": [
    "final_prediction.to_csv('submission.csv',index=False)\n",
    "final_prediction.head"
   ]
  },
  {
   "cell_type": "code",
   "execution_count": null,
   "id": "38e0bbf7-c87d-4e1b-9573-eba382576c0a",
   "metadata": {},
   "outputs": [],
   "source": []
  }
 ],
 "metadata": {
  "kaggle": {
   "accelerator": "none",
   "dataSources": [
    {
     "databundleVersionId": 7066904,
     "sourceId": 64503,
     "sourceType": "competition"
    }
   ],
   "dockerImageVersionId": 30587,
   "isGpuEnabled": false,
   "isInternetEnabled": true,
   "language": "python",
   "sourceType": "notebook"
  },
  "kernelspec": {
   "display_name": "Python 3 (ipykernel)",
   "language": "python",
   "name": "python3"
  },
  "language_info": {
   "codemirror_mode": {
    "name": "ipython",
    "version": 3
   },
   "file_extension": ".py",
   "mimetype": "text/x-python",
   "name": "python",
   "nbconvert_exporter": "python",
   "pygments_lexer": "ipython3",
   "version": "3.11.7"
  },
  "papermill": {
   "default_parameters": {},
   "duration": 31.60888,
   "end_time": "2023-12-06T16:45:02.481470",
   "environment_variables": {},
   "exception": true,
   "input_path": "__notebook__.ipynb",
   "output_path": "__notebook__.ipynb",
   "parameters": {},
   "start_time": "2023-12-06T16:44:30.872590",
   "version": "2.4.0"
  }
 },
 "nbformat": 4,
 "nbformat_minor": 5
}
