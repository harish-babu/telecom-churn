{
 "cells": [
  {
   "cell_type": "markdown",
   "id": "9d7f3214",
   "metadata": {
    "papermill": {
     "duration": 0.036252,
     "end_time": "2021-08-13T07:16:36.548737",
     "exception": false,
     "start_time": "2021-08-13T07:16:36.512485",
     "status": "completed"
    },
    "tags": []
   },
   "source": [
    "# Telecom Churn Prediction - Starter Notebook\n",
    "\n",
    "**Author:** Harish Babu (www.harishbabu.in)"
   ]
  },
  {
   "cell_type": "markdown",
   "id": "fb5052e4",
   "metadata": {
    "papermill": {
     "duration": 0.035836,
     "end_time": "2021-08-13T07:16:36.620553",
     "exception": false,
     "start_time": "2021-08-13T07:16:36.584717",
     "status": "completed"
    },
    "tags": []
   },
   "source": [
    "The goal of this notebook is to provide an overview of how write a notebook and create a submission file that successfully solves the churn prediction problem. Please download the datasets, unzip and place them in the same folder as this notebook.\n",
    "\n",
    "We are going to follow the process called CRISP-DM.\n",
    "\n",
    "<img src=\"https://upload.wikimedia.org/wikipedia/commons/thumb/b/b9/CRISP-DM_Process_Diagram.png/639px-CRISP-DM_Process_Diagram.png\" style=\"height: 400px; width:400px;\"/>\n",
    "\n",
    "After Business and Data Understanding via EDA, we want to prepare data for modelling. Then evaluate and submit our predictions."
   ]
  },
  {
   "cell_type": "markdown",
   "id": "9290ee78",
   "metadata": {
    "papermill": {
     "duration": 0.034552,
     "end_time": "2021-08-13T07:16:36.690028",
     "exception": false,
     "start_time": "2021-08-13T07:16:36.655476",
     "status": "completed"
    },
    "tags": []
   },
   "source": [
    "# 0. Problem statement\n",
    "\n",
    "In the telecom industry, customers are able to choose from multiple service providers and actively switch from one operator to another. In this highly competitive market, the telecommunications industry experiences an average of 15-25% annual churn rate. Given the fact that it costs 5-10 times more to acquire a new customer than to retain an existing one, customer retention has now become even more important than customer acquisition.\n",
    "\n",
    "For many incumbent operators, retaining high profitable customers is the number one business\n",
    "goal. To reduce customer churn, telecom companies need to predict which customers are at high risk of churn. In this project, you will analyze customer-level data of a leading telecom firm, build predictive models to identify customers at high risk of churn, and identify the main indicators of churn.\n",
    "\n",
    "In this competition, your goal is *to build a machine learning model that is able to predict churning customers based on the features provided for their usage.*\n",
    "\n",
    "**Customer behaviour during churn:**\n",
    "\n",
    "Customers usually do not decide to switch to another competitor instantly, but rather over a\n",
    "period of time (this is especially applicable to high-value customers). In churn prediction, we\n",
    "assume that there are three phases of customer lifecycle :\n",
    "\n",
    "1. <u>The ‘good’ phase:</u> In this phase, the customer is happy with the service and behaves as usual.\n",
    "\n",
    "2. <u>The ‘action’ phase:</u> The customer experience starts to sore in this phase, for e.g. he/she gets a compelling offer from a competitor, faces unjust charges, becomes unhappy with service quality etc. In this phase, the customer usually shows different behaviour than the ‘good’ months. It is crucial to identify high-churn-risk customers in this phase, since some corrective actions can be taken at this point (such as matching the competitor’s offer/improving the service quality etc.)\n",
    "\n",
    "3. <u>The ‘churn’ phase:</u> In this phase, the customer is said to have churned. In this case, since you are working over a four-month window, the first two months are the ‘good’ phase, the third month is the ‘action’ phase, while the fourth month (September) is the ‘churn’ phase."
   ]
  },
  {
   "cell_type": "markdown",
   "id": "3da713b1",
   "metadata": {
    "papermill": {
     "duration": 0.034501,
     "end_time": "2021-08-13T07:16:36.760335",
     "exception": false,
     "start_time": "2021-08-13T07:16:36.725834",
     "status": "completed"
    },
    "tags": []
   },
   "source": [
    "# 1. Loading dependencies & datasets\n",
    "\n",
    "Lets start by loading our dependencies. We can keep adding any imports to this cell block, as we write mode and mode code."
   ]
  },
  {
   "cell_type": "code",
   "execution_count": 73,
   "id": "2e47254e",
   "metadata": {
    "papermill": {
     "duration": 1.362112,
     "end_time": "2021-08-13T07:16:38.158342",
     "exception": false,
     "start_time": "2021-08-13T07:16:36.796230",
     "status": "completed"
    },
    "tags": []
   },
   "outputs": [],
   "source": [
    "#Data Structures\n",
    "import pandas as pd\n",
    "import numpy as np\n",
    "import re\n",
    "import os\n",
    "\n",
    "### For installing missingno library, type this command in terminal\n",
    "#pip install missingno\n",
    "\n",
    "import missingno as msno\n",
    "\n",
    "#Sklearn\n",
    "from sklearn.impute import SimpleImputer\n",
    "from sklearn.preprocessing import StandardScaler\n",
    "from sklearn.preprocessing import MinMaxScaler\n",
    "from sklearn.model_selection import train_test_split\n",
    "from sklearn.ensemble import RandomForestClassifier\n",
    "from sklearn.decomposition import PCA\n",
    "from sklearn.manifold import TSNE\n",
    "from sklearn.linear_model import LogisticRegression\n",
    "from sklearn.pipeline import Pipeline\n",
    "from sklearn.model_selection import GridSearchCV\n",
    "from sklearn.metrics import confusion_matrix, precision_score, recall_score\n",
    "\n",
    "\n",
    "# LightGBM Learning Algo\n",
    "import lightgbm as gbm\n",
    "\n",
    "#Plotting\n",
    "import matplotlib.pyplot as plt\n",
    "from mpl_toolkits.mplot3d import Axes3D\n",
    "import seaborn as sns\n",
    "\n",
    "#Others\n",
    "import warnings\n",
    "warnings.filterwarnings('ignore')\n",
    "\n",
    "%matplotlib inline"
   ]
  },
  {
   "cell_type": "markdown",
   "id": "8d5046d0",
   "metadata": {
    "papermill": {
     "duration": 0.03468,
     "end_time": "2021-08-13T07:16:38.240579",
     "exception": false,
     "start_time": "2021-08-13T07:16:38.205899",
     "status": "completed"
    },
    "tags": []
   },
   "source": [
    "Next, we load our datasets and the data dictionary file.\n",
    "\n",
    "The **train.csv** file contains both dependent and independent features, while the **test.csv** contains only the independent variables. \n",
    "\n",
    "So, for model selection, I will create our own train/test dataset from the **train.csv** and use the model to predict the solution using the features in unseen test.csv data for submission."
   ]
  },
  {
   "cell_type": "code",
   "execution_count": 2,
   "id": "e5474122",
   "metadata": {
    "papermill": {
     "duration": 0.044801,
     "end_time": "2021-08-13T07:16:38.320264",
     "exception": false,
     "start_time": "2021-08-13T07:16:38.275463",
     "status": "completed"
    },
    "tags": []
   },
   "outputs": [],
   "source": [
    "#COMMENT THIS SECTION INCASE RUNNING THIS NOTEBOOK LOCALLY\n",
    "\n",
    "#Checking the kaggle paths for the uploaded datasets\n",
    "#import os\n",
    "#for dirname, _, filenames in os.walk('/kaggle/input'):\n",
    "#    for filename in filenames:\n",
    "#        print(os.path.join(dirname, filename))"
   ]
  },
  {
   "cell_type": "code",
   "execution_count": 41,
   "id": "3b94d1d5",
   "metadata": {
    "papermill": {
     "duration": 2.591587,
     "end_time": "2021-08-13T07:16:40.948543",
     "exception": false,
     "start_time": "2021-08-13T07:16:38.356956",
     "status": "completed"
    },
    "tags": []
   },
   "outputs": [
    {
     "name": "stdout",
     "output_type": "stream",
     "text": [
      "(69999, 172)\n",
      "(30000, 171)\n",
      "(30000, 2)\n",
      "(36, 2)\n"
     ]
    }
   ],
   "source": [
    "#INCASE RUNNING THIS LOCALLY, PASS THE RELATIVE PATH OF THE CSV FILES BELOW\n",
    "#(e.g. if files are in same folder as notebook, simple write \"train.csv\" as path)\n",
    "\n",
    "df = pd.read_csv(\"./train.csv\")\n",
    "unseen = pd.read_csv(\"./test.csv\")\n",
    "sample = pd.read_csv(\"./sample.csv\")\n",
    "data_dict = pd.read_csv(\"./data_dictionary.csv\")\n",
    "\n",
    "print(df.shape)\n",
    "print(unseen.shape)\n",
    "print(sample.shape)\n",
    "print(data_dict.shape)"
   ]
  },
  {
   "cell_type": "markdown",
   "id": "13614e3d",
   "metadata": {
    "papermill": {
     "duration": 0.035613,
     "end_time": "2021-08-13T07:16:41.020316",
     "exception": false,
     "start_time": "2021-08-13T07:16:40.984703",
     "status": "completed"
    },
    "tags": []
   },
   "source": [
    "1. Lets analyze the data dictionary versus the churn dataset.\n",
    "2. The data dictonary contains a list of abbrevations which provide you all the information you need to understand what a specific feature/variable in the churn dataset represents\n",
    "3. Example: \n",
    "\n",
    "> \"arpu_7\" -> Average revenue per user + KPI for the month of July\n",
    ">\n",
    "> \"onnet_mou_6\" ->  All kind of calls within the same operator network + Minutes of usage voice calls + KPI for the month of June\n",
    ">\n",
    ">\"night_pck_user_8\" -> Scheme to use during specific night hours only + Prepaid service schemes called PACKS + KPI for the month of August\n",
    ">\n",
    ">\"max_rech_data_7\" -> Maximum + Recharge + Mobile internet + KPI for the month of July\n",
    "\n",
    "Its important to understand the definitions of each feature that you are working with, take notes on which feature you think might impact the churn rate of a user, and what sort of analysis could you do to understand the distribution of the feature better."
   ]
  },
  {
   "cell_type": "code",
   "execution_count": 4,
   "id": "adfb4dc5",
   "metadata": {
    "papermill": {
     "duration": 0.067353,
     "end_time": "2021-08-13T07:16:41.123346",
     "exception": false,
     "start_time": "2021-08-13T07:16:41.055993",
     "status": "completed"
    },
    "tags": []
   },
   "outputs": [
    {
     "data": {
      "text/html": [
       "<div>\n",
       "<style scoped>\n",
       "    .dataframe tbody tr th:only-of-type {\n",
       "        vertical-align: middle;\n",
       "    }\n",
       "\n",
       "    .dataframe tbody tr th {\n",
       "        vertical-align: top;\n",
       "    }\n",
       "\n",
       "    .dataframe thead th {\n",
       "        text-align: right;\n",
       "    }\n",
       "</style>\n",
       "<table border=\"1\" class=\"dataframe\">\n",
       "  <thead>\n",
       "    <tr style=\"text-align: right;\">\n",
       "      <th></th>\n",
       "      <th>Acronyms</th>\n",
       "      <th>Description</th>\n",
       "    </tr>\n",
       "  </thead>\n",
       "  <tbody>\n",
       "    <tr>\n",
       "      <th>0</th>\n",
       "      <td>CIRCLE_ID</td>\n",
       "      <td>Telecom circle area to which the customer belo...</td>\n",
       "    </tr>\n",
       "    <tr>\n",
       "      <th>1</th>\n",
       "      <td>LOC</td>\n",
       "      <td>Local calls  within same telecom circle</td>\n",
       "    </tr>\n",
       "    <tr>\n",
       "      <th>2</th>\n",
       "      <td>STD</td>\n",
       "      <td>STD calls  outside the calling circle</td>\n",
       "    </tr>\n",
       "    <tr>\n",
       "      <th>3</th>\n",
       "      <td>IC</td>\n",
       "      <td>Incoming calls</td>\n",
       "    </tr>\n",
       "    <tr>\n",
       "      <th>4</th>\n",
       "      <td>OG</td>\n",
       "      <td>Outgoing calls</td>\n",
       "    </tr>\n",
       "    <tr>\n",
       "      <th>5</th>\n",
       "      <td>T2T</td>\n",
       "      <td>Operator T to T ie within same operator mobile...</td>\n",
       "    </tr>\n",
       "    <tr>\n",
       "      <th>6</th>\n",
       "      <td>T2M</td>\n",
       "      <td>Operator T to other operator mobile</td>\n",
       "    </tr>\n",
       "    <tr>\n",
       "      <th>7</th>\n",
       "      <td>T2O</td>\n",
       "      <td>Operator T to other operator fixed line</td>\n",
       "    </tr>\n",
       "    <tr>\n",
       "      <th>8</th>\n",
       "      <td>T2F</td>\n",
       "      <td>Operator T to fixed lines of T</td>\n",
       "    </tr>\n",
       "    <tr>\n",
       "      <th>9</th>\n",
       "      <td>T2C</td>\n",
       "      <td>Operator T to its own call center</td>\n",
       "    </tr>\n",
       "    <tr>\n",
       "      <th>10</th>\n",
       "      <td>ARPU</td>\n",
       "      <td>Average revenue per user</td>\n",
       "    </tr>\n",
       "    <tr>\n",
       "      <th>11</th>\n",
       "      <td>MOU</td>\n",
       "      <td>Minutes of usage  voice calls</td>\n",
       "    </tr>\n",
       "    <tr>\n",
       "      <th>12</th>\n",
       "      <td>AON</td>\n",
       "      <td>Age on network  number of days the customer is...</td>\n",
       "    </tr>\n",
       "    <tr>\n",
       "      <th>13</th>\n",
       "      <td>ONNET</td>\n",
       "      <td>All kind of calls within the same operator net...</td>\n",
       "    </tr>\n",
       "    <tr>\n",
       "      <th>14</th>\n",
       "      <td>OFFNET</td>\n",
       "      <td>All kind of calls outside the operator T network</td>\n",
       "    </tr>\n",
       "    <tr>\n",
       "      <th>15</th>\n",
       "      <td>ROAM</td>\n",
       "      <td>Indicates that customer is in roaming zone dur...</td>\n",
       "    </tr>\n",
       "    <tr>\n",
       "      <th>16</th>\n",
       "      <td>SPL</td>\n",
       "      <td>Special calls</td>\n",
       "    </tr>\n",
       "    <tr>\n",
       "      <th>17</th>\n",
       "      <td>ISD</td>\n",
       "      <td>ISD calls</td>\n",
       "    </tr>\n",
       "    <tr>\n",
       "      <th>18</th>\n",
       "      <td>RECH</td>\n",
       "      <td>Recharge</td>\n",
       "    </tr>\n",
       "    <tr>\n",
       "      <th>19</th>\n",
       "      <td>NUM</td>\n",
       "      <td>Number</td>\n",
       "    </tr>\n",
       "    <tr>\n",
       "      <th>20</th>\n",
       "      <td>AMT</td>\n",
       "      <td>Amount in local currency</td>\n",
       "    </tr>\n",
       "    <tr>\n",
       "      <th>21</th>\n",
       "      <td>MAX</td>\n",
       "      <td>Maximum</td>\n",
       "    </tr>\n",
       "    <tr>\n",
       "      <th>22</th>\n",
       "      <td>DATA</td>\n",
       "      <td>Mobile internet</td>\n",
       "    </tr>\n",
       "    <tr>\n",
       "      <th>23</th>\n",
       "      <td>3G</td>\n",
       "      <td>G network</td>\n",
       "    </tr>\n",
       "    <tr>\n",
       "      <th>24</th>\n",
       "      <td>AV</td>\n",
       "      <td>Average</td>\n",
       "    </tr>\n",
       "    <tr>\n",
       "      <th>25</th>\n",
       "      <td>VOL</td>\n",
       "      <td>Mobile internet usage volume in MB</td>\n",
       "    </tr>\n",
       "    <tr>\n",
       "      <th>26</th>\n",
       "      <td>2G</td>\n",
       "      <td>G network</td>\n",
       "    </tr>\n",
       "    <tr>\n",
       "      <th>27</th>\n",
       "      <td>PCK</td>\n",
       "      <td>Prepaid service schemes called  PACKS</td>\n",
       "    </tr>\n",
       "    <tr>\n",
       "      <th>28</th>\n",
       "      <td>NIGHT</td>\n",
       "      <td>Scheme to use during specific night hours only</td>\n",
       "    </tr>\n",
       "    <tr>\n",
       "      <th>29</th>\n",
       "      <td>MONTHLY</td>\n",
       "      <td>Service schemes with validity equivalent to a ...</td>\n",
       "    </tr>\n",
       "    <tr>\n",
       "      <th>30</th>\n",
       "      <td>SACHET</td>\n",
       "      <td>Service schemes with validity smaller than a m...</td>\n",
       "    </tr>\n",
       "    <tr>\n",
       "      <th>31</th>\n",
       "      <td>*.6</td>\n",
       "      <td>KPI for the month of June</td>\n",
       "    </tr>\n",
       "    <tr>\n",
       "      <th>32</th>\n",
       "      <td>*.7</td>\n",
       "      <td>KPI for the month of July</td>\n",
       "    </tr>\n",
       "    <tr>\n",
       "      <th>33</th>\n",
       "      <td>*.8</td>\n",
       "      <td>KPI for the month of August</td>\n",
       "    </tr>\n",
       "    <tr>\n",
       "      <th>34</th>\n",
       "      <td>FB_USER</td>\n",
       "      <td>Service scheme to avail services of Facebook a...</td>\n",
       "    </tr>\n",
       "    <tr>\n",
       "      <th>35</th>\n",
       "      <td>VBC</td>\n",
       "      <td>Volume based cost  when no specific scheme is ...</td>\n",
       "    </tr>\n",
       "  </tbody>\n",
       "</table>\n",
       "</div>"
      ],
      "text/plain": [
       "       Acronyms                                        Description\n",
       "0     CIRCLE_ID  Telecom circle area to which the customer belo...\n",
       "1           LOC            Local calls  within same telecom circle\n",
       "2           STD              STD calls  outside the calling circle\n",
       "3            IC                                     Incoming calls\n",
       "4            OG                                     Outgoing calls\n",
       "5           T2T  Operator T to T ie within same operator mobile...\n",
       "6       T2M                    Operator T to other operator mobile\n",
       "7       T2O                Operator T to other operator fixed line\n",
       "8       T2F                         Operator T to fixed lines of T\n",
       "9       T2C                      Operator T to its own call center\n",
       "10     ARPU                               Average revenue per user\n",
       "11      MOU                          Minutes of usage  voice calls\n",
       "12      AON      Age on network  number of days the customer is...\n",
       "13     ONNET     All kind of calls within the same operator net...\n",
       "14   OFFNET       All kind of calls outside the operator T network\n",
       "15         ROAM  Indicates that customer is in roaming zone dur...\n",
       "16       SPL                                         Special calls\n",
       "17      ISD                                              ISD calls\n",
       "18     RECH                                               Recharge\n",
       "19      NUM                                                 Number\n",
       "20      AMT                               Amount in local currency\n",
       "21      MAX                                                Maximum\n",
       "22     DATA                                        Mobile internet\n",
       "23       3G                                              G network\n",
       "24       AV                                                Average\n",
       "25      VOL                     Mobile internet usage volume in MB\n",
       "26       2G                                              G network\n",
       "27      PCK                  Prepaid service schemes called  PACKS\n",
       "28    NIGHT         Scheme to use during specific night hours only\n",
       "29  MONTHLY      Service schemes with validity equivalent to a ...\n",
       "30    SACHET     Service schemes with validity smaller than a m...\n",
       "31      *.6                              KPI for the month of June\n",
       "32      *.7                              KPI for the month of July\n",
       "33      *.8                            KPI for the month of August\n",
       "34      FB_USER  Service scheme to avail services of Facebook a...\n",
       "35      VBC      Volume based cost  when no specific scheme is ..."
      ]
     },
     "execution_count": 4,
     "metadata": {},
     "output_type": "execute_result"
    }
   ],
   "source": [
    "data_dict"
   ]
  },
  {
   "cell_type": "markdown",
   "id": "6a29fbf5",
   "metadata": {
    "papermill": {
     "duration": 0.039575,
     "end_time": "2021-08-13T07:16:42.482838",
     "exception": false,
     "start_time": "2021-08-13T07:16:42.443263",
     "status": "completed"
    },
    "tags": []
   },
   "source": [
    "# 2. Data Pre-processing"
   ]
  },
  {
   "cell_type": "code",
   "execution_count": null,
   "id": "3d024ea5-438a-4cf6-83f4-ef82962900c1",
   "metadata": {},
   "outputs": [],
   "source": []
  },
  {
   "cell_type": "markdown",
   "id": "b539fadd-0600-4678-a942-367c99930aed",
   "metadata": {},
   "source": [
    "### 2.1 Handling Missing Values"
   ]
  },
  {
   "cell_type": "markdown",
   "id": "fac9cf44-0ced-4e41-95e6-e9a7722e1b84",
   "metadata": {},
   "source": [
    "Let us look at missing percentage across columns"
   ]
  },
  {
   "cell_type": "code",
   "execution_count": 42,
   "id": "7d7ebfe4-3ca7-417a-9f74-c06b07a4dae5",
   "metadata": {
    "tags": []
   },
   "outputs": [
    {
     "data": {
      "text/plain": [
       "arpu_3g_6                   74.902499\n",
       "count_rech_2g_6             74.902499\n",
       "night_pck_user_6            74.902499\n",
       "arpu_2g_6                   74.902499\n",
       "date_of_last_rech_data_6    74.902499\n",
       "total_rech_data_6           74.902499\n",
       "av_rech_amt_data_6          74.902499\n",
       "max_rech_data_6             74.902499\n",
       "count_rech_3g_6             74.902499\n",
       "fb_user_6                   74.902499\n",
       "night_pck_user_7            74.478207\n",
       "date_of_last_rech_data_7    74.478207\n",
       "total_rech_data_7           74.478207\n",
       "max_rech_data_7             74.478207\n",
       "fb_user_7                   74.478207\n",
       "count_rech_2g_7             74.478207\n",
       "count_rech_3g_7             74.478207\n",
       "arpu_3g_7                   74.478207\n",
       "av_rech_amt_data_7          74.478207\n",
       "arpu_2g_7                   74.478207\n",
       "count_rech_2g_8             73.689624\n",
       "av_rech_amt_data_8          73.689624\n",
       "night_pck_user_8            73.689624\n",
       "max_rech_data_8             73.689624\n",
       "total_rech_data_8           73.689624\n",
       "arpu_2g_8                   73.689624\n",
       "arpu_3g_8                   73.689624\n",
       "date_of_last_rech_data_8    73.689624\n",
       "fb_user_8                   73.689624\n",
       "count_rech_3g_8             73.689624\n",
       "isd_og_mou_8                 5.290076\n",
       "std_ic_t2o_mou_8             5.290076\n",
       "dtype: float64"
      ]
     },
     "execution_count": 42,
     "metadata": {},
     "output_type": "execute_result"
    }
   ],
   "source": [
    "# Find the top 10 columns that have missing values.\n",
    "percent_missing = (df.isnull().sum() / df.isnull().count()*100).sort_values(ascending = False)\n",
    "percent_missing.head(32)"
   ]
  },
  {
   "cell_type": "code",
   "execution_count": 43,
   "id": "1fe1070f-9cab-42ec-8825-37a238e3cd32",
   "metadata": {
    "tags": []
   },
   "outputs": [
    {
     "data": {
      "text/plain": [
       "Index(['arpu_3g_6', 'count_rech_2g_6', 'night_pck_user_6', 'arpu_2g_6',\n",
       "       'date_of_last_rech_data_6', 'total_rech_data_6', 'av_rech_amt_data_6',\n",
       "       'max_rech_data_6', 'count_rech_3g_6', 'fb_user_6', 'night_pck_user_7',\n",
       "       'date_of_last_rech_data_7', 'total_rech_data_7', 'max_rech_data_7',\n",
       "       'fb_user_7', 'count_rech_2g_7', 'count_rech_3g_7', 'arpu_3g_7',\n",
       "       'av_rech_amt_data_7', 'arpu_2g_7', 'count_rech_2g_8',\n",
       "       'av_rech_amt_data_8', 'night_pck_user_8', 'max_rech_data_8',\n",
       "       'total_rech_data_8', 'arpu_2g_8', 'arpu_3g_8',\n",
       "       'date_of_last_rech_data_8', 'fb_user_8', 'count_rech_3g_8'],\n",
       "      dtype='object')"
      ]
     },
     "execution_count": 43,
     "metadata": {},
     "output_type": "execute_result"
    }
   ],
   "source": [
    "# There are so many columns that have significant count of missing values.  \n",
    "# Since they will not really be helpful in predictions, we can drop them\n",
    "\n",
    "cols_to_drop = percent_missing[percent_missing.gt(40)].index\n",
    "cols_to_drop"
   ]
  },
  {
   "cell_type": "code",
   "execution_count": 44,
   "id": "31f1a79c-52fb-4ebb-a96e-90c1d1d0c652",
   "metadata": {
    "tags": []
   },
   "outputs": [
    {
     "data": {
      "text/plain": [
       "(69999, 142)"
      ]
     },
     "execution_count": 44,
     "metadata": {},
     "output_type": "execute_result"
    }
   ],
   "source": [
    "df.drop(cols_to_drop,axis=1,inplace=True)\n",
    "df.shape"
   ]
  },
  {
   "cell_type": "code",
   "execution_count": 45,
   "id": "ba9cc049-c0fb-478c-bac2-6638a93ad255",
   "metadata": {
    "tags": []
   },
   "outputs": [
    {
     "data": {
      "text/plain": [
       "roam_og_mou_8       5.290076\n",
       "og_others_8         5.290076\n",
       "spl_og_mou_8        5.290076\n",
       "loc_ic_t2t_mou_8    5.290076\n",
       "loc_og_t2m_mou_8    5.290076\n",
       "loc_og_t2c_mou_8    5.290076\n",
       "loc_ic_t2m_mou_8    5.290076\n",
       "loc_og_t2t_mou_8    5.290076\n",
       "loc_ic_t2f_mou_8    5.290076\n",
       "std_og_t2f_mou_8    5.290076\n",
       "loc_ic_mou_8        5.290076\n",
       "isd_og_mou_8        5.290076\n",
       "roam_ic_mou_8       5.290076\n",
       "std_ic_t2t_mou_8    5.290076\n",
       "loc_og_mou_8        5.290076\n",
       "offnet_mou_8        5.290076\n",
       "std_ic_t2m_mou_8    5.290076\n",
       "onnet_mou_8         5.290076\n",
       "std_ic_t2f_mou_8    5.290076\n",
       "std_og_mou_8        5.290076\n",
       "dtype: float64"
      ]
     },
     "execution_count": 45,
     "metadata": {},
     "output_type": "execute_result"
    }
   ],
   "source": [
    "## Have we solved the problem?\n",
    "percent_missing = (df.isnull().sum() / df.isnull().count()*100).sort_values(ascending = False)\n",
    "percent_missing.head(20)"
   ]
  },
  {
   "cell_type": "markdown",
   "id": "fc50e873-099c-4981-8fb3-ef711da823ba",
   "metadata": {
    "tags": []
   },
   "source": [
    "##### The highest percentage of null values is ~5% now.  Which should be okay."
   ]
  },
  {
   "cell_type": "code",
   "execution_count": null,
   "id": "b5bcb351-58b0-4d91-8a34-1c36f737e360",
   "metadata": {},
   "outputs": [],
   "source": []
  },
  {
   "cell_type": "markdown",
   "id": "df502b42-fe63-4924-8a56-9d07cb1f7582",
   "metadata": {},
   "source": [
    "### 2.2 Dropping Columns with low variance"
   ]
  },
  {
   "cell_type": "code",
   "execution_count": null,
   "id": "36aaac42-230c-4386-a584-8f4e84b9c4d5",
   "metadata": {},
   "outputs": [],
   "source": []
  },
  {
   "cell_type": "code",
   "execution_count": 46,
   "id": "92eb025a-a333-4e33-a574-635581be3340",
   "metadata": {
    "tags": []
   },
   "outputs": [
    {
     "data": {
      "text/plain": [
       "std_ic_t2o_mou_7         1\n",
       "circle_id                1\n",
       "loc_og_t2o_mou           1\n",
       "std_og_t2o_mou           1\n",
       "loc_ic_t2o_mou           1\n",
       "last_date_of_month_6     1\n",
       "last_date_of_month_7     1\n",
       "last_date_of_month_8     1\n",
       "std_og_t2c_mou_7         1\n",
       "std_ic_t2o_mou_8         1\n",
       "std_ic_t2o_mou_6         1\n",
       "std_og_t2c_mou_8         1\n",
       "std_og_t2c_mou_6         1\n",
       "churn_probability        2\n",
       "monthly_2g_6             5\n",
       "monthly_2g_8             6\n",
       "monthly_2g_7             6\n",
       "monthly_3g_6            10\n",
       "monthly_3g_8            12\n",
       "monthly_3g_7            13\n",
       "dtype: int64"
      ]
     },
     "execution_count": 46,
     "metadata": {},
     "output_type": "execute_result"
    }
   ],
   "source": [
    "df.nunique().sort_values().head(20)"
   ]
  },
  {
   "cell_type": "code",
   "execution_count": 47,
   "id": "75ae995d-bf06-4396-a25e-6cb3ada951d1",
   "metadata": {
    "tags": []
   },
   "outputs": [],
   "source": [
    "# There are quite a few columns with only one value.  They have low variance and do not add value to the model\n",
    "# We can drop them\n",
    "\n",
    "df = df.loc[:, df.nunique() > 1]"
   ]
  },
  {
   "cell_type": "code",
   "execution_count": 48,
   "id": "a3125479-64d5-4782-a727-595213540e07",
   "metadata": {
    "tags": []
   },
   "outputs": [
    {
     "data": {
      "text/plain": [
       "(69999, 129)"
      ]
     },
     "execution_count": 48,
     "metadata": {},
     "output_type": "execute_result"
    }
   ],
   "source": [
    "df.shape"
   ]
  },
  {
   "cell_type": "code",
   "execution_count": 49,
   "id": "b322a7f1-ab10-4c74-a620-64310dd555f5",
   "metadata": {
    "tags": []
   },
   "outputs": [
    {
     "data": {
      "text/plain": [
       "0"
      ]
     },
     "execution_count": 49,
     "metadata": {},
     "output_type": "execute_result"
    }
   ],
   "source": [
    "df.duplicated().sum()"
   ]
  },
  {
   "cell_type": "markdown",
   "id": "a0720b5f-9b49-45d3-9b24-bd87092a0d8a",
   "metadata": {
    "tags": []
   },
   "source": [
    "&#x2139; —  **Note** \n",
    "     \n",
    "📍 No more duplicates"
   ]
  },
  {
   "cell_type": "markdown",
   "id": "2bcfe123-8bc4-43e9-926a-e443382cbe5c",
   "metadata": {
    "tags": []
   },
   "source": [
    "### 2.3 Imputing Values"
   ]
  },
  {
   "cell_type": "markdown",
   "id": "a60c8a2f",
   "metadata": {
    "papermill": {
     "duration": 0.045444,
     "end_time": "2021-08-13T07:16:45.832903",
     "exception": false,
     "start_time": "2021-08-13T07:16:45.787459",
     "status": "completed"
    },
    "tags": []
   },
   "source": [
    "Next, we try imputation on variables with any amount of missing data still left. There are multiple ways of imputing data, and each will require a good business understanding of what the missing data is and how you may handle it.\n",
    "\n",
    "Some tips while working with missing data - \n",
    "\n",
    "1. Can simply replace missing values directly with a constant value such as 0\n",
    "2. In certain cases you may want to replace it with the average value for each column respectively\n",
    "3. For timeseries data, you may consider using linear or spline interplolation between a set of points, if you have data available for some of the months, and missing for the others.\n",
    "4. You can consider more advance methods for imputation such as MICE.\n",
    "\n",
    "In our case, I will just demostrate a simple imputation with constant values as zeros."
   ]
  },
  {
   "cell_type": "code",
   "execution_count": 50,
   "id": "7ece2cff",
   "metadata": {
    "papermill": {
     "duration": 0.056957,
     "end_time": "2021-08-13T07:16:45.935041",
     "exception": false,
     "start_time": "2021-08-13T07:16:45.878084",
     "status": "completed"
    },
    "tags": []
   },
   "outputs": [
    {
     "name": "stdout",
     "output_type": "stream",
     "text": [
      "No. of columns that need values imputed  (84,)\n",
      "Index(['onnet_mou_6', 'onnet_mou_7', 'onnet_mou_8', 'offnet_mou_6',\n",
      "       'offnet_mou_7', 'offnet_mou_8', 'roam_ic_mou_6', 'roam_ic_mou_7',\n",
      "       'roam_ic_mou_8', 'roam_og_mou_6', 'roam_og_mou_7', 'roam_og_mou_8',\n",
      "       'loc_og_t2t_mou_6', 'loc_og_t2t_mou_7', 'loc_og_t2t_mou_8',\n",
      "       'loc_og_t2m_mou_6', 'loc_og_t2m_mou_7', 'loc_og_t2m_mou_8',\n",
      "       'loc_og_t2f_mou_6', 'loc_og_t2f_mou_7', 'loc_og_t2f_mou_8',\n",
      "       'loc_og_t2c_mou_6', 'loc_og_t2c_mou_7', 'loc_og_t2c_mou_8',\n",
      "       'loc_og_mou_6', 'loc_og_mou_7', 'loc_og_mou_8', 'std_og_t2t_mou_6',\n",
      "       'std_og_t2t_mou_7', 'std_og_t2t_mou_8', 'std_og_t2m_mou_6',\n",
      "       'std_og_t2m_mou_7', 'std_og_t2m_mou_8', 'std_og_t2f_mou_6',\n",
      "       'std_og_t2f_mou_7', 'std_og_t2f_mou_8', 'std_og_mou_6', 'std_og_mou_7',\n",
      "       'std_og_mou_8', 'isd_og_mou_6', 'isd_og_mou_7', 'isd_og_mou_8',\n",
      "       'spl_og_mou_6', 'spl_og_mou_7', 'spl_og_mou_8', 'og_others_6',\n",
      "       'og_others_7', 'og_others_8', 'loc_ic_t2t_mou_6', 'loc_ic_t2t_mou_7',\n",
      "       'loc_ic_t2t_mou_8', 'loc_ic_t2m_mou_6', 'loc_ic_t2m_mou_7',\n",
      "       'loc_ic_t2m_mou_8', 'loc_ic_t2f_mou_6', 'loc_ic_t2f_mou_7',\n",
      "       'loc_ic_t2f_mou_8', 'loc_ic_mou_6', 'loc_ic_mou_7', 'loc_ic_mou_8',\n",
      "       'std_ic_t2t_mou_6', 'std_ic_t2t_mou_7', 'std_ic_t2t_mou_8',\n",
      "       'std_ic_t2m_mou_6', 'std_ic_t2m_mou_7', 'std_ic_t2m_mou_8',\n",
      "       'std_ic_t2f_mou_6', 'std_ic_t2f_mou_7', 'std_ic_t2f_mou_8',\n",
      "       'std_ic_mou_6', 'std_ic_mou_7', 'std_ic_mou_8', 'spl_ic_mou_6',\n",
      "       'spl_ic_mou_7', 'spl_ic_mou_8', 'isd_ic_mou_6', 'isd_ic_mou_7',\n",
      "       'isd_ic_mou_8', 'ic_others_6', 'ic_others_7', 'ic_others_8',\n",
      "       'date_of_last_rech_6', 'date_of_last_rech_7', 'date_of_last_rech_8'],\n",
      "      dtype='object')\n"
     ]
    }
   ],
   "source": [
    "missing_data_percent = df.isnull().any()\n",
    "impute_cols = missing_data_percent[missing_data_percent.gt(0)].index\n",
    "print(\"No. of columns that need values imputed \", impute_cols.shape)\n",
    "print(impute_cols)"
   ]
  },
  {
   "cell_type": "code",
   "execution_count": null,
   "id": "fdac87cc",
   "metadata": {
    "papermill": {
     "duration": 0.132076,
     "end_time": "2021-08-13T07:16:47.205627",
     "exception": false,
     "start_time": "2021-08-13T07:16:47.073551",
     "status": "completed"
    },
    "tags": []
   },
   "outputs": [],
   "source": [
    "df.describe()"
   ]
  },
  {
   "cell_type": "markdown",
   "id": "9857d0c5",
   "metadata": {
    "papermill": {
     "duration": 0.047951,
     "end_time": "2021-08-13T07:16:47.301731",
     "exception": false,
     "start_time": "2021-08-13T07:16:47.253780",
     "status": "completed"
    },
    "tags": []
   },
   "source": [
    "# 3. Exploratory Data Analysis & Preprocessing\n",
    "\n",
    "Lets start by analysing the univariate distributions of each feature."
   ]
  },
  {
   "cell_type": "code",
   "execution_count": 51,
   "id": "cea7d58e",
   "metadata": {
    "papermill": {
     "duration": 0.885464,
     "end_time": "2021-08-13T07:16:48.234798",
     "exception": false,
     "start_time": "2021-08-13T07:16:47.349334",
     "status": "completed"
    },
    "tags": []
   },
   "outputs": [
    {
     "data": {
      "text/plain": [
       "<Axes: >"
      ]
     },
     "execution_count": 51,
     "metadata": {},
     "output_type": "execute_result"
    },
    {
     "data": {
      "image/png": "[encoded data removed]",
      "text/plain": [
       "<Figure size 1500x800 with 1 Axes>"
      ]
     },
     "metadata": {},
     "output_type": "display_data"
    }
   ],
   "source": [
    "plt.figure(figsize=(15,8))\n",
    "plt.xticks(rotation=45)\n",
    "sns.boxplot(data = df)"
   ]
  },
  {
   "cell_type": "code",
   "execution_count": null,
   "id": "8ca7c5c2-403f-4a5c-99d9-d034afb8f208",
   "metadata": {},
   "outputs": [],
   "source": []
  },
  {
   "cell_type": "markdown",
   "id": "9c64e8d5-70ca-408c-a854-c314652e17b2",
   "metadata": {
    "tags": []
   },
   "source": [
    "### 3.1 Derived Features"
   ]
  },
  {
   "cell_type": "markdown",
   "id": "f2bddc7d-3776-4d94-8d53-085205df5856",
   "metadata": {},
   "source": [
    "#### Last Recharge Dates    \n",
    "      \n",
    "The last recharge dates are not very relevant as such.  It makes sense to convert them in to something else.  I have converted them in to months since last recharge.\n"
   ]
  },
  {
   "cell_type": "code",
   "execution_count": 52,
   "id": "a857bd59-7325-4db6-958c-92408726034b",
   "metadata": {
    "tags": []
   },
   "outputs": [],
   "source": [
    "from datetime import datetime\n",
    "\n",
    "def calculate_latest_charge_date(date_6, date_7, date_8):\n",
    "    # Function to check if a date string is valid\n",
    "    def is_valid_date(date_str):\n",
    "        try:\n",
    "            datetime.strptime(date_str, '%m/%d/%Y')\n",
    "            return True\n",
    "        except ValueError:\n",
    "            return False\n",
    "\n",
    "    # Check conditions and calculate months_since_last_charge\n",
    "    if date_8 and not pd.isna(date_8) and is_valid_date(date_8):\n",
    "        months_since_last_charge = 0\n",
    "    elif date_7 and not pd.isna(date_7) and is_valid_date(date_7):\n",
    "        months_since_last_charge = 1\n",
    "    elif date_6 and not pd.isna(date_6) and is_valid_date(date_6):\n",
    "        months_since_last_charge = 2\n",
    "    else:\n",
    "        months_since_last_charge = 3\n",
    "\n",
    "    return months_since_last_charge\n",
    "\n",
    "\n",
    "\n",
    "# Function to calculate months_since_last_charge\n",
    "def calculate_months_since_last_charge_df(row):\n",
    "    return calculate_latest_charge_date(row['date_of_last_rech_6'], row['date_of_last_rech_7'], row['date_of_last_rech_8'])\n"
   ]
  },
  {
   "cell_type": "code",
   "execution_count": 53,
   "id": "796557bd-3a5a-485e-a619-060dde57a745",
   "metadata": {
    "tags": []
   },
   "outputs": [
    {
     "name": "stdout",
     "output_type": "stream",
     "text": [
      "<class 'pandas.core.frame.DataFrame'>\n",
      "RangeIndex: 69999 entries, 0 to 69998\n",
      "Data columns (total 3 columns):\n",
      " #   Column               Non-Null Count  Dtype \n",
      "---  ------               --------------  ----- \n",
      " 0   date_of_last_rech_6  68898 non-null  object\n",
      " 1   date_of_last_rech_7  68765 non-null  object\n",
      " 2   date_of_last_rech_8  67538 non-null  object\n",
      "dtypes: object(3)\n",
      "memory usage: 1.6+ MB\n"
     ]
    }
   ],
   "source": [
    "# Split data in to categorical & numerical variables\n",
    "df_categorical_fields = df.select_dtypes(include=['object'])\n",
    "df_categorical_fields.info()"
   ]
  },
  {
   "cell_type": "code",
   "execution_count": 54,
   "id": "bfd63edc-2b79-4f27-8e01-eee35ff0ffe0",
   "metadata": {
    "tags": []
   },
   "outputs": [],
   "source": [
    "df_categorical_fields['months_since_last_charge'] = df_categorical_fields.apply(calculate_months_since_last_charge_df, axis=1)"
   ]
  },
  {
   "cell_type": "code",
   "execution_count": 55,
   "id": "03a640ea-91a3-44e3-ae1d-bc45bfdb0457",
   "metadata": {
    "tags": []
   },
   "outputs": [],
   "source": [
    "# Drop the last recharge date columns\n",
    "df_categorical_fields.drop(['date_of_last_rech_6','date_of_last_rech_7','date_of_last_rech_8'], axis=1, inplace=True)"
   ]
  },
  {
   "cell_type": "markdown",
   "id": "381045b0",
   "metadata": {
    "papermill": {
     "duration": 0.050148,
     "end_time": "2021-08-13T07:16:48.336611",
     "exception": false,
     "start_time": "2021-08-13T07:16:48.286463",
     "status": "completed"
    },
    "tags": []
   },
   "source": [
    "### 3.2 Handling outliers\n",
    "\n",
    "The box plots of these features show there a lot of outliers. These can be capped with k-sigma method."
   ]
  },
  {
   "cell_type": "code",
   "execution_count": 58,
   "id": "a8752760-c0bc-4453-9926-31f007ec6626",
   "metadata": {
    "tags": []
   },
   "outputs": [
    {
     "name": "stdout",
     "output_type": "stream",
     "text": [
      "<class 'pandas.core.frame.DataFrame'>\n",
      "RangeIndex: 69999 entries, 0 to 69998\n",
      "Columns: 125 entries, arpu_6 to churn_probability\n",
      "dtypes: float64(99), int64(26)\n",
      "memory usage: 66.8 MB\n"
     ]
    }
   ],
   "source": [
    "df_numerical_variables = df.select_dtypes(include=['int64', 'float64'])\n",
    "df_numerical_variables.pop('id')    # Remove id variable.  Though it is numeric, it does not need outlier treatment\n",
    "df_numerical_variables.info()"
   ]
  },
  {
   "cell_type": "code",
   "execution_count": 59,
   "id": "92d1d43d",
   "metadata": {
    "papermill": {
     "duration": 0.995019,
     "end_time": "2021-08-13T07:16:49.488905",
     "exception": false,
     "start_time": "2021-08-13T07:16:48.493886",
     "status": "completed"
    },
    "tags": []
   },
   "outputs": [
    {
     "data": {
      "text/plain": [
       "<Axes: >"
      ]
     },
     "execution_count": 59,
     "metadata": {},
     "output_type": "execute_result"
    },
    {
     "data": {
      "image/png": "[encoded data removed]",
      "text/plain": [
       "<Figure size 1500x800 with 1 Axes>"
      ]
     },
     "metadata": {},
     "output_type": "display_data"
    }
   ],
   "source": [
    "# Apply the capping to the \n",
    "# Let us cap the values\n",
    "# But exclude the id field.  It is numerical, but should not be capped.\n",
    "\n",
    "def col_clip(col):\n",
    "    mean = col.mean()\n",
    "    std = col.std()\n",
    "    return col.clip(mean - 2 * std, mean + 2 * std)\n",
    "\n",
    "\n",
    "df_numerical_variables = df_numerical_variables.apply(col_clip, axis=0)\n",
    "\n",
    "plt.figure(figsize=(15,8))\n",
    "plt.xticks(rotation=45)\n",
    "sns.boxplot(data = df_numerical_variables)"
   ]
  },
  {
   "cell_type": "code",
   "execution_count": null,
   "id": "60a72fd8-bfa6-4a02-9ac5-f07f75b3ccfe",
   "metadata": {},
   "outputs": [],
   "source": []
  },
  {
   "cell_type": "code",
   "execution_count": 60,
   "id": "a1f8eb0b-122c-47d1-aa73-ccf200f52d41",
   "metadata": {
    "tags": []
   },
   "outputs": [
    {
     "data": {
      "text/html": [
       "<div>\n",
       "<style scoped>\n",
       "    .dataframe tbody tr th:only-of-type {\n",
       "        vertical-align: middle;\n",
       "    }\n",
       "\n",
       "    .dataframe tbody tr th {\n",
       "        vertical-align: top;\n",
       "    }\n",
       "\n",
       "    .dataframe thead th {\n",
       "        text-align: right;\n",
       "    }\n",
       "</style>\n",
       "<table border=\"1\" class=\"dataframe\">\n",
       "  <thead>\n",
       "    <tr style=\"text-align: right;\">\n",
       "      <th></th>\n",
       "      <th>arpu_6</th>\n",
       "      <th>arpu_7</th>\n",
       "      <th>arpu_8</th>\n",
       "      <th>onnet_mou_6</th>\n",
       "      <th>onnet_mou_7</th>\n",
       "      <th>onnet_mou_8</th>\n",
       "      <th>offnet_mou_6</th>\n",
       "      <th>offnet_mou_7</th>\n",
       "      <th>offnet_mou_8</th>\n",
       "      <th>roam_ic_mou_6</th>\n",
       "      <th>...</th>\n",
       "      <th>monthly_3g_7</th>\n",
       "      <th>monthly_3g_8</th>\n",
       "      <th>sachet_3g_6</th>\n",
       "      <th>sachet_3g_7</th>\n",
       "      <th>sachet_3g_8</th>\n",
       "      <th>aon</th>\n",
       "      <th>aug_vbc_3g</th>\n",
       "      <th>jul_vbc_3g</th>\n",
       "      <th>jun_vbc_3g</th>\n",
       "      <th>churn_probability</th>\n",
       "    </tr>\n",
       "  </thead>\n",
       "  <tbody>\n",
       "    <tr>\n",
       "      <th>count</th>\n",
       "      <td>69999.000000</td>\n",
       "      <td>69999.000000</td>\n",
       "      <td>69999.000000</td>\n",
       "      <td>67231.000000</td>\n",
       "      <td>67312.000000</td>\n",
       "      <td>66296.000000</td>\n",
       "      <td>67231.000000</td>\n",
       "      <td>67312.000000</td>\n",
       "      <td>66296.000000</td>\n",
       "      <td>67231.000000</td>\n",
       "      <td>...</td>\n",
       "      <td>69999.000000</td>\n",
       "      <td>69999.000000</td>\n",
       "      <td>69999.000000</td>\n",
       "      <td>69999.000000</td>\n",
       "      <td>69999.000000</td>\n",
       "      <td>69999.000000</td>\n",
       "      <td>69999.000000</td>\n",
       "      <td>69999.000000</td>\n",
       "      <td>69999.000000</td>\n",
       "      <td>69999.000000</td>\n",
       "    </tr>\n",
       "    <tr>\n",
       "      <th>mean</th>\n",
       "      <td>268.144897</td>\n",
       "      <td>263.414624</td>\n",
       "      <td>263.714432</td>\n",
       "      <td>111.169714</td>\n",
       "      <td>111.352745</td>\n",
       "      <td>110.699944</td>\n",
       "      <td>177.315005</td>\n",
       "      <td>175.434847</td>\n",
       "      <td>175.555516</td>\n",
       "      <td>6.218082</td>\n",
       "      <td>...</td>\n",
       "      <td>0.047476</td>\n",
       "      <td>0.050858</td>\n",
       "      <td>0.044255</td>\n",
       "      <td>0.046143</td>\n",
       "      <td>0.048181</td>\n",
       "      <td>1206.196117</td>\n",
       "      <td>48.049112</td>\n",
       "      <td>45.482615</td>\n",
       "      <td>41.077473</td>\n",
       "      <td>0.072023</td>\n",
       "    </tr>\n",
       "    <tr>\n",
       "      <th>std</th>\n",
       "      <td>239.116960</td>\n",
       "      <td>240.625108</td>\n",
       "      <td>244.145755</td>\n",
       "      <td>180.056909</td>\n",
       "      <td>184.998496</td>\n",
       "      <td>184.036518</td>\n",
       "      <td>210.601156</td>\n",
       "      <td>213.735930</td>\n",
       "      <td>213.924636</td>\n",
       "      <td>21.759720</td>\n",
       "      <td>...</td>\n",
       "      <td>0.194477</td>\n",
       "      <td>0.201045</td>\n",
       "      <td>0.213441</td>\n",
       "      <td>0.224542</td>\n",
       "      <td>0.234083</td>\n",
       "      <td>919.367939</td>\n",
       "      <td>141.568198</td>\n",
       "      <td>138.017371</td>\n",
       "      <td>128.322575</td>\n",
       "      <td>0.213836</td>\n",
       "    </tr>\n",
       "    <tr>\n",
       "      <th>min</th>\n",
       "      <td>-385.293470</td>\n",
       "      <td>-410.547943</td>\n",
       "      <td>-424.989803</td>\n",
       "      <td>0.000000</td>\n",
       "      <td>0.000000</td>\n",
       "      <td>0.000000</td>\n",
       "      <td>0.000000</td>\n",
       "      <td>0.000000</td>\n",
       "      <td>0.000000</td>\n",
       "      <td>0.000000</td>\n",
       "      <td>...</td>\n",
       "      <td>0.000000</td>\n",
       "      <td>0.000000</td>\n",
       "      <td>0.000000</td>\n",
       "      <td>0.000000</td>\n",
       "      <td>0.000000</td>\n",
       "      <td>180.000000</td>\n",
       "      <td>0.000000</td>\n",
       "      <td>0.000000</td>\n",
       "      <td>0.000000</td>\n",
       "      <td>0.000000</td>\n",
       "    </tr>\n",
       "    <tr>\n",
       "      <th>25%</th>\n",
       "      <td>93.581000</td>\n",
       "      <td>86.714000</td>\n",
       "      <td>84.095000</td>\n",
       "      <td>7.410000</td>\n",
       "      <td>6.675000</td>\n",
       "      <td>6.410000</td>\n",
       "      <td>34.860000</td>\n",
       "      <td>32.240000</td>\n",
       "      <td>31.575000</td>\n",
       "      <td>0.000000</td>\n",
       "      <td>...</td>\n",
       "      <td>0.000000</td>\n",
       "      <td>0.000000</td>\n",
       "      <td>0.000000</td>\n",
       "      <td>0.000000</td>\n",
       "      <td>0.000000</td>\n",
       "      <td>468.000000</td>\n",
       "      <td>0.000000</td>\n",
       "      <td>0.000000</td>\n",
       "      <td>0.000000</td>\n",
       "      <td>0.000000</td>\n",
       "    </tr>\n",
       "    <tr>\n",
       "      <th>50%</th>\n",
       "      <td>197.484000</td>\n",
       "      <td>191.588000</td>\n",
       "      <td>192.234000</td>\n",
       "      <td>34.110000</td>\n",
       "      <td>32.280000</td>\n",
       "      <td>32.100000</td>\n",
       "      <td>96.480000</td>\n",
       "      <td>91.885000</td>\n",
       "      <td>91.800000</td>\n",
       "      <td>0.000000</td>\n",
       "      <td>...</td>\n",
       "      <td>0.000000</td>\n",
       "      <td>0.000000</td>\n",
       "      <td>0.000000</td>\n",
       "      <td>0.000000</td>\n",
       "      <td>0.000000</td>\n",
       "      <td>868.000000</td>\n",
       "      <td>0.000000</td>\n",
       "      <td>0.000000</td>\n",
       "      <td>0.000000</td>\n",
       "      <td>0.000000</td>\n",
       "    </tr>\n",
       "    <tr>\n",
       "      <th>75%</th>\n",
       "      <td>370.791000</td>\n",
       "      <td>365.369500</td>\n",
       "      <td>369.909000</td>\n",
       "      <td>119.390000</td>\n",
       "      <td>115.837500</td>\n",
       "      <td>115.060000</td>\n",
       "      <td>232.990000</td>\n",
       "      <td>227.630000</td>\n",
       "      <td>229.345000</td>\n",
       "      <td>0.000000</td>\n",
       "      <td>...</td>\n",
       "      <td>0.000000</td>\n",
       "      <td>0.000000</td>\n",
       "      <td>0.000000</td>\n",
       "      <td>0.000000</td>\n",
       "      <td>0.000000</td>\n",
       "      <td>1813.000000</td>\n",
       "      <td>0.000000</td>\n",
       "      <td>0.000000</td>\n",
       "      <td>0.000000</td>\n",
       "      <td>0.000000</td>\n",
       "    </tr>\n",
       "    <tr>\n",
       "      <th>max</th>\n",
       "      <td>951.562200</td>\n",
       "      <td>966.919766</td>\n",
       "      <td>982.707456</td>\n",
       "      <td>733.079461</td>\n",
       "      <td>756.448824</td>\n",
       "      <td>756.771450</td>\n",
       "      <td>832.511482</td>\n",
       "      <td>842.117834</td>\n",
       "      <td>844.722045</td>\n",
       "      <td>124.514294</td>\n",
       "      <td>...</td>\n",
       "      <td>0.844108</td>\n",
       "      <td>0.845600</td>\n",
       "      <td>1.221350</td>\n",
       "      <td>1.350538</td>\n",
       "      <td>1.445558</td>\n",
       "      <td>3125.492351</td>\n",
       "      <td>606.765915</td>\n",
       "      <td>601.733897</td>\n",
       "      <td>574.530360</td>\n",
       "      <td>0.706891</td>\n",
       "    </tr>\n",
       "  </tbody>\n",
       "</table>\n",
       "<p>8 rows × 125 columns</p>\n",
       "</div>"
      ],
      "text/plain": [
       "             arpu_6        arpu_7        arpu_8   onnet_mou_6   onnet_mou_7  \\\n",
       "count  69999.000000  69999.000000  69999.000000  67231.000000  67312.000000   \n",
       "mean     268.144897    263.414624    263.714432    111.169714    111.352745   \n",
       "std      239.116960    240.625108    244.145755    180.056909    184.998496   \n",
       "min     -385.293470   -410.547943   -424.989803      0.000000      0.000000   \n",
       "25%       93.581000     86.714000     84.095000      7.410000      6.675000   \n",
       "50%      197.484000    191.588000    192.234000     34.110000     32.280000   \n",
       "75%      370.791000    365.369500    369.909000    119.390000    115.837500   \n",
       "max      951.562200    966.919766    982.707456    733.079461    756.448824   \n",
       "\n",
       "        onnet_mou_8  offnet_mou_6  offnet_mou_7  offnet_mou_8  roam_ic_mou_6  \\\n",
       "count  66296.000000  67231.000000  67312.000000  66296.000000   67231.000000   \n",
       "mean     110.699944    177.315005    175.434847    175.555516       6.218082   \n",
       "std      184.036518    210.601156    213.735930    213.924636      21.759720   \n",
       "min        0.000000      0.000000      0.000000      0.000000       0.000000   \n",
       "25%        6.410000     34.860000     32.240000     31.575000       0.000000   \n",
       "50%       32.100000     96.480000     91.885000     91.800000       0.000000   \n",
       "75%      115.060000    232.990000    227.630000    229.345000       0.000000   \n",
       "max      756.771450    832.511482    842.117834    844.722045     124.514294   \n",
       "\n",
       "       ...  monthly_3g_7  monthly_3g_8   sachet_3g_6   sachet_3g_7  \\\n",
       "count  ...  69999.000000  69999.000000  69999.000000  69999.000000   \n",
       "mean   ...      0.047476      0.050858      0.044255      0.046143   \n",
       "std    ...      0.194477      0.201045      0.213441      0.224542   \n",
       "min    ...      0.000000      0.000000      0.000000      0.000000   \n",
       "25%    ...      0.000000      0.000000      0.000000      0.000000   \n",
       "50%    ...      0.000000      0.000000      0.000000      0.000000   \n",
       "75%    ...      0.000000      0.000000      0.000000      0.000000   \n",
       "max    ...      0.844108      0.845600      1.221350      1.350538   \n",
       "\n",
       "        sachet_3g_8           aon    aug_vbc_3g    jul_vbc_3g    jun_vbc_3g  \\\n",
       "count  69999.000000  69999.000000  69999.000000  69999.000000  69999.000000   \n",
       "mean       0.048181   1206.196117     48.049112     45.482615     41.077473   \n",
       "std        0.234083    919.367939    141.568198    138.017371    128.322575   \n",
       "min        0.000000    180.000000      0.000000      0.000000      0.000000   \n",
       "25%        0.000000    468.000000      0.000000      0.000000      0.000000   \n",
       "50%        0.000000    868.000000      0.000000      0.000000      0.000000   \n",
       "75%        0.000000   1813.000000      0.000000      0.000000      0.000000   \n",
       "max        1.445558   3125.492351    606.765915    601.733897    574.530360   \n",
       "\n",
       "       churn_probability  \n",
       "count       69999.000000  \n",
       "mean            0.072023  \n",
       "std             0.213836  \n",
       "min             0.000000  \n",
       "25%             0.000000  \n",
       "50%             0.000000  \n",
       "75%             0.000000  \n",
       "max             0.706891  \n",
       "\n",
       "[8 rows x 125 columns]"
      ]
     },
     "execution_count": 60,
     "metadata": {},
     "output_type": "execute_result"
    }
   ],
   "source": [
    "df_numerical_variables.describe()"
   ]
  },
  {
   "cell_type": "code",
   "execution_count": null,
   "id": "7b7ee02e-383c-45c5-97a3-a07778aa668f",
   "metadata": {},
   "outputs": [],
   "source": []
  },
  {
   "cell_type": "code",
   "execution_count": null,
   "id": "08e19c63-a520-44ac-a26f-461c30261d9c",
   "metadata": {
    "tags": []
   },
   "outputs": [],
   "source": [
    "# Now concatenate all the dataframes and then include the id field also"
   ]
  },
  {
   "cell_type": "code",
   "execution_count": 61,
   "id": "7e6a9fcd-5b50-495d-abd7-55e01d87d300",
   "metadata": {
    "tags": []
   },
   "outputs": [],
   "source": [
    "id_df = df['id']"
   ]
  },
  {
   "cell_type": "code",
   "execution_count": 62,
   "id": "5ceee651-5921-4f59-9cfb-62996fd96c1e",
   "metadata": {
    "tags": []
   },
   "outputs": [],
   "source": [
    "df = pd.concat([df_numerical_variables, df_categorical_fields, id_df], axis=1)"
   ]
  },
  {
   "cell_type": "markdown",
   "id": "717a47b1",
   "metadata": {
    "papermill": {
     "duration": 0.03869,
     "end_time": "2021-08-13T07:16:41.929599",
     "exception": false,
     "start_time": "2021-08-13T07:16:41.890909",
     "status": "completed"
    },
    "tags": []
   },
   "source": [
    "# 4. Preliminary Model Building Using LightGBM\n",
    "\n",
    "**This needs to be done again.  The test train split can be done on the data frame and then we can pop the target variable**\n",
    "\n",
    "\n"
   ]
  },
  {
   "cell_type": "markdown",
   "id": "3b1e9eca",
   "metadata": {
    "papermill": {
     "duration": 0.039731,
     "end_time": "2021-08-13T07:16:42.189842",
     "exception": false,
     "start_time": "2021-08-13T07:16:42.150111",
     "status": "completed"
    },
    "tags": []
   },
   "source": [
    "First lets create X and y datasets.\n",
    "\n",
    "Splitting train and test data to avoid any contamination of the test data"
   ]
  },
  {
   "cell_type": "code",
   "execution_count": 94,
   "id": "19049f7a",
   "metadata": {
    "papermill": {
     "duration": 0.065525,
     "end_time": "2021-08-13T07:16:42.294433",
     "exception": false,
     "start_time": "2021-08-13T07:16:42.228908",
     "status": "completed"
    },
    "tags": []
   },
   "outputs": [
    {
     "data": {
      "text/plain": [
       "((55999, 127), (14000, 127))"
      ]
     },
     "execution_count": 94,
     "metadata": {},
     "output_type": "execute_result"
    }
   ],
   "source": [
    "df_train, df_test = train_test_split(df, test_size=0.2, random_state=42)\n",
    "\n",
    "df_train.shape, df_test.shape"
   ]
  },
  {
   "cell_type": "markdown",
   "id": "872e86fe",
   "metadata": {
    "papermill": {
     "duration": 0.050821,
     "end_time": "2021-08-13T07:16:49.590800",
     "exception": false,
     "start_time": "2021-08-13T07:16:49.539979",
     "status": "completed"
    },
    "tags": []
   },
   "source": [
    "### 4.1 Feature scaling\n",
    "\n",
    "Lets also scale the features by scaling them with Standard scaler (few other alternates are min-max scaling and Z-scaling)."
   ]
  },
  {
   "cell_type": "code",
   "execution_count": 95,
   "id": "4ad7ad33",
   "metadata": {
    "papermill": {
     "duration": 0.077522,
     "end_time": "2021-08-13T07:16:49.720148",
     "exception": false,
     "start_time": "2021-08-13T07:16:49.642626",
     "status": "completed"
    },
    "tags": []
   },
   "outputs": [],
   "source": [
    "scaler = MinMaxScaler()\n",
    "cols_to_scale = df_train.drop(['id'], axis=1).columns\n",
    "df_train[cols_to_scale] = scaler.fit_transform(df_train[cols_to_scale])"
   ]
  },
  {
   "cell_type": "code",
   "execution_count": 96,
   "id": "1991940b-efb8-4e5a-a0a7-8c2cdcb8ef19",
   "metadata": {
    "tags": []
   },
   "outputs": [
    {
     "data": {
      "text/html": [
       "<div>\n",
       "<style scoped>\n",
       "    .dataframe tbody tr th:only-of-type {\n",
       "        vertical-align: middle;\n",
       "    }\n",
       "\n",
       "    .dataframe tbody tr th {\n",
       "        vertical-align: top;\n",
       "    }\n",
       "\n",
       "    .dataframe thead th {\n",
       "        text-align: right;\n",
       "    }\n",
       "</style>\n",
       "<table border=\"1\" class=\"dataframe\">\n",
       "  <thead>\n",
       "    <tr style=\"text-align: right;\">\n",
       "      <th></th>\n",
       "      <th>arpu_6</th>\n",
       "      <th>arpu_7</th>\n",
       "      <th>arpu_8</th>\n",
       "      <th>onnet_mou_6</th>\n",
       "      <th>onnet_mou_7</th>\n",
       "      <th>onnet_mou_8</th>\n",
       "      <th>offnet_mou_6</th>\n",
       "      <th>offnet_mou_7</th>\n",
       "      <th>offnet_mou_8</th>\n",
       "      <th>roam_ic_mou_6</th>\n",
       "      <th>...</th>\n",
       "      <th>sachet_3g_6</th>\n",
       "      <th>sachet_3g_7</th>\n",
       "      <th>sachet_3g_8</th>\n",
       "      <th>aon</th>\n",
       "      <th>aug_vbc_3g</th>\n",
       "      <th>jul_vbc_3g</th>\n",
       "      <th>jun_vbc_3g</th>\n",
       "      <th>churn_probability</th>\n",
       "      <th>months_since_last_charge</th>\n",
       "      <th>id</th>\n",
       "    </tr>\n",
       "  </thead>\n",
       "  <tbody>\n",
       "    <tr>\n",
       "      <th>count</th>\n",
       "      <td>55999.000000</td>\n",
       "      <td>55999.000000</td>\n",
       "      <td>55999.000000</td>\n",
       "      <td>53781.000000</td>\n",
       "      <td>53871.000000</td>\n",
       "      <td>53066.000000</td>\n",
       "      <td>53781.000000</td>\n",
       "      <td>53871.000000</td>\n",
       "      <td>53066.000000</td>\n",
       "      <td>53781.000000</td>\n",
       "      <td>...</td>\n",
       "      <td>55999.000000</td>\n",
       "      <td>55999.000000</td>\n",
       "      <td>55999.000000</td>\n",
       "      <td>55999.000000</td>\n",
       "      <td>55999.000000</td>\n",
       "      <td>55999.000000</td>\n",
       "      <td>55999.000000</td>\n",
       "      <td>55999.000000</td>\n",
       "      <td>55999.000000</td>\n",
       "      <td>55999.000000</td>\n",
       "    </tr>\n",
       "    <tr>\n",
       "      <th>mean</th>\n",
       "      <td>0.488810</td>\n",
       "      <td>0.489696</td>\n",
       "      <td>0.489120</td>\n",
       "      <td>0.151232</td>\n",
       "      <td>0.147328</td>\n",
       "      <td>0.146244</td>\n",
       "      <td>0.213259</td>\n",
       "      <td>0.209070</td>\n",
       "      <td>0.207569</td>\n",
       "      <td>0.050014</td>\n",
       "      <td>...</td>\n",
       "      <td>0.036336</td>\n",
       "      <td>0.034025</td>\n",
       "      <td>0.033299</td>\n",
       "      <td>0.347750</td>\n",
       "      <td>0.079535</td>\n",
       "      <td>0.075546</td>\n",
       "      <td>0.071853</td>\n",
       "      <td>0.101966</td>\n",
       "      <td>0.014649</td>\n",
       "      <td>34968.080162</td>\n",
       "    </tr>\n",
       "    <tr>\n",
       "      <th>std</th>\n",
       "      <td>0.179125</td>\n",
       "      <td>0.174850</td>\n",
       "      <td>0.173412</td>\n",
       "      <td>0.244980</td>\n",
       "      <td>0.244648</td>\n",
       "      <td>0.243190</td>\n",
       "      <td>0.253605</td>\n",
       "      <td>0.254366</td>\n",
       "      <td>0.253152</td>\n",
       "      <td>0.175124</td>\n",
       "      <td>...</td>\n",
       "      <td>0.174798</td>\n",
       "      <td>0.165883</td>\n",
       "      <td>0.161926</td>\n",
       "      <td>0.311571</td>\n",
       "      <td>0.233536</td>\n",
       "      <td>0.228976</td>\n",
       "      <td>0.224056</td>\n",
       "      <td>0.302606</td>\n",
       "      <td>0.082580</td>\n",
       "      <td>20195.580237</td>\n",
       "    </tr>\n",
       "    <tr>\n",
       "      <th>min</th>\n",
       "      <td>0.000000</td>\n",
       "      <td>0.000000</td>\n",
       "      <td>0.000000</td>\n",
       "      <td>0.000000</td>\n",
       "      <td>0.000000</td>\n",
       "      <td>0.000000</td>\n",
       "      <td>0.000000</td>\n",
       "      <td>0.000000</td>\n",
       "      <td>0.000000</td>\n",
       "      <td>0.000000</td>\n",
       "      <td>...</td>\n",
       "      <td>0.000000</td>\n",
       "      <td>0.000000</td>\n",
       "      <td>0.000000</td>\n",
       "      <td>0.000000</td>\n",
       "      <td>0.000000</td>\n",
       "      <td>0.000000</td>\n",
       "      <td>0.000000</td>\n",
       "      <td>0.000000</td>\n",
       "      <td>0.000000</td>\n",
       "      <td>0.000000</td>\n",
       "    </tr>\n",
       "    <tr>\n",
       "      <th>25%</th>\n",
       "      <td>0.358020</td>\n",
       "      <td>0.361285</td>\n",
       "      <td>0.361806</td>\n",
       "      <td>0.010013</td>\n",
       "      <td>0.008844</td>\n",
       "      <td>0.008434</td>\n",
       "      <td>0.042053</td>\n",
       "      <td>0.038534</td>\n",
       "      <td>0.037545</td>\n",
       "      <td>0.000000</td>\n",
       "      <td>...</td>\n",
       "      <td>0.000000</td>\n",
       "      <td>0.000000</td>\n",
       "      <td>0.000000</td>\n",
       "      <td>0.097777</td>\n",
       "      <td>0.000000</td>\n",
       "      <td>0.000000</td>\n",
       "      <td>0.000000</td>\n",
       "      <td>0.000000</td>\n",
       "      <td>0.000000</td>\n",
       "      <td>17483.000000</td>\n",
       "    </tr>\n",
       "    <tr>\n",
       "      <th>50%</th>\n",
       "      <td>0.435749</td>\n",
       "      <td>0.437405</td>\n",
       "      <td>0.438132</td>\n",
       "      <td>0.046434</td>\n",
       "      <td>0.042739</td>\n",
       "      <td>0.042298</td>\n",
       "      <td>0.115482</td>\n",
       "      <td>0.109759</td>\n",
       "      <td>0.108616</td>\n",
       "      <td>0.000000</td>\n",
       "      <td>...</td>\n",
       "      <td>0.000000</td>\n",
       "      <td>0.000000</td>\n",
       "      <td>0.000000</td>\n",
       "      <td>0.233577</td>\n",
       "      <td>0.000000</td>\n",
       "      <td>0.000000</td>\n",
       "      <td>0.000000</td>\n",
       "      <td>0.000000</td>\n",
       "      <td>0.000000</td>\n",
       "      <td>34969.000000</td>\n",
       "    </tr>\n",
       "    <tr>\n",
       "      <th>75%</th>\n",
       "      <td>0.565110</td>\n",
       "      <td>0.563718</td>\n",
       "      <td>0.564539</td>\n",
       "      <td>0.162452</td>\n",
       "      <td>0.153494</td>\n",
       "      <td>0.152430</td>\n",
       "      <td>0.279924</td>\n",
       "      <td>0.271209</td>\n",
       "      <td>0.270533</td>\n",
       "      <td>0.000000</td>\n",
       "      <td>...</td>\n",
       "      <td>0.000000</td>\n",
       "      <td>0.000000</td>\n",
       "      <td>0.000000</td>\n",
       "      <td>0.552030</td>\n",
       "      <td>0.000000</td>\n",
       "      <td>0.000000</td>\n",
       "      <td>0.000000</td>\n",
       "      <td>0.000000</td>\n",
       "      <td>0.000000</td>\n",
       "      <td>52457.500000</td>\n",
       "    </tr>\n",
       "    <tr>\n",
       "      <th>max</th>\n",
       "      <td>1.000000</td>\n",
       "      <td>1.000000</td>\n",
       "      <td>1.000000</td>\n",
       "      <td>1.000000</td>\n",
       "      <td>1.000000</td>\n",
       "      <td>1.000000</td>\n",
       "      <td>1.000000</td>\n",
       "      <td>1.000000</td>\n",
       "      <td>1.000000</td>\n",
       "      <td>1.000000</td>\n",
       "      <td>...</td>\n",
       "      <td>1.000000</td>\n",
       "      <td>1.000000</td>\n",
       "      <td>1.000000</td>\n",
       "      <td>1.000000</td>\n",
       "      <td>1.000000</td>\n",
       "      <td>1.000000</td>\n",
       "      <td>1.000000</td>\n",
       "      <td>1.000000</td>\n",
       "      <td>1.000000</td>\n",
       "      <td>69998.000000</td>\n",
       "    </tr>\n",
       "  </tbody>\n",
       "</table>\n",
       "<p>8 rows × 127 columns</p>\n",
       "</div>"
      ],
      "text/plain": [
       "             arpu_6        arpu_7        arpu_8   onnet_mou_6   onnet_mou_7  \\\n",
       "count  55999.000000  55999.000000  55999.000000  53781.000000  53871.000000   \n",
       "mean       0.488810      0.489696      0.489120      0.151232      0.147328   \n",
       "std        0.179125      0.174850      0.173412      0.244980      0.244648   \n",
       "min        0.000000      0.000000      0.000000      0.000000      0.000000   \n",
       "25%        0.358020      0.361285      0.361806      0.010013      0.008844   \n",
       "50%        0.435749      0.437405      0.438132      0.046434      0.042739   \n",
       "75%        0.565110      0.563718      0.564539      0.162452      0.153494   \n",
       "max        1.000000      1.000000      1.000000      1.000000      1.000000   \n",
       "\n",
       "        onnet_mou_8  offnet_mou_6  offnet_mou_7  offnet_mou_8  roam_ic_mou_6  \\\n",
       "count  53066.000000  53781.000000  53871.000000  53066.000000   53781.000000   \n",
       "mean       0.146244      0.213259      0.209070      0.207569       0.050014   \n",
       "std        0.243190      0.253605      0.254366      0.253152       0.175124   \n",
       "min        0.000000      0.000000      0.000000      0.000000       0.000000   \n",
       "25%        0.008434      0.042053      0.038534      0.037545       0.000000   \n",
       "50%        0.042298      0.115482      0.109759      0.108616       0.000000   \n",
       "75%        0.152430      0.279924      0.271209      0.270533       0.000000   \n",
       "max        1.000000      1.000000      1.000000      1.000000       1.000000   \n",
       "\n",
       "       ...   sachet_3g_6   sachet_3g_7   sachet_3g_8           aon  \\\n",
       "count  ...  55999.000000  55999.000000  55999.000000  55999.000000   \n",
       "mean   ...      0.036336      0.034025      0.033299      0.347750   \n",
       "std    ...      0.174798      0.165883      0.161926      0.311571   \n",
       "min    ...      0.000000      0.000000      0.000000      0.000000   \n",
       "25%    ...      0.000000      0.000000      0.000000      0.097777   \n",
       "50%    ...      0.000000      0.000000      0.000000      0.233577   \n",
       "75%    ...      0.000000      0.000000      0.000000      0.552030   \n",
       "max    ...      1.000000      1.000000      1.000000      1.000000   \n",
       "\n",
       "         aug_vbc_3g    jul_vbc_3g    jun_vbc_3g  churn_probability  \\\n",
       "count  55999.000000  55999.000000  55999.000000       55999.000000   \n",
       "mean       0.079535      0.075546      0.071853           0.101966   \n",
       "std        0.233536      0.228976      0.224056           0.302606   \n",
       "min        0.000000      0.000000      0.000000           0.000000   \n",
       "25%        0.000000      0.000000      0.000000           0.000000   \n",
       "50%        0.000000      0.000000      0.000000           0.000000   \n",
       "75%        0.000000      0.000000      0.000000           0.000000   \n",
       "max        1.000000      1.000000      1.000000           1.000000   \n",
       "\n",
       "       months_since_last_charge            id  \n",
       "count              55999.000000  55999.000000  \n",
       "mean                   0.014649  34968.080162  \n",
       "std                    0.082580  20195.580237  \n",
       "min                    0.000000      0.000000  \n",
       "25%                    0.000000  17483.000000  \n",
       "50%                    0.000000  34969.000000  \n",
       "75%                    0.000000  52457.500000  \n",
       "max                    1.000000  69998.000000  \n",
       "\n",
       "[8 rows x 127 columns]"
      ]
     },
     "execution_count": 96,
     "metadata": {},
     "output_type": "execute_result"
    }
   ],
   "source": [
    "df_train.describe()"
   ]
  },
  {
   "cell_type": "code",
   "execution_count": 97,
   "id": "383c1ddb",
   "metadata": {
    "papermill": {
     "duration": 0.068615,
     "end_time": "2021-08-13T07:16:42.402101",
     "exception": false,
     "start_time": "2021-08-13T07:16:42.333486",
     "status": "completed"
    },
    "tags": []
   },
   "outputs": [],
   "source": [
    "y_train = df_train.pop('churn_probability')\n",
    "X_train = df_train"
   ]
  },
  {
   "cell_type": "code",
   "execution_count": 99,
   "id": "765595c8-8193-474c-b4d8-a4cc0890885e",
   "metadata": {
    "tags": []
   },
   "outputs": [
    {
     "data": {
      "text/html": [
       "<div>\n",
       "<style scoped>\n",
       "    .dataframe tbody tr th:only-of-type {\n",
       "        vertical-align: middle;\n",
       "    }\n",
       "\n",
       "    .dataframe tbody tr th {\n",
       "        vertical-align: top;\n",
       "    }\n",
       "\n",
       "    .dataframe thead th {\n",
       "        text-align: right;\n",
       "    }\n",
       "</style>\n",
       "<table border=\"1\" class=\"dataframe\">\n",
       "  <thead>\n",
       "    <tr style=\"text-align: right;\">\n",
       "      <th></th>\n",
       "      <th>arpu_6</th>\n",
       "      <th>arpu_7</th>\n",
       "      <th>arpu_8</th>\n",
       "      <th>onnet_mou_6</th>\n",
       "      <th>onnet_mou_7</th>\n",
       "      <th>onnet_mou_8</th>\n",
       "      <th>offnet_mou_6</th>\n",
       "      <th>offnet_mou_7</th>\n",
       "      <th>offnet_mou_8</th>\n",
       "      <th>roam_ic_mou_6</th>\n",
       "      <th>...</th>\n",
       "      <th>monthly_3g_8</th>\n",
       "      <th>sachet_3g_6</th>\n",
       "      <th>sachet_3g_7</th>\n",
       "      <th>sachet_3g_8</th>\n",
       "      <th>aon</th>\n",
       "      <th>aug_vbc_3g</th>\n",
       "      <th>jul_vbc_3g</th>\n",
       "      <th>jun_vbc_3g</th>\n",
       "      <th>months_since_last_charge</th>\n",
       "      <th>id</th>\n",
       "    </tr>\n",
       "  </thead>\n",
       "  <tbody>\n",
       "    <tr>\n",
       "      <th>47338</th>\n",
       "      <td>0.417056</td>\n",
       "      <td>0.406738</td>\n",
       "      <td>0.475395</td>\n",
       "      <td>0.028251</td>\n",
       "      <td>0.017397</td>\n",
       "      <td>0.063877</td>\n",
       "      <td>0.183037</td>\n",
       "      <td>0.154052</td>\n",
       "      <td>0.317536</td>\n",
       "      <td>0.0</td>\n",
       "      <td>...</td>\n",
       "      <td>0.0</td>\n",
       "      <td>0.0</td>\n",
       "      <td>0.0</td>\n",
       "      <td>0.0</td>\n",
       "      <td>0.072993</td>\n",
       "      <td>0.0</td>\n",
       "      <td>0.0</td>\n",
       "      <td>0.0</td>\n",
       "      <td>0.0</td>\n",
       "      <td>47338</td>\n",
       "    </tr>\n",
       "    <tr>\n",
       "      <th>67455</th>\n",
       "      <td>0.404609</td>\n",
       "      <td>0.337200</td>\n",
       "      <td>0.335670</td>\n",
       "      <td>0.016151</td>\n",
       "      <td>0.009968</td>\n",
       "      <td>0.007043</td>\n",
       "      <td>0.129356</td>\n",
       "      <td>0.053152</td>\n",
       "      <td>0.033514</td>\n",
       "      <td>0.0</td>\n",
       "      <td>...</td>\n",
       "      <td>0.0</td>\n",
       "      <td>0.0</td>\n",
       "      <td>0.0</td>\n",
       "      <td>0.0</td>\n",
       "      <td>0.113733</td>\n",
       "      <td>0.0</td>\n",
       "      <td>0.0</td>\n",
       "      <td>0.0</td>\n",
       "      <td>0.0</td>\n",
       "      <td>67455</td>\n",
       "    </tr>\n",
       "    <tr>\n",
       "      <th>12308</th>\n",
       "      <td>0.339288</td>\n",
       "      <td>0.349813</td>\n",
       "      <td>0.327133</td>\n",
       "      <td>0.017242</td>\n",
       "      <td>0.007443</td>\n",
       "      <td>0.000000</td>\n",
       "      <td>0.027819</td>\n",
       "      <td>0.053033</td>\n",
       "      <td>0.022741</td>\n",
       "      <td>0.0</td>\n",
       "      <td>...</td>\n",
       "      <td>0.0</td>\n",
       "      <td>0.0</td>\n",
       "      <td>0.0</td>\n",
       "      <td>0.0</td>\n",
       "      <td>0.140893</td>\n",
       "      <td>0.0</td>\n",
       "      <td>0.0</td>\n",
       "      <td>0.0</td>\n",
       "      <td>0.0</td>\n",
       "      <td>12308</td>\n",
       "    </tr>\n",
       "    <tr>\n",
       "      <th>52334</th>\n",
       "      <td>0.392307</td>\n",
       "      <td>0.447353</td>\n",
       "      <td>0.424663</td>\n",
       "      <td>0.093823</td>\n",
       "      <td>0.274189</td>\n",
       "      <td>0.075373</td>\n",
       "      <td>0.207000</td>\n",
       "      <td>0.222843</td>\n",
       "      <td>0.283004</td>\n",
       "      <td>0.0</td>\n",
       "      <td>...</td>\n",
       "      <td>0.0</td>\n",
       "      <td>0.0</td>\n",
       "      <td>0.0</td>\n",
       "      <td>0.0</td>\n",
       "      <td>0.161603</td>\n",
       "      <td>0.0</td>\n",
       "      <td>0.0</td>\n",
       "      <td>0.0</td>\n",
       "      <td>0.0</td>\n",
       "      <td>52334</td>\n",
       "    </tr>\n",
       "    <tr>\n",
       "      <th>664</th>\n",
       "      <td>0.643921</td>\n",
       "      <td>0.397686</td>\n",
       "      <td>0.301904</td>\n",
       "      <td>0.034457</td>\n",
       "      <td>0.015308</td>\n",
       "      <td>NaN</td>\n",
       "      <td>0.690057</td>\n",
       "      <td>0.176448</td>\n",
       "      <td>NaN</td>\n",
       "      <td>0.0</td>\n",
       "      <td>...</td>\n",
       "      <td>0.0</td>\n",
       "      <td>0.0</td>\n",
       "      <td>0.0</td>\n",
       "      <td>0.0</td>\n",
       "      <td>0.108301</td>\n",
       "      <td>0.0</td>\n",
       "      <td>0.0</td>\n",
       "      <td>0.0</td>\n",
       "      <td>0.0</td>\n",
       "      <td>664</td>\n",
       "    </tr>\n",
       "  </tbody>\n",
       "</table>\n",
       "<p>5 rows × 126 columns</p>\n",
       "</div>"
      ],
      "text/plain": [
       "         arpu_6    arpu_7    arpu_8  onnet_mou_6  onnet_mou_7  onnet_mou_8  \\\n",
       "47338  0.417056  0.406738  0.475395     0.028251     0.017397     0.063877   \n",
       "67455  0.404609  0.337200  0.335670     0.016151     0.009968     0.007043   \n",
       "12308  0.339288  0.349813  0.327133     0.017242     0.007443     0.000000   \n",
       "52334  0.392307  0.447353  0.424663     0.093823     0.274189     0.075373   \n",
       "664    0.643921  0.397686  0.301904     0.034457     0.015308          NaN   \n",
       "\n",
       "       offnet_mou_6  offnet_mou_7  offnet_mou_8  roam_ic_mou_6  ...  \\\n",
       "47338      0.183037      0.154052      0.317536            0.0  ...   \n",
       "67455      0.129356      0.053152      0.033514            0.0  ...   \n",
       "12308      0.027819      0.053033      0.022741            0.0  ...   \n",
       "52334      0.207000      0.222843      0.283004            0.0  ...   \n",
       "664        0.690057      0.176448           NaN            0.0  ...   \n",
       "\n",
       "       monthly_3g_8  sachet_3g_6  sachet_3g_7  sachet_3g_8       aon  \\\n",
       "47338           0.0          0.0          0.0          0.0  0.072993   \n",
       "67455           0.0          0.0          0.0          0.0  0.113733   \n",
       "12308           0.0          0.0          0.0          0.0  0.140893   \n",
       "52334           0.0          0.0          0.0          0.0  0.161603   \n",
       "664             0.0          0.0          0.0          0.0  0.108301   \n",
       "\n",
       "       aug_vbc_3g  jul_vbc_3g  jun_vbc_3g  months_since_last_charge     id  \n",
       "47338         0.0         0.0         0.0                       0.0  47338  \n",
       "67455         0.0         0.0         0.0                       0.0  67455  \n",
       "12308         0.0         0.0         0.0                       0.0  12308  \n",
       "52334         0.0         0.0         0.0                       0.0  52334  \n",
       "664           0.0         0.0         0.0                       0.0    664  \n",
       "\n",
       "[5 rows x 126 columns]"
      ]
     },
     "execution_count": 99,
     "metadata": {},
     "output_type": "execute_result"
    }
   ],
   "source": [
    "X_train.head()"
   ]
  },
  {
   "cell_type": "code",
   "execution_count": null,
   "id": "e70e93bb-2ea9-478a-967c-4df926c93ede",
   "metadata": {},
   "outputs": [],
   "source": []
  },
  {
   "cell_type": "code",
   "execution_count": null,
   "id": "ac22c34b-508d-4414-a7f0-45543b2211e6",
   "metadata": {},
   "outputs": [],
   "source": []
  },
  {
   "cell_type": "code",
   "execution_count": null,
   "id": "0e0c561d-0b0a-4d3e-b341-3092825ca533",
   "metadata": {},
   "outputs": [],
   "source": []
  },
  {
   "cell_type": "code",
   "execution_count": null,
   "id": "ba6526b1-cf38-4577-aefb-d3fcecdfe04d",
   "metadata": {},
   "outputs": [],
   "source": []
  },
  {
   "cell_type": "code",
   "execution_count": null,
   "id": "9fbb93d1-0e3f-499a-9c0a-9cec36c66318",
   "metadata": {},
   "outputs": [],
   "source": []
  },
  {
   "cell_type": "code",
   "execution_count": null,
   "id": "02f53191-8f61-4e9f-a61e-bd4bc485a077",
   "metadata": {},
   "outputs": [],
   "source": []
  },
  {
   "cell_type": "markdown",
   "id": "e59e12c1",
   "metadata": {
    "papermill": {
     "duration": 0.054582,
     "end_time": "2021-08-13T07:16:51.952415",
     "exception": false,
     "start_time": "2021-08-13T07:16:51.897833",
     "status": "completed"
    },
    "tags": []
   },
   "source": [
    "# 5. Feature engineering and selection\n",
    "\n",
    "Let's understand feature importances for raw features as well as components to decide top features for modelling."
   ]
  },
  {
   "cell_type": "code",
   "execution_count": null,
   "id": "8746dc3f",
   "metadata": {
    "papermill": {
     "duration": 8.035233,
     "end_time": "2021-08-13T07:17:00.041999",
     "exception": false,
     "start_time": "2021-08-13T07:16:52.006766",
     "status": "completed"
    },
    "tags": []
   },
   "outputs": [],
   "source": [
    "rf = RandomForestClassifier(n_estimators=100, n_jobs=-1)\n",
    "rf.fit(X_train_filtered2, y_train)"
   ]
  },
  {
   "cell_type": "code",
   "execution_count": null,
   "id": "2a268bb0",
   "metadata": {
    "papermill": {
     "duration": 0.165618,
     "end_time": "2021-08-13T07:17:00.262949",
     "exception": false,
     "start_time": "2021-08-13T07:17:00.097331",
     "status": "completed"
    },
    "tags": []
   },
   "outputs": [],
   "source": [
    "feature_importances = pd.DataFrame({'col':new_vars, 'importance':rf.feature_importances_})"
   ]
  },
  {
   "cell_type": "code",
   "execution_count": null,
   "id": "3dc97e26",
   "metadata": {
    "papermill": {
     "duration": 0.295789,
     "end_time": "2021-08-13T07:17:00.614769",
     "exception": false,
     "start_time": "2021-08-13T07:17:00.318980",
     "status": "completed"
    },
    "tags": []
   },
   "outputs": [],
   "source": [
    "plt.figure(figsize=(15,8))\n",
    "plt.xticks(rotation=45)\n",
    "plt.bar(feature_importances['col'], feature_importances['importance'])"
   ]
  },
  {
   "cell_type": "markdown",
   "id": "914c5bec",
   "metadata": {
    "papermill": {
     "duration": 0.055776,
     "end_time": "2021-08-13T07:17:00.727093",
     "exception": false,
     "start_time": "2021-08-13T07:17:00.671317",
     "status": "completed"
    },
    "tags": []
   },
   "source": [
    "At this step, you can create a bunch of features based on business understanding, such as \n",
    "1. \"average % gain of 3g volume from month 6 to 8\" - (growth or decline of 3g usage month over month?)\n",
    "2. \"ratio of total outgoing amount and age of user on network\" - (average daily usage of a user?)\n",
    "3. \"standard deviation of the total amount paid by user for all services\" - (too much variability in charges?)\n",
    "4. etc..\n",
    "\n",
    "Another way of finding good features would be to project them into a lower dimensional space using PCA. PCA creates components which are a linear combination of the features. This then allows you to select components which explain the highest amount of variance.\n",
    "\n",
    "Lets try to project the data onto 2D space and plot. **Note:** you can try TSNE, which is another dimensionality reduction approach as well. Check https://scikit-learn.org/stable/modules/generated/sklearn.manifold.TSNE.html for moree details."
   ]
  },
  {
   "cell_type": "code",
   "execution_count": null,
   "id": "e2687e7a",
   "metadata": {
    "papermill": {
     "duration": 4.617268,
     "end_time": "2021-08-13T07:17:05.400295",
     "exception": false,
     "start_time": "2021-08-13T07:17:00.783027",
     "status": "completed"
    },
    "tags": []
   },
   "outputs": [],
   "source": [
    "pca = PCA()\n",
    "pca_components = pca.fit_transform(X_train_filtered2)\n",
    "sns.scatterplot(x=pca_components[:,0], y=pca_components[:,1], hue=y_train)"
   ]
  },
  {
   "cell_type": "code",
   "execution_count": null,
   "id": "ad202938",
   "metadata": {
    "papermill": {
     "duration": 2.631052,
     "end_time": "2021-08-13T07:17:08.093002",
     "exception": false,
     "start_time": "2021-08-13T07:17:05.461950",
     "status": "completed"
    },
    "tags": []
   },
   "outputs": [],
   "source": [
    "sns.scatterplot(x=pca_components[:,1], y=pca_components[:,2], hue=y_train)"
   ]
  },
  {
   "cell_type": "markdown",
   "id": "01b9b83e",
   "metadata": {
    "papermill": {
     "duration": 0.063551,
     "end_time": "2021-08-13T07:17:08.224795",
     "exception": false,
     "start_time": "2021-08-13T07:17:08.161244",
     "status": "completed"
    },
    "tags": []
   },
   "source": [
    "Let's also check which of the components have high feature importances towards the end goal of churn prediction."
   ]
  },
  {
   "cell_type": "code",
   "execution_count": null,
   "id": "586937b3",
   "metadata": {
    "papermill": {
     "duration": 12.694325,
     "end_time": "2021-08-13T07:17:20.982792",
     "exception": false,
     "start_time": "2021-08-13T07:17:08.288467",
     "status": "completed"
    },
    "tags": []
   },
   "outputs": [],
   "source": [
    "rf = RandomForestClassifier(n_estimators=100, n_jobs=-1)\n",
    "rf.fit(pca_components, y_train)\n",
    "\n",
    "feature_importances = pd.DataFrame({'col':['component_'+str(i) for i in range(16)], \n",
    "                                    'importance':rf.feature_importances_})\n",
    "\n",
    "plt.figure(figsize=(15,8))\n",
    "plt.xticks(rotation=45)\n",
    "plt.bar(feature_importances['col'], feature_importances['importance'])"
   ]
  },
  {
   "cell_type": "markdown",
   "id": "a5aa1235",
   "metadata": {
    "papermill": {
     "duration": 0.065189,
     "end_time": "2021-08-13T07:17:21.113066",
     "exception": false,
     "start_time": "2021-08-13T07:17:21.047877",
     "status": "completed"
    },
    "tags": []
   },
   "source": [
    "# 6. Model building\n",
    "\n",
    "Let's build a quick model with logistic regression and the first 2 PCA components."
   ]
  },
  {
   "cell_type": "code",
   "execution_count": null,
   "id": "a7f08df2",
   "metadata": {
    "papermill": {
     "duration": 0.185674,
     "end_time": "2021-08-13T07:17:21.364082",
     "exception": false,
     "start_time": "2021-08-13T07:17:21.178408",
     "status": "completed"
    },
    "tags": []
   },
   "outputs": [],
   "source": [
    "lr = LogisticRegression(max_iter=1000, tol=0.001, solver='sag')\n",
    "lr.fit(pca_components[:,:2], y_train)"
   ]
  },
  {
   "cell_type": "code",
   "execution_count": null,
   "id": "775e57ca",
   "metadata": {
    "papermill": {
     "duration": 0.089994,
     "end_time": "2021-08-13T07:17:21.519838",
     "exception": false,
     "start_time": "2021-08-13T07:17:21.429844",
     "status": "completed"
    },
    "tags": []
   },
   "outputs": [],
   "source": [
    "lr.score(pca_components[:,:2], y_train)"
   ]
  },
  {
   "cell_type": "markdown",
   "id": "321b0b34",
   "metadata": {
    "papermill": {
     "duration": 0.064818,
     "end_time": "2021-08-13T07:17:21.699674",
     "exception": false,
     "start_time": "2021-08-13T07:17:21.634856",
     "status": "completed"
    },
    "tags": []
   },
   "source": [
    "The model has 89.8% accuracy, but let's build a pipeline to fit and score the model faster.\n",
    "\n",
    "The steps of this pipeline would be the following, but this is only one type of pipeline -\n",
    "1. Imputation\n",
    "2. Scaling\n",
    "3. PCA\n",
    "4. Classification model\n",
    "\n",
    "You can change this pipeline, add addition transformations, change models, use cross validation or even use this pipeline to work with a Gridsearch."
   ]
  },
  {
   "cell_type": "code",
   "execution_count": null,
   "id": "c8d915ec",
   "metadata": {
    "papermill": {
     "duration": 0.071699,
     "end_time": "2021-08-13T07:17:21.836592",
     "exception": false,
     "start_time": "2021-08-13T07:17:21.764893",
     "status": "completed"
    },
    "tags": []
   },
   "outputs": [],
   "source": [
    "imp = SimpleImputer(strategy='constant', fill_value=0)\n",
    "scale = StandardScaler()\n",
    "pca = PCA(n_components=10)\n",
    "lr = LogisticRegression(max_iter=1000, tol=0.001)"
   ]
  },
  {
   "cell_type": "code",
   "execution_count": null,
   "id": "7d0defd3",
   "metadata": {
    "papermill": {
     "duration": 0.073281,
     "end_time": "2021-08-13T07:17:21.975259",
     "exception": false,
     "start_time": "2021-08-13T07:17:21.901978",
     "status": "completed"
    },
    "tags": []
   },
   "outputs": [],
   "source": [
    "pipe = Pipeline(steps = [('imputation',imp),\n",
    "                         ('scaling',scale),\n",
    "                         ('pca',pca),\n",
    "                         ('model',lr)])"
   ]
  },
  {
   "cell_type": "code",
   "execution_count": null,
   "id": "8972c5fd",
   "metadata": {
    "papermill": {
     "duration": 0.485922,
     "end_time": "2021-08-13T07:17:22.526693",
     "exception": false,
     "start_time": "2021-08-13T07:17:22.040771",
     "status": "completed"
    },
    "tags": []
   },
   "outputs": [],
   "source": [
    "pipe.fit(X_train[new_vars], y_train)"
   ]
  },
  {
   "cell_type": "code",
   "execution_count": null,
   "id": "441b2354",
   "metadata": {
    "papermill": {
     "duration": 0.111563,
     "end_time": "2021-08-13T07:17:22.755300",
     "exception": false,
     "start_time": "2021-08-13T07:17:22.643737",
     "status": "completed"
    },
    "tags": []
   },
   "outputs": [],
   "source": [
    "train_score = pipe.score(X_train[new_vars], y_train)\n",
    "print(\"Training accuracy:\", train_score)"
   ]
  },
  {
   "cell_type": "code",
   "execution_count": null,
   "id": "b3db02c7",
   "metadata": {
    "papermill": {
     "duration": 0.087891,
     "end_time": "2021-08-13T07:17:22.960566",
     "exception": false,
     "start_time": "2021-08-13T07:17:22.872675",
     "status": "completed"
    },
    "tags": []
   },
   "outputs": [],
   "source": [
    "test_score = pipe.score(X_test[new_vars], y_test)\n",
    "print(\"Test accuracy:\", test_score)"
   ]
  },
  {
   "cell_type": "markdown",
   "id": "beec9d12",
   "metadata": {
    "papermill": {
     "duration": 0.070399,
     "end_time": "2021-08-13T07:17:23.152879",
     "exception": false,
     "start_time": "2021-08-13T07:17:23.082480",
     "status": "completed"
    },
    "tags": []
   },
   "source": [
    "Let's make a confusion matrix to analyze how each class is being predicted by the model."
   ]
  },
  {
   "cell_type": "code",
   "execution_count": null,
   "id": "012c5a58",
   "metadata": {
    "papermill": {
     "duration": 0.200569,
     "end_time": "2021-08-13T07:17:23.421831",
     "exception": false,
     "start_time": "2021-08-13T07:17:23.221262",
     "status": "completed"
    },
    "tags": []
   },
   "outputs": [],
   "source": [
    "confusion_matrix(y_train, pipe.predict(X_train[new_vars]))"
   ]
  },
  {
   "cell_type": "code",
   "execution_count": null,
   "id": "84ba50bf",
   "metadata": {
    "papermill": {
     "duration": 0.109186,
     "end_time": "2021-08-13T07:17:23.608435",
     "exception": false,
     "start_time": "2021-08-13T07:17:23.499249",
     "status": "completed"
    },
    "tags": []
   },
   "outputs": [],
   "source": [
    "confusion_matrix(y_test, pipe.predict(X_test[new_vars]))"
   ]
  },
  {
   "cell_type": "markdown",
   "id": "3ff7895f",
   "metadata": {
    "papermill": {
     "duration": 0.068268,
     "end_time": "2021-08-13T07:17:23.788669",
     "exception": false,
     "start_time": "2021-08-13T07:17:23.720401",
     "status": "completed"
    },
    "tags": []
   },
   "source": [
    "We can see a high amount of type 2 error. Due to class imbalance, the model is clearly trying to predict majority of the cases as class 0. Understanding how to handle class imbalance in classification models might be the key to winning this competition :) (hint!)"
   ]
  },
  {
   "cell_type": "code",
   "execution_count": null,
   "id": "407cfc13",
   "metadata": {
    "papermill": {
     "duration": 0.09953,
     "end_time": "2021-08-13T07:17:23.955991",
     "exception": false,
     "start_time": "2021-08-13T07:17:23.856461",
     "status": "completed"
    },
    "tags": []
   },
   "outputs": [],
   "source": [
    "precision_score(y_test, pipe.predict(X_test[new_vars]))"
   ]
  },
  {
   "cell_type": "code",
   "execution_count": null,
   "id": "3eb37be6",
   "metadata": {
    "papermill": {
     "duration": 0.123943,
     "end_time": "2021-08-13T07:17:24.198308",
     "exception": false,
     "start_time": "2021-08-13T07:17:24.074365",
     "status": "completed"
    },
    "tags": []
   },
   "outputs": [],
   "source": [
    "recall_score(y_test, pipe.predict(X_test[new_vars]))"
   ]
  },
  {
   "cell_type": "markdown",
   "id": "1d1e1eef",
   "metadata": {
    "papermill": {
     "duration": 0.067672,
     "end_time": "2021-08-13T07:17:24.385001",
     "exception": false,
     "start_time": "2021-08-13T07:17:24.317329",
     "status": "completed"
    },
    "tags": []
   },
   "source": [
    "# 7. Creating submission file\n",
    "\n",
    "For submission, we need to make sure that the format is exactly the same as the sample.csv file. It contains 2 columns, id and churn_probability"
   ]
  },
  {
   "cell_type": "code",
   "execution_count": null,
   "id": "ad672d46",
   "metadata": {
    "papermill": {
     "duration": 0.080814,
     "end_time": "2021-08-13T07:17:24.533810",
     "exception": false,
     "start_time": "2021-08-13T07:17:24.452996",
     "status": "completed"
    },
    "tags": []
   },
   "outputs": [],
   "source": [
    "sample.head()"
   ]
  },
  {
   "cell_type": "markdown",
   "id": "020d3949",
   "metadata": {
    "papermill": {
     "duration": 0.068381,
     "end_time": "2021-08-13T07:17:24.670628",
     "exception": false,
     "start_time": "2021-08-13T07:17:24.602247",
     "status": "completed"
    },
    "tags": []
   },
   "source": [
    "The submission file should contain churn_probability values that have to be predicted for the unseen data provided (test.csv)"
   ]
  },
  {
   "cell_type": "code",
   "execution_count": null,
   "id": "5cb95d9d",
   "metadata": {
    "papermill": {
     "duration": 0.098877,
     "end_time": "2021-08-13T07:17:24.838199",
     "exception": false,
     "start_time": "2021-08-13T07:17:24.739322",
     "status": "completed"
    },
    "tags": []
   },
   "outputs": [],
   "source": [
    "unseen.head()"
   ]
  },
  {
   "cell_type": "markdown",
   "id": "da9eb3a2",
   "metadata": {
    "papermill": {
     "duration": 0.06952,
     "end_time": "2021-08-13T07:17:24.977086",
     "exception": false,
     "start_time": "2021-08-13T07:17:24.907566",
     "status": "completed"
    },
    "tags": []
   },
   "source": [
    "Lets first select the columns that we want to work with (or create them, if you have done any feature engineering)"
   ]
  },
  {
   "cell_type": "code",
   "execution_count": null,
   "id": "530c384a",
   "metadata": {
    "papermill": {
     "duration": 0.093498,
     "end_time": "2021-08-13T07:17:25.140420",
     "exception": false,
     "start_time": "2021-08-13T07:17:25.046922",
     "status": "completed"
    },
    "tags": []
   },
   "outputs": [],
   "source": [
    "submission_data = unseen.set_index('id')[new_vars]\n",
    "submission_data.shape"
   ]
  },
  {
   "cell_type": "markdown",
   "id": "d584eab9",
   "metadata": {
    "papermill": {
     "duration": 0.069588,
     "end_time": "2021-08-13T07:17:25.279867",
     "exception": false,
     "start_time": "2021-08-13T07:17:25.210279",
     "status": "completed"
    },
    "tags": []
   },
   "source": [
    "Next, lets create a new column in the unseen dataset called churn_probability and use the model pipeline to predict the probabilities for this data"
   ]
  },
  {
   "cell_type": "code",
   "execution_count": null,
   "id": "ab2459d7",
   "metadata": {
    "papermill": {
     "duration": 0.108369,
     "end_time": "2021-08-13T07:17:25.457668",
     "exception": false,
     "start_time": "2021-08-13T07:17:25.349299",
     "status": "completed"
    },
    "tags": []
   },
   "outputs": [],
   "source": [
    "unseen['churn_probability'] = pipe.predict(submission_data)\n",
    "output = unseen[['id','churn_probability']]\n",
    "output.head()"
   ]
  },
  {
   "cell_type": "markdown",
   "id": "d4cc053f",
   "metadata": {
    "papermill": {
     "duration": 0.124336,
     "end_time": "2021-08-13T07:17:25.701056",
     "exception": false,
     "start_time": "2021-08-13T07:17:25.576720",
     "status": "completed"
    },
    "tags": []
   },
   "source": [
    "Finally, lets create a csv file out of this dataset, ensuring to set index=False to avoid an addition column in the csv."
   ]
  },
  {
   "cell_type": "code",
   "execution_count": null,
   "id": "cd0ce11a",
   "metadata": {
    "papermill": {
     "duration": 0.12837,
     "end_time": "2021-08-13T07:17:25.914318",
     "exception": false,
     "start_time": "2021-08-13T07:17:25.785948",
     "status": "completed"
    },
    "tags": []
   },
   "outputs": [],
   "source": [
    "output.to_csv('submission_pca_lr_13jul.csv',index=False)"
   ]
  },
  {
   "cell_type": "markdown",
   "id": "afc24e68",
   "metadata": {
    "papermill": {
     "duration": 0.08214,
     "end_time": "2021-08-13T07:17:26.080507",
     "exception": false,
     "start_time": "2021-08-13T07:17:25.998367",
     "status": "completed"
    },
    "tags": []
   },
   "source": [
    "You can now take this file and upload it as a submission on Kaggle."
   ]
  },
  {
   "cell_type": "code",
   "execution_count": null,
   "id": "8a688423",
   "metadata": {
    "papermill": {
     "duration": 0.070782,
     "end_time": "2021-08-13T07:17:26.223247",
     "exception": false,
     "start_time": "2021-08-13T07:17:26.152465",
     "status": "completed"
    },
    "tags": []
   },
   "outputs": [],
   "source": []
  }
 ],
 "metadata": {
  "kernelspec": {
   "display_name": "Python 3 (ipykernel)",
   "language": "python",
   "name": "python3"
  },
  "language_info": {
   "codemirror_mode": {
    "name": "ipython",
    "version": 3
   },
   "file_extension": ".py",
   "mimetype": "text/x-python",
   "name": "python",
   "nbconvert_exporter": "python",
   "pygments_lexer": "ipython3",
   "version": "3.11.4"
  },
  "papermill": {
   "default_parameters": {},
   "duration": 57.533667,
   "end_time": "2021-08-13T07:17:27.204430",
   "environment_variables": {},
   "exception": null,
   "input_path": "__notebook__.ipynb",
   "output_path": "__notebook__.ipynb",
   "parameters": {},
   "start_time": "2021-08-13T07:16:29.670763",
   "version": "2.3.3"
  }
 },
 "nbformat": 4,
 "nbformat_minor": 5
}
