{
 "cells": [
  {
   "cell_type": "markdown",
   "id": "9d7f3214",
   "metadata": {
    "papermill": {
     "duration": 0.036252,
     "end_time": "2021-08-13T07:16:36.548737",
     "exception": false,
     "start_time": "2021-08-13T07:16:36.512485",
     "status": "completed"
    },
    "tags": []
   },
   "source": [
    "# Telecom Churn Prediction - Starter Notebook\n",
    "\n",
    "**Author:** Harish Babu (www.harishbabu.in)"
   ]
  },
  {
   "cell_type": "markdown",
   "id": "fb5052e4",
   "metadata": {
    "papermill": {
     "duration": 0.035836,
     "end_time": "2021-08-13T07:16:36.620553",
     "exception": false,
     "start_time": "2021-08-13T07:16:36.584717",
     "status": "completed"
    },
    "tags": []
   },
   "source": [
    "The goal of this notebook is to provide an overview of how write a notebook and create a submission file that successfully solves the churn prediction problem. Please download the datasets, unzip and place them in the same folder as this notebook.\n",
    "\n",
    "We are going to follow the process called CRISP-DM.\n",
    "\n",
    "<img src=\"https://upload.wikimedia.org/wikipedia/commons/thumb/b/b9/CRISP-DM_Process_Diagram.png/639px-CRISP-DM_Process_Diagram.png\" style=\"height: 400px; width:400px;\"/>\n",
    "\n",
    "After Business and Data Understanding via EDA, we want to prepare data for modelling. Then evaluate and submit our predictions."
   ]
  },
  {
   "cell_type": "markdown",
   "id": "9290ee78",
   "metadata": {
    "papermill": {
     "duration": 0.034552,
     "end_time": "2021-08-13T07:16:36.690028",
     "exception": false,
     "start_time": "2021-08-13T07:16:36.655476",
     "status": "completed"
    },
    "tags": []
   },
   "source": [
    "# 0. Problem statement\n",
    "\n",
    "In the telecom industry, customers are able to choose from multiple service providers and actively switch from one operator to another. In this highly competitive market, the telecommunications industry experiences an average of 15-25% annual churn rate. Given the fact that it costs 5-10 times more to acquire a new customer than to retain an existing one, customer retention has now become even more important than customer acquisition.\n",
    "\n",
    "For many incumbent operators, retaining high profitable customers is the number one business\n",
    "goal. To reduce customer churn, telecom companies need to predict which customers are at high risk of churn. In this project, you will analyze customer-level data of a leading telecom firm, build predictive models to identify customers at high risk of churn, and identify the main indicators of churn.\n",
    "\n",
    "In this competition, your goal is *to build a machine learning model that is able to predict churning customers based on the features provided for their usage.*\n",
    "\n",
    "**Customer behaviour during churn:**\n",
    "\n",
    "Customers usually do not decide to switch to another competitor instantly, but rather over a\n",
    "period of time (this is especially applicable to high-value customers). In churn prediction, we\n",
    "assume that there are three phases of customer lifecycle :\n",
    "\n",
    "1. <u>The ‘good’ phase:</u> In this phase, the customer is happy with the service and behaves as usual.\n",
    "\n",
    "2. <u>The ‘action’ phase:</u> The customer experience starts to sore in this phase, for e.g. he/she gets a compelling offer from a competitor, faces unjust charges, becomes unhappy with service quality etc. In this phase, the customer usually shows different behaviour than the ‘good’ months. It is crucial to identify high-churn-risk customers in this phase, since some corrective actions can be taken at this point (such as matching the competitor’s offer/improving the service quality etc.)\n",
    "\n",
    "3. <u>The ‘churn’ phase:</u> In this phase, the customer is said to have churned. In this case, since you are working over a four-month window, the first two months are the ‘good’ phase, the third month is the ‘action’ phase, while the fourth month (September) is the ‘churn’ phase."
   ]
  },
  {
   "cell_type": "markdown",
   "id": "3da713b1",
   "metadata": {
    "papermill": {
     "duration": 0.034501,
     "end_time": "2021-08-13T07:16:36.760335",
     "exception": false,
     "start_time": "2021-08-13T07:16:36.725834",
     "status": "completed"
    },
    "tags": []
   },
   "source": [
    "# 1. Loading dependencies & datasets\n",
    "\n",
    "Lets start by loading our dependencies. We can keep adding any imports to this cell block, as we write mode and mode code."
   ]
  },
  {
   "cell_type": "code",
   "execution_count": 153,
   "id": "2e47254e",
   "metadata": {
    "papermill": {
     "duration": 1.362112,
     "end_time": "2021-08-13T07:16:38.158342",
     "exception": false,
     "start_time": "2021-08-13T07:16:36.796230",
     "status": "completed"
    },
    "tags": []
   },
   "outputs": [],
   "source": [
    "#Data Structures\n",
    "import pandas as pd\n",
    "import numpy as np\n",
    "import re\n",
    "import os\n",
    "\n",
    "### For installing missingno library, type this command in terminal\n",
    "#pip install missingno\n",
    "\n",
    "import missingno as msno\n",
    "\n",
    "#Sklearn\n",
    "from sklearn.impute import SimpleImputer\n",
    "from sklearn.preprocessing import StandardScaler\n",
    "from sklearn.preprocessing import MinMaxScaler\n",
    "from sklearn.model_selection import train_test_split\n",
    "from sklearn.ensemble import RandomForestClassifier\n",
    "from sklearn.decomposition import PCA\n",
    "from sklearn.manifold import TSNE\n",
    "from sklearn.linear_model import LogisticRegression\n",
    "from sklearn.pipeline import Pipeline\n",
    "from sklearn.model_selection import GridSearchCV\n",
    "from sklearn.metrics import confusion_matrix, precision_score, recall_score\n",
    "\n",
    "\n",
    "# LightGBM Learning Algo\n",
    "import lightgbm as gbm\n",
    "\n",
    "#Plotting\n",
    "import matplotlib.pyplot as plt\n",
    "from mpl_toolkits.mplot3d import Axes3D\n",
    "import seaborn as sns\n",
    "\n",
    "#Others\n",
    "import warnings\n",
    "warnings.filterwarnings('ignore')\n",
    "\n",
    "%matplotlib inline"
   ]
  },
  {
   "cell_type": "markdown",
   "id": "8d5046d0",
   "metadata": {
    "papermill": {
     "duration": 0.03468,
     "end_time": "2021-08-13T07:16:38.240579",
     "exception": false,
     "start_time": "2021-08-13T07:16:38.205899",
     "status": "completed"
    },
    "tags": []
   },
   "source": [
    "Next, we load our datasets and the data dictionary file.\n",
    "\n",
    "The **train.csv** file contains both dependent and independent features, while the **test.csv** contains only the independent variables. \n",
    "\n",
    "So, for model selection, I will create our own train/test dataset from the **train.csv** and use the model to predict the solution using the features in unseen test.csv data for submission."
   ]
  },
  {
   "cell_type": "code",
   "execution_count": 4,
   "id": "e5474122",
   "metadata": {
    "papermill": {
     "duration": 0.044801,
     "end_time": "2021-08-13T07:16:38.320264",
     "exception": false,
     "start_time": "2021-08-13T07:16:38.275463",
     "status": "completed"
    },
    "tags": []
   },
   "outputs": [],
   "source": [
    "#COMMENT THIS SECTION INCASE RUNNING THIS NOTEBOOK LOCALLY\n",
    "\n",
    "#Checking the kaggle paths for the uploaded datasets\n",
    "#import os\n",
    "#for dirname, _, filenames in os.walk('/kaggle/input'):\n",
    "#    for filename in filenames:\n",
    "#        print(os.path.join(dirname, filename))"
   ]
  },
  {
   "cell_type": "code",
   "execution_count": 259,
   "id": "3b94d1d5",
   "metadata": {
    "papermill": {
     "duration": 2.591587,
     "end_time": "2021-08-13T07:16:40.948543",
     "exception": false,
     "start_time": "2021-08-13T07:16:38.356956",
     "status": "completed"
    },
    "tags": []
   },
   "outputs": [
    {
     "name": "stdout",
     "output_type": "stream",
     "text": [
      "(69999, 172)\n",
      "(30000, 171)\n",
      "(30000, 2)\n",
      "(36, 2)\n"
     ]
    }
   ],
   "source": [
    "#INCASE RUNNING THIS LOCALLY, PASS THE RELATIVE PATH OF THE CSV FILES BELOW\n",
    "#(e.g. if files are in same folder as notebook, simple write \"train.csv\" as path)\n",
    "\n",
    "df = pd.read_csv(\"./train.csv\")\n",
    "unseen = pd.read_csv(\"./test.csv\")\n",
    "sample = pd.read_csv(\"./sample.csv\")\n",
    "data_dict = pd.read_csv(\"./data_dictionary.csv\")\n",
    "\n",
    "print(df.shape)\n",
    "print(unseen.shape)\n",
    "print(sample.shape)\n",
    "print(data_dict.shape)"
   ]
  },
  {
   "cell_type": "markdown",
   "id": "13614e3d",
   "metadata": {
    "papermill": {
     "duration": 0.035613,
     "end_time": "2021-08-13T07:16:41.020316",
     "exception": false,
     "start_time": "2021-08-13T07:16:40.984703",
     "status": "completed"
    },
    "tags": []
   },
   "source": [
    "1. Lets analyze the data dictionary versus the churn dataset.\n",
    "2. The data dictonary contains a list of abbrevations which provide you all the information you need to understand what a specific feature/variable in the churn dataset represents\n",
    "3. Example: \n",
    "\n",
    "> \"arpu_7\" -> Average revenue per user + KPI for the month of July\n",
    ">\n",
    "> \"onnet_mou_6\" ->  All kind of calls within the same operator network + Minutes of usage voice calls + KPI for the month of June\n",
    ">\n",
    ">\"night_pck_user_8\" -> Scheme to use during specific night hours only + Prepaid service schemes called PACKS + KPI for the month of August\n",
    ">\n",
    ">\"max_rech_data_7\" -> Maximum + Recharge + Mobile internet + KPI for the month of July\n",
    "\n",
    "Its important to understand the definitions of each feature that you are working with, take notes on which feature you think might impact the churn rate of a user, and what sort of analysis could you do to understand the distribution of the feature better."
   ]
  },
  {
   "cell_type": "code",
   "execution_count": 387,
   "id": "adfb4dc5",
   "metadata": {
    "papermill": {
     "duration": 0.067353,
     "end_time": "2021-08-13T07:16:41.123346",
     "exception": false,
     "start_time": "2021-08-13T07:16:41.055993",
     "status": "completed"
    },
    "tags": []
   },
   "outputs": [
    {
     "data": {
      "text/html": [
       "<div>\n",
       "<style scoped>\n",
       "    .dataframe tbody tr th:only-of-type {\n",
       "        vertical-align: middle;\n",
       "    }\n",
       "\n",
       "    .dataframe tbody tr th {\n",
       "        vertical-align: top;\n",
       "    }\n",
       "\n",
       "    .dataframe thead th {\n",
       "        text-align: right;\n",
       "    }\n",
       "</style>\n",
       "<table border=\"1\" class=\"dataframe\">\n",
       "  <thead>\n",
       "    <tr style=\"text-align: right;\">\n",
       "      <th></th>\n",
       "      <th>Acronyms</th>\n",
       "      <th>Description</th>\n",
       "    </tr>\n",
       "  </thead>\n",
       "  <tbody>\n",
       "    <tr>\n",
       "      <th>0</th>\n",
       "      <td>CIRCLE_ID</td>\n",
       "      <td>Telecom circle area to which the customer belo...</td>\n",
       "    </tr>\n",
       "    <tr>\n",
       "      <th>1</th>\n",
       "      <td>LOC</td>\n",
       "      <td>Local calls  within same telecom circle</td>\n",
       "    </tr>\n",
       "    <tr>\n",
       "      <th>2</th>\n",
       "      <td>STD</td>\n",
       "      <td>STD calls  outside the calling circle</td>\n",
       "    </tr>\n",
       "    <tr>\n",
       "      <th>3</th>\n",
       "      <td>IC</td>\n",
       "      <td>Incoming calls</td>\n",
       "    </tr>\n",
       "    <tr>\n",
       "      <th>4</th>\n",
       "      <td>OG</td>\n",
       "      <td>Outgoing calls</td>\n",
       "    </tr>\n",
       "    <tr>\n",
       "      <th>5</th>\n",
       "      <td>T2T</td>\n",
       "      <td>Operator T to T ie within same operator mobile...</td>\n",
       "    </tr>\n",
       "    <tr>\n",
       "      <th>6</th>\n",
       "      <td>T2M</td>\n",
       "      <td>Operator T to other operator mobile</td>\n",
       "    </tr>\n",
       "    <tr>\n",
       "      <th>7</th>\n",
       "      <td>T2O</td>\n",
       "      <td>Operator T to other operator fixed line</td>\n",
       "    </tr>\n",
       "    <tr>\n",
       "      <th>8</th>\n",
       "      <td>T2F</td>\n",
       "      <td>Operator T to fixed lines of T</td>\n",
       "    </tr>\n",
       "    <tr>\n",
       "      <th>9</th>\n",
       "      <td>T2C</td>\n",
       "      <td>Operator T to its own call center</td>\n",
       "    </tr>\n",
       "    <tr>\n",
       "      <th>10</th>\n",
       "      <td>ARPU</td>\n",
       "      <td>Average revenue per user</td>\n",
       "    </tr>\n",
       "    <tr>\n",
       "      <th>11</th>\n",
       "      <td>MOU</td>\n",
       "      <td>Minutes of usage  voice calls</td>\n",
       "    </tr>\n",
       "    <tr>\n",
       "      <th>12</th>\n",
       "      <td>AON</td>\n",
       "      <td>Age on network  number of days the customer is...</td>\n",
       "    </tr>\n",
       "    <tr>\n",
       "      <th>13</th>\n",
       "      <td>ONNET</td>\n",
       "      <td>All kind of calls within the same operator net...</td>\n",
       "    </tr>\n",
       "    <tr>\n",
       "      <th>14</th>\n",
       "      <td>OFFNET</td>\n",
       "      <td>All kind of calls outside the operator T network</td>\n",
       "    </tr>\n",
       "    <tr>\n",
       "      <th>15</th>\n",
       "      <td>ROAM</td>\n",
       "      <td>Indicates that customer is in roaming zone dur...</td>\n",
       "    </tr>\n",
       "    <tr>\n",
       "      <th>16</th>\n",
       "      <td>SPL</td>\n",
       "      <td>Special calls</td>\n",
       "    </tr>\n",
       "    <tr>\n",
       "      <th>17</th>\n",
       "      <td>ISD</td>\n",
       "      <td>ISD calls</td>\n",
       "    </tr>\n",
       "    <tr>\n",
       "      <th>18</th>\n",
       "      <td>RECH</td>\n",
       "      <td>Recharge</td>\n",
       "    </tr>\n",
       "    <tr>\n",
       "      <th>19</th>\n",
       "      <td>NUM</td>\n",
       "      <td>Number</td>\n",
       "    </tr>\n",
       "    <tr>\n",
       "      <th>20</th>\n",
       "      <td>AMT</td>\n",
       "      <td>Amount in local currency</td>\n",
       "    </tr>\n",
       "    <tr>\n",
       "      <th>21</th>\n",
       "      <td>MAX</td>\n",
       "      <td>Maximum</td>\n",
       "    </tr>\n",
       "    <tr>\n",
       "      <th>22</th>\n",
       "      <td>DATA</td>\n",
       "      <td>Mobile internet</td>\n",
       "    </tr>\n",
       "    <tr>\n",
       "      <th>23</th>\n",
       "      <td>3G</td>\n",
       "      <td>G network</td>\n",
       "    </tr>\n",
       "    <tr>\n",
       "      <th>24</th>\n",
       "      <td>AV</td>\n",
       "      <td>Average</td>\n",
       "    </tr>\n",
       "    <tr>\n",
       "      <th>25</th>\n",
       "      <td>VOL</td>\n",
       "      <td>Mobile internet usage volume in MB</td>\n",
       "    </tr>\n",
       "    <tr>\n",
       "      <th>26</th>\n",
       "      <td>2G</td>\n",
       "      <td>G network</td>\n",
       "    </tr>\n",
       "    <tr>\n",
       "      <th>27</th>\n",
       "      <td>PCK</td>\n",
       "      <td>Prepaid service schemes called  PACKS</td>\n",
       "    </tr>\n",
       "    <tr>\n",
       "      <th>28</th>\n",
       "      <td>NIGHT</td>\n",
       "      <td>Scheme to use during specific night hours only</td>\n",
       "    </tr>\n",
       "    <tr>\n",
       "      <th>29</th>\n",
       "      <td>MONTHLY</td>\n",
       "      <td>Service schemes with validity equivalent to a ...</td>\n",
       "    </tr>\n",
       "    <tr>\n",
       "      <th>30</th>\n",
       "      <td>SACHET</td>\n",
       "      <td>Service schemes with validity smaller than a m...</td>\n",
       "    </tr>\n",
       "    <tr>\n",
       "      <th>31</th>\n",
       "      <td>*.6</td>\n",
       "      <td>KPI for the month of June</td>\n",
       "    </tr>\n",
       "    <tr>\n",
       "      <th>32</th>\n",
       "      <td>*.7</td>\n",
       "      <td>KPI for the month of July</td>\n",
       "    </tr>\n",
       "    <tr>\n",
       "      <th>33</th>\n",
       "      <td>*.8</td>\n",
       "      <td>KPI for the month of August</td>\n",
       "    </tr>\n",
       "    <tr>\n",
       "      <th>34</th>\n",
       "      <td>FB_USER</td>\n",
       "      <td>Service scheme to avail services of Facebook a...</td>\n",
       "    </tr>\n",
       "    <tr>\n",
       "      <th>35</th>\n",
       "      <td>VBC</td>\n",
       "      <td>Volume based cost  when no specific scheme is ...</td>\n",
       "    </tr>\n",
       "  </tbody>\n",
       "</table>\n",
       "</div>"
      ],
      "text/plain": [
       "       Acronyms                                        Description\n",
       "0     CIRCLE_ID  Telecom circle area to which the customer belo...\n",
       "1           LOC            Local calls  within same telecom circle\n",
       "2           STD              STD calls  outside the calling circle\n",
       "3            IC                                     Incoming calls\n",
       "4            OG                                     Outgoing calls\n",
       "5           T2T  Operator T to T ie within same operator mobile...\n",
       "6       T2M                    Operator T to other operator mobile\n",
       "7       T2O                Operator T to other operator fixed line\n",
       "8       T2F                         Operator T to fixed lines of T\n",
       "9       T2C                      Operator T to its own call center\n",
       "10     ARPU                               Average revenue per user\n",
       "11      MOU                          Minutes of usage  voice calls\n",
       "12      AON      Age on network  number of days the customer is...\n",
       "13     ONNET     All kind of calls within the same operator net...\n",
       "14   OFFNET       All kind of calls outside the operator T network\n",
       "15         ROAM  Indicates that customer is in roaming zone dur...\n",
       "16       SPL                                         Special calls\n",
       "17      ISD                                              ISD calls\n",
       "18     RECH                                               Recharge\n",
       "19      NUM                                                 Number\n",
       "20      AMT                               Amount in local currency\n",
       "21      MAX                                                Maximum\n",
       "22     DATA                                        Mobile internet\n",
       "23       3G                                              G network\n",
       "24       AV                                                Average\n",
       "25      VOL                     Mobile internet usage volume in MB\n",
       "26       2G                                              G network\n",
       "27      PCK                  Prepaid service schemes called  PACKS\n",
       "28    NIGHT         Scheme to use during specific night hours only\n",
       "29  MONTHLY      Service schemes with validity equivalent to a ...\n",
       "30    SACHET     Service schemes with validity smaller than a m...\n",
       "31      *.6                              KPI for the month of June\n",
       "32      *.7                              KPI for the month of July\n",
       "33      *.8                            KPI for the month of August\n",
       "34      FB_USER  Service scheme to avail services of Facebook a...\n",
       "35      VBC      Volume based cost  when no specific scheme is ..."
      ]
     },
     "execution_count": 387,
     "metadata": {},
     "output_type": "execute_result"
    }
   ],
   "source": [
    "data_dict"
   ]
  },
  {
   "cell_type": "markdown",
   "id": "6a29fbf5",
   "metadata": {
    "papermill": {
     "duration": 0.039575,
     "end_time": "2021-08-13T07:16:42.482838",
     "exception": false,
     "start_time": "2021-08-13T07:16:42.443263",
     "status": "completed"
    },
    "tags": []
   },
   "source": [
    "# 2. Data Pre-processing"
   ]
  },
  {
   "cell_type": "code",
   "execution_count": null,
   "id": "3d024ea5-438a-4cf6-83f4-ef82962900c1",
   "metadata": {},
   "outputs": [],
   "source": []
  },
  {
   "cell_type": "markdown",
   "id": "b539fadd-0600-4678-a942-367c99930aed",
   "metadata": {},
   "source": [
    "### 2.1 Handling Missing Values"
   ]
  },
  {
   "cell_type": "markdown",
   "id": "fac9cf44-0ced-4e41-95e6-e9a7722e1b84",
   "metadata": {},
   "source": [
    "Let us look at missing percentage across columns"
   ]
  },
  {
   "cell_type": "code",
   "execution_count": 260,
   "id": "7d7ebfe4-3ca7-417a-9f74-c06b07a4dae5",
   "metadata": {
    "tags": []
   },
   "outputs": [
    {
     "data": {
      "text/plain": [
       "arpu_3g_6                   74.902499\n",
       "count_rech_2g_6             74.902499\n",
       "night_pck_user_6            74.902499\n",
       "arpu_2g_6                   74.902499\n",
       "date_of_last_rech_data_6    74.902499\n",
       "total_rech_data_6           74.902499\n",
       "av_rech_amt_data_6          74.902499\n",
       "max_rech_data_6             74.902499\n",
       "count_rech_3g_6             74.902499\n",
       "fb_user_6                   74.902499\n",
       "night_pck_user_7            74.478207\n",
       "date_of_last_rech_data_7    74.478207\n",
       "total_rech_data_7           74.478207\n",
       "max_rech_data_7             74.478207\n",
       "fb_user_7                   74.478207\n",
       "count_rech_2g_7             74.478207\n",
       "count_rech_3g_7             74.478207\n",
       "arpu_3g_7                   74.478207\n",
       "av_rech_amt_data_7          74.478207\n",
       "arpu_2g_7                   74.478207\n",
       "count_rech_2g_8             73.689624\n",
       "av_rech_amt_data_8          73.689624\n",
       "night_pck_user_8            73.689624\n",
       "max_rech_data_8             73.689624\n",
       "total_rech_data_8           73.689624\n",
       "arpu_2g_8                   73.689624\n",
       "arpu_3g_8                   73.689624\n",
       "date_of_last_rech_data_8    73.689624\n",
       "fb_user_8                   73.689624\n",
       "count_rech_3g_8             73.689624\n",
       "isd_og_mou_8                 5.290076\n",
       "std_ic_t2o_mou_8             5.290076\n",
       "dtype: float64"
      ]
     },
     "execution_count": 260,
     "metadata": {},
     "output_type": "execute_result"
    }
   ],
   "source": [
    "# Find the top 10 columns that have missing values.\n",
    "percent_missing = (df.isnull().sum() / df.isnull().count()*100).sort_values(ascending = False)\n",
    "percent_missing.head(32)"
   ]
  },
  {
   "cell_type": "code",
   "execution_count": 261,
   "id": "1fe1070f-9cab-42ec-8825-37a238e3cd32",
   "metadata": {
    "tags": []
   },
   "outputs": [
    {
     "data": {
      "text/plain": [
       "Index(['arpu_3g_6', 'count_rech_2g_6', 'night_pck_user_6', 'arpu_2g_6',\n",
       "       'date_of_last_rech_data_6', 'total_rech_data_6', 'av_rech_amt_data_6',\n",
       "       'max_rech_data_6', 'count_rech_3g_6', 'fb_user_6', 'night_pck_user_7',\n",
       "       'date_of_last_rech_data_7', 'total_rech_data_7', 'max_rech_data_7',\n",
       "       'fb_user_7', 'count_rech_2g_7', 'count_rech_3g_7', 'arpu_3g_7',\n",
       "       'av_rech_amt_data_7', 'arpu_2g_7', 'count_rech_2g_8',\n",
       "       'av_rech_amt_data_8', 'night_pck_user_8', 'max_rech_data_8',\n",
       "       'total_rech_data_8', 'arpu_2g_8', 'arpu_3g_8',\n",
       "       'date_of_last_rech_data_8', 'fb_user_8', 'count_rech_3g_8'],\n",
       "      dtype='object')"
      ]
     },
     "execution_count": 261,
     "metadata": {},
     "output_type": "execute_result"
    }
   ],
   "source": [
    "# There are so many columns that have significant count of missing values.  \n",
    "# Since they will not really be helpful in predictions, we can drop them\n",
    "\n",
    "cols_to_drop = percent_missing[percent_missing.gt(40)].index\n",
    "cols_to_drop"
   ]
  },
  {
   "cell_type": "code",
   "execution_count": 262,
   "id": "31f1a79c-52fb-4ebb-a96e-90c1d1d0c652",
   "metadata": {
    "tags": []
   },
   "outputs": [
    {
     "data": {
      "text/plain": [
       "(69999, 142)"
      ]
     },
     "execution_count": 262,
     "metadata": {},
     "output_type": "execute_result"
    }
   ],
   "source": [
    "df.drop(cols_to_drop,axis=1,inplace=True)\n",
    "df.shape"
   ]
  },
  {
   "cell_type": "code",
   "execution_count": 263,
   "id": "ba9cc049-c0fb-478c-bac2-6638a93ad255",
   "metadata": {
    "tags": []
   },
   "outputs": [
    {
     "data": {
      "text/plain": [
       "roam_og_mou_8       5.290076\n",
       "og_others_8         5.290076\n",
       "spl_og_mou_8        5.290076\n",
       "loc_ic_t2t_mou_8    5.290076\n",
       "loc_og_t2m_mou_8    5.290076\n",
       "loc_og_t2c_mou_8    5.290076\n",
       "loc_ic_t2m_mou_8    5.290076\n",
       "loc_og_t2t_mou_8    5.290076\n",
       "loc_ic_t2f_mou_8    5.290076\n",
       "std_og_t2f_mou_8    5.290076\n",
       "loc_ic_mou_8        5.290076\n",
       "isd_og_mou_8        5.290076\n",
       "roam_ic_mou_8       5.290076\n",
       "std_ic_t2t_mou_8    5.290076\n",
       "loc_og_mou_8        5.290076\n",
       "offnet_mou_8        5.290076\n",
       "std_ic_t2m_mou_8    5.290076\n",
       "onnet_mou_8         5.290076\n",
       "std_ic_t2f_mou_8    5.290076\n",
       "std_og_mou_8        5.290076\n",
       "dtype: float64"
      ]
     },
     "execution_count": 263,
     "metadata": {},
     "output_type": "execute_result"
    }
   ],
   "source": [
    "## Have we solved the problem?\n",
    "percent_missing = (df.isnull().sum() / df.isnull().count()*100).sort_values(ascending = False)\n",
    "percent_missing.head(20)"
   ]
  },
  {
   "cell_type": "markdown",
   "id": "fc50e873-099c-4981-8fb3-ef711da823ba",
   "metadata": {
    "tags": []
   },
   "source": [
    "##### The highest percentage of null values is ~5% now.  Which should be okay."
   ]
  },
  {
   "cell_type": "code",
   "execution_count": null,
   "id": "b5bcb351-58b0-4d91-8a34-1c36f737e360",
   "metadata": {},
   "outputs": [],
   "source": []
  },
  {
   "cell_type": "markdown",
   "id": "df502b42-fe63-4924-8a56-9d07cb1f7582",
   "metadata": {},
   "source": [
    "### 2.2 Dropping Columns with low variance"
   ]
  },
  {
   "cell_type": "code",
   "execution_count": null,
   "id": "36aaac42-230c-4386-a584-8f4e84b9c4d5",
   "metadata": {},
   "outputs": [],
   "source": []
  },
  {
   "cell_type": "code",
   "execution_count": 264,
   "id": "92eb025a-a333-4e33-a574-635581be3340",
   "metadata": {
    "tags": []
   },
   "outputs": [
    {
     "data": {
      "text/plain": [
       "std_ic_t2o_mou_7         1\n",
       "circle_id                1\n",
       "loc_og_t2o_mou           1\n",
       "std_og_t2o_mou           1\n",
       "loc_ic_t2o_mou           1\n",
       "last_date_of_month_6     1\n",
       "last_date_of_month_7     1\n",
       "last_date_of_month_8     1\n",
       "std_og_t2c_mou_7         1\n",
       "std_ic_t2o_mou_8         1\n",
       "std_ic_t2o_mou_6         1\n",
       "std_og_t2c_mou_8         1\n",
       "std_og_t2c_mou_6         1\n",
       "churn_probability        2\n",
       "monthly_2g_6             5\n",
       "monthly_2g_8             6\n",
       "monthly_2g_7             6\n",
       "monthly_3g_6            10\n",
       "monthly_3g_8            12\n",
       "monthly_3g_7            13\n",
       "dtype: int64"
      ]
     },
     "execution_count": 264,
     "metadata": {},
     "output_type": "execute_result"
    }
   ],
   "source": [
    "df.nunique().sort_values().head(20)"
   ]
  },
  {
   "cell_type": "code",
   "execution_count": 265,
   "id": "75ae995d-bf06-4396-a25e-6cb3ada951d1",
   "metadata": {
    "tags": []
   },
   "outputs": [],
   "source": [
    "# There are quite a few columns with only one value.  They have low variance and do not add value to the model\n",
    "# We can drop them\n",
    "\n",
    "df = df.loc[:, df.nunique() > 1]"
   ]
  },
  {
   "cell_type": "code",
   "execution_count": 266,
   "id": "a3125479-64d5-4782-a727-595213540e07",
   "metadata": {
    "tags": []
   },
   "outputs": [
    {
     "data": {
      "text/plain": [
       "(69999, 129)"
      ]
     },
     "execution_count": 266,
     "metadata": {},
     "output_type": "execute_result"
    }
   ],
   "source": [
    "df.shape"
   ]
  },
  {
   "cell_type": "code",
   "execution_count": 267,
   "id": "b322a7f1-ab10-4c74-a620-64310dd555f5",
   "metadata": {
    "tags": []
   },
   "outputs": [
    {
     "data": {
      "text/plain": [
       "0"
      ]
     },
     "execution_count": 267,
     "metadata": {},
     "output_type": "execute_result"
    }
   ],
   "source": [
    "df.duplicated().sum()"
   ]
  },
  {
   "cell_type": "markdown",
   "id": "a0720b5f-9b49-45d3-9b24-bd87092a0d8a",
   "metadata": {
    "tags": []
   },
   "source": [
    "&#x2139; —  **Note** \n",
    "     \n",
    "📍 No more duplicates"
   ]
  },
  {
   "cell_type": "markdown",
   "id": "2bcfe123-8bc4-43e9-926a-e443382cbe5c",
   "metadata": {
    "tags": []
   },
   "source": [
    "### 2.3 Imputing Values"
   ]
  },
  {
   "cell_type": "markdown",
   "id": "a60c8a2f",
   "metadata": {
    "papermill": {
     "duration": 0.045444,
     "end_time": "2021-08-13T07:16:45.832903",
     "exception": false,
     "start_time": "2021-08-13T07:16:45.787459",
     "status": "completed"
    },
    "tags": []
   },
   "source": [
    "Next, we try imputation on variables with any amount of missing data still left. There are multiple ways of imputing data, and each will require a good business understanding of what the missing data is and how you may handle it.\n",
    "\n",
    "Some tips while working with missing data - \n",
    "\n",
    "1. Can simply replace missing values directly with a constant value such as 0\n",
    "2. In certain cases you may want to replace it with the average value for each column respectively\n",
    "3. For timeseries data, you may consider using linear or spline interplolation between a set of points, if you have data available for some of the months, and missing for the others.\n",
    "4. You can consider more advance methods for imputation such as MICE.\n",
    "\n",
    "In our case, I will just demostrate a simple imputation with constant values as zeros."
   ]
  },
  {
   "cell_type": "code",
   "execution_count": 268,
   "id": "7ece2cff",
   "metadata": {
    "papermill": {
     "duration": 0.056957,
     "end_time": "2021-08-13T07:16:45.935041",
     "exception": false,
     "start_time": "2021-08-13T07:16:45.878084",
     "status": "completed"
    },
    "tags": []
   },
   "outputs": [
    {
     "name": "stdout",
     "output_type": "stream",
     "text": [
      "No. of columns that need values imputed  (81,)\n",
      "Index(['onnet_mou_6', 'onnet_mou_7', 'onnet_mou_8', 'offnet_mou_6',\n",
      "       'offnet_mou_7', 'offnet_mou_8', 'roam_ic_mou_6', 'roam_ic_mou_7',\n",
      "       'roam_ic_mou_8', 'roam_og_mou_6', 'roam_og_mou_7', 'roam_og_mou_8',\n",
      "       'loc_og_t2t_mou_6', 'loc_og_t2t_mou_7', 'loc_og_t2t_mou_8',\n",
      "       'loc_og_t2m_mou_6', 'loc_og_t2m_mou_7', 'loc_og_t2m_mou_8',\n",
      "       'loc_og_t2f_mou_6', 'loc_og_t2f_mou_7', 'loc_og_t2f_mou_8',\n",
      "       'loc_og_t2c_mou_6', 'loc_og_t2c_mou_7', 'loc_og_t2c_mou_8',\n",
      "       'loc_og_mou_6', 'loc_og_mou_7', 'loc_og_mou_8', 'std_og_t2t_mou_6',\n",
      "       'std_og_t2t_mou_7', 'std_og_t2t_mou_8', 'std_og_t2m_mou_6',\n",
      "       'std_og_t2m_mou_7', 'std_og_t2m_mou_8', 'std_og_t2f_mou_6',\n",
      "       'std_og_t2f_mou_7', 'std_og_t2f_mou_8', 'std_og_mou_6', 'std_og_mou_7',\n",
      "       'std_og_mou_8', 'isd_og_mou_6', 'isd_og_mou_7', 'isd_og_mou_8',\n",
      "       'spl_og_mou_6', 'spl_og_mou_7', 'spl_og_mou_8', 'og_others_6',\n",
      "       'og_others_7', 'og_others_8', 'loc_ic_t2t_mou_6', 'loc_ic_t2t_mou_7',\n",
      "       'loc_ic_t2t_mou_8', 'loc_ic_t2m_mou_6', 'loc_ic_t2m_mou_7',\n",
      "       'loc_ic_t2m_mou_8', 'loc_ic_t2f_mou_6', 'loc_ic_t2f_mou_7',\n",
      "       'loc_ic_t2f_mou_8', 'loc_ic_mou_6', 'loc_ic_mou_7', 'loc_ic_mou_8',\n",
      "       'std_ic_t2t_mou_6', 'std_ic_t2t_mou_7', 'std_ic_t2t_mou_8',\n",
      "       'std_ic_t2m_mou_6', 'std_ic_t2m_mou_7', 'std_ic_t2m_mou_8',\n",
      "       'std_ic_t2f_mou_6', 'std_ic_t2f_mou_7', 'std_ic_t2f_mou_8',\n",
      "       'std_ic_mou_6', 'std_ic_mou_7', 'std_ic_mou_8', 'spl_ic_mou_6',\n",
      "       'spl_ic_mou_7', 'spl_ic_mou_8', 'isd_ic_mou_6', 'isd_ic_mou_7',\n",
      "       'isd_ic_mou_8', 'ic_others_6', 'ic_others_7', 'ic_others_8'],\n",
      "      dtype='object')\n"
     ]
    }
   ],
   "source": [
    "missing_data_percent = df.isnull().any()\n",
    "\n",
    "impute_cols = missing_data_percent[missing_data_percent.gt(0)].drop(['date_of_last_rech_6', 'date_of_last_rech_7', 'date_of_last_rech_8']).index\n",
    "print(\"No. of columns that need values imputed \", impute_cols.shape)\n",
    "print(impute_cols)"
   ]
  },
  {
   "cell_type": "code",
   "execution_count": 269,
   "id": "9dddeb09-1de8-44cd-8911-a643ce176eb6",
   "metadata": {
    "tags": []
   },
   "outputs": [],
   "source": [
    "# Impute values with a simple imputer.  Fill contant value of zer everywhere.\n",
    "imp = SimpleImputer(strategy='constant', fill_value=0)\n",
    "df[impute_cols] = imp.fit_transform(df[impute_cols])"
   ]
  },
  {
   "cell_type": "code",
   "execution_count": 277,
   "id": "fdac87cc",
   "metadata": {
    "papermill": {
     "duration": 0.132076,
     "end_time": "2021-08-13T07:16:47.205627",
     "exception": false,
     "start_time": "2021-08-13T07:16:47.073551",
     "status": "completed"
    },
    "tags": []
   },
   "outputs": [
    {
     "data": {
      "text/plain": [
       "(69999, 129)"
      ]
     },
     "execution_count": 277,
     "metadata": {},
     "output_type": "execute_result"
    }
   ],
   "source": [
    "df.shape"
   ]
  },
  {
   "cell_type": "markdown",
   "id": "9857d0c5",
   "metadata": {
    "papermill": {
     "duration": 0.047951,
     "end_time": "2021-08-13T07:16:47.301731",
     "exception": false,
     "start_time": "2021-08-13T07:16:47.253780",
     "status": "completed"
    },
    "tags": []
   },
   "source": [
    "# 3. Exploratory Data Analysis & Preprocessing\n",
    "\n",
    "Lets start by analysing the univariate distributions of each feature."
   ]
  },
  {
   "cell_type": "code",
   "execution_count": 271,
   "id": "cea7d58e",
   "metadata": {
    "papermill": {
     "duration": 0.885464,
     "end_time": "2021-08-13T07:16:48.234798",
     "exception": false,
     "start_time": "2021-08-13T07:16:47.349334",
     "status": "completed"
    },
    "tags": []
   },
   "outputs": [
    {
     "data": {
      "text/plain": [
       "<Axes: >"
      ]
     },
     "execution_count": 271,
     "metadata": {},
     "output_type": "execute_result"
    },
    {
     "data": {
      "image/png": "[encoded data removed]",
      "text/plain": [
       "<Figure size 1500x800 with 1 Axes>"
      ]
     },
     "metadata": {},
     "output_type": "display_data"
    }
   ],
   "source": [
    "plt.figure(figsize=(15,8))\n",
    "plt.xticks(rotation=45)\n",
    "sns.boxplot(data = df)"
   ]
  },
  {
   "cell_type": "code",
   "execution_count": null,
   "id": "8ca7c5c2-403f-4a5c-99d9-d034afb8f208",
   "metadata": {},
   "outputs": [],
   "source": []
  },
  {
   "cell_type": "markdown",
   "id": "9c64e8d5-70ca-408c-a854-c314652e17b2",
   "metadata": {
    "tags": []
   },
   "source": [
    "### 3.1 Derived Features"
   ]
  },
  {
   "cell_type": "markdown",
   "id": "f2bddc7d-3776-4d94-8d53-085205df5856",
   "metadata": {},
   "source": [
    "#### Last Recharge Dates    \n",
    "      \n",
    "The last recharge dates are not very relevant as such.  It makes sense to convert them in to something else.  I have converted them in to months since last recharge.\n"
   ]
  },
  {
   "cell_type": "code",
   "execution_count": 278,
   "id": "b45d1ee9-2526-4783-9521-f2a07cac3a45",
   "metadata": {
    "tags": []
   },
   "outputs": [
    {
     "data": {
      "text/plain": [
       "(69999, 129)"
      ]
     },
     "execution_count": 278,
     "metadata": {},
     "output_type": "execute_result"
    }
   ],
   "source": [
    "df.shape"
   ]
  },
  {
   "cell_type": "code",
   "execution_count": null,
   "id": "33156a89-d946-43bb-92ad-c91f4ac4a576",
   "metadata": {},
   "outputs": [],
   "source": []
  },
  {
   "cell_type": "code",
   "execution_count": 279,
   "id": "a857bd59-7325-4db6-958c-92408726034b",
   "metadata": {
    "tags": []
   },
   "outputs": [],
   "source": [
    "from datetime import datetime\n",
    "\n",
    "def calculate_latest_charge_date(date_6, date_7, date_8):\n",
    "    # Function to check if a date string is valid\n",
    "    def is_valid_date(date_str):\n",
    "        try:\n",
    "            datetime.strptime(date_str, '%m/%d/%Y')\n",
    "            return True\n",
    "        except ValueError:\n",
    "            return False\n",
    "\n",
    "    # Check conditions and calculate months_since_last_charge\n",
    "    if date_8 and not pd.isna(date_8) and is_valid_date(date_8):\n",
    "        months_since_last_charge = 0\n",
    "    elif date_7 and not pd.isna(date_7) and is_valid_date(date_7):\n",
    "        months_since_last_charge = 1\n",
    "    elif date_6 and not pd.isna(date_6) and is_valid_date(date_6):\n",
    "        months_since_last_charge = 2\n",
    "    else:\n",
    "        months_since_last_charge = 3\n",
    "\n",
    "    return months_since_last_charge\n",
    "\n",
    "\n",
    "\n",
    "# Function to calculate months_since_last_charge\n",
    "def calculate_months_since_last_charge_df(row):\n",
    "    return calculate_latest_charge_date(row['date_of_last_rech_6'], row['date_of_last_rech_7'], row['date_of_last_rech_8'])\n"
   ]
  },
  {
   "cell_type": "code",
   "execution_count": null,
   "id": "5e51fe97-7054-4abe-add2-433b0f7c6ae7",
   "metadata": {},
   "outputs": [],
   "source": []
  },
  {
   "cell_type": "code",
   "execution_count": null,
   "id": "ba1cbf3f-4f89-43a8-a63f-fe6cba930785",
   "metadata": {},
   "outputs": [],
   "source": []
  },
  {
   "cell_type": "code",
   "execution_count": 280,
   "id": "796557bd-3a5a-485e-a619-060dde57a745",
   "metadata": {
    "tags": []
   },
   "outputs": [
    {
     "name": "stdout",
     "output_type": "stream",
     "text": [
      "<class 'pandas.core.frame.DataFrame'>\n",
      "RangeIndex: 69999 entries, 0 to 69998\n",
      "Data columns (total 3 columns):\n",
      " #   Column               Non-Null Count  Dtype \n",
      "---  ------               --------------  ----- \n",
      " 0   date_of_last_rech_6  68898 non-null  object\n",
      " 1   date_of_last_rech_7  68765 non-null  object\n",
      " 2   date_of_last_rech_8  67538 non-null  object\n",
      "dtypes: object(3)\n",
      "memory usage: 1.6+ MB\n"
     ]
    }
   ],
   "source": [
    "# Split data in to categorical & numerical variables\n",
    "df_categorical_fields = df.select_dtypes(include=['object'])\n",
    "df_categorical_fields.info()"
   ]
  },
  {
   "cell_type": "code",
   "execution_count": 281,
   "id": "bfd63edc-2b79-4f27-8e01-eee35ff0ffe0",
   "metadata": {
    "tags": []
   },
   "outputs": [],
   "source": [
    "df_categorical_fields['months_since_last_charge'] = df_categorical_fields.apply(calculate_months_since_last_charge_df, axis=1)"
   ]
  },
  {
   "cell_type": "code",
   "execution_count": 282,
   "id": "03a640ea-91a3-44e3-ae1d-bc45bfdb0457",
   "metadata": {
    "tags": []
   },
   "outputs": [],
   "source": [
    "# Drop the last recharge date columns\n",
    "df_categorical_fields.drop(['date_of_last_rech_6','date_of_last_rech_7','date_of_last_rech_8'], axis=1, inplace=True)"
   ]
  },
  {
   "cell_type": "code",
   "execution_count": 283,
   "id": "5878ab83-35a9-4a9e-aa3b-a247dfeccfc5",
   "metadata": {
    "tags": []
   },
   "outputs": [
    {
     "name": "stdout",
     "output_type": "stream",
     "text": [
      "<class 'pandas.core.frame.DataFrame'>\n",
      "RangeIndex: 69999 entries, 0 to 69998\n",
      "Data columns (total 1 columns):\n",
      " #   Column                    Non-Null Count  Dtype\n",
      "---  ------                    --------------  -----\n",
      " 0   months_since_last_charge  69999 non-null  int64\n",
      "dtypes: int64(1)\n",
      "memory usage: 547.0 KB\n"
     ]
    }
   ],
   "source": [
    "df_categorical_fields.info()"
   ]
  },
  {
   "cell_type": "code",
   "execution_count": null,
   "id": "98fcfa88-d433-41f5-b4da-6bb4fed2b6c4",
   "metadata": {},
   "outputs": [],
   "source": []
  },
  {
   "cell_type": "code",
   "execution_count": null,
   "id": "70d14b5c-cda8-490b-9936-ae4fa568799d",
   "metadata": {},
   "outputs": [],
   "source": []
  },
  {
   "cell_type": "markdown",
   "id": "381045b0",
   "metadata": {
    "papermill": {
     "duration": 0.050148,
     "end_time": "2021-08-13T07:16:48.336611",
     "exception": false,
     "start_time": "2021-08-13T07:16:48.286463",
     "status": "completed"
    },
    "tags": []
   },
   "source": [
    "### 3.2 Handling outliers\n",
    "\n",
    "The box plots of these features show there a lot of outliers. These can be capped with k-sigma method."
   ]
  },
  {
   "cell_type": "code",
   "execution_count": 284,
   "id": "a8752760-c0bc-4453-9926-31f007ec6626",
   "metadata": {
    "tags": []
   },
   "outputs": [
    {
     "name": "stdout",
     "output_type": "stream",
     "text": [
      "<class 'pandas.core.frame.DataFrame'>\n",
      "RangeIndex: 69999 entries, 0 to 69998\n",
      "Columns: 124 entries, arpu_6 to jun_vbc_3g\n",
      "dtypes: float64(99), int64(25)\n",
      "memory usage: 66.2 MB\n"
     ]
    }
   ],
   "source": [
    "df_numerical_variables = df.select_dtypes(include=['int64', 'float64'])\n",
    "df_numerical_variables.pop('id')                   # Remove id variable.  Though it is numeric, it does not need outlier treatment\n",
    "df_numerical_variables.pop('churn_probability')    # Remove churn_probability variable. It does not need outlier treatment\n",
    "df_numerical_variables.info()"
   ]
  },
  {
   "cell_type": "code",
   "execution_count": 285,
   "id": "92d1d43d",
   "metadata": {
    "papermill": {
     "duration": 0.995019,
     "end_time": "2021-08-13T07:16:49.488905",
     "exception": false,
     "start_time": "2021-08-13T07:16:48.493886",
     "status": "completed"
    },
    "tags": []
   },
   "outputs": [
    {
     "data": {
      "text/plain": [
       "<Axes: >"
      ]
     },
     "execution_count": 285,
     "metadata": {},
     "output_type": "execute_result"
    },
    {
     "data": {
      "image/png": "[encoded data removed]",
      "text/plain": [
       "<Figure size 1500x800 with 1 Axes>"
      ]
     },
     "metadata": {},
     "output_type": "display_data"
    }
   ],
   "source": [
    "# Apply the capping to the \n",
    "# Let us cap the values\n",
    "# But exclude the id field.  It is numerical, but should not be capped.\n",
    "\n",
    "def col_clip(col):\n",
    "    mean = col.mean()\n",
    "    std = col.std()\n",
    "    return col.clip(mean - 2 * std, mean + 2 * std)\n",
    "\n",
    "\n",
    "df_numerical_variables = df_numerical_variables.apply(col_clip, axis=0)\n",
    "\n",
    "plt.figure(figsize=(15,8))\n",
    "plt.xticks(rotation=45)\n",
    "sns.boxplot(data = df_numerical_variables)"
   ]
  },
  {
   "cell_type": "code",
   "execution_count": null,
   "id": "60a72fd8-bfa6-4a02-9ac5-f07f75b3ccfe",
   "metadata": {},
   "outputs": [],
   "source": []
  },
  {
   "cell_type": "code",
   "execution_count": 286,
   "id": "a1f8eb0b-122c-47d1-aa73-ccf200f52d41",
   "metadata": {
    "tags": []
   },
   "outputs": [
    {
     "name": "stdout",
     "output_type": "stream",
     "text": [
      "<class 'pandas.core.frame.DataFrame'>\n",
      "RangeIndex: 69999 entries, 0 to 69998\n",
      "Data columns (total 124 columns):\n",
      " #    Column              Dtype  \n",
      "---   ------              -----  \n",
      " 0    arpu_6              float64\n",
      " 1    arpu_7              float64\n",
      " 2    arpu_8              float64\n",
      " 3    onnet_mou_6         float64\n",
      " 4    onnet_mou_7         float64\n",
      " 5    onnet_mou_8         float64\n",
      " 6    offnet_mou_6        float64\n",
      " 7    offnet_mou_7        float64\n",
      " 8    offnet_mou_8        float64\n",
      " 9    roam_ic_mou_6       float64\n",
      " 10   roam_ic_mou_7       float64\n",
      " 11   roam_ic_mou_8       float64\n",
      " 12   roam_og_mou_6       float64\n",
      " 13   roam_og_mou_7       float64\n",
      " 14   roam_og_mou_8       float64\n",
      " 15   loc_og_t2t_mou_6    float64\n",
      " 16   loc_og_t2t_mou_7    float64\n",
      " 17   loc_og_t2t_mou_8    float64\n",
      " 18   loc_og_t2m_mou_6    float64\n",
      " 19   loc_og_t2m_mou_7    float64\n",
      " 20   loc_og_t2m_mou_8    float64\n",
      " 21   loc_og_t2f_mou_6    float64\n",
      " 22   loc_og_t2f_mou_7    float64\n",
      " 23   loc_og_t2f_mou_8    float64\n",
      " 24   loc_og_t2c_mou_6    float64\n",
      " 25   loc_og_t2c_mou_7    float64\n",
      " 26   loc_og_t2c_mou_8    float64\n",
      " 27   loc_og_mou_6        float64\n",
      " 28   loc_og_mou_7        float64\n",
      " 29   loc_og_mou_8        float64\n",
      " 30   std_og_t2t_mou_6    float64\n",
      " 31   std_og_t2t_mou_7    float64\n",
      " 32   std_og_t2t_mou_8    float64\n",
      " 33   std_og_t2m_mou_6    float64\n",
      " 34   std_og_t2m_mou_7    float64\n",
      " 35   std_og_t2m_mou_8    float64\n",
      " 36   std_og_t2f_mou_6    float64\n",
      " 37   std_og_t2f_mou_7    float64\n",
      " 38   std_og_t2f_mou_8    float64\n",
      " 39   std_og_mou_6        float64\n",
      " 40   std_og_mou_7        float64\n",
      " 41   std_og_mou_8        float64\n",
      " 42   isd_og_mou_6        float64\n",
      " 43   isd_og_mou_7        float64\n",
      " 44   isd_og_mou_8        float64\n",
      " 45   spl_og_mou_6        float64\n",
      " 46   spl_og_mou_7        float64\n",
      " 47   spl_og_mou_8        float64\n",
      " 48   og_others_6         float64\n",
      " 49   og_others_7         float64\n",
      " 50   og_others_8         float64\n",
      " 51   total_og_mou_6      float64\n",
      " 52   total_og_mou_7      float64\n",
      " 53   total_og_mou_8      float64\n",
      " 54   loc_ic_t2t_mou_6    float64\n",
      " 55   loc_ic_t2t_mou_7    float64\n",
      " 56   loc_ic_t2t_mou_8    float64\n",
      " 57   loc_ic_t2m_mou_6    float64\n",
      " 58   loc_ic_t2m_mou_7    float64\n",
      " 59   loc_ic_t2m_mou_8    float64\n",
      " 60   loc_ic_t2f_mou_6    float64\n",
      " 61   loc_ic_t2f_mou_7    float64\n",
      " 62   loc_ic_t2f_mou_8    float64\n",
      " 63   loc_ic_mou_6        float64\n",
      " 64   loc_ic_mou_7        float64\n",
      " 65   loc_ic_mou_8        float64\n",
      " 66   std_ic_t2t_mou_6    float64\n",
      " 67   std_ic_t2t_mou_7    float64\n",
      " 68   std_ic_t2t_mou_8    float64\n",
      " 69   std_ic_t2m_mou_6    float64\n",
      " 70   std_ic_t2m_mou_7    float64\n",
      " 71   std_ic_t2m_mou_8    float64\n",
      " 72   std_ic_t2f_mou_6    float64\n",
      " 73   std_ic_t2f_mou_7    float64\n",
      " 74   std_ic_t2f_mou_8    float64\n",
      " 75   std_ic_mou_6        float64\n",
      " 76   std_ic_mou_7        float64\n",
      " 77   std_ic_mou_8        float64\n",
      " 78   total_ic_mou_6      float64\n",
      " 79   total_ic_mou_7      float64\n",
      " 80   total_ic_mou_8      float64\n",
      " 81   spl_ic_mou_6        float64\n",
      " 82   spl_ic_mou_7        float64\n",
      " 83   spl_ic_mou_8        float64\n",
      " 84   isd_ic_mou_6        float64\n",
      " 85   isd_ic_mou_7        float64\n",
      " 86   isd_ic_mou_8        float64\n",
      " 87   ic_others_6         float64\n",
      " 88   ic_others_7         float64\n",
      " 89   ic_others_8         float64\n",
      " 90   total_rech_num_6    float64\n",
      " 91   total_rech_num_7    float64\n",
      " 92   total_rech_num_8    float64\n",
      " 93   total_rech_amt_6    float64\n",
      " 94   total_rech_amt_7    float64\n",
      " 95   total_rech_amt_8    float64\n",
      " 96   max_rech_amt_6      float64\n",
      " 97   max_rech_amt_7      float64\n",
      " 98   max_rech_amt_8      float64\n",
      " 99   last_day_rch_amt_6  float64\n",
      " 100  last_day_rch_amt_7  float64\n",
      " 101  last_day_rch_amt_8  float64\n",
      " 102  vol_2g_mb_6         float64\n",
      " 103  vol_2g_mb_7         float64\n",
      " 104  vol_2g_mb_8         float64\n",
      " 105  vol_3g_mb_6         float64\n",
      " 106  vol_3g_mb_7         float64\n",
      " 107  vol_3g_mb_8         float64\n",
      " 108  monthly_2g_6        float64\n",
      " 109  monthly_2g_7        float64\n",
      " 110  monthly_2g_8        float64\n",
      " 111  sachet_2g_6         float64\n",
      " 112  sachet_2g_7         float64\n",
      " 113  sachet_2g_8         float64\n",
      " 114  monthly_3g_6        float64\n",
      " 115  monthly_3g_7        float64\n",
      " 116  monthly_3g_8        float64\n",
      " 117  sachet_3g_6         float64\n",
      " 118  sachet_3g_7         float64\n",
      " 119  sachet_3g_8         float64\n",
      " 120  aon                 float64\n",
      " 121  aug_vbc_3g          float64\n",
      " 122  jul_vbc_3g          float64\n",
      " 123  jun_vbc_3g          float64\n",
      "dtypes: float64(124)\n",
      "memory usage: 66.2 MB\n"
     ]
    }
   ],
   "source": [
    "df_numerical_variables.info(verbose=True)"
   ]
  },
  {
   "cell_type": "code",
   "execution_count": 287,
   "id": "7b7ee02e-383c-45c5-97a3-a07778aa668f",
   "metadata": {},
   "outputs": [
    {
     "data": {
      "text/plain": [
       "(69999, 124)"
      ]
     },
     "execution_count": 287,
     "metadata": {},
     "output_type": "execute_result"
    }
   ],
   "source": [
    "df_numerical_variables.shape"
   ]
  },
  {
   "cell_type": "code",
   "execution_count": 288,
   "id": "08e19c63-a520-44ac-a26f-461c30261d9c",
   "metadata": {
    "tags": []
   },
   "outputs": [],
   "source": [
    "# Now concatenate all the dataframes and then include the id field also"
   ]
  },
  {
   "cell_type": "code",
   "execution_count": 289,
   "id": "7e6a9fcd-5b50-495d-abd7-55e01d87d300",
   "metadata": {
    "tags": []
   },
   "outputs": [],
   "source": [
    "id_df = df[['id','churn_probability']]"
   ]
  },
  {
   "cell_type": "code",
   "execution_count": 290,
   "id": "5ceee651-5921-4f59-9cfb-62996fd96c1e",
   "metadata": {
    "tags": []
   },
   "outputs": [],
   "source": [
    "df = pd.concat([df_numerical_variables, df_categorical_fields, id_df], axis=1)"
   ]
  },
  {
   "cell_type": "code",
   "execution_count": 291,
   "id": "1969fc5a-2331-4462-9625-00dd47e45dc2",
   "metadata": {
    "tags": []
   },
   "outputs": [
    {
     "data": {
      "text/html": [
       "<div>\n",
       "<style scoped>\n",
       "    .dataframe tbody tr th:only-of-type {\n",
       "        vertical-align: middle;\n",
       "    }\n",
       "\n",
       "    .dataframe tbody tr th {\n",
       "        vertical-align: top;\n",
       "    }\n",
       "\n",
       "    .dataframe thead th {\n",
       "        text-align: right;\n",
       "    }\n",
       "</style>\n",
       "<table border=\"1\" class=\"dataframe\">\n",
       "  <thead>\n",
       "    <tr style=\"text-align: right;\">\n",
       "      <th></th>\n",
       "      <th>arpu_6</th>\n",
       "      <th>arpu_7</th>\n",
       "      <th>arpu_8</th>\n",
       "      <th>onnet_mou_6</th>\n",
       "      <th>onnet_mou_7</th>\n",
       "      <th>onnet_mou_8</th>\n",
       "      <th>offnet_mou_6</th>\n",
       "      <th>offnet_mou_7</th>\n",
       "      <th>offnet_mou_8</th>\n",
       "      <th>roam_ic_mou_6</th>\n",
       "      <th>...</th>\n",
       "      <th>monthly_3g_8</th>\n",
       "      <th>sachet_3g_6</th>\n",
       "      <th>sachet_3g_7</th>\n",
       "      <th>sachet_3g_8</th>\n",
       "      <th>aon</th>\n",
       "      <th>aug_vbc_3g</th>\n",
       "      <th>jul_vbc_3g</th>\n",
       "      <th>jun_vbc_3g</th>\n",
       "      <th>months_since_last_charge</th>\n",
       "      <th>churn_probability</th>\n",
       "    </tr>\n",
       "    <tr>\n",
       "      <th>id</th>\n",
       "      <th></th>\n",
       "      <th></th>\n",
       "      <th></th>\n",
       "      <th></th>\n",
       "      <th></th>\n",
       "      <th></th>\n",
       "      <th></th>\n",
       "      <th></th>\n",
       "      <th></th>\n",
       "      <th></th>\n",
       "      <th></th>\n",
       "      <th></th>\n",
       "      <th></th>\n",
       "      <th></th>\n",
       "      <th></th>\n",
       "      <th></th>\n",
       "      <th></th>\n",
       "      <th></th>\n",
       "      <th></th>\n",
       "      <th></th>\n",
       "      <th></th>\n",
       "    </tr>\n",
       "  </thead>\n",
       "  <tbody>\n",
       "    <tr>\n",
       "      <th>0</th>\n",
       "      <td>31.277</td>\n",
       "      <td>87.009</td>\n",
       "      <td>7.527</td>\n",
       "      <td>48.58</td>\n",
       "      <td>124.38</td>\n",
       "      <td>1.29</td>\n",
       "      <td>32.24</td>\n",
       "      <td>96.68</td>\n",
       "      <td>2.33</td>\n",
       "      <td>0.00</td>\n",
       "      <td>...</td>\n",
       "      <td>0.0000</td>\n",
       "      <td>0.0</td>\n",
       "      <td>0.0</td>\n",
       "      <td>0.0</td>\n",
       "      <td>1958.0</td>\n",
       "      <td>0.000000</td>\n",
       "      <td>0.000000</td>\n",
       "      <td>0.00000</td>\n",
       "      <td>0</td>\n",
       "      <td>0</td>\n",
       "    </tr>\n",
       "    <tr>\n",
       "      <th>1</th>\n",
       "      <td>0.000</td>\n",
       "      <td>122.787</td>\n",
       "      <td>42.953</td>\n",
       "      <td>0.00</td>\n",
       "      <td>0.00</td>\n",
       "      <td>0.00</td>\n",
       "      <td>0.00</td>\n",
       "      <td>25.99</td>\n",
       "      <td>30.89</td>\n",
       "      <td>0.00</td>\n",
       "      <td>...</td>\n",
       "      <td>0.0000</td>\n",
       "      <td>0.0</td>\n",
       "      <td>0.0</td>\n",
       "      <td>0.0</td>\n",
       "      <td>710.0</td>\n",
       "      <td>0.000000</td>\n",
       "      <td>0.000000</td>\n",
       "      <td>0.00000</td>\n",
       "      <td>0</td>\n",
       "      <td>0</td>\n",
       "    </tr>\n",
       "    <tr>\n",
       "      <th>2</th>\n",
       "      <td>60.806</td>\n",
       "      <td>103.176</td>\n",
       "      <td>0.000</td>\n",
       "      <td>0.53</td>\n",
       "      <td>15.93</td>\n",
       "      <td>0.00</td>\n",
       "      <td>53.99</td>\n",
       "      <td>82.05</td>\n",
       "      <td>0.00</td>\n",
       "      <td>0.00</td>\n",
       "      <td>...</td>\n",
       "      <td>0.0000</td>\n",
       "      <td>0.0</td>\n",
       "      <td>0.0</td>\n",
       "      <td>0.0</td>\n",
       "      <td>882.0</td>\n",
       "      <td>0.000000</td>\n",
       "      <td>0.000000</td>\n",
       "      <td>0.00000</td>\n",
       "      <td>0</td>\n",
       "      <td>0</td>\n",
       "    </tr>\n",
       "    <tr>\n",
       "      <th>3</th>\n",
       "      <td>156.362</td>\n",
       "      <td>205.260</td>\n",
       "      <td>111.095</td>\n",
       "      <td>7.26</td>\n",
       "      <td>16.01</td>\n",
       "      <td>0.00</td>\n",
       "      <td>68.76</td>\n",
       "      <td>78.48</td>\n",
       "      <td>50.23</td>\n",
       "      <td>0.00</td>\n",
       "      <td>...</td>\n",
       "      <td>0.0000</td>\n",
       "      <td>0.0</td>\n",
       "      <td>0.0</td>\n",
       "      <td>0.0</td>\n",
       "      <td>982.0</td>\n",
       "      <td>0.000000</td>\n",
       "      <td>0.000000</td>\n",
       "      <td>0.00000</td>\n",
       "      <td>0</td>\n",
       "      <td>0</td>\n",
       "    </tr>\n",
       "    <tr>\n",
       "      <th>4</th>\n",
       "      <td>240.708</td>\n",
       "      <td>128.191</td>\n",
       "      <td>101.565</td>\n",
       "      <td>21.28</td>\n",
       "      <td>4.83</td>\n",
       "      <td>6.13</td>\n",
       "      <td>56.99</td>\n",
       "      <td>38.11</td>\n",
       "      <td>9.63</td>\n",
       "      <td>53.64</td>\n",
       "      <td>...</td>\n",
       "      <td>0.0000</td>\n",
       "      <td>0.0</td>\n",
       "      <td>1.0</td>\n",
       "      <td>0.0</td>\n",
       "      <td>647.0</td>\n",
       "      <td>0.000000</td>\n",
       "      <td>0.000000</td>\n",
       "      <td>0.00000</td>\n",
       "      <td>0</td>\n",
       "      <td>0</td>\n",
       "    </tr>\n",
       "    <tr>\n",
       "      <th>...</th>\n",
       "      <td>...</td>\n",
       "      <td>...</td>\n",
       "      <td>...</td>\n",
       "      <td>...</td>\n",
       "      <td>...</td>\n",
       "      <td>...</td>\n",
       "      <td>...</td>\n",
       "      <td>...</td>\n",
       "      <td>...</td>\n",
       "      <td>...</td>\n",
       "      <td>...</td>\n",
       "      <td>...</td>\n",
       "      <td>...</td>\n",
       "      <td>...</td>\n",
       "      <td>...</td>\n",
       "      <td>...</td>\n",
       "      <td>...</td>\n",
       "      <td>...</td>\n",
       "      <td>...</td>\n",
       "      <td>...</td>\n",
       "      <td>...</td>\n",
       "    </tr>\n",
       "    <tr>\n",
       "      <th>69994</th>\n",
       "      <td>15.760</td>\n",
       "      <td>410.924</td>\n",
       "      <td>329.136</td>\n",
       "      <td>0.00</td>\n",
       "      <td>7.36</td>\n",
       "      <td>10.93</td>\n",
       "      <td>0.00</td>\n",
       "      <td>488.46</td>\n",
       "      <td>381.64</td>\n",
       "      <td>14.96</td>\n",
       "      <td>...</td>\n",
       "      <td>0.0000</td>\n",
       "      <td>0.0</td>\n",
       "      <td>1.0</td>\n",
       "      <td>0.0</td>\n",
       "      <td>221.0</td>\n",
       "      <td>0.000000</td>\n",
       "      <td>0.000000</td>\n",
       "      <td>0.00000</td>\n",
       "      <td>0</td>\n",
       "      <td>0</td>\n",
       "    </tr>\n",
       "    <tr>\n",
       "      <th>69995</th>\n",
       "      <td>160.083</td>\n",
       "      <td>289.129</td>\n",
       "      <td>265.772</td>\n",
       "      <td>116.54</td>\n",
       "      <td>196.46</td>\n",
       "      <td>232.63</td>\n",
       "      <td>49.53</td>\n",
       "      <td>96.28</td>\n",
       "      <td>48.06</td>\n",
       "      <td>0.00</td>\n",
       "      <td>...</td>\n",
       "      <td>0.0000</td>\n",
       "      <td>0.0</td>\n",
       "      <td>0.0</td>\n",
       "      <td>0.0</td>\n",
       "      <td>712.0</td>\n",
       "      <td>0.000000</td>\n",
       "      <td>0.000000</td>\n",
       "      <td>0.00000</td>\n",
       "      <td>0</td>\n",
       "      <td>0</td>\n",
       "    </tr>\n",
       "    <tr>\n",
       "      <th>69996</th>\n",
       "      <td>372.088</td>\n",
       "      <td>258.374</td>\n",
       "      <td>279.782</td>\n",
       "      <td>77.13</td>\n",
       "      <td>68.44</td>\n",
       "      <td>78.44</td>\n",
       "      <td>335.54</td>\n",
       "      <td>227.94</td>\n",
       "      <td>263.84</td>\n",
       "      <td>0.00</td>\n",
       "      <td>...</td>\n",
       "      <td>0.0000</td>\n",
       "      <td>0.0</td>\n",
       "      <td>0.0</td>\n",
       "      <td>0.0</td>\n",
       "      <td>879.0</td>\n",
       "      <td>0.000000</td>\n",
       "      <td>0.000000</td>\n",
       "      <td>0.00000</td>\n",
       "      <td>0</td>\n",
       "      <td>0</td>\n",
       "    </tr>\n",
       "    <tr>\n",
       "      <th>69997</th>\n",
       "      <td>238.575</td>\n",
       "      <td>245.414</td>\n",
       "      <td>145.062</td>\n",
       "      <td>14.01</td>\n",
       "      <td>7.64</td>\n",
       "      <td>6.71</td>\n",
       "      <td>30.34</td>\n",
       "      <td>16.68</td>\n",
       "      <td>12.56</td>\n",
       "      <td>25.06</td>\n",
       "      <td>...</td>\n",
       "      <td>0.8456</td>\n",
       "      <td>0.0</td>\n",
       "      <td>0.0</td>\n",
       "      <td>0.0</td>\n",
       "      <td>277.0</td>\n",
       "      <td>606.765915</td>\n",
       "      <td>601.733897</td>\n",
       "      <td>574.53036</td>\n",
       "      <td>0</td>\n",
       "      <td>0</td>\n",
       "    </tr>\n",
       "    <tr>\n",
       "      <th>69998</th>\n",
       "      <td>168.269</td>\n",
       "      <td>42.815</td>\n",
       "      <td>167.961</td>\n",
       "      <td>0.00</td>\n",
       "      <td>0.00</td>\n",
       "      <td>0.00</td>\n",
       "      <td>0.00</td>\n",
       "      <td>0.00</td>\n",
       "      <td>0.00</td>\n",
       "      <td>0.00</td>\n",
       "      <td>...</td>\n",
       "      <td>0.0000</td>\n",
       "      <td>0.0</td>\n",
       "      <td>0.0</td>\n",
       "      <td>0.0</td>\n",
       "      <td>1876.0</td>\n",
       "      <td>0.000000</td>\n",
       "      <td>0.000000</td>\n",
       "      <td>0.00000</td>\n",
       "      <td>0</td>\n",
       "      <td>0</td>\n",
       "    </tr>\n",
       "  </tbody>\n",
       "</table>\n",
       "<p>69999 rows × 126 columns</p>\n",
       "</div>"
      ],
      "text/plain": [
       "        arpu_6   arpu_7   arpu_8  onnet_mou_6  onnet_mou_7  onnet_mou_8  \\\n",
       "id                                                                        \n",
       "0       31.277   87.009    7.527        48.58       124.38         1.29   \n",
       "1        0.000  122.787   42.953         0.00         0.00         0.00   \n",
       "2       60.806  103.176    0.000         0.53        15.93         0.00   \n",
       "3      156.362  205.260  111.095         7.26        16.01         0.00   \n",
       "4      240.708  128.191  101.565        21.28         4.83         6.13   \n",
       "...        ...      ...      ...          ...          ...          ...   \n",
       "69994   15.760  410.924  329.136         0.00         7.36        10.93   \n",
       "69995  160.083  289.129  265.772       116.54       196.46       232.63   \n",
       "69996  372.088  258.374  279.782        77.13        68.44        78.44   \n",
       "69997  238.575  245.414  145.062        14.01         7.64         6.71   \n",
       "69998  168.269   42.815  167.961         0.00         0.00         0.00   \n",
       "\n",
       "       offnet_mou_6  offnet_mou_7  offnet_mou_8  roam_ic_mou_6  ...  \\\n",
       "id                                                              ...   \n",
       "0             32.24         96.68          2.33           0.00  ...   \n",
       "1              0.00         25.99         30.89           0.00  ...   \n",
       "2             53.99         82.05          0.00           0.00  ...   \n",
       "3             68.76         78.48         50.23           0.00  ...   \n",
       "4             56.99         38.11          9.63          53.64  ...   \n",
       "...             ...           ...           ...            ...  ...   \n",
       "69994          0.00        488.46        381.64          14.96  ...   \n",
       "69995         49.53         96.28         48.06           0.00  ...   \n",
       "69996        335.54        227.94        263.84           0.00  ...   \n",
       "69997         30.34         16.68         12.56          25.06  ...   \n",
       "69998          0.00          0.00          0.00           0.00  ...   \n",
       "\n",
       "       monthly_3g_8  sachet_3g_6  sachet_3g_7  sachet_3g_8     aon  \\\n",
       "id                                                                   \n",
       "0            0.0000          0.0          0.0          0.0  1958.0   \n",
       "1            0.0000          0.0          0.0          0.0   710.0   \n",
       "2            0.0000          0.0          0.0          0.0   882.0   \n",
       "3            0.0000          0.0          0.0          0.0   982.0   \n",
       "4            0.0000          0.0          1.0          0.0   647.0   \n",
       "...             ...          ...          ...          ...     ...   \n",
       "69994        0.0000          0.0          1.0          0.0   221.0   \n",
       "69995        0.0000          0.0          0.0          0.0   712.0   \n",
       "69996        0.0000          0.0          0.0          0.0   879.0   \n",
       "69997        0.8456          0.0          0.0          0.0   277.0   \n",
       "69998        0.0000          0.0          0.0          0.0  1876.0   \n",
       "\n",
       "       aug_vbc_3g  jul_vbc_3g  jun_vbc_3g  months_since_last_charge  \\\n",
       "id                                                                    \n",
       "0        0.000000    0.000000     0.00000                         0   \n",
       "1        0.000000    0.000000     0.00000                         0   \n",
       "2        0.000000    0.000000     0.00000                         0   \n",
       "3        0.000000    0.000000     0.00000                         0   \n",
       "4        0.000000    0.000000     0.00000                         0   \n",
       "...           ...         ...         ...                       ...   \n",
       "69994    0.000000    0.000000     0.00000                         0   \n",
       "69995    0.000000    0.000000     0.00000                         0   \n",
       "69996    0.000000    0.000000     0.00000                         0   \n",
       "69997  606.765915  601.733897   574.53036                         0   \n",
       "69998    0.000000    0.000000     0.00000                         0   \n",
       "\n",
       "       churn_probability  \n",
       "id                        \n",
       "0                      0  \n",
       "1                      0  \n",
       "2                      0  \n",
       "3                      0  \n",
       "4                      0  \n",
       "...                  ...  \n",
       "69994                  0  \n",
       "69995                  0  \n",
       "69996                  0  \n",
       "69997                  0  \n",
       "69998                  0  \n",
       "\n",
       "[69999 rows x 126 columns]"
      ]
     },
     "execution_count": 291,
     "metadata": {},
     "output_type": "execute_result"
    }
   ],
   "source": [
    "df.set_index('id')"
   ]
  },
  {
   "cell_type": "code",
   "execution_count": 292,
   "id": "5ad7c483-f4a7-4324-af0d-428be64ab4c6",
   "metadata": {
    "tags": []
   },
   "outputs": [
    {
     "data": {
      "text/plain": [
       "(69999, 127)"
      ]
     },
     "execution_count": 292,
     "metadata": {},
     "output_type": "execute_result"
    }
   ],
   "source": [
    "df.shape"
   ]
  },
  {
   "cell_type": "code",
   "execution_count": null,
   "id": "0343bf4b-239d-4cec-8187-ff933ef448a8",
   "metadata": {},
   "outputs": [],
   "source": []
  },
  {
   "cell_type": "code",
   "execution_count": null,
   "id": "79172d36-cb5b-4806-982c-6f82f38f89b2",
   "metadata": {},
   "outputs": [],
   "source": []
  },
  {
   "cell_type": "markdown",
   "id": "717a47b1",
   "metadata": {
    "papermill": {
     "duration": 0.03869,
     "end_time": "2021-08-13T07:16:41.929599",
     "exception": false,
     "start_time": "2021-08-13T07:16:41.890909",
     "status": "completed"
    },
    "tags": []
   },
   "source": [
    "# 4. Preliminary Model Building Using LightGBM\n",
    "\n",
    "\n",
    "\n",
    "\n"
   ]
  },
  {
   "cell_type": "markdown",
   "id": "3b1e9eca",
   "metadata": {
    "papermill": {
     "duration": 0.039731,
     "end_time": "2021-08-13T07:16:42.189842",
     "exception": false,
     "start_time": "2021-08-13T07:16:42.150111",
     "status": "completed"
    },
    "tags": []
   },
   "source": [
    "First lets create X and y datasets.\n",
    "\n",
    "Splitting train and test data to avoid any contamination of the test data"
   ]
  },
  {
   "cell_type": "code",
   "execution_count": 293,
   "id": "19049f7a",
   "metadata": {
    "papermill": {
     "duration": 0.065525,
     "end_time": "2021-08-13T07:16:42.294433",
     "exception": false,
     "start_time": "2021-08-13T07:16:42.228908",
     "status": "completed"
    },
    "tags": []
   },
   "outputs": [
    {
     "data": {
      "text/plain": [
       "((55999, 127), (14000, 127))"
      ]
     },
     "execution_count": 293,
     "metadata": {},
     "output_type": "execute_result"
    }
   ],
   "source": [
    "df_train, df_test = train_test_split(df, test_size=0.2, random_state=42)\n",
    "\n",
    "df_train.shape, df_test.shape"
   ]
  },
  {
   "cell_type": "markdown",
   "id": "872e86fe",
   "metadata": {
    "papermill": {
     "duration": 0.050821,
     "end_time": "2021-08-13T07:16:49.590800",
     "exception": false,
     "start_time": "2021-08-13T07:16:49.539979",
     "status": "completed"
    },
    "tags": []
   },
   "source": [
    "### 4.1 Feature scaling & Imbalance Correction\n",
    "\n",
    "Lets also scale the features by scaling them with Standard scaler (few other alternates are min-max scaling and Z-scaling)."
   ]
  },
  {
   "cell_type": "code",
   "execution_count": 294,
   "id": "cc8ac1e8-fc24-4634-8778-d152810e1438",
   "metadata": {
    "tags": []
   },
   "outputs": [],
   "source": [
    "df_train['churn_probability'] = df_train.churn_probability.apply(np.int64)"
   ]
  },
  {
   "cell_type": "code",
   "execution_count": 295,
   "id": "6526c110-240c-4cb9-8f0b-dcd13b2bc13b",
   "metadata": {
    "tags": []
   },
   "outputs": [
    {
     "data": {
      "text/plain": [
       "churn_probability\n",
       "0    50289\n",
       "1     5710\n",
       "Name: count, dtype: int64"
      ]
     },
     "execution_count": 295,
     "metadata": {},
     "output_type": "execute_result"
    }
   ],
   "source": [
    "df_train['churn_probability'].value_counts()"
   ]
  },
  {
   "cell_type": "code",
   "execution_count": 296,
   "id": "4ad7ad33",
   "metadata": {
    "papermill": {
     "duration": 0.077522,
     "end_time": "2021-08-13T07:16:49.720148",
     "exception": false,
     "start_time": "2021-08-13T07:16:49.642626",
     "status": "completed"
    },
    "tags": []
   },
   "outputs": [],
   "source": [
    "scaler = MinMaxScaler()\n",
    "cols_to_scale = df_train.drop(['id'], axis=1).columns\n",
    "df_train[cols_to_scale] = scaler.fit_transform(df_train[cols_to_scale])"
   ]
  },
  {
   "cell_type": "code",
   "execution_count": null,
   "id": "2d63d6cb-fe4d-4e1c-b11b-00d5aaeff813",
   "metadata": {},
   "outputs": [],
   "source": []
  },
  {
   "cell_type": "code",
   "execution_count": 297,
   "id": "1991940b-efb8-4e5a-a0a7-8c2cdcb8ef19",
   "metadata": {
    "tags": []
   },
   "outputs": [
    {
     "data": {
      "text/html": [
       "<div>\n",
       "<style scoped>\n",
       "    .dataframe tbody tr th:only-of-type {\n",
       "        vertical-align: middle;\n",
       "    }\n",
       "\n",
       "    .dataframe tbody tr th {\n",
       "        vertical-align: top;\n",
       "    }\n",
       "\n",
       "    .dataframe thead th {\n",
       "        text-align: right;\n",
       "    }\n",
       "</style>\n",
       "<table border=\"1\" class=\"dataframe\">\n",
       "  <thead>\n",
       "    <tr style=\"text-align: right;\">\n",
       "      <th></th>\n",
       "      <th>arpu_6</th>\n",
       "      <th>arpu_7</th>\n",
       "      <th>arpu_8</th>\n",
       "      <th>onnet_mou_6</th>\n",
       "      <th>onnet_mou_7</th>\n",
       "      <th>onnet_mou_8</th>\n",
       "      <th>offnet_mou_6</th>\n",
       "      <th>offnet_mou_7</th>\n",
       "      <th>offnet_mou_8</th>\n",
       "      <th>roam_ic_mou_6</th>\n",
       "      <th>...</th>\n",
       "      <th>sachet_3g_6</th>\n",
       "      <th>sachet_3g_7</th>\n",
       "      <th>sachet_3g_8</th>\n",
       "      <th>aon</th>\n",
       "      <th>aug_vbc_3g</th>\n",
       "      <th>jul_vbc_3g</th>\n",
       "      <th>jun_vbc_3g</th>\n",
       "      <th>months_since_last_charge</th>\n",
       "      <th>id</th>\n",
       "      <th>churn_probability</th>\n",
       "    </tr>\n",
       "  </thead>\n",
       "  <tbody>\n",
       "    <tr>\n",
       "      <th>count</th>\n",
       "      <td>55999.000000</td>\n",
       "      <td>55999.000000</td>\n",
       "      <td>55999.000000</td>\n",
       "      <td>55999.000000</td>\n",
       "      <td>55999.000000</td>\n",
       "      <td>55999.000000</td>\n",
       "      <td>55999.000000</td>\n",
       "      <td>55999.000000</td>\n",
       "      <td>55999.000000</td>\n",
       "      <td>55999.000000</td>\n",
       "      <td>...</td>\n",
       "      <td>55999.000000</td>\n",
       "      <td>55999.000000</td>\n",
       "      <td>55999.000000</td>\n",
       "      <td>55999.000000</td>\n",
       "      <td>55999.000000</td>\n",
       "      <td>55999.000000</td>\n",
       "      <td>55999.000000</td>\n",
       "      <td>55999.000000</td>\n",
       "      <td>55999.000000</td>\n",
       "      <td>55999.000000</td>\n",
       "    </tr>\n",
       "    <tr>\n",
       "      <th>mean</th>\n",
       "      <td>0.488810</td>\n",
       "      <td>0.489696</td>\n",
       "      <td>0.489120</td>\n",
       "      <td>0.147485</td>\n",
       "      <td>0.143850</td>\n",
       "      <td>0.141483</td>\n",
       "      <td>0.208004</td>\n",
       "      <td>0.204165</td>\n",
       "      <td>0.200885</td>\n",
       "      <td>0.048642</td>\n",
       "      <td>...</td>\n",
       "      <td>0.036336</td>\n",
       "      <td>0.034025</td>\n",
       "      <td>0.033299</td>\n",
       "      <td>0.347750</td>\n",
       "      <td>0.079535</td>\n",
       "      <td>0.075546</td>\n",
       "      <td>0.071853</td>\n",
       "      <td>0.014649</td>\n",
       "      <td>34968.080162</td>\n",
       "      <td>0.101966</td>\n",
       "    </tr>\n",
       "    <tr>\n",
       "      <th>std</th>\n",
       "      <td>0.179125</td>\n",
       "      <td>0.174850</td>\n",
       "      <td>0.173412</td>\n",
       "      <td>0.244177</td>\n",
       "      <td>0.243840</td>\n",
       "      <td>0.242064</td>\n",
       "      <td>0.254495</td>\n",
       "      <td>0.255085</td>\n",
       "      <td>0.254190</td>\n",
       "      <td>0.173262</td>\n",
       "      <td>...</td>\n",
       "      <td>0.174798</td>\n",
       "      <td>0.165883</td>\n",
       "      <td>0.161926</td>\n",
       "      <td>0.311571</td>\n",
       "      <td>0.233536</td>\n",
       "      <td>0.228976</td>\n",
       "      <td>0.224056</td>\n",
       "      <td>0.082580</td>\n",
       "      <td>20195.580237</td>\n",
       "      <td>0.302606</td>\n",
       "    </tr>\n",
       "    <tr>\n",
       "      <th>min</th>\n",
       "      <td>0.000000</td>\n",
       "      <td>0.000000</td>\n",
       "      <td>0.000000</td>\n",
       "      <td>0.000000</td>\n",
       "      <td>0.000000</td>\n",
       "      <td>0.000000</td>\n",
       "      <td>0.000000</td>\n",
       "      <td>0.000000</td>\n",
       "      <td>0.000000</td>\n",
       "      <td>0.000000</td>\n",
       "      <td>...</td>\n",
       "      <td>0.000000</td>\n",
       "      <td>0.000000</td>\n",
       "      <td>0.000000</td>\n",
       "      <td>0.000000</td>\n",
       "      <td>0.000000</td>\n",
       "      <td>0.000000</td>\n",
       "      <td>0.000000</td>\n",
       "      <td>0.000000</td>\n",
       "      <td>0.000000</td>\n",
       "      <td>0.000000</td>\n",
       "    </tr>\n",
       "    <tr>\n",
       "      <th>25%</th>\n",
       "      <td>0.358020</td>\n",
       "      <td>0.361285</td>\n",
       "      <td>0.361806</td>\n",
       "      <td>0.007492</td>\n",
       "      <td>0.006683</td>\n",
       "      <td>0.005585</td>\n",
       "      <td>0.035381</td>\n",
       "      <td>0.032586</td>\n",
       "      <td>0.029087</td>\n",
       "      <td>0.000000</td>\n",
       "      <td>...</td>\n",
       "      <td>0.000000</td>\n",
       "      <td>0.000000</td>\n",
       "      <td>0.000000</td>\n",
       "      <td>0.097777</td>\n",
       "      <td>0.000000</td>\n",
       "      <td>0.000000</td>\n",
       "      <td>0.000000</td>\n",
       "      <td>0.000000</td>\n",
       "      <td>17483.000000</td>\n",
       "      <td>0.000000</td>\n",
       "    </tr>\n",
       "    <tr>\n",
       "      <th>50%</th>\n",
       "      <td>0.435749</td>\n",
       "      <td>0.437405</td>\n",
       "      <td>0.438132</td>\n",
       "      <td>0.042876</td>\n",
       "      <td>0.039439</td>\n",
       "      <td>0.037748</td>\n",
       "      <td>0.109621</td>\n",
       "      <td>0.104202</td>\n",
       "      <td>0.101038</td>\n",
       "      <td>0.000000</td>\n",
       "      <td>...</td>\n",
       "      <td>0.000000</td>\n",
       "      <td>0.000000</td>\n",
       "      <td>0.000000</td>\n",
       "      <td>0.233577</td>\n",
       "      <td>0.000000</td>\n",
       "      <td>0.000000</td>\n",
       "      <td>0.000000</td>\n",
       "      <td>0.000000</td>\n",
       "      <td>34969.000000</td>\n",
       "      <td>0.000000</td>\n",
       "    </tr>\n",
       "    <tr>\n",
       "      <th>75%</th>\n",
       "      <td>0.565110</td>\n",
       "      <td>0.563718</td>\n",
       "      <td>0.564539</td>\n",
       "      <td>0.157335</td>\n",
       "      <td>0.147153</td>\n",
       "      <td>0.145035</td>\n",
       "      <td>0.273698</td>\n",
       "      <td>0.264799</td>\n",
       "      <td>0.262176</td>\n",
       "      <td>0.000000</td>\n",
       "      <td>...</td>\n",
       "      <td>0.000000</td>\n",
       "      <td>0.000000</td>\n",
       "      <td>0.000000</td>\n",
       "      <td>0.552030</td>\n",
       "      <td>0.000000</td>\n",
       "      <td>0.000000</td>\n",
       "      <td>0.000000</td>\n",
       "      <td>0.000000</td>\n",
       "      <td>52457.500000</td>\n",
       "      <td>0.000000</td>\n",
       "    </tr>\n",
       "    <tr>\n",
       "      <th>max</th>\n",
       "      <td>1.000000</td>\n",
       "      <td>1.000000</td>\n",
       "      <td>1.000000</td>\n",
       "      <td>1.000000</td>\n",
       "      <td>1.000000</td>\n",
       "      <td>1.000000</td>\n",
       "      <td>1.000000</td>\n",
       "      <td>1.000000</td>\n",
       "      <td>1.000000</td>\n",
       "      <td>1.000000</td>\n",
       "      <td>...</td>\n",
       "      <td>1.000000</td>\n",
       "      <td>1.000000</td>\n",
       "      <td>1.000000</td>\n",
       "      <td>1.000000</td>\n",
       "      <td>1.000000</td>\n",
       "      <td>1.000000</td>\n",
       "      <td>1.000000</td>\n",
       "      <td>1.000000</td>\n",
       "      <td>69998.000000</td>\n",
       "      <td>1.000000</td>\n",
       "    </tr>\n",
       "  </tbody>\n",
       "</table>\n",
       "<p>8 rows × 127 columns</p>\n",
       "</div>"
      ],
      "text/plain": [
       "             arpu_6        arpu_7        arpu_8   onnet_mou_6   onnet_mou_7  \\\n",
       "count  55999.000000  55999.000000  55999.000000  55999.000000  55999.000000   \n",
       "mean       0.488810      0.489696      0.489120      0.147485      0.143850   \n",
       "std        0.179125      0.174850      0.173412      0.244177      0.243840   \n",
       "min        0.000000      0.000000      0.000000      0.000000      0.000000   \n",
       "25%        0.358020      0.361285      0.361806      0.007492      0.006683   \n",
       "50%        0.435749      0.437405      0.438132      0.042876      0.039439   \n",
       "75%        0.565110      0.563718      0.564539      0.157335      0.147153   \n",
       "max        1.000000      1.000000      1.000000      1.000000      1.000000   \n",
       "\n",
       "        onnet_mou_8  offnet_mou_6  offnet_mou_7  offnet_mou_8  roam_ic_mou_6  \\\n",
       "count  55999.000000  55999.000000  55999.000000  55999.000000   55999.000000   \n",
       "mean       0.141483      0.208004      0.204165      0.200885       0.048642   \n",
       "std        0.242064      0.254495      0.255085      0.254190       0.173262   \n",
       "min        0.000000      0.000000      0.000000      0.000000       0.000000   \n",
       "25%        0.005585      0.035381      0.032586      0.029087       0.000000   \n",
       "50%        0.037748      0.109621      0.104202      0.101038       0.000000   \n",
       "75%        0.145035      0.273698      0.264799      0.262176       0.000000   \n",
       "max        1.000000      1.000000      1.000000      1.000000       1.000000   \n",
       "\n",
       "       ...   sachet_3g_6   sachet_3g_7   sachet_3g_8           aon  \\\n",
       "count  ...  55999.000000  55999.000000  55999.000000  55999.000000   \n",
       "mean   ...      0.036336      0.034025      0.033299      0.347750   \n",
       "std    ...      0.174798      0.165883      0.161926      0.311571   \n",
       "min    ...      0.000000      0.000000      0.000000      0.000000   \n",
       "25%    ...      0.000000      0.000000      0.000000      0.097777   \n",
       "50%    ...      0.000000      0.000000      0.000000      0.233577   \n",
       "75%    ...      0.000000      0.000000      0.000000      0.552030   \n",
       "max    ...      1.000000      1.000000      1.000000      1.000000   \n",
       "\n",
       "         aug_vbc_3g    jul_vbc_3g    jun_vbc_3g  months_since_last_charge  \\\n",
       "count  55999.000000  55999.000000  55999.000000              55999.000000   \n",
       "mean       0.079535      0.075546      0.071853                  0.014649   \n",
       "std        0.233536      0.228976      0.224056                  0.082580   \n",
       "min        0.000000      0.000000      0.000000                  0.000000   \n",
       "25%        0.000000      0.000000      0.000000                  0.000000   \n",
       "50%        0.000000      0.000000      0.000000                  0.000000   \n",
       "75%        0.000000      0.000000      0.000000                  0.000000   \n",
       "max        1.000000      1.000000      1.000000                  1.000000   \n",
       "\n",
       "                 id  churn_probability  \n",
       "count  55999.000000       55999.000000  \n",
       "mean   34968.080162           0.101966  \n",
       "std    20195.580237           0.302606  \n",
       "min        0.000000           0.000000  \n",
       "25%    17483.000000           0.000000  \n",
       "50%    34969.000000           0.000000  \n",
       "75%    52457.500000           0.000000  \n",
       "max    69998.000000           1.000000  \n",
       "\n",
       "[8 rows x 127 columns]"
      ]
     },
     "execution_count": 297,
     "metadata": {},
     "output_type": "execute_result"
    }
   ],
   "source": [
    "df_train.describe()"
   ]
  },
  {
   "cell_type": "code",
   "execution_count": null,
   "id": "98d869b4-fdd1-47f3-9544-aeb7532de00c",
   "metadata": {},
   "outputs": [],
   "source": []
  },
  {
   "cell_type": "code",
   "execution_count": 298,
   "id": "383c1ddb",
   "metadata": {
    "papermill": {
     "duration": 0.068615,
     "end_time": "2021-08-13T07:16:42.402101",
     "exception": false,
     "start_time": "2021-08-13T07:16:42.333486",
     "status": "completed"
    },
    "tags": []
   },
   "outputs": [],
   "source": [
    "y_train = df_train.pop('churn_probability')\n",
    "X_train = df_train"
   ]
  },
  {
   "cell_type": "code",
   "execution_count": 299,
   "id": "4ff9401b-f4fb-46af-849e-b8be1f936b28",
   "metadata": {},
   "outputs": [],
   "source": [
    "from imblearn.over_sampling import BorderlineSMOTE\n",
    "from imblearn.combine import SMOTEENN\n",
    "\n",
    "\n",
    "\n",
    "# Specify the desired ratio using the sampling_strategy parameter\n",
    "desired_ratio = {0: 50289, 1: 15456}  # Adjust the numbers based on your desired ratio\n",
    "\n",
    "\n",
    "smote = SMOTEENN(sampling_strategy=desired_ratio, random_state=42)\n",
    "X_train,y_train = smote.fit_resample(X_train,y_train)"
   ]
  },
  {
   "cell_type": "code",
   "execution_count": 300,
   "id": "744d9789-77da-45f1-8abd-ef8a59b755fd",
   "metadata": {},
   "outputs": [
    {
     "data": {
      "text/plain": [
       "churn_probability\n",
       "0.0    24843\n",
       "1.0     3344\n",
       "Name: count, dtype: int64"
      ]
     },
     "execution_count": 300,
     "metadata": {},
     "output_type": "execute_result"
    }
   ],
   "source": [
    "y_train.value_counts()"
   ]
  },
  {
   "cell_type": "markdown",
   "id": "b59b7bc1-f6b8-441e-abbc-4ff3d07a9f8b",
   "metadata": {},
   "source": [
    "### 4.2 Building an preliminary model with LightGBM \n",
    "\n",
    "\n",
    "Now we build a model with light GBM to see how the model performs.  We can do PCA later."
   ]
  },
  {
   "cell_type": "code",
   "execution_count": 188,
   "id": "8013c100-f692-45c0-8e9a-bab44c04d25e",
   "metadata": {
    "tags": []
   },
   "outputs": [
    {
     "name": "stdout",
     "output_type": "stream",
     "text": [
      "<class 'pandas.core.series.Series'>\n",
      "Index: 55999 entries, 47338 to 15795\n",
      "Series name: churn_probability\n",
      "Non-Null Count  Dtype  \n",
      "--------------  -----  \n",
      "55999 non-null  float64\n",
      "dtypes: float64(1)\n",
      "memory usage: 875.0 KB\n"
     ]
    }
   ],
   "source": [
    "y_train.info(verbose=True)"
   ]
  },
  {
   "cell_type": "code",
   "execution_count": null,
   "id": "8952e6ed-05d0-4ba6-8484-1712253b67fb",
   "metadata": {},
   "outputs": [],
   "source": []
  },
  {
   "cell_type": "code",
   "execution_count": null,
   "id": "a0740b8d-2ade-40ff-b82d-b4b144c04de3",
   "metadata": {},
   "outputs": [],
   "source": []
  },
  {
   "cell_type": "code",
   "execution_count": 189,
   "id": "ba6526b1-cf38-4577-aefb-d3fcecdfe04d",
   "metadata": {
    "tags": []
   },
   "outputs": [],
   "source": [
    "# Hyper-parameters\n",
    "param = {\n",
    "    'num_leaves': 150,\n",
    "    'max_depth':7,\n",
    "    'learning_rate':.05,\n",
    "    'max_bin':200,\n",
    "    'metric': ['auc', 'binary_logloss'],\n",
    "    'boosting_type': 'gbdt'\n",
    "}"
   ]
  },
  {
   "cell_type": "code",
   "execution_count": 190,
   "id": "0e0c561d-0b0a-4d3e-b341-3092825ca533",
   "metadata": {
    "tags": []
   },
   "outputs": [],
   "source": [
    "lgb_classifier = gbm.LGBMClassifier(random_state=42, **param)"
   ]
  },
  {
   "cell_type": "code",
   "execution_count": 191,
   "id": "9fbb93d1-0e3f-499a-9c0a-9cec36c66318",
   "metadata": {
    "tags": []
   },
   "outputs": [
    {
     "name": "stdout",
     "output_type": "stream",
     "text": [
      "[LightGBM] [Info] Number of positive: 5710, number of negative: 50289\n",
      "[LightGBM] [Info] Auto-choosing col-wise multi-threading, the overhead of testing was 0.017020 seconds.\n",
      "You can set `force_col_wise=true` to remove the overhead.\n",
      "[LightGBM] [Info] Total Bins 20731\n",
      "[LightGBM] [Info] Number of data points in the train set: 55999, number of used features: 126\n",
      "[LightGBM] [Info] [binary:BoostFromScore]: pavg=0.101966 -> initscore=-2.175567\n",
      "[LightGBM] [Info] Start training from score -2.175567\n",
      "[LightGBM] [Warning] No further splits with positive gain, best gain: -inf\n",
      "[LightGBM] [Warning] No further splits with positive gain, best gain: -inf\n",
      "[LightGBM] [Warning] No further splits with positive gain, best gain: -inf\n",
      "[LightGBM] [Warning] No further splits with positive gain, best gain: -inf\n",
      "[LightGBM] [Warning] No further splits with positive gain, best gain: -inf\n",
      "[LightGBM] [Warning] No further splits with positive gain, best gain: -inf\n",
      "[LightGBM] [Warning] No further splits with positive gain, best gain: -inf\n",
      "[LightGBM] [Warning] No further splits with positive gain, best gain: -inf\n",
      "[LightGBM] [Warning] No further splits with positive gain, best gain: -inf\n",
      "[LightGBM] [Warning] No further splits with positive gain, best gain: -inf\n",
      "[LightGBM] [Warning] No further splits with positive gain, best gain: -inf\n",
      "[LightGBM] [Warning] No further splits with positive gain, best gain: -inf\n",
      "[LightGBM] [Warning] No further splits with positive gain, best gain: -inf\n",
      "[LightGBM] [Warning] No further splits with positive gain, best gain: -inf\n",
      "[LightGBM] [Warning] No further splits with positive gain, best gain: -inf\n",
      "[LightGBM] [Warning] No further splits with positive gain, best gain: -inf\n",
      "[LightGBM] [Warning] No further splits with positive gain, best gain: -inf\n",
      "[LightGBM] [Warning] No further splits with positive gain, best gain: -inf\n",
      "[LightGBM] [Warning] No further splits with positive gain, best gain: -inf\n",
      "[LightGBM] [Warning] No further splits with positive gain, best gain: -inf\n",
      "[LightGBM] [Warning] No further splits with positive gain, best gain: -inf\n",
      "[LightGBM] [Warning] No further splits with positive gain, best gain: -inf\n",
      "[LightGBM] [Warning] No further splits with positive gain, best gain: -inf\n",
      "[LightGBM] [Warning] No further splits with positive gain, best gain: -inf\n",
      "[LightGBM] [Warning] No further splits with positive gain, best gain: -inf\n",
      "[LightGBM] [Warning] No further splits with positive gain, best gain: -inf\n",
      "[LightGBM] [Warning] No further splits with positive gain, best gain: -inf\n",
      "[LightGBM] [Warning] No further splits with positive gain, best gain: -inf\n",
      "[LightGBM] [Warning] No further splits with positive gain, best gain: -inf\n",
      "[LightGBM] [Warning] No further splits with positive gain, best gain: -inf\n",
      "[LightGBM] [Warning] No further splits with positive gain, best gain: -inf\n",
      "[LightGBM] [Warning] No further splits with positive gain, best gain: -inf\n",
      "[LightGBM] [Warning] No further splits with positive gain, best gain: -inf\n",
      "[LightGBM] [Warning] No further splits with positive gain, best gain: -inf\n",
      "[LightGBM] [Warning] No further splits with positive gain, best gain: -inf\n",
      "[LightGBM] [Warning] No further splits with positive gain, best gain: -inf\n",
      "[LightGBM] [Warning] No further splits with positive gain, best gain: -inf\n",
      "[LightGBM] [Warning] No further splits with positive gain, best gain: -inf\n",
      "[LightGBM] [Warning] No further splits with positive gain, best gain: -inf\n",
      "[LightGBM] [Warning] No further splits with positive gain, best gain: -inf\n",
      "[LightGBM] [Warning] No further splits with positive gain, best gain: -inf\n",
      "[LightGBM] [Warning] No further splits with positive gain, best gain: -inf\n",
      "[LightGBM] [Warning] No further splits with positive gain, best gain: -inf\n",
      "[LightGBM] [Warning] No further splits with positive gain, best gain: -inf\n",
      "[LightGBM] [Warning] No further splits with positive gain, best gain: -inf\n",
      "[LightGBM] [Warning] No further splits with positive gain, best gain: -inf\n",
      "[LightGBM] [Warning] No further splits with positive gain, best gain: -inf\n",
      "[LightGBM] [Warning] No further splits with positive gain, best gain: -inf\n",
      "[LightGBM] [Warning] No further splits with positive gain, best gain: -inf\n",
      "[LightGBM] [Warning] No further splits with positive gain, best gain: -inf\n",
      "[LightGBM] [Warning] No further splits with positive gain, best gain: -inf\n",
      "[LightGBM] [Warning] No further splits with positive gain, best gain: -inf\n",
      "[LightGBM] [Warning] No further splits with positive gain, best gain: -inf\n",
      "[LightGBM] [Warning] No further splits with positive gain, best gain: -inf\n",
      "[LightGBM] [Warning] No further splits with positive gain, best gain: -inf\n",
      "[LightGBM] [Warning] No further splits with positive gain, best gain: -inf\n",
      "[LightGBM] [Warning] No further splits with positive gain, best gain: -inf\n",
      "[LightGBM] [Warning] No further splits with positive gain, best gain: -inf\n",
      "[LightGBM] [Warning] No further splits with positive gain, best gain: -inf\n",
      "[LightGBM] [Warning] No further splits with positive gain, best gain: -inf\n",
      "[LightGBM] [Warning] No further splits with positive gain, best gain: -inf\n",
      "[LightGBM] [Warning] No further splits with positive gain, best gain: -inf\n",
      "[LightGBM] [Warning] No further splits with positive gain, best gain: -inf\n",
      "[LightGBM] [Warning] No further splits with positive gain, best gain: -inf\n",
      "[LightGBM] [Warning] No further splits with positive gain, best gain: -inf\n",
      "[LightGBM] [Warning] No further splits with positive gain, best gain: -inf\n",
      "[LightGBM] [Warning] No further splits with positive gain, best gain: -inf\n",
      "[LightGBM] [Warning] No further splits with positive gain, best gain: -inf\n",
      "[LightGBM] [Warning] No further splits with positive gain, best gain: -inf\n",
      "[LightGBM] [Warning] No further splits with positive gain, best gain: -inf\n",
      "[LightGBM] [Warning] No further splits with positive gain, best gain: -inf\n",
      "[LightGBM] [Warning] No further splits with positive gain, best gain: -inf\n",
      "[LightGBM] [Warning] No further splits with positive gain, best gain: -inf\n",
      "[LightGBM] [Warning] No further splits with positive gain, best gain: -inf\n",
      "[LightGBM] [Warning] No further splits with positive gain, best gain: -inf\n",
      "[LightGBM] [Warning] No further splits with positive gain, best gain: -inf\n",
      "[LightGBM] [Warning] No further splits with positive gain, best gain: -inf\n",
      "[LightGBM] [Warning] No further splits with positive gain, best gain: -inf\n",
      "[LightGBM] [Warning] No further splits with positive gain, best gain: -inf\n",
      "[LightGBM] [Warning] No further splits with positive gain, best gain: -inf\n",
      "[LightGBM] [Warning] No further splits with positive gain, best gain: -inf\n",
      "[LightGBM] [Warning] No further splits with positive gain, best gain: -inf\n",
      "[LightGBM] [Warning] No further splits with positive gain, best gain: -inf\n",
      "[LightGBM] [Warning] No further splits with positive gain, best gain: -inf\n",
      "[LightGBM] [Warning] No further splits with positive gain, best gain: -inf\n",
      "[LightGBM] [Warning] No further splits with positive gain, best gain: -inf\n",
      "[LightGBM] [Warning] No further splits with positive gain, best gain: -inf\n",
      "[LightGBM] [Warning] No further splits with positive gain, best gain: -inf\n",
      "[LightGBM] [Warning] No further splits with positive gain, best gain: -inf\n",
      "[LightGBM] [Warning] No further splits with positive gain, best gain: -inf\n",
      "[LightGBM] [Warning] No further splits with positive gain, best gain: -inf\n",
      "[LightGBM] [Warning] No further splits with positive gain, best gain: -inf\n",
      "[LightGBM] [Warning] No further splits with positive gain, best gain: -inf\n",
      "[LightGBM] [Warning] No further splits with positive gain, best gain: -inf\n",
      "[LightGBM] [Warning] No further splits with positive gain, best gain: -inf\n",
      "[LightGBM] [Warning] No further splits with positive gain, best gain: -inf\n",
      "[LightGBM] [Warning] No further splits with positive gain, best gain: -inf\n",
      "[LightGBM] [Warning] No further splits with positive gain, best gain: -inf\n",
      "[LightGBM] [Warning] No further splits with positive gain, best gain: -inf\n",
      "[LightGBM] [Warning] No further splits with positive gain, best gain: -inf\n"
     ]
    },
    {
     "data": {
      "text/html": [
       "<style>#sk-container-id-8 {color: black;background-color: white;}#sk-container-id-8 pre{padding: 0;}#sk-container-id-8 div.sk-toggleable {background-color: white;}#sk-container-id-8 label.sk-toggleable__label {cursor: pointer;display: block;width: 100%;margin-bottom: 0;padding: 0.3em;box-sizing: border-box;text-align: center;}#sk-container-id-8 label.sk-toggleable__label-arrow:before {content: \"▸\";float: left;margin-right: 0.25em;color: #696969;}#sk-container-id-8 label.sk-toggleable__label-arrow:hover:before {color: black;}#sk-container-id-8 div.sk-estimator:hover label.sk-toggleable__label-arrow:before {color: black;}#sk-container-id-8 div.sk-toggleable__content {max-height: 0;max-width: 0;overflow: hidden;text-align: left;background-color: #f0f8ff;}#sk-container-id-8 div.sk-toggleable__content pre {margin: 0.2em;color: black;border-radius: 0.25em;background-color: #f0f8ff;}#sk-container-id-8 input.sk-toggleable__control:checked~div.sk-toggleable__content {max-height: 200px;max-width: 100%;overflow: auto;}#sk-container-id-8 input.sk-toggleable__control:checked~label.sk-toggleable__label-arrow:before {content: \"▾\";}#sk-container-id-8 div.sk-estimator input.sk-toggleable__control:checked~label.sk-toggleable__label {background-color: #d4ebff;}#sk-container-id-8 div.sk-label input.sk-toggleable__control:checked~label.sk-toggleable__label {background-color: #d4ebff;}#sk-container-id-8 input.sk-hidden--visually {border: 0;clip: rect(1px 1px 1px 1px);clip: rect(1px, 1px, 1px, 1px);height: 1px;margin: -1px;overflow: hidden;padding: 0;position: absolute;width: 1px;}#sk-container-id-8 div.sk-estimator {font-family: monospace;background-color: #f0f8ff;border: 1px dotted black;border-radius: 0.25em;box-sizing: border-box;margin-bottom: 0.5em;}#sk-container-id-8 div.sk-estimator:hover {background-color: #d4ebff;}#sk-container-id-8 div.sk-parallel-item::after {content: \"\";width: 100%;border-bottom: 1px solid gray;flex-grow: 1;}#sk-container-id-8 div.sk-label:hover label.sk-toggleable__label {background-color: #d4ebff;}#sk-container-id-8 div.sk-serial::before {content: \"\";position: absolute;border-left: 1px solid gray;box-sizing: border-box;top: 0;bottom: 0;left: 50%;z-index: 0;}#sk-container-id-8 div.sk-serial {display: flex;flex-direction: column;align-items: center;background-color: white;padding-right: 0.2em;padding-left: 0.2em;position: relative;}#sk-container-id-8 div.sk-item {position: relative;z-index: 1;}#sk-container-id-8 div.sk-parallel {display: flex;align-items: stretch;justify-content: center;background-color: white;position: relative;}#sk-container-id-8 div.sk-item::before, #sk-container-id-8 div.sk-parallel-item::before {content: \"\";position: absolute;border-left: 1px solid gray;box-sizing: border-box;top: 0;bottom: 0;left: 50%;z-index: -1;}#sk-container-id-8 div.sk-parallel-item {display: flex;flex-direction: column;z-index: 1;position: relative;background-color: white;}#sk-container-id-8 div.sk-parallel-item:first-child::after {align-self: flex-end;width: 50%;}#sk-container-id-8 div.sk-parallel-item:last-child::after {align-self: flex-start;width: 50%;}#sk-container-id-8 div.sk-parallel-item:only-child::after {width: 0;}#sk-container-id-8 div.sk-dashed-wrapped {border: 1px dashed gray;margin: 0 0.4em 0.5em 0.4em;box-sizing: border-box;padding-bottom: 0.4em;background-color: white;}#sk-container-id-8 div.sk-label label {font-family: monospace;font-weight: bold;display: inline-block;line-height: 1.2em;}#sk-container-id-8 div.sk-label-container {text-align: center;}#sk-container-id-8 div.sk-container {/* jupyter's `normalize.less` sets `[hidden] { display: none; }` but bootstrap.min.css set `[hidden] { display: none !important; }` so we also need the `!important` here to be able to override the default hidden behavior on the sphinx rendered scikit-learn.org. See: https://github.com/scikit-learn/scikit-learn/issues/21755 */display: inline-block !important;position: relative;}#sk-container-id-8 div.sk-text-repr-fallback {display: none;}</style><div id=\"sk-container-id-8\" class=\"sk-top-container\"><div class=\"sk-text-repr-fallback\"><pre>LGBMClassifier(learning_rate=0.05, max_bin=200, max_depth=7,\n",
       "               metric=[&#x27;auc&#x27;, &#x27;binary_logloss&#x27;], num_leaves=150,\n",
       "               random_state=42)</pre><b>In a Jupyter environment, please rerun this cell to show the HTML representation or trust the notebook. <br />On GitHub, the HTML representation is unable to render, please try loading this page with nbviewer.org.</b></div><div class=\"sk-container\" hidden><div class=\"sk-item\"><div class=\"sk-estimator sk-toggleable\"><input class=\"sk-toggleable__control sk-hidden--visually\" id=\"sk-estimator-id-8\" type=\"checkbox\" checked><label for=\"sk-estimator-id-8\" class=\"sk-toggleable__label sk-toggleable__label-arrow\">LGBMClassifier</label><div class=\"sk-toggleable__content\"><pre>LGBMClassifier(learning_rate=0.05, max_bin=200, max_depth=7,\n",
       "               metric=[&#x27;auc&#x27;, &#x27;binary_logloss&#x27;], num_leaves=150,\n",
       "               random_state=42)</pre></div></div></div></div></div>"
      ],
      "text/plain": [
       "LGBMClassifier(learning_rate=0.05, max_bin=200, max_depth=7,\n",
       "               metric=['auc', 'binary_logloss'], num_leaves=150,\n",
       "               random_state=42)"
      ]
     },
     "execution_count": 191,
     "metadata": {},
     "output_type": "execute_result"
    }
   ],
   "source": [
    "lgb_classifier.fit(X_train, y_train)"
   ]
  },
  {
   "cell_type": "code",
   "execution_count": 192,
   "id": "02f53191-8f61-4e9f-a61e-bd4bc485a077",
   "metadata": {
    "tags": []
   },
   "outputs": [
    {
     "data": {
      "text/plain": [
       "array([167, 216, 116,  72,  57,  94,  70,  65, 115,  51,  71, 158,  55,\n",
       "        71, 188,  67,  70,  91,  60,  66,  72,  47,  44,  75,  39,  46,\n",
       "        57,  61,  41,  87,  47,  43,  40,  50,  70,  32,  14,  21,  17,\n",
       "        40, 112,  40,  55,  47,  86,  48, 111,  66,  53,   0,   0,  73,\n",
       "        62,  89,  91,  95, 117, 126,  69, 120,  56,  80,  61,  73, 121,\n",
       "       205,  56,  40,  43,  79,  51,  59,  21,  35,  62,  53,  69,  96,\n",
       "       122, 156, 249,  26,  23, 150,  59,  52,  70,  43,  53,  43,  93,\n",
       "       170, 153,  69,  90, 197,  77,  74, 120,  48,  75, 243,  47,  67,\n",
       "       127,  37,  81, 110,   4,  13,   4,  32,  24,   6,   5,  18,   6,\n",
       "        13,  22,  14, 352,  40,  37,  35,  24, 205], dtype=int32)"
      ]
     },
     "execution_count": 192,
     "metadata": {},
     "output_type": "execute_result"
    }
   ],
   "source": [
    "lgb_classifier.feature_importances_"
   ]
  },
  {
   "cell_type": "code",
   "execution_count": 193,
   "id": "c2b19345-4817-413e-af49-1789fe8b014b",
   "metadata": {
    "tags": []
   },
   "outputs": [],
   "source": [
    "imp_df = pd.DataFrame({\n",
    "    \"Varname\": X_train.columns,\n",
    "    \"Imp\": lgb_classifier.feature_importances_\n",
    "})"
   ]
  },
  {
   "cell_type": "code",
   "execution_count": 194,
   "id": "c7259b55-1159-4b28-958c-c80c119bf28f",
   "metadata": {
    "tags": []
   },
   "outputs": [
    {
     "data": {
      "text/html": [
       "<div>\n",
       "<style scoped>\n",
       "    .dataframe tbody tr th:only-of-type {\n",
       "        vertical-align: middle;\n",
       "    }\n",
       "\n",
       "    .dataframe tbody tr th {\n",
       "        vertical-align: top;\n",
       "    }\n",
       "\n",
       "    .dataframe thead th {\n",
       "        text-align: right;\n",
       "    }\n",
       "</style>\n",
       "<table border=\"1\" class=\"dataframe\">\n",
       "  <thead>\n",
       "    <tr style=\"text-align: right;\">\n",
       "      <th></th>\n",
       "      <th>Varname</th>\n",
       "      <th>Imp</th>\n",
       "    </tr>\n",
       "  </thead>\n",
       "  <tbody>\n",
       "    <tr>\n",
       "      <th>120</th>\n",
       "      <td>aon</td>\n",
       "      <td>352</td>\n",
       "    </tr>\n",
       "    <tr>\n",
       "      <th>80</th>\n",
       "      <td>total_ic_mou_8</td>\n",
       "      <td>249</td>\n",
       "    </tr>\n",
       "    <tr>\n",
       "      <th>101</th>\n",
       "      <td>last_day_rch_amt_8</td>\n",
       "      <td>243</td>\n",
       "    </tr>\n",
       "    <tr>\n",
       "      <th>1</th>\n",
       "      <td>arpu_7</td>\n",
       "      <td>216</td>\n",
       "    </tr>\n",
       "    <tr>\n",
       "      <th>125</th>\n",
       "      <td>id</td>\n",
       "      <td>205</td>\n",
       "    </tr>\n",
       "    <tr>\n",
       "      <th>...</th>\n",
       "      <td>...</td>\n",
       "      <td>...</td>\n",
       "    </tr>\n",
       "    <tr>\n",
       "      <th>114</th>\n",
       "      <td>monthly_3g_6</td>\n",
       "      <td>5</td>\n",
       "    </tr>\n",
       "    <tr>\n",
       "      <th>110</th>\n",
       "      <td>monthly_2g_8</td>\n",
       "      <td>4</td>\n",
       "    </tr>\n",
       "    <tr>\n",
       "      <th>108</th>\n",
       "      <td>monthly_2g_6</td>\n",
       "      <td>4</td>\n",
       "    </tr>\n",
       "    <tr>\n",
       "      <th>50</th>\n",
       "      <td>og_others_8</td>\n",
       "      <td>0</td>\n",
       "    </tr>\n",
       "    <tr>\n",
       "      <th>49</th>\n",
       "      <td>og_others_7</td>\n",
       "      <td>0</td>\n",
       "    </tr>\n",
       "  </tbody>\n",
       "</table>\n",
       "<p>126 rows × 2 columns</p>\n",
       "</div>"
      ],
      "text/plain": [
       "                Varname  Imp\n",
       "120                 aon  352\n",
       "80       total_ic_mou_8  249\n",
       "101  last_day_rch_amt_8  243\n",
       "1                arpu_7  216\n",
       "125                  id  205\n",
       "..                  ...  ...\n",
       "114        monthly_3g_6    5\n",
       "110        monthly_2g_8    4\n",
       "108        monthly_2g_6    4\n",
       "50          og_others_8    0\n",
       "49          og_others_7    0\n",
       "\n",
       "[126 rows x 2 columns]"
      ]
     },
     "execution_count": 194,
     "metadata": {},
     "output_type": "execute_result"
    }
   ],
   "source": [
    "imp_df.sort_values(by=\"Imp\", ascending=False)"
   ]
  },
  {
   "cell_type": "markdown",
   "id": "b48f6e37-e8c4-4975-bcb6-15fd2df409d6",
   "metadata": {},
   "source": [
    "**Let us look at the predictions and accuracy**"
   ]
  },
  {
   "cell_type": "code",
   "execution_count": 301,
   "id": "c1d02e40-087d-410d-bdea-571474ee135c",
   "metadata": {
    "tags": []
   },
   "outputs": [],
   "source": [
    "from sklearn.metrics import confusion_matrix, accuracy_score\n",
    "\n",
    "def evaluate_model(classifier, X, y):\n",
    "    print(\"Train Accuracy :\", accuracy_score(y, classifier.predict(X)))\n",
    "    print(\"Train Confusion Matrix:\")\n",
    "    print(confusion_matrix(y, classifier.predict(X)))"
   ]
  },
  {
   "cell_type": "code",
   "execution_count": null,
   "id": "69c956a1-90a8-4c25-ae70-38fbad8f0538",
   "metadata": {},
   "outputs": [],
   "source": []
  },
  {
   "cell_type": "code",
   "execution_count": 196,
   "id": "cd2651ce-6f6d-4e46-a218-8007f52a5dd1",
   "metadata": {
    "tags": []
   },
   "outputs": [
    {
     "name": "stdout",
     "output_type": "stream",
     "text": [
      "Train Accuracy : 0.956392078429972\n",
      "Train Confusion Matrix:\n",
      "[[49354   935]\n",
      " [ 1507  4203]]\n"
     ]
    }
   ],
   "source": [
    "evaluate_model(lgb_classifier, X_train, y_train)"
   ]
  },
  {
   "cell_type": "code",
   "execution_count": null,
   "id": "d9467f0b-6c77-4ddb-a971-0ed7d0a912e2",
   "metadata": {},
   "outputs": [],
   "source": []
  },
  {
   "cell_type": "markdown",
   "id": "4fba03b7-3612-4871-99c2-5114f941dea7",
   "metadata": {},
   "source": [
    "**Now let us prepare the test data and evaluate the model on that**"
   ]
  },
  {
   "cell_type": "code",
   "execution_count": null,
   "id": "51adcd4e-2449-4e82-83b1-f71330ece71d",
   "metadata": {},
   "outputs": [],
   "source": []
  },
  {
   "cell_type": "code",
   "execution_count": 302,
   "id": "e69f5609-9a4f-4818-aada-3528a1fc495e",
   "metadata": {
    "tags": []
   },
   "outputs": [],
   "source": [
    "df_test['churn_probability'] = df_test.churn_probability.apply(np.int64)"
   ]
  },
  {
   "cell_type": "code",
   "execution_count": 303,
   "id": "758129d8-a456-432f-8803-a813a58d8a8f",
   "metadata": {
    "tags": []
   },
   "outputs": [],
   "source": [
    "df_test[cols_to_scale] = scaler.transform(df_test[cols_to_scale])"
   ]
  },
  {
   "cell_type": "code",
   "execution_count": 304,
   "id": "90ed7e5a-1aee-4a69-aab8-b1a9a235582f",
   "metadata": {
    "tags": []
   },
   "outputs": [
    {
     "data": {
      "text/html": [
       "<div>\n",
       "<style scoped>\n",
       "    .dataframe tbody tr th:only-of-type {\n",
       "        vertical-align: middle;\n",
       "    }\n",
       "\n",
       "    .dataframe tbody tr th {\n",
       "        vertical-align: top;\n",
       "    }\n",
       "\n",
       "    .dataframe thead th {\n",
       "        text-align: right;\n",
       "    }\n",
       "</style>\n",
       "<table border=\"1\" class=\"dataframe\">\n",
       "  <thead>\n",
       "    <tr style=\"text-align: right;\">\n",
       "      <th></th>\n",
       "      <th>arpu_6</th>\n",
       "      <th>arpu_7</th>\n",
       "      <th>arpu_8</th>\n",
       "      <th>onnet_mou_6</th>\n",
       "      <th>onnet_mou_7</th>\n",
       "      <th>onnet_mou_8</th>\n",
       "      <th>offnet_mou_6</th>\n",
       "      <th>offnet_mou_7</th>\n",
       "      <th>offnet_mou_8</th>\n",
       "      <th>roam_ic_mou_6</th>\n",
       "      <th>...</th>\n",
       "      <th>sachet_3g_6</th>\n",
       "      <th>sachet_3g_7</th>\n",
       "      <th>sachet_3g_8</th>\n",
       "      <th>aon</th>\n",
       "      <th>aug_vbc_3g</th>\n",
       "      <th>jul_vbc_3g</th>\n",
       "      <th>jun_vbc_3g</th>\n",
       "      <th>months_since_last_charge</th>\n",
       "      <th>id</th>\n",
       "      <th>churn_probability</th>\n",
       "    </tr>\n",
       "  </thead>\n",
       "  <tbody>\n",
       "    <tr>\n",
       "      <th>count</th>\n",
       "      <td>14000.000000</td>\n",
       "      <td>14000.000000</td>\n",
       "      <td>14000.000000</td>\n",
       "      <td>14000.000000</td>\n",
       "      <td>14000.000000</td>\n",
       "      <td>14000.000000</td>\n",
       "      <td>14000.000000</td>\n",
       "      <td>14000.000000</td>\n",
       "      <td>14000.000000</td>\n",
       "      <td>14000.000000</td>\n",
       "      <td>...</td>\n",
       "      <td>14000.000000</td>\n",
       "      <td>14000.000000</td>\n",
       "      <td>14000.000000</td>\n",
       "      <td>14000.000000</td>\n",
       "      <td>14000.000000</td>\n",
       "      <td>14000.000000</td>\n",
       "      <td>14000.000000</td>\n",
       "      <td>14000.000000</td>\n",
       "      <td>14000.000000</td>\n",
       "      <td>14000.000000</td>\n",
       "    </tr>\n",
       "    <tr>\n",
       "      <th>mean</th>\n",
       "      <td>0.488699</td>\n",
       "      <td>0.487598</td>\n",
       "      <td>0.489729</td>\n",
       "      <td>0.149566</td>\n",
       "      <td>0.142969</td>\n",
       "      <td>0.141272</td>\n",
       "      <td>0.206772</td>\n",
       "      <td>0.200144</td>\n",
       "      <td>0.201592</td>\n",
       "      <td>0.048332</td>\n",
       "      <td>...</td>\n",
       "      <td>0.035828</td>\n",
       "      <td>0.034732</td>\n",
       "      <td>0.033457</td>\n",
       "      <td>0.350978</td>\n",
       "      <td>0.077803</td>\n",
       "      <td>0.075744</td>\n",
       "      <td>0.070077</td>\n",
       "      <td>0.014405</td>\n",
       "      <td>35122.677143</td>\n",
       "      <td>0.101571</td>\n",
       "    </tr>\n",
       "    <tr>\n",
       "      <th>std</th>\n",
       "      <td>0.177829</td>\n",
       "      <td>0.174028</td>\n",
       "      <td>0.173539</td>\n",
       "      <td>0.247414</td>\n",
       "      <td>0.243274</td>\n",
       "      <td>0.241877</td>\n",
       "      <td>0.251384</td>\n",
       "      <td>0.252164</td>\n",
       "      <td>0.254652</td>\n",
       "      <td>0.171669</td>\n",
       "      <td>...</td>\n",
       "      <td>0.174605</td>\n",
       "      <td>0.167770</td>\n",
       "      <td>0.161964</td>\n",
       "      <td>0.314339</td>\n",
       "      <td>0.232436</td>\n",
       "      <td>0.230928</td>\n",
       "      <td>0.220516</td>\n",
       "      <td>0.081402</td>\n",
       "      <td>20253.438450</td>\n",
       "      <td>0.302095</td>\n",
       "    </tr>\n",
       "    <tr>\n",
       "      <th>min</th>\n",
       "      <td>0.000000</td>\n",
       "      <td>0.000000</td>\n",
       "      <td>0.000000</td>\n",
       "      <td>0.000000</td>\n",
       "      <td>0.000000</td>\n",
       "      <td>0.000000</td>\n",
       "      <td>0.000000</td>\n",
       "      <td>0.000000</td>\n",
       "      <td>0.000000</td>\n",
       "      <td>0.000000</td>\n",
       "      <td>...</td>\n",
       "      <td>0.000000</td>\n",
       "      <td>0.000000</td>\n",
       "      <td>0.000000</td>\n",
       "      <td>0.000000</td>\n",
       "      <td>0.000000</td>\n",
       "      <td>0.000000</td>\n",
       "      <td>0.000000</td>\n",
       "      <td>0.000000</td>\n",
       "      <td>4.000000</td>\n",
       "      <td>0.000000</td>\n",
       "    </tr>\n",
       "    <tr>\n",
       "      <th>25%</th>\n",
       "      <td>0.358835</td>\n",
       "      <td>0.359599</td>\n",
       "      <td>0.361025</td>\n",
       "      <td>0.007809</td>\n",
       "      <td>0.006390</td>\n",
       "      <td>0.005581</td>\n",
       "      <td>0.034880</td>\n",
       "      <td>0.031077</td>\n",
       "      <td>0.028273</td>\n",
       "      <td>0.000000</td>\n",
       "      <td>...</td>\n",
       "      <td>0.000000</td>\n",
       "      <td>0.000000</td>\n",
       "      <td>0.000000</td>\n",
       "      <td>0.097437</td>\n",
       "      <td>0.000000</td>\n",
       "      <td>0.000000</td>\n",
       "      <td>0.000000</td>\n",
       "      <td>0.000000</td>\n",
       "      <td>17553.750000</td>\n",
       "      <td>0.000000</td>\n",
       "    </tr>\n",
       "    <tr>\n",
       "      <th>50%</th>\n",
       "      <td>0.436634</td>\n",
       "      <td>0.436378</td>\n",
       "      <td>0.439799</td>\n",
       "      <td>0.043085</td>\n",
       "      <td>0.039088</td>\n",
       "      <td>0.038095</td>\n",
       "      <td>0.111311</td>\n",
       "      <td>0.100881</td>\n",
       "      <td>0.100249</td>\n",
       "      <td>0.000000</td>\n",
       "      <td>...</td>\n",
       "      <td>0.000000</td>\n",
       "      <td>0.000000</td>\n",
       "      <td>0.000000</td>\n",
       "      <td>0.233238</td>\n",
       "      <td>0.000000</td>\n",
       "      <td>0.000000</td>\n",
       "      <td>0.000000</td>\n",
       "      <td>0.000000</td>\n",
       "      <td>35120.000000</td>\n",
       "      <td>0.000000</td>\n",
       "    </tr>\n",
       "    <tr>\n",
       "      <th>75%</th>\n",
       "      <td>0.567125</td>\n",
       "      <td>0.561796</td>\n",
       "      <td>0.565245</td>\n",
       "      <td>0.158376</td>\n",
       "      <td>0.146202</td>\n",
       "      <td>0.141832</td>\n",
       "      <td>0.273508</td>\n",
       "      <td>0.260952</td>\n",
       "      <td>0.266304</td>\n",
       "      <td>0.000000</td>\n",
       "      <td>...</td>\n",
       "      <td>0.000000</td>\n",
       "      <td>0.000000</td>\n",
       "      <td>0.000000</td>\n",
       "      <td>0.563913</td>\n",
       "      <td>0.000000</td>\n",
       "      <td>0.000000</td>\n",
       "      <td>0.000000</td>\n",
       "      <td>0.000000</td>\n",
       "      <td>52639.500000</td>\n",
       "      <td>0.000000</td>\n",
       "    </tr>\n",
       "    <tr>\n",
       "      <th>max</th>\n",
       "      <td>1.000000</td>\n",
       "      <td>1.000000</td>\n",
       "      <td>1.000000</td>\n",
       "      <td>1.000000</td>\n",
       "      <td>1.000000</td>\n",
       "      <td>1.000000</td>\n",
       "      <td>1.000000</td>\n",
       "      <td>1.000000</td>\n",
       "      <td>1.000000</td>\n",
       "      <td>1.000000</td>\n",
       "      <td>...</td>\n",
       "      <td>1.000000</td>\n",
       "      <td>1.000000</td>\n",
       "      <td>1.000000</td>\n",
       "      <td>1.000000</td>\n",
       "      <td>1.000000</td>\n",
       "      <td>1.000000</td>\n",
       "      <td>1.000000</td>\n",
       "      <td>1.000000</td>\n",
       "      <td>69994.000000</td>\n",
       "      <td>1.000000</td>\n",
       "    </tr>\n",
       "  </tbody>\n",
       "</table>\n",
       "<p>8 rows × 127 columns</p>\n",
       "</div>"
      ],
      "text/plain": [
       "             arpu_6        arpu_7        arpu_8   onnet_mou_6   onnet_mou_7  \\\n",
       "count  14000.000000  14000.000000  14000.000000  14000.000000  14000.000000   \n",
       "mean       0.488699      0.487598      0.489729      0.149566      0.142969   \n",
       "std        0.177829      0.174028      0.173539      0.247414      0.243274   \n",
       "min        0.000000      0.000000      0.000000      0.000000      0.000000   \n",
       "25%        0.358835      0.359599      0.361025      0.007809      0.006390   \n",
       "50%        0.436634      0.436378      0.439799      0.043085      0.039088   \n",
       "75%        0.567125      0.561796      0.565245      0.158376      0.146202   \n",
       "max        1.000000      1.000000      1.000000      1.000000      1.000000   \n",
       "\n",
       "        onnet_mou_8  offnet_mou_6  offnet_mou_7  offnet_mou_8  roam_ic_mou_6  \\\n",
       "count  14000.000000  14000.000000  14000.000000  14000.000000   14000.000000   \n",
       "mean       0.141272      0.206772      0.200144      0.201592       0.048332   \n",
       "std        0.241877      0.251384      0.252164      0.254652       0.171669   \n",
       "min        0.000000      0.000000      0.000000      0.000000       0.000000   \n",
       "25%        0.005581      0.034880      0.031077      0.028273       0.000000   \n",
       "50%        0.038095      0.111311      0.100881      0.100249       0.000000   \n",
       "75%        0.141832      0.273508      0.260952      0.266304       0.000000   \n",
       "max        1.000000      1.000000      1.000000      1.000000       1.000000   \n",
       "\n",
       "       ...   sachet_3g_6   sachet_3g_7   sachet_3g_8           aon  \\\n",
       "count  ...  14000.000000  14000.000000  14000.000000  14000.000000   \n",
       "mean   ...      0.035828      0.034732      0.033457      0.350978   \n",
       "std    ...      0.174605      0.167770      0.161964      0.314339   \n",
       "min    ...      0.000000      0.000000      0.000000      0.000000   \n",
       "25%    ...      0.000000      0.000000      0.000000      0.097437   \n",
       "50%    ...      0.000000      0.000000      0.000000      0.233238   \n",
       "75%    ...      0.000000      0.000000      0.000000      0.563913   \n",
       "max    ...      1.000000      1.000000      1.000000      1.000000   \n",
       "\n",
       "         aug_vbc_3g    jul_vbc_3g    jun_vbc_3g  months_since_last_charge  \\\n",
       "count  14000.000000  14000.000000  14000.000000              14000.000000   \n",
       "mean       0.077803      0.075744      0.070077                  0.014405   \n",
       "std        0.232436      0.230928      0.220516                  0.081402   \n",
       "min        0.000000      0.000000      0.000000                  0.000000   \n",
       "25%        0.000000      0.000000      0.000000                  0.000000   \n",
       "50%        0.000000      0.000000      0.000000                  0.000000   \n",
       "75%        0.000000      0.000000      0.000000                  0.000000   \n",
       "max        1.000000      1.000000      1.000000                  1.000000   \n",
       "\n",
       "                 id  churn_probability  \n",
       "count  14000.000000       14000.000000  \n",
       "mean   35122.677143           0.101571  \n",
       "std    20253.438450           0.302095  \n",
       "min        4.000000           0.000000  \n",
       "25%    17553.750000           0.000000  \n",
       "50%    35120.000000           0.000000  \n",
       "75%    52639.500000           0.000000  \n",
       "max    69994.000000           1.000000  \n",
       "\n",
       "[8 rows x 127 columns]"
      ]
     },
     "execution_count": 304,
     "metadata": {},
     "output_type": "execute_result"
    }
   ],
   "source": [
    "df_test.describe()"
   ]
  },
  {
   "cell_type": "code",
   "execution_count": null,
   "id": "d59e2e7c-a835-45a9-aad4-334487882a48",
   "metadata": {},
   "outputs": [],
   "source": []
  },
  {
   "cell_type": "code",
   "execution_count": 305,
   "id": "8cb230c7-19d3-46fb-89e4-189e3215f200",
   "metadata": {
    "tags": []
   },
   "outputs": [],
   "source": [
    "y_test = df_test.pop('churn_probability')\n",
    "X_test = df_test"
   ]
  },
  {
   "cell_type": "code",
   "execution_count": null,
   "id": "325ba792-64f6-4213-9b43-2e9da9ee9d19",
   "metadata": {},
   "outputs": [],
   "source": []
  },
  {
   "cell_type": "code",
   "execution_count": 201,
   "id": "1986ae40-c000-405b-bf59-b2272f21d7dd",
   "metadata": {
    "tags": []
   },
   "outputs": [
    {
     "name": "stdout",
     "output_type": "stream",
     "text": [
      "Train Accuracy : 0.9432857142857143\n",
      "Train Confusion Matrix:\n",
      "[[12262   316]\n",
      " [  478   944]]\n"
     ]
    }
   ],
   "source": [
    "evaluate_model(lgb_classifier, X_test, y_test)"
   ]
  },
  {
   "cell_type": "code",
   "execution_count": null,
   "id": "87ab50d5-2e26-40ab-87d8-58384ce2d8c5",
   "metadata": {},
   "outputs": [],
   "source": []
  },
  {
   "cell_type": "markdown",
   "id": "1696eb15-9c6a-4ead-bfab-4f3ef36976d2",
   "metadata": {
    "jp-MarkdownHeadingCollapsed": true,
    "tags": []
   },
   "source": [
    "### 4.3 Hyperparameter tuning using gridsearch CV\n",
    "\n",
    "\n",
    "Let us use gridsearch to find the proper hyperparameters\n"
   ]
  },
  {
   "cell_type": "code",
   "execution_count": null,
   "id": "6af96406-30a3-4345-9dad-09a486fdb1b3",
   "metadata": {},
   "outputs": [],
   "source": []
  },
  {
   "cell_type": "code",
   "execution_count": 370,
   "id": "4e939416-ce55-447f-b20f-91f019d7b796",
   "metadata": {},
   "outputs": [],
   "source": [
    "hyperparam_grid = {\n",
    "    'num_leaves': [5, 20, 49],\n",
    "    'learning_rate': [0.05, 0.1, 0.2],\n",
    "    'n_estimators': [25, 50, 100],\n",
    "    'max_depth': [ 5, 7 ],\n",
    "    'max_bin': [ 150, 200, 400 ]\n",
    "}"
   ]
  },
  {
   "cell_type": "code",
   "execution_count": 197,
   "id": "c54b42a0-b8dd-4075-a524-10908b02d9ad",
   "metadata": {},
   "outputs": [],
   "source": [
    "param = {\n",
    "    'metric': ['auc', 'binary_logloss'],\n",
    "    'boosting_type': 'gbdt'\n",
    "}"
   ]
  },
  {
   "cell_type": "code",
   "execution_count": 198,
   "id": "5811592e-92ec-4360-b878-d7d0d1190a9c",
   "metadata": {},
   "outputs": [],
   "source": [
    "estimator = gbm.LGBMClassifier(objective='binary',random_state=42, **param)"
   ]
  },
  {
   "cell_type": "code",
   "execution_count": null,
   "id": "6f1b726c-4da6-4c0b-a9dd-d74a89b1cdd4",
   "metadata": {
    "tags": []
   },
   "outputs": [],
   "source": [
    "# Initialize GridSearchCV for hyperparameters\n",
    "grid_search_cv = GridSearchCV(estimator=estimator, param_grid=hyperparam_grid,\n",
    "                           scoring='accuracy', cv=5)\n",
    " \n",
    "# Fit the model to the training data to search for the best hyperparameters\n",
    "grid_search_cv.fit(X_train, y_train)\n",
    " \n",
    "# Get the best hyperparameters and their values\n",
    "best_params = grid_search_cv.best_params_\n",
    "best_hyperparameters = list(grid_search_cv.keys())\n",
    "best_values = list(grid_search_cv.values())"
   ]
  },
  {
   "cell_type": "code",
   "execution_count": null,
   "id": "31141e26-4341-4d24-80bf-10062f33a2c0",
   "metadata": {},
   "outputs": [],
   "source": []
  },
  {
   "cell_type": "code",
   "execution_count": 200,
   "id": "b01c3d35-84b9-4ef0-ac2b-2abb204f2042",
   "metadata": {
    "tags": []
   },
   "outputs": [
    {
     "data": {
      "text/plain": [
       "{'learning_rate': 0.1,\n",
       " 'max_bin': 200,\n",
       " 'max_depth': 7,\n",
       " 'n_estimators': 50,\n",
       " 'num_leaves': 20}"
      ]
     },
     "execution_count": 200,
     "metadata": {},
     "output_type": "execute_result"
    }
   ],
   "source": [
    "best_params"
   ]
  },
  {
   "cell_type": "code",
   "execution_count": 201,
   "id": "89093013-5e50-4fa6-b866-25cf28e631bd",
   "metadata": {
    "tags": []
   },
   "outputs": [],
   "source": [
    "# Now let us build a model with these parameters\n",
    "\n",
    "new_params = {\n",
    "    'learning_rate': 0.1,\n",
    "    'max_bin': 200,\n",
    "    'max_depth': 7,\n",
    "    'n_estimators': 50,\n",
    "    'num_leaves': 20,\n",
    "    'metric': ['auc', 'binary_logloss'],\n",
    "    'boosting_type': 'gbdt'\n",
    "}"
   ]
  },
  {
   "cell_type": "code",
   "execution_count": 204,
   "id": "adf77ef8-0efd-4d73-bb27-e7abe2edb20d",
   "metadata": {
    "tags": []
   },
   "outputs": [],
   "source": [
    "lgb_model_final = gbm.LGBMClassifier(objective='binary',random_state=42, n_jobs=-1, **new_params)"
   ]
  },
  {
   "cell_type": "code",
   "execution_count": 205,
   "id": "0862ae58-6b6c-4e24-90cc-3059b8d8290f",
   "metadata": {
    "tags": []
   },
   "outputs": [
    {
     "name": "stdout",
     "output_type": "stream",
     "text": [
      "[LightGBM] [Info] Number of positive: 5710, number of negative: 50289\n",
      "[LightGBM] [Info] Auto-choosing col-wise multi-threading, the overhead of testing was 0.015541 seconds.\n",
      "You can set `force_col_wise=true` to remove the overhead.\n",
      "[LightGBM] [Info] Total Bins 20739\n",
      "[LightGBM] [Info] Number of data points in the train set: 55999, number of used features: 126\n",
      "[LightGBM] [Info] [binary:BoostFromScore]: pavg=0.101966 -> initscore=-2.175567\n",
      "[LightGBM] [Info] Start training from score -2.175567\n"
     ]
    },
    {
     "data": {
      "text/html": [
       "<style>#sk-container-id-3 {color: black;}#sk-container-id-3 pre{padding: 0;}#sk-container-id-3 div.sk-toggleable {background-color: white;}#sk-container-id-3 label.sk-toggleable__label {cursor: pointer;display: block;width: 100%;margin-bottom: 0;padding: 0.3em;box-sizing: border-box;text-align: center;}#sk-container-id-3 label.sk-toggleable__label-arrow:before {content: \"▸\";float: left;margin-right: 0.25em;color: #696969;}#sk-container-id-3 label.sk-toggleable__label-arrow:hover:before {color: black;}#sk-container-id-3 div.sk-estimator:hover label.sk-toggleable__label-arrow:before {color: black;}#sk-container-id-3 div.sk-toggleable__content {max-height: 0;max-width: 0;overflow: hidden;text-align: left;background-color: #f0f8ff;}#sk-container-id-3 div.sk-toggleable__content pre {margin: 0.2em;color: black;border-radius: 0.25em;background-color: #f0f8ff;}#sk-container-id-3 input.sk-toggleable__control:checked~div.sk-toggleable__content {max-height: 200px;max-width: 100%;overflow: auto;}#sk-container-id-3 input.sk-toggleable__control:checked~label.sk-toggleable__label-arrow:before {content: \"▾\";}#sk-container-id-3 div.sk-estimator input.sk-toggleable__control:checked~label.sk-toggleable__label {background-color: #d4ebff;}#sk-container-id-3 div.sk-label input.sk-toggleable__control:checked~label.sk-toggleable__label {background-color: #d4ebff;}#sk-container-id-3 input.sk-hidden--visually {border: 0;clip: rect(1px 1px 1px 1px);clip: rect(1px, 1px, 1px, 1px);height: 1px;margin: -1px;overflow: hidden;padding: 0;position: absolute;width: 1px;}#sk-container-id-3 div.sk-estimator {font-family: monospace;background-color: #f0f8ff;border: 1px dotted black;border-radius: 0.25em;box-sizing: border-box;margin-bottom: 0.5em;}#sk-container-id-3 div.sk-estimator:hover {background-color: #d4ebff;}#sk-container-id-3 div.sk-parallel-item::after {content: \"\";width: 100%;border-bottom: 1px solid gray;flex-grow: 1;}#sk-container-id-3 div.sk-label:hover label.sk-toggleable__label {background-color: #d4ebff;}#sk-container-id-3 div.sk-serial::before {content: \"\";position: absolute;border-left: 1px solid gray;box-sizing: border-box;top: 0;bottom: 0;left: 50%;z-index: 0;}#sk-container-id-3 div.sk-serial {display: flex;flex-direction: column;align-items: center;background-color: white;padding-right: 0.2em;padding-left: 0.2em;position: relative;}#sk-container-id-3 div.sk-item {position: relative;z-index: 1;}#sk-container-id-3 div.sk-parallel {display: flex;align-items: stretch;justify-content: center;background-color: white;position: relative;}#sk-container-id-3 div.sk-item::before, #sk-container-id-3 div.sk-parallel-item::before {content: \"\";position: absolute;border-left: 1px solid gray;box-sizing: border-box;top: 0;bottom: 0;left: 50%;z-index: -1;}#sk-container-id-3 div.sk-parallel-item {display: flex;flex-direction: column;z-index: 1;position: relative;background-color: white;}#sk-container-id-3 div.sk-parallel-item:first-child::after {align-self: flex-end;width: 50%;}#sk-container-id-3 div.sk-parallel-item:last-child::after {align-self: flex-start;width: 50%;}#sk-container-id-3 div.sk-parallel-item:only-child::after {width: 0;}#sk-container-id-3 div.sk-dashed-wrapped {border: 1px dashed gray;margin: 0 0.4em 0.5em 0.4em;box-sizing: border-box;padding-bottom: 0.4em;background-color: white;}#sk-container-id-3 div.sk-label label {font-family: monospace;font-weight: bold;display: inline-block;line-height: 1.2em;}#sk-container-id-3 div.sk-label-container {text-align: center;}#sk-container-id-3 div.sk-container {/* jupyter's `normalize.less` sets `[hidden] { display: none; }` but bootstrap.min.css set `[hidden] { display: none !important; }` so we also need the `!important` here to be able to override the default hidden behavior on the sphinx rendered scikit-learn.org. See: https://github.com/scikit-learn/scikit-learn/issues/21755 */display: inline-block !important;position: relative;}#sk-container-id-3 div.sk-text-repr-fallback {display: none;}</style><div id=\"sk-container-id-3\" class=\"sk-top-container\"><div class=\"sk-text-repr-fallback\"><pre>LGBMClassifier(max_bin=200, max_depth=7, metric=[&#x27;auc&#x27;, &#x27;binary_logloss&#x27;],\n",
       "               n_estimators=50, n_jobs=-1, num_leaves=20, objective=&#x27;binary&#x27;,\n",
       "               random_state=42)</pre><b>In a Jupyter environment, please rerun this cell to show the HTML representation or trust the notebook. <br />On GitHub, the HTML representation is unable to render, please try loading this page with nbviewer.org.</b></div><div class=\"sk-container\" hidden><div class=\"sk-item\"><div class=\"sk-estimator sk-toggleable\"><input class=\"sk-toggleable__control sk-hidden--visually\" id=\"sk-estimator-id-3\" type=\"checkbox\" checked><label for=\"sk-estimator-id-3\" class=\"sk-toggleable__label sk-toggleable__label-arrow\">LGBMClassifier</label><div class=\"sk-toggleable__content\"><pre>LGBMClassifier(max_bin=200, max_depth=7, metric=[&#x27;auc&#x27;, &#x27;binary_logloss&#x27;],\n",
       "               n_estimators=50, n_jobs=-1, num_leaves=20, objective=&#x27;binary&#x27;,\n",
       "               random_state=42)</pre></div></div></div></div></div>"
      ],
      "text/plain": [
       "LGBMClassifier(max_bin=200, max_depth=7, metric=['auc', 'binary_logloss'],\n",
       "               n_estimators=50, n_jobs=-1, num_leaves=20, objective='binary',\n",
       "               random_state=42)"
      ]
     },
     "execution_count": 205,
     "metadata": {},
     "output_type": "execute_result"
    }
   ],
   "source": [
    "lgb_model_final.fit(X_train, y_train)"
   ]
  },
  {
   "cell_type": "code",
   "execution_count": 206,
   "id": "45967fa7-0a66-44b0-b839-80824ef4c3d9",
   "metadata": {
    "tags": []
   },
   "outputs": [
    {
     "name": "stdout",
     "output_type": "stream",
     "text": [
      "Train Accuracy : 0.9457133163092198\n",
      "Train Confusion Matrix:\n",
      "[[49188  1101]\n",
      " [ 1939  3771]]\n"
     ]
    }
   ],
   "source": [
    "evaluate_model(lgb_model_final, X_train, y_train)"
   ]
  },
  {
   "cell_type": "code",
   "execution_count": 207,
   "id": "8c459a1f-c17f-4693-aac3-0ac7ec44b5cd",
   "metadata": {
    "tags": []
   },
   "outputs": [
    {
     "name": "stdout",
     "output_type": "stream",
     "text": [
      "Train Accuracy : 0.9441428571428572\n",
      "Train Confusion Matrix:\n",
      "[[12271   307]\n",
      " [  475   947]]\n"
     ]
    }
   ],
   "source": [
    "evaluate_model(lgb_model_final, X_test, y_test)"
   ]
  },
  {
   "cell_type": "code",
   "execution_count": null,
   "id": "91ebb080-5a9d-4eb5-b50a-56dfa0f8f330",
   "metadata": {},
   "outputs": [],
   "source": []
  },
  {
   "cell_type": "markdown",
   "id": "b23394f8-61ff-42ac-8398-b8212cd5241b",
   "metadata": {
    "tags": []
   },
   "source": [
    "### 4.4 Use PCA to find reduce dimensionality"
   ]
  },
  {
   "cell_type": "code",
   "execution_count": 306,
   "id": "d65f3102-af5d-432b-903e-e4462b774c22",
   "metadata": {
    "tags": []
   },
   "outputs": [],
   "source": [
    "pca_again = PCA(0.9,random_state=42)"
   ]
  },
  {
   "cell_type": "code",
   "execution_count": 307,
   "id": "0e0e9765-12b5-45b8-8937-26ea9891e4ef",
   "metadata": {
    "tags": []
   },
   "outputs": [
    {
     "data": {
      "text/html": [
       "<style>#sk-container-id-11 {color: black;background-color: white;}#sk-container-id-11 pre{padding: 0;}#sk-container-id-11 div.sk-toggleable {background-color: white;}#sk-container-id-11 label.sk-toggleable__label {cursor: pointer;display: block;width: 100%;margin-bottom: 0;padding: 0.3em;box-sizing: border-box;text-align: center;}#sk-container-id-11 label.sk-toggleable__label-arrow:before {content: \"▸\";float: left;margin-right: 0.25em;color: #696969;}#sk-container-id-11 label.sk-toggleable__label-arrow:hover:before {color: black;}#sk-container-id-11 div.sk-estimator:hover label.sk-toggleable__label-arrow:before {color: black;}#sk-container-id-11 div.sk-toggleable__content {max-height: 0;max-width: 0;overflow: hidden;text-align: left;background-color: #f0f8ff;}#sk-container-id-11 div.sk-toggleable__content pre {margin: 0.2em;color: black;border-radius: 0.25em;background-color: #f0f8ff;}#sk-container-id-11 input.sk-toggleable__control:checked~div.sk-toggleable__content {max-height: 200px;max-width: 100%;overflow: auto;}#sk-container-id-11 input.sk-toggleable__control:checked~label.sk-toggleable__label-arrow:before {content: \"▾\";}#sk-container-id-11 div.sk-estimator input.sk-toggleable__control:checked~label.sk-toggleable__label {background-color: #d4ebff;}#sk-container-id-11 div.sk-label input.sk-toggleable__control:checked~label.sk-toggleable__label {background-color: #d4ebff;}#sk-container-id-11 input.sk-hidden--visually {border: 0;clip: rect(1px 1px 1px 1px);clip: rect(1px, 1px, 1px, 1px);height: 1px;margin: -1px;overflow: hidden;padding: 0;position: absolute;width: 1px;}#sk-container-id-11 div.sk-estimator {font-family: monospace;background-color: #f0f8ff;border: 1px dotted black;border-radius: 0.25em;box-sizing: border-box;margin-bottom: 0.5em;}#sk-container-id-11 div.sk-estimator:hover {background-color: #d4ebff;}#sk-container-id-11 div.sk-parallel-item::after {content: \"\";width: 100%;border-bottom: 1px solid gray;flex-grow: 1;}#sk-container-id-11 div.sk-label:hover label.sk-toggleable__label {background-color: #d4ebff;}#sk-container-id-11 div.sk-serial::before {content: \"\";position: absolute;border-left: 1px solid gray;box-sizing: border-box;top: 0;bottom: 0;left: 50%;z-index: 0;}#sk-container-id-11 div.sk-serial {display: flex;flex-direction: column;align-items: center;background-color: white;padding-right: 0.2em;padding-left: 0.2em;position: relative;}#sk-container-id-11 div.sk-item {position: relative;z-index: 1;}#sk-container-id-11 div.sk-parallel {display: flex;align-items: stretch;justify-content: center;background-color: white;position: relative;}#sk-container-id-11 div.sk-item::before, #sk-container-id-11 div.sk-parallel-item::before {content: \"\";position: absolute;border-left: 1px solid gray;box-sizing: border-box;top: 0;bottom: 0;left: 50%;z-index: -1;}#sk-container-id-11 div.sk-parallel-item {display: flex;flex-direction: column;z-index: 1;position: relative;background-color: white;}#sk-container-id-11 div.sk-parallel-item:first-child::after {align-self: flex-end;width: 50%;}#sk-container-id-11 div.sk-parallel-item:last-child::after {align-self: flex-start;width: 50%;}#sk-container-id-11 div.sk-parallel-item:only-child::after {width: 0;}#sk-container-id-11 div.sk-dashed-wrapped {border: 1px dashed gray;margin: 0 0.4em 0.5em 0.4em;box-sizing: border-box;padding-bottom: 0.4em;background-color: white;}#sk-container-id-11 div.sk-label label {font-family: monospace;font-weight: bold;display: inline-block;line-height: 1.2em;}#sk-container-id-11 div.sk-label-container {text-align: center;}#sk-container-id-11 div.sk-container {/* jupyter's `normalize.less` sets `[hidden] { display: none; }` but bootstrap.min.css set `[hidden] { display: none !important; }` so we also need the `!important` here to be able to override the default hidden behavior on the sphinx rendered scikit-learn.org. See: https://github.com/scikit-learn/scikit-learn/issues/21755 */display: inline-block !important;position: relative;}#sk-container-id-11 div.sk-text-repr-fallback {display: none;}</style><div id=\"sk-container-id-11\" class=\"sk-top-container\"><div class=\"sk-text-repr-fallback\"><pre>PCA(n_components=0.9, random_state=42)</pre><b>In a Jupyter environment, please rerun this cell to show the HTML representation or trust the notebook. <br />On GitHub, the HTML representation is unable to render, please try loading this page with nbviewer.org.</b></div><div class=\"sk-container\" hidden><div class=\"sk-item\"><div class=\"sk-estimator sk-toggleable\"><input class=\"sk-toggleable__control sk-hidden--visually\" id=\"sk-estimator-id-11\" type=\"checkbox\" checked><label for=\"sk-estimator-id-11\" class=\"sk-toggleable__label sk-toggleable__label-arrow\">PCA</label><div class=\"sk-toggleable__content\"><pre>PCA(n_components=0.9, random_state=42)</pre></div></div></div></div></div>"
      ],
      "text/plain": [
       "PCA(n_components=0.9, random_state=42)"
      ]
     },
     "execution_count": 307,
     "metadata": {},
     "output_type": "execute_result"
    }
   ],
   "source": [
    "pca_again.fit(X_train.drop('id', axis=1))"
   ]
  },
  {
   "cell_type": "code",
   "execution_count": 308,
   "id": "ba9bdfe3-908f-4054-80aa-f9010fab20a3",
   "metadata": {
    "tags": []
   },
   "outputs": [
    {
     "data": {
      "text/plain": [
       "array([[ 0.11911319,  0.12691264,  0.12166773, ...,  0.03851222,\n",
       "         0.03479985, -0.01060134],\n",
       "       [ 0.04731959,  0.05818474,  0.04670758, ..., -0.05977362,\n",
       "        -0.05653767, -0.00158142],\n",
       "       [ 0.05889681,  0.06644969,  0.06937413, ...,  0.26805562,\n",
       "         0.24623519, -0.00547804],\n",
       "       ...,\n",
       "       [ 0.10154074,  0.06798816,  0.11457201, ..., -0.01470603,\n",
       "         0.02857154,  0.00947888],\n",
       "       [ 0.00802709,  0.05579517, -0.02695868, ..., -0.07591957,\n",
       "         0.07228016,  0.008102  ],\n",
       "       [-0.0253552 ,  0.00938289, -0.01353789, ...,  0.00662724,\n",
       "         0.05742288,  0.00595741]])"
      ]
     },
     "execution_count": 308,
     "metadata": {},
     "output_type": "execute_result"
    }
   ],
   "source": [
    "pca_again.components_"
   ]
  },
  {
   "cell_type": "code",
   "execution_count": 309,
   "id": "03e39c99-980d-4bf6-814e-e1d117a6b759",
   "metadata": {
    "tags": []
   },
   "outputs": [],
   "source": [
    "var_cumu = np.cumsum(pca_again.explained_variance_ratio_)"
   ]
  },
  {
   "cell_type": "code",
   "execution_count": 310,
   "id": "23fb1734-c6b7-48ae-a945-e7337a3950e6",
   "metadata": {
    "tags": []
   },
   "outputs": [
    {
     "data": {
      "text/plain": [
       "array([0.2114224 , 0.11413166, 0.0633027 , 0.04088244, 0.03927112,\n",
       "       0.03582078, 0.03380125, 0.02579968, 0.02229082, 0.02032829,\n",
       "       0.01811233, 0.01621343, 0.01555916, 0.01545509, 0.01470107,\n",
       "       0.0143924 , 0.01219457, 0.01089342, 0.01041188, 0.00993523,\n",
       "       0.00947308, 0.00914778, 0.00885887, 0.00861125, 0.00851272,\n",
       "       0.00828716, 0.00762168, 0.00695562, 0.00668169, 0.00661793,\n",
       "       0.00639392, 0.00632215, 0.00595515, 0.00585998, 0.00578412,\n",
       "       0.00542774, 0.00532408, 0.0050859 , 0.00494644, 0.0048683 ,\n",
       "       0.00479095, 0.00471104, 0.00440654, 0.00429186, 0.00379764])"
      ]
     },
     "execution_count": 310,
     "metadata": {},
     "output_type": "execute_result"
    }
   ],
   "source": [
    "pca_again.explained_variance_ratio_"
   ]
  },
  {
   "cell_type": "code",
   "execution_count": 311,
   "id": "17546e00-b859-4d88-8fac-b7f336b49dea",
   "metadata": {
    "tags": []
   },
   "outputs": [],
   "source": [
    "def plot_cum_variance_explained(var_cumu):\n",
    "    fig = plt.figure(figsize=[12,8])\n",
    "    plt.vlines(x=15, ymax=1, ymin=0, colors=\"r\", linestyles=\"--\")\n",
    "    plt.hlines(y=0.95, xmax=30, xmin=0, colors=\"g\", linestyles=\"--\")\n",
    "    plt.plot(var_cumu)\n",
    "    plt.ylabel(\"Cumulative variance explained\")\n",
    "    plt.show()\n"
   ]
  },
  {
   "cell_type": "code",
   "execution_count": 312,
   "id": "e097db1a-4716-471e-8adf-4852eef6ed9c",
   "metadata": {
    "tags": []
   },
   "outputs": [],
   "source": [
    "X_train_pca_transformed = pca_again.transform(X_train.drop('id', axis=1))"
   ]
  },
  {
   "cell_type": "code",
   "execution_count": 313,
   "id": "8e4291bc-35cc-447c-a4b4-1f28e1c61156",
   "metadata": {
    "tags": []
   },
   "outputs": [
    {
     "data": {
      "text/plain": [
       "(28187, 45)"
      ]
     },
     "execution_count": 313,
     "metadata": {},
     "output_type": "execute_result"
    }
   ],
   "source": [
    "X_train_pca_transformed.shape"
   ]
  },
  {
   "cell_type": "code",
   "execution_count": 314,
   "id": "6757f717-227a-4273-9679-fe0feca67ae7",
   "metadata": {
    "tags": []
   },
   "outputs": [],
   "source": [
    "corrmat = np.corrcoef(X_train_pca_transformed.transpose())"
   ]
  },
  {
   "cell_type": "code",
   "execution_count": 315,
   "id": "f0dc05a2-4686-4676-8b5f-9d01ecb53fa5",
   "metadata": {
    "tags": []
   },
   "outputs": [
    {
     "data": {
      "text/plain": [
       "<Axes: >"
      ]
     },
     "execution_count": 315,
     "metadata": {},
     "output_type": "execute_result"
    },
    {
     "data": {
      "image/png": "[encoded data removed]",
      "text/plain": [
       "<Figure size 1500x1500 with 2 Axes>"
      ]
     },
     "metadata": {},
     "output_type": "display_data"
    }
   ],
   "source": [
    "plt.figure(figsize=[15,15])\n",
    "sns.heatmap(corrmat, annot=True)"
   ]
  },
  {
   "cell_type": "markdown",
   "id": "2e49d243-8caa-4ed0-b50b-22086442524a",
   "metadata": {},
   "source": [
    "#### Let us try building a final lgbm classifier with the PCs"
   ]
  },
  {
   "cell_type": "code",
   "execution_count": 316,
   "id": "c9f46f2a-7049-49d6-9d57-93564807f3a1",
   "metadata": {
    "tags": []
   },
   "outputs": [],
   "source": [
    "# Hyper-parameters\n",
    "param = {\n",
    "    'num_leaves': 150,\n",
    "    'max_depth':7,\n",
    "    'learning_rate':.05,\n",
    "    'max_bin':200,\n",
    "    'metric': ['auc', 'binary_logloss'],\n",
    "    'boosting_type': 'gbdt'\n",
    "}"
   ]
  },
  {
   "cell_type": "code",
   "execution_count": 317,
   "id": "3fd145c5-6064-4eac-b18d-c88adf546997",
   "metadata": {
    "tags": []
   },
   "outputs": [],
   "source": [
    "lgb_classifier_after_pca = gbm.LGBMClassifier(random_state=42, **param)"
   ]
  },
  {
   "cell_type": "code",
   "execution_count": 318,
   "id": "044f4b9a-2a02-45f1-b526-9854363702eb",
   "metadata": {
    "tags": []
   },
   "outputs": [
    {
     "name": "stdout",
     "output_type": "stream",
     "text": [
      "[LightGBM] [Info] Number of positive: 3344, number of negative: 24843\n",
      "[LightGBM] [Info] Auto-choosing col-wise multi-threading, the overhead of testing was 0.002275 seconds.\n",
      "You can set `force_col_wise=true` to remove the overhead.\n",
      "[LightGBM] [Info] Total Bins 9000\n",
      "[LightGBM] [Info] Number of data points in the train set: 28187, number of used features: 45\n",
      "[LightGBM] [Info] [binary:BoostFromScore]: pavg=0.118636 -> initscore=-2.005408\n",
      "[LightGBM] [Info] Start training from score -2.005408\n",
      "[LightGBM] [Warning] No further splits with positive gain, best gain: -inf\n",
      "[LightGBM] [Warning] No further splits with positive gain, best gain: -inf\n",
      "[LightGBM] [Warning] No further splits with positive gain, best gain: -inf\n",
      "[LightGBM] [Warning] No further splits with positive gain, best gain: -inf\n",
      "[LightGBM] [Warning] No further splits with positive gain, best gain: -inf\n",
      "[LightGBM] [Warning] No further splits with positive gain, best gain: -inf\n",
      "[LightGBM] [Warning] No further splits with positive gain, best gain: -inf\n",
      "[LightGBM] [Warning] No further splits with positive gain, best gain: -inf\n",
      "[LightGBM] [Warning] No further splits with positive gain, best gain: -inf\n",
      "[LightGBM] [Warning] No further splits with positive gain, best gain: -inf\n",
      "[LightGBM] [Warning] No further splits with positive gain, best gain: -inf\n",
      "[LightGBM] [Warning] No further splits with positive gain, best gain: -inf\n",
      "[LightGBM] [Warning] No further splits with positive gain, best gain: -inf\n",
      "[LightGBM] [Warning] No further splits with positive gain, best gain: -inf\n",
      "[LightGBM] [Warning] No further splits with positive gain, best gain: -inf\n",
      "[LightGBM] [Warning] No further splits with positive gain, best gain: -inf\n",
      "[LightGBM] [Warning] No further splits with positive gain, best gain: -inf\n",
      "[LightGBM] [Warning] No further splits with positive gain, best gain: -inf\n",
      "[LightGBM] [Warning] No further splits with positive gain, best gain: -inf\n",
      "[LightGBM] [Warning] No further splits with positive gain, best gain: -inf\n",
      "[LightGBM] [Warning] No further splits with positive gain, best gain: -inf\n",
      "[LightGBM] [Warning] No further splits with positive gain, best gain: -inf\n",
      "[LightGBM] [Warning] No further splits with positive gain, best gain: -inf\n",
      "[LightGBM] [Warning] No further splits with positive gain, best gain: -inf\n",
      "[LightGBM] [Warning] No further splits with positive gain, best gain: -inf\n",
      "[LightGBM] [Warning] No further splits with positive gain, best gain: -inf\n",
      "[LightGBM] [Warning] No further splits with positive gain, best gain: -inf\n",
      "[LightGBM] [Warning] No further splits with positive gain, best gain: -inf\n",
      "[LightGBM] [Warning] No further splits with positive gain, best gain: -inf\n",
      "[LightGBM] [Warning] No further splits with positive gain, best gain: -inf\n",
      "[LightGBM] [Warning] No further splits with positive gain, best gain: -inf\n",
      "[LightGBM] [Warning] No further splits with positive gain, best gain: -inf\n",
      "[LightGBM] [Warning] No further splits with positive gain, best gain: -inf\n",
      "[LightGBM] [Warning] No further splits with positive gain, best gain: -inf\n",
      "[LightGBM] [Warning] No further splits with positive gain, best gain: -inf\n",
      "[LightGBM] [Warning] No further splits with positive gain, best gain: -inf\n",
      "[LightGBM] [Warning] No further splits with positive gain, best gain: -inf\n",
      "[LightGBM] [Warning] No further splits with positive gain, best gain: -inf\n",
      "[LightGBM] [Warning] No further splits with positive gain, best gain: -inf\n",
      "[LightGBM] [Warning] No further splits with positive gain, best gain: -inf\n",
      "[LightGBM] [Warning] No further splits with positive gain, best gain: -inf\n",
      "[LightGBM] [Warning] No further splits with positive gain, best gain: -inf\n",
      "[LightGBM] [Warning] No further splits with positive gain, best gain: -inf\n",
      "[LightGBM] [Warning] No further splits with positive gain, best gain: -inf\n",
      "[LightGBM] [Warning] No further splits with positive gain, best gain: -inf\n",
      "[LightGBM] [Warning] No further splits with positive gain, best gain: -inf\n",
      "[LightGBM] [Warning] No further splits with positive gain, best gain: -inf\n",
      "[LightGBM] [Warning] No further splits with positive gain, best gain: -inf\n",
      "[LightGBM] [Warning] No further splits with positive gain, best gain: -inf\n",
      "[LightGBM] [Warning] No further splits with positive gain, best gain: -inf\n",
      "[LightGBM] [Warning] No further splits with positive gain, best gain: -inf\n",
      "[LightGBM] [Warning] No further splits with positive gain, best gain: -inf\n",
      "[LightGBM] [Warning] No further splits with positive gain, best gain: -inf\n",
      "[LightGBM] [Warning] No further splits with positive gain, best gain: -inf\n",
      "[LightGBM] [Warning] No further splits with positive gain, best gain: -inf\n",
      "[LightGBM] [Warning] No further splits with positive gain, best gain: -inf\n",
      "[LightGBM] [Warning] No further splits with positive gain, best gain: -inf\n",
      "[LightGBM] [Warning] No further splits with positive gain, best gain: -inf\n",
      "[LightGBM] [Warning] No further splits with positive gain, best gain: -inf\n",
      "[LightGBM] [Warning] No further splits with positive gain, best gain: -inf\n",
      "[LightGBM] [Warning] No further splits with positive gain, best gain: -inf\n",
      "[LightGBM] [Warning] No further splits with positive gain, best gain: -inf\n",
      "[LightGBM] [Warning] No further splits with positive gain, best gain: -inf\n",
      "[LightGBM] [Warning] No further splits with positive gain, best gain: -inf\n",
      "[LightGBM] [Warning] No further splits with positive gain, best gain: -inf\n",
      "[LightGBM] [Warning] No further splits with positive gain, best gain: -inf\n",
      "[LightGBM] [Warning] No further splits with positive gain, best gain: -inf\n",
      "[LightGBM] [Warning] No further splits with positive gain, best gain: -inf\n",
      "[LightGBM] [Warning] No further splits with positive gain, best gain: -inf\n",
      "[LightGBM] [Warning] No further splits with positive gain, best gain: -inf\n",
      "[LightGBM] [Warning] No further splits with positive gain, best gain: -inf\n",
      "[LightGBM] [Warning] No further splits with positive gain, best gain: -inf\n",
      "[LightGBM] [Warning] No further splits with positive gain, best gain: -inf\n",
      "[LightGBM] [Warning] No further splits with positive gain, best gain: -inf\n",
      "[LightGBM] [Warning] No further splits with positive gain, best gain: -inf\n",
      "[LightGBM] [Warning] No further splits with positive gain, best gain: -inf\n",
      "[LightGBM] [Warning] No further splits with positive gain, best gain: -inf\n",
      "[LightGBM] [Warning] No further splits with positive gain, best gain: -inf\n",
      "[LightGBM] [Warning] No further splits with positive gain, best gain: -inf\n",
      "[LightGBM] [Warning] No further splits with positive gain, best gain: -inf\n",
      "[LightGBM] [Warning] No further splits with positive gain, best gain: -inf\n",
      "[LightGBM] [Warning] No further splits with positive gain, best gain: -inf\n",
      "[LightGBM] [Warning] No further splits with positive gain, best gain: -inf\n",
      "[LightGBM] [Warning] No further splits with positive gain, best gain: -inf\n",
      "[LightGBM] [Warning] No further splits with positive gain, best gain: -inf\n",
      "[LightGBM] [Warning] No further splits with positive gain, best gain: -inf\n",
      "[LightGBM] [Warning] No further splits with positive gain, best gain: -inf\n",
      "[LightGBM] [Warning] No further splits with positive gain, best gain: -inf\n",
      "[LightGBM] [Warning] No further splits with positive gain, best gain: -inf\n",
      "[LightGBM] [Warning] No further splits with positive gain, best gain: -inf\n",
      "[LightGBM] [Warning] No further splits with positive gain, best gain: -inf\n",
      "[LightGBM] [Warning] No further splits with positive gain, best gain: -inf\n",
      "[LightGBM] [Warning] No further splits with positive gain, best gain: -inf\n",
      "[LightGBM] [Warning] No further splits with positive gain, best gain: -inf\n",
      "[LightGBM] [Warning] No further splits with positive gain, best gain: -inf\n",
      "[LightGBM] [Warning] No further splits with positive gain, best gain: -inf\n",
      "[LightGBM] [Warning] No further splits with positive gain, best gain: -inf\n",
      "[LightGBM] [Warning] No further splits with positive gain, best gain: -inf\n",
      "[LightGBM] [Warning] No further splits with positive gain, best gain: -inf\n",
      "[LightGBM] [Warning] No further splits with positive gain, best gain: -inf\n"
     ]
    },
    {
     "data": {
      "text/html": [
       "<style>#sk-container-id-12 {color: black;background-color: white;}#sk-container-id-12 pre{padding: 0;}#sk-container-id-12 div.sk-toggleable {background-color: white;}#sk-container-id-12 label.sk-toggleable__label {cursor: pointer;display: block;width: 100%;margin-bottom: 0;padding: 0.3em;box-sizing: border-box;text-align: center;}#sk-container-id-12 label.sk-toggleable__label-arrow:before {content: \"▸\";float: left;margin-right: 0.25em;color: #696969;}#sk-container-id-12 label.sk-toggleable__label-arrow:hover:before {color: black;}#sk-container-id-12 div.sk-estimator:hover label.sk-toggleable__label-arrow:before {color: black;}#sk-container-id-12 div.sk-toggleable__content {max-height: 0;max-width: 0;overflow: hidden;text-align: left;background-color: #f0f8ff;}#sk-container-id-12 div.sk-toggleable__content pre {margin: 0.2em;color: black;border-radius: 0.25em;background-color: #f0f8ff;}#sk-container-id-12 input.sk-toggleable__control:checked~div.sk-toggleable__content {max-height: 200px;max-width: 100%;overflow: auto;}#sk-container-id-12 input.sk-toggleable__control:checked~label.sk-toggleable__label-arrow:before {content: \"▾\";}#sk-container-id-12 div.sk-estimator input.sk-toggleable__control:checked~label.sk-toggleable__label {background-color: #d4ebff;}#sk-container-id-12 div.sk-label input.sk-toggleable__control:checked~label.sk-toggleable__label {background-color: #d4ebff;}#sk-container-id-12 input.sk-hidden--visually {border: 0;clip: rect(1px 1px 1px 1px);clip: rect(1px, 1px, 1px, 1px);height: 1px;margin: -1px;overflow: hidden;padding: 0;position: absolute;width: 1px;}#sk-container-id-12 div.sk-estimator {font-family: monospace;background-color: #f0f8ff;border: 1px dotted black;border-radius: 0.25em;box-sizing: border-box;margin-bottom: 0.5em;}#sk-container-id-12 div.sk-estimator:hover {background-color: #d4ebff;}#sk-container-id-12 div.sk-parallel-item::after {content: \"\";width: 100%;border-bottom: 1px solid gray;flex-grow: 1;}#sk-container-id-12 div.sk-label:hover label.sk-toggleable__label {background-color: #d4ebff;}#sk-container-id-12 div.sk-serial::before {content: \"\";position: absolute;border-left: 1px solid gray;box-sizing: border-box;top: 0;bottom: 0;left: 50%;z-index: 0;}#sk-container-id-12 div.sk-serial {display: flex;flex-direction: column;align-items: center;background-color: white;padding-right: 0.2em;padding-left: 0.2em;position: relative;}#sk-container-id-12 div.sk-item {position: relative;z-index: 1;}#sk-container-id-12 div.sk-parallel {display: flex;align-items: stretch;justify-content: center;background-color: white;position: relative;}#sk-container-id-12 div.sk-item::before, #sk-container-id-12 div.sk-parallel-item::before {content: \"\";position: absolute;border-left: 1px solid gray;box-sizing: border-box;top: 0;bottom: 0;left: 50%;z-index: -1;}#sk-container-id-12 div.sk-parallel-item {display: flex;flex-direction: column;z-index: 1;position: relative;background-color: white;}#sk-container-id-12 div.sk-parallel-item:first-child::after {align-self: flex-end;width: 50%;}#sk-container-id-12 div.sk-parallel-item:last-child::after {align-self: flex-start;width: 50%;}#sk-container-id-12 div.sk-parallel-item:only-child::after {width: 0;}#sk-container-id-12 div.sk-dashed-wrapped {border: 1px dashed gray;margin: 0 0.4em 0.5em 0.4em;box-sizing: border-box;padding-bottom: 0.4em;background-color: white;}#sk-container-id-12 div.sk-label label {font-family: monospace;font-weight: bold;display: inline-block;line-height: 1.2em;}#sk-container-id-12 div.sk-label-container {text-align: center;}#sk-container-id-12 div.sk-container {/* jupyter's `normalize.less` sets `[hidden] { display: none; }` but bootstrap.min.css set `[hidden] { display: none !important; }` so we also need the `!important` here to be able to override the default hidden behavior on the sphinx rendered scikit-learn.org. See: https://github.com/scikit-learn/scikit-learn/issues/21755 */display: inline-block !important;position: relative;}#sk-container-id-12 div.sk-text-repr-fallback {display: none;}</style><div id=\"sk-container-id-12\" class=\"sk-top-container\"><div class=\"sk-text-repr-fallback\"><pre>LGBMClassifier(learning_rate=0.05, max_bin=200, max_depth=7,\n",
       "               metric=[&#x27;auc&#x27;, &#x27;binary_logloss&#x27;], num_leaves=150,\n",
       "               random_state=42)</pre><b>In a Jupyter environment, please rerun this cell to show the HTML representation or trust the notebook. <br />On GitHub, the HTML representation is unable to render, please try loading this page with nbviewer.org.</b></div><div class=\"sk-container\" hidden><div class=\"sk-item\"><div class=\"sk-estimator sk-toggleable\"><input class=\"sk-toggleable__control sk-hidden--visually\" id=\"sk-estimator-id-12\" type=\"checkbox\" checked><label for=\"sk-estimator-id-12\" class=\"sk-toggleable__label sk-toggleable__label-arrow\">LGBMClassifier</label><div class=\"sk-toggleable__content\"><pre>LGBMClassifier(learning_rate=0.05, max_bin=200, max_depth=7,\n",
       "               metric=[&#x27;auc&#x27;, &#x27;binary_logloss&#x27;], num_leaves=150,\n",
       "               random_state=42)</pre></div></div></div></div></div>"
      ],
      "text/plain": [
       "LGBMClassifier(learning_rate=0.05, max_bin=200, max_depth=7,\n",
       "               metric=['auc', 'binary_logloss'], num_leaves=150,\n",
       "               random_state=42)"
      ]
     },
     "execution_count": 318,
     "metadata": {},
     "output_type": "execute_result"
    }
   ],
   "source": [
    "lgb_classifier_after_pca.fit(X_train_pca_transformed, y_train)"
   ]
  },
  {
   "cell_type": "code",
   "execution_count": 319,
   "id": "985ed0ca-edf2-4221-aeda-4949a896a25f",
   "metadata": {
    "tags": []
   },
   "outputs": [
    {
     "name": "stdout",
     "output_type": "stream",
     "text": [
      "Train Accuracy : 0.9633873771596836\n",
      "Train Confusion Matrix:\n",
      "[[24491   352]\n",
      " [  680  2664]]\n"
     ]
    }
   ],
   "source": [
    "evaluate_model(lgb_classifier_after_pca, X_train_pca_transformed, y_train)"
   ]
  },
  {
   "cell_type": "code",
   "execution_count": 320,
   "id": "952b1ea1-7494-4b63-b979-e664f5df5842",
   "metadata": {
    "tags": []
   },
   "outputs": [],
   "source": [
    "X_test_pca_transformed = pca_again.transform(X_test.drop('id', axis=1))"
   ]
  },
  {
   "cell_type": "code",
   "execution_count": 321,
   "id": "650ffc44-908f-455c-9cb5-587eabe89873",
   "metadata": {
    "tags": []
   },
   "outputs": [
    {
     "name": "stdout",
     "output_type": "stream",
     "text": [
      "Train Accuracy : 0.9195\n",
      "Train Confusion Matrix:\n",
      "[[12227   351]\n",
      " [  776   646]]\n"
     ]
    }
   ],
   "source": [
    "evaluate_model(lgb_classifier_after_pca, X_test_pca_transformed, y_test)"
   ]
  },
  {
   "cell_type": "code",
   "execution_count": 322,
   "id": "f5c75789-3d46-48f5-8e0a-7560daa1d590",
   "metadata": {},
   "outputs": [
    {
     "data": {
      "text/plain": [
       "Index(['arpu_6', 'arpu_7', 'arpu_8', 'onnet_mou_6', 'onnet_mou_7',\n",
       "       'onnet_mou_8', 'offnet_mou_6', 'offnet_mou_7', 'offnet_mou_8',\n",
       "       'roam_ic_mou_6',\n",
       "       ...\n",
       "       'monthly_3g_8', 'sachet_3g_6', 'sachet_3g_7', 'sachet_3g_8', 'aon',\n",
       "       'aug_vbc_3g', 'jul_vbc_3g', 'jun_vbc_3g', 'months_since_last_charge',\n",
       "       'id'],\n",
       "      dtype='object', length=126)"
      ]
     },
     "execution_count": 322,
     "metadata": {},
     "output_type": "execute_result"
    }
   ],
   "source": [
    "df_test.columns"
   ]
  },
  {
   "cell_type": "markdown",
   "id": "8a532a5a-ae06-4c06-a8c8-83c3412754fc",
   "metadata": {},
   "source": [
    "#### Let us also try building a logistic regression model with the PCs"
   ]
  },
  {
   "cell_type": "code",
   "execution_count": 323,
   "id": "1f7e69ca-8091-4e26-859e-fbf3931de4e2",
   "metadata": {
    "tags": []
   },
   "outputs": [],
   "source": [
    "learner_pca = LogisticRegression()"
   ]
  },
  {
   "cell_type": "code",
   "execution_count": 324,
   "id": "22a8c7e7-07ed-4e3a-8944-f1eb634e430c",
   "metadata": {
    "tags": []
   },
   "outputs": [],
   "source": [
    "model_pca = learner_pca.fit(X_train_pca_transformed, y_train)"
   ]
  },
  {
   "cell_type": "code",
   "execution_count": 325,
   "id": "0c5bfee1-1e8e-4e9b-8252-041ae20405c4",
   "metadata": {
    "tags": []
   },
   "outputs": [
    {
     "name": "stdout",
     "output_type": "stream",
     "text": [
      "Train Accuracy : 0.913967431794799\n",
      "Train Confusion Matrix:\n",
      "[[24226   617]\n",
      " [ 1808  1536]]\n"
     ]
    }
   ],
   "source": [
    "evaluate_model(model_pca, X_train_pca_transformed,y_train)"
   ]
  },
  {
   "cell_type": "code",
   "execution_count": 222,
   "id": "5dc2b9e6-aa1c-4a75-a56c-4175fd9ed0ec",
   "metadata": {},
   "outputs": [],
   "source": [
    "# Accuracy seems to be lesser than "
   ]
  },
  {
   "cell_type": "code",
   "execution_count": null,
   "id": "f51a0f92-ed7b-4891-8b3b-69f561444452",
   "metadata": {},
   "outputs": [],
   "source": []
  },
  {
   "cell_type": "code",
   "execution_count": null,
   "id": "ffb1e7c3-b9fb-438c-9e65-6670882a0aa3",
   "metadata": {},
   "outputs": [],
   "source": []
  },
  {
   "cell_type": "code",
   "execution_count": null,
   "id": "0b26a48a-94ee-44fa-b232-58d8e5e9b05b",
   "metadata": {},
   "outputs": [],
   "source": []
  },
  {
   "cell_type": "markdown",
   "id": "e59e12c1",
   "metadata": {
    "papermill": {
     "duration": 0.054582,
     "end_time": "2021-08-13T07:16:51.952415",
     "exception": false,
     "start_time": "2021-08-13T07:16:51.897833",
     "status": "completed"
    },
    "tags": []
   },
   "source": [
    "# 5. Feature engineering and selection\n",
    "\n",
    "Let's understand feature importances for raw features as well as components to decide top features for modelling."
   ]
  },
  {
   "cell_type": "code",
   "execution_count": null,
   "id": "8746dc3f",
   "metadata": {
    "papermill": {
     "duration": 8.035233,
     "end_time": "2021-08-13T07:17:00.041999",
     "exception": false,
     "start_time": "2021-08-13T07:16:52.006766",
     "status": "completed"
    },
    "tags": []
   },
   "outputs": [],
   "source": [
    "rf = RandomForestClassifier(n_estimators=100, n_jobs=-1)\n",
    "rf.fit(X_train_filtered2, y_train)"
   ]
  },
  {
   "cell_type": "code",
   "execution_count": null,
   "id": "2a268bb0",
   "metadata": {
    "papermill": {
     "duration": 0.165618,
     "end_time": "2021-08-13T07:17:00.262949",
     "exception": false,
     "start_time": "2021-08-13T07:17:00.097331",
     "status": "completed"
    },
    "tags": []
   },
   "outputs": [],
   "source": [
    "feature_importances = pd.DataFrame({'col':new_vars, 'importance':rf.feature_importances_})"
   ]
  },
  {
   "cell_type": "code",
   "execution_count": null,
   "id": "3dc97e26",
   "metadata": {
    "papermill": {
     "duration": 0.295789,
     "end_time": "2021-08-13T07:17:00.614769",
     "exception": false,
     "start_time": "2021-08-13T07:17:00.318980",
     "status": "completed"
    },
    "tags": []
   },
   "outputs": [],
   "source": [
    "plt.figure(figsize=(15,8))\n",
    "plt.xticks(rotation=45)\n",
    "plt.bar(feature_importances['col'], feature_importances['importance'])"
   ]
  },
  {
   "cell_type": "markdown",
   "id": "914c5bec",
   "metadata": {
    "papermill": {
     "duration": 0.055776,
     "end_time": "2021-08-13T07:17:00.727093",
     "exception": false,
     "start_time": "2021-08-13T07:17:00.671317",
     "status": "completed"
    },
    "tags": []
   },
   "source": [
    "At this step, you can create a bunch of features based on business understanding, such as \n",
    "1. \"average % gain of 3g volume from month 6 to 8\" - (growth or decline of 3g usage month over month?)\n",
    "2. \"ratio of total outgoing amount and age of user on network\" - (average daily usage of a user?)\n",
    "3. \"standard deviation of the total amount paid by user for all services\" - (too much variability in charges?)\n",
    "4. etc..\n",
    "\n",
    "Another way of finding good features would be to project them into a lower dimensional space using PCA. PCA creates components which are a linear combination of the features. This then allows you to select components which explain the highest amount of variance.\n",
    "\n",
    "Lets try to project the data onto 2D space and plot. **Note:** you can try TSNE, which is another dimensionality reduction approach as well. Check https://scikit-learn.org/stable/modules/generated/sklearn.manifold.TSNE.html for moree details."
   ]
  },
  {
   "cell_type": "code",
   "execution_count": null,
   "id": "e2687e7a",
   "metadata": {
    "papermill": {
     "duration": 4.617268,
     "end_time": "2021-08-13T07:17:05.400295",
     "exception": false,
     "start_time": "2021-08-13T07:17:00.783027",
     "status": "completed"
    },
    "tags": []
   },
   "outputs": [],
   "source": [
    "pca = PCA()\n",
    "pca_components = pca.fit_transform(X_train_filtered2)\n",
    "sns.scatterplot(x=pca_components[:,0], y=pca_components[:,1], hue=y_train)"
   ]
  },
  {
   "cell_type": "code",
   "execution_count": null,
   "id": "ad202938",
   "metadata": {
    "papermill": {
     "duration": 2.631052,
     "end_time": "2021-08-13T07:17:08.093002",
     "exception": false,
     "start_time": "2021-08-13T07:17:05.461950",
     "status": "completed"
    },
    "tags": []
   },
   "outputs": [],
   "source": [
    "sns.scatterplot(x=pca_components[:,1], y=pca_components[:,2], hue=y_train)"
   ]
  },
  {
   "cell_type": "markdown",
   "id": "01b9b83e",
   "metadata": {
    "papermill": {
     "duration": 0.063551,
     "end_time": "2021-08-13T07:17:08.224795",
     "exception": false,
     "start_time": "2021-08-13T07:17:08.161244",
     "status": "completed"
    },
    "tags": []
   },
   "source": [
    "Let's also check which of the components have high feature importances towards the end goal of churn prediction."
   ]
  },
  {
   "cell_type": "code",
   "execution_count": null,
   "id": "586937b3",
   "metadata": {
    "papermill": {
     "duration": 12.694325,
     "end_time": "2021-08-13T07:17:20.982792",
     "exception": false,
     "start_time": "2021-08-13T07:17:08.288467",
     "status": "completed"
    },
    "tags": []
   },
   "outputs": [],
   "source": [
    "rf = RandomForestClassifier(n_estimators=100, n_jobs=-1)\n",
    "rf.fit(pca_components, y_train)\n",
    "\n",
    "feature_importances = pd.DataFrame({'col':['component_'+str(i) for i in range(16)], \n",
    "                                    'importance':rf.feature_importances_})\n",
    "\n",
    "plt.figure(figsize=(15,8))\n",
    "plt.xticks(rotation=45)\n",
    "plt.bar(feature_importances['col'], feature_importances['importance'])"
   ]
  },
  {
   "cell_type": "markdown",
   "id": "a5aa1235",
   "metadata": {
    "papermill": {
     "duration": 0.065189,
     "end_time": "2021-08-13T07:17:21.113066",
     "exception": false,
     "start_time": "2021-08-13T07:17:21.047877",
     "status": "completed"
    },
    "tags": []
   },
   "source": [
    "# 6. Model building\n",
    "\n",
    "Let's build a quick model with logistic regression and the first 2 PCA components."
   ]
  },
  {
   "cell_type": "code",
   "execution_count": null,
   "id": "a7f08df2",
   "metadata": {
    "papermill": {
     "duration": 0.185674,
     "end_time": "2021-08-13T07:17:21.364082",
     "exception": false,
     "start_time": "2021-08-13T07:17:21.178408",
     "status": "completed"
    },
    "tags": []
   },
   "outputs": [],
   "source": [
    "lr = LogisticRegression(max_iter=1000, tol=0.001, solver='sag')\n",
    "lr.fit(pca_components[:,:2], y_train)"
   ]
  },
  {
   "cell_type": "code",
   "execution_count": null,
   "id": "775e57ca",
   "metadata": {
    "papermill": {
     "duration": 0.089994,
     "end_time": "2021-08-13T07:17:21.519838",
     "exception": false,
     "start_time": "2021-08-13T07:17:21.429844",
     "status": "completed"
    },
    "tags": []
   },
   "outputs": [],
   "source": [
    "lr.score(pca_components[:,:2], y_train)"
   ]
  },
  {
   "cell_type": "markdown",
   "id": "321b0b34",
   "metadata": {
    "papermill": {
     "duration": 0.064818,
     "end_time": "2021-08-13T07:17:21.699674",
     "exception": false,
     "start_time": "2021-08-13T07:17:21.634856",
     "status": "completed"
    },
    "tags": []
   },
   "source": [
    "The model has 89.8% accuracy, but let's build a pipeline to fit and score the model faster.\n",
    "\n",
    "The steps of this pipeline would be the following, but this is only one type of pipeline -\n",
    "1. Imputation\n",
    "2. Scaling\n",
    "3. PCA\n",
    "4. Classification model\n",
    "\n",
    "You can change this pipeline, add addition transformations, change models, use cross validation or even use this pipeline to work with a Gridsearch."
   ]
  },
  {
   "cell_type": "code",
   "execution_count": null,
   "id": "c8d915ec",
   "metadata": {
    "papermill": {
     "duration": 0.071699,
     "end_time": "2021-08-13T07:17:21.836592",
     "exception": false,
     "start_time": "2021-08-13T07:17:21.764893",
     "status": "completed"
    },
    "tags": []
   },
   "outputs": [],
   "source": [
    "imp = SimpleImputer(strategy='constant', fill_value=0)\n",
    "scale = StandardScaler()\n",
    "pca = PCA(n_components=10)\n",
    "lr = LogisticRegression(max_iter=1000, tol=0.001)"
   ]
  },
  {
   "cell_type": "code",
   "execution_count": null,
   "id": "7d0defd3",
   "metadata": {
    "papermill": {
     "duration": 0.073281,
     "end_time": "2021-08-13T07:17:21.975259",
     "exception": false,
     "start_time": "2021-08-13T07:17:21.901978",
     "status": "completed"
    },
    "tags": []
   },
   "outputs": [],
   "source": [
    "pipe = Pipeline(steps = [('imputation',imp),\n",
    "                         ('scaling',scale),\n",
    "                         ('pca',pca),\n",
    "                         ('model',lr)])"
   ]
  },
  {
   "cell_type": "code",
   "execution_count": null,
   "id": "8972c5fd",
   "metadata": {
    "papermill": {
     "duration": 0.485922,
     "end_time": "2021-08-13T07:17:22.526693",
     "exception": false,
     "start_time": "2021-08-13T07:17:22.040771",
     "status": "completed"
    },
    "tags": []
   },
   "outputs": [],
   "source": [
    "pipe.fit(X_train[new_vars], y_train)"
   ]
  },
  {
   "cell_type": "code",
   "execution_count": null,
   "id": "441b2354",
   "metadata": {
    "papermill": {
     "duration": 0.111563,
     "end_time": "2021-08-13T07:17:22.755300",
     "exception": false,
     "start_time": "2021-08-13T07:17:22.643737",
     "status": "completed"
    },
    "tags": []
   },
   "outputs": [],
   "source": [
    "train_score = pipe.score(X_train[new_vars], y_train)\n",
    "print(\"Training accuracy:\", train_score)"
   ]
  },
  {
   "cell_type": "code",
   "execution_count": null,
   "id": "b3db02c7",
   "metadata": {
    "papermill": {
     "duration": 0.087891,
     "end_time": "2021-08-13T07:17:22.960566",
     "exception": false,
     "start_time": "2021-08-13T07:17:22.872675",
     "status": "completed"
    },
    "tags": []
   },
   "outputs": [],
   "source": [
    "test_score = pipe.score(X_test[new_vars], y_test)\n",
    "print(\"Test accuracy:\", test_score)"
   ]
  },
  {
   "cell_type": "markdown",
   "id": "beec9d12",
   "metadata": {
    "papermill": {
     "duration": 0.070399,
     "end_time": "2021-08-13T07:17:23.152879",
     "exception": false,
     "start_time": "2021-08-13T07:17:23.082480",
     "status": "completed"
    },
    "tags": []
   },
   "source": [
    "Let's make a confusion matrix to analyze how each class is being predicted by the model."
   ]
  },
  {
   "cell_type": "code",
   "execution_count": null,
   "id": "012c5a58",
   "metadata": {
    "papermill": {
     "duration": 0.200569,
     "end_time": "2021-08-13T07:17:23.421831",
     "exception": false,
     "start_time": "2021-08-13T07:17:23.221262",
     "status": "completed"
    },
    "tags": []
   },
   "outputs": [],
   "source": [
    "confusion_matrix(y_train, pipe.predict(X_train[new_vars]))"
   ]
  },
  {
   "cell_type": "code",
   "execution_count": null,
   "id": "84ba50bf",
   "metadata": {
    "papermill": {
     "duration": 0.109186,
     "end_time": "2021-08-13T07:17:23.608435",
     "exception": false,
     "start_time": "2021-08-13T07:17:23.499249",
     "status": "completed"
    },
    "tags": []
   },
   "outputs": [],
   "source": [
    "confusion_matrix(y_test, pipe.predict(X_test[new_vars]))"
   ]
  },
  {
   "cell_type": "markdown",
   "id": "3ff7895f",
   "metadata": {
    "papermill": {
     "duration": 0.068268,
     "end_time": "2021-08-13T07:17:23.788669",
     "exception": false,
     "start_time": "2021-08-13T07:17:23.720401",
     "status": "completed"
    },
    "tags": []
   },
   "source": [
    "We can see a high amount of type 2 error. Due to class imbalance, the model is clearly trying to predict majority of the cases as class 0. Understanding how to handle class imbalance in classification models might be the key to winning this competition :) (hint!)"
   ]
  },
  {
   "cell_type": "code",
   "execution_count": null,
   "id": "407cfc13",
   "metadata": {
    "papermill": {
     "duration": 0.09953,
     "end_time": "2021-08-13T07:17:23.955991",
     "exception": false,
     "start_time": "2021-08-13T07:17:23.856461",
     "status": "completed"
    },
    "tags": []
   },
   "outputs": [],
   "source": [
    "precision_score(y_test, pipe.predict(X_test[new_vars]))"
   ]
  },
  {
   "cell_type": "code",
   "execution_count": null,
   "id": "3eb37be6",
   "metadata": {
    "papermill": {
     "duration": 0.123943,
     "end_time": "2021-08-13T07:17:24.198308",
     "exception": false,
     "start_time": "2021-08-13T07:17:24.074365",
     "status": "completed"
    },
    "tags": []
   },
   "outputs": [],
   "source": [
    "recall_score(y_test, pipe.predict(X_test[new_vars]))"
   ]
  },
  {
   "cell_type": "markdown",
   "id": "1d1e1eef",
   "metadata": {
    "papermill": {
     "duration": 0.067672,
     "end_time": "2021-08-13T07:17:24.385001",
     "exception": false,
     "start_time": "2021-08-13T07:17:24.317329",
     "status": "completed"
    },
    "tags": []
   },
   "source": [
    "# 7. Creating submission file\n",
    "\n",
    "For submission, we need to make sure that the format is exactly the same as the sample.csv file. It contains 2 columns, id and churn_probability"
   ]
  },
  {
   "cell_type": "code",
   "execution_count": 326,
   "id": "ad672d46",
   "metadata": {
    "papermill": {
     "duration": 0.080814,
     "end_time": "2021-08-13T07:17:24.533810",
     "exception": false,
     "start_time": "2021-08-13T07:17:24.452996",
     "status": "completed"
    },
    "tags": []
   },
   "outputs": [
    {
     "data": {
      "text/html": [
       "<div>\n",
       "<style scoped>\n",
       "    .dataframe tbody tr th:only-of-type {\n",
       "        vertical-align: middle;\n",
       "    }\n",
       "\n",
       "    .dataframe tbody tr th {\n",
       "        vertical-align: top;\n",
       "    }\n",
       "\n",
       "    .dataframe thead th {\n",
       "        text-align: right;\n",
       "    }\n",
       "</style>\n",
       "<table border=\"1\" class=\"dataframe\">\n",
       "  <thead>\n",
       "    <tr style=\"text-align: right;\">\n",
       "      <th></th>\n",
       "      <th>id</th>\n",
       "      <th>churn_probability</th>\n",
       "    </tr>\n",
       "  </thead>\n",
       "  <tbody>\n",
       "    <tr>\n",
       "      <th>0</th>\n",
       "      <td>69999</td>\n",
       "      <td>0</td>\n",
       "    </tr>\n",
       "    <tr>\n",
       "      <th>1</th>\n",
       "      <td>70000</td>\n",
       "      <td>0</td>\n",
       "    </tr>\n",
       "    <tr>\n",
       "      <th>2</th>\n",
       "      <td>70001</td>\n",
       "      <td>0</td>\n",
       "    </tr>\n",
       "    <tr>\n",
       "      <th>3</th>\n",
       "      <td>70002</td>\n",
       "      <td>0</td>\n",
       "    </tr>\n",
       "    <tr>\n",
       "      <th>4</th>\n",
       "      <td>70003</td>\n",
       "      <td>0</td>\n",
       "    </tr>\n",
       "  </tbody>\n",
       "</table>\n",
       "</div>"
      ],
      "text/plain": [
       "      id  churn_probability\n",
       "0  69999                  0\n",
       "1  70000                  0\n",
       "2  70001                  0\n",
       "3  70002                  0\n",
       "4  70003                  0"
      ]
     },
     "execution_count": 326,
     "metadata": {},
     "output_type": "execute_result"
    }
   ],
   "source": [
    "sample.head()"
   ]
  },
  {
   "cell_type": "markdown",
   "id": "020d3949",
   "metadata": {
    "papermill": {
     "duration": 0.068381,
     "end_time": "2021-08-13T07:17:24.670628",
     "exception": false,
     "start_time": "2021-08-13T07:17:24.602247",
     "status": "completed"
    },
    "tags": []
   },
   "source": [
    "The submission file should contain churn_probability values that have to be predicted for the unseen data provided (test.csv)"
   ]
  },
  {
   "cell_type": "code",
   "execution_count": 327,
   "id": "5cb95d9d",
   "metadata": {
    "papermill": {
     "duration": 0.098877,
     "end_time": "2021-08-13T07:17:24.838199",
     "exception": false,
     "start_time": "2021-08-13T07:17:24.739322",
     "status": "completed"
    },
    "tags": []
   },
   "outputs": [
    {
     "data": {
      "text/html": [
       "<div>\n",
       "<style scoped>\n",
       "    .dataframe tbody tr th:only-of-type {\n",
       "        vertical-align: middle;\n",
       "    }\n",
       "\n",
       "    .dataframe tbody tr th {\n",
       "        vertical-align: top;\n",
       "    }\n",
       "\n",
       "    .dataframe thead th {\n",
       "        text-align: right;\n",
       "    }\n",
       "</style>\n",
       "<table border=\"1\" class=\"dataframe\">\n",
       "  <thead>\n",
       "    <tr style=\"text-align: right;\">\n",
       "      <th></th>\n",
       "      <th>id</th>\n",
       "      <th>circle_id</th>\n",
       "      <th>loc_og_t2o_mou</th>\n",
       "      <th>std_og_t2o_mou</th>\n",
       "      <th>loc_ic_t2o_mou</th>\n",
       "      <th>last_date_of_month_6</th>\n",
       "      <th>last_date_of_month_7</th>\n",
       "      <th>last_date_of_month_8</th>\n",
       "      <th>arpu_6</th>\n",
       "      <th>arpu_7</th>\n",
       "      <th>...</th>\n",
       "      <th>sachet_3g_6</th>\n",
       "      <th>sachet_3g_7</th>\n",
       "      <th>sachet_3g_8</th>\n",
       "      <th>fb_user_6</th>\n",
       "      <th>fb_user_7</th>\n",
       "      <th>fb_user_8</th>\n",
       "      <th>aon</th>\n",
       "      <th>aug_vbc_3g</th>\n",
       "      <th>jul_vbc_3g</th>\n",
       "      <th>jun_vbc_3g</th>\n",
       "    </tr>\n",
       "  </thead>\n",
       "  <tbody>\n",
       "    <tr>\n",
       "      <th>0</th>\n",
       "      <td>69999</td>\n",
       "      <td>109</td>\n",
       "      <td>0.0</td>\n",
       "      <td>0.0</td>\n",
       "      <td>0.0</td>\n",
       "      <td>6/30/2014</td>\n",
       "      <td>7/31/2014</td>\n",
       "      <td>8/31/2014</td>\n",
       "      <td>91.882</td>\n",
       "      <td>65.330</td>\n",
       "      <td>...</td>\n",
       "      <td>0</td>\n",
       "      <td>0</td>\n",
       "      <td>0</td>\n",
       "      <td>NaN</td>\n",
       "      <td>NaN</td>\n",
       "      <td>NaN</td>\n",
       "      <td>1692</td>\n",
       "      <td>0.00</td>\n",
       "      <td>0.00</td>\n",
       "      <td>0.00</td>\n",
       "    </tr>\n",
       "    <tr>\n",
       "      <th>1</th>\n",
       "      <td>70000</td>\n",
       "      <td>109</td>\n",
       "      <td>0.0</td>\n",
       "      <td>0.0</td>\n",
       "      <td>0.0</td>\n",
       "      <td>6/30/2014</td>\n",
       "      <td>7/31/2014</td>\n",
       "      <td>8/31/2014</td>\n",
       "      <td>414.168</td>\n",
       "      <td>515.568</td>\n",
       "      <td>...</td>\n",
       "      <td>0</td>\n",
       "      <td>0</td>\n",
       "      <td>0</td>\n",
       "      <td>NaN</td>\n",
       "      <td>NaN</td>\n",
       "      <td>NaN</td>\n",
       "      <td>2533</td>\n",
       "      <td>0.00</td>\n",
       "      <td>0.00</td>\n",
       "      <td>0.00</td>\n",
       "    </tr>\n",
       "    <tr>\n",
       "      <th>2</th>\n",
       "      <td>70001</td>\n",
       "      <td>109</td>\n",
       "      <td>0.0</td>\n",
       "      <td>0.0</td>\n",
       "      <td>0.0</td>\n",
       "      <td>6/30/2014</td>\n",
       "      <td>7/31/2014</td>\n",
       "      <td>8/31/2014</td>\n",
       "      <td>329.844</td>\n",
       "      <td>434.884</td>\n",
       "      <td>...</td>\n",
       "      <td>0</td>\n",
       "      <td>0</td>\n",
       "      <td>0</td>\n",
       "      <td>NaN</td>\n",
       "      <td>NaN</td>\n",
       "      <td>NaN</td>\n",
       "      <td>277</td>\n",
       "      <td>525.61</td>\n",
       "      <td>758.41</td>\n",
       "      <td>241.84</td>\n",
       "    </tr>\n",
       "    <tr>\n",
       "      <th>3</th>\n",
       "      <td>70002</td>\n",
       "      <td>109</td>\n",
       "      <td>0.0</td>\n",
       "      <td>0.0</td>\n",
       "      <td>0.0</td>\n",
       "      <td>6/30/2014</td>\n",
       "      <td>7/31/2014</td>\n",
       "      <td>8/31/2014</td>\n",
       "      <td>43.550</td>\n",
       "      <td>171.390</td>\n",
       "      <td>...</td>\n",
       "      <td>0</td>\n",
       "      <td>0</td>\n",
       "      <td>0</td>\n",
       "      <td>NaN</td>\n",
       "      <td>NaN</td>\n",
       "      <td>NaN</td>\n",
       "      <td>1244</td>\n",
       "      <td>0.00</td>\n",
       "      <td>0.00</td>\n",
       "      <td>0.00</td>\n",
       "    </tr>\n",
       "    <tr>\n",
       "      <th>4</th>\n",
       "      <td>70003</td>\n",
       "      <td>109</td>\n",
       "      <td>0.0</td>\n",
       "      <td>0.0</td>\n",
       "      <td>0.0</td>\n",
       "      <td>6/30/2014</td>\n",
       "      <td>7/31/2014</td>\n",
       "      <td>8/31/2014</td>\n",
       "      <td>306.854</td>\n",
       "      <td>406.289</td>\n",
       "      <td>...</td>\n",
       "      <td>0</td>\n",
       "      <td>0</td>\n",
       "      <td>0</td>\n",
       "      <td>NaN</td>\n",
       "      <td>NaN</td>\n",
       "      <td>NaN</td>\n",
       "      <td>462</td>\n",
       "      <td>0.00</td>\n",
       "      <td>0.00</td>\n",
       "      <td>0.00</td>\n",
       "    </tr>\n",
       "  </tbody>\n",
       "</table>\n",
       "<p>5 rows × 171 columns</p>\n",
       "</div>"
      ],
      "text/plain": [
       "      id  circle_id  loc_og_t2o_mou  std_og_t2o_mou  loc_ic_t2o_mou  \\\n",
       "0  69999        109             0.0             0.0             0.0   \n",
       "1  70000        109             0.0             0.0             0.0   \n",
       "2  70001        109             0.0             0.0             0.0   \n",
       "3  70002        109             0.0             0.0             0.0   \n",
       "4  70003        109             0.0             0.0             0.0   \n",
       "\n",
       "  last_date_of_month_6 last_date_of_month_7 last_date_of_month_8   arpu_6  \\\n",
       "0            6/30/2014            7/31/2014            8/31/2014   91.882   \n",
       "1            6/30/2014            7/31/2014            8/31/2014  414.168   \n",
       "2            6/30/2014            7/31/2014            8/31/2014  329.844   \n",
       "3            6/30/2014            7/31/2014            8/31/2014   43.550   \n",
       "4            6/30/2014            7/31/2014            8/31/2014  306.854   \n",
       "\n",
       "    arpu_7  ...  sachet_3g_6  sachet_3g_7  sachet_3g_8  fb_user_6  fb_user_7  \\\n",
       "0   65.330  ...            0            0            0        NaN        NaN   \n",
       "1  515.568  ...            0            0            0        NaN        NaN   \n",
       "2  434.884  ...            0            0            0        NaN        NaN   \n",
       "3  171.390  ...            0            0            0        NaN        NaN   \n",
       "4  406.289  ...            0            0            0        NaN        NaN   \n",
       "\n",
       "   fb_user_8   aon  aug_vbc_3g  jul_vbc_3g  jun_vbc_3g  \n",
       "0        NaN  1692        0.00        0.00        0.00  \n",
       "1        NaN  2533        0.00        0.00        0.00  \n",
       "2        NaN   277      525.61      758.41      241.84  \n",
       "3        NaN  1244        0.00        0.00        0.00  \n",
       "4        NaN   462        0.00        0.00        0.00  \n",
       "\n",
       "[5 rows x 171 columns]"
      ]
     },
     "execution_count": 327,
     "metadata": {},
     "output_type": "execute_result"
    }
   ],
   "source": [
    "unseen.head()"
   ]
  },
  {
   "cell_type": "markdown",
   "id": "da9eb3a2",
   "metadata": {
    "papermill": {
     "duration": 0.06952,
     "end_time": "2021-08-13T07:17:24.977086",
     "exception": false,
     "start_time": "2021-08-13T07:17:24.907566",
     "status": "completed"
    },
    "tags": []
   },
   "source": [
    "Lets first select the columns that we want to work with (or create them, if you have done any feature engineering)"
   ]
  },
  {
   "cell_type": "code",
   "execution_count": 328,
   "id": "a9cec55f-d85d-443d-9325-6c09e7ccfbee",
   "metadata": {},
   "outputs": [],
   "source": [
    "# Let us create the months_since_last_recharge field here\n",
    "unseen['months_since_last_charge'] = unseen.apply(calculate_months_since_last_charge_df, axis=1)"
   ]
  },
  {
   "cell_type": "code",
   "execution_count": 329,
   "id": "40dc3923-b8af-40e7-a325-ca847234de7d",
   "metadata": {},
   "outputs": [],
   "source": [
    "unseen[impute_cols] = imp.fit_transform(unseen[impute_cols])"
   ]
  },
  {
   "cell_type": "code",
   "execution_count": 330,
   "id": "2eb7a20c-214d-4c41-aa90-218fdfd3893b",
   "metadata": {},
   "outputs": [],
   "source": [
    "submission_data = unseen[df_test.columns]"
   ]
  },
  {
   "cell_type": "code",
   "execution_count": 331,
   "id": "2ba337a3-22c2-4ea6-989e-2d20113da938",
   "metadata": {},
   "outputs": [
    {
     "data": {
      "text/html": [
       "<div>\n",
       "<style scoped>\n",
       "    .dataframe tbody tr th:only-of-type {\n",
       "        vertical-align: middle;\n",
       "    }\n",
       "\n",
       "    .dataframe tbody tr th {\n",
       "        vertical-align: top;\n",
       "    }\n",
       "\n",
       "    .dataframe thead th {\n",
       "        text-align: right;\n",
       "    }\n",
       "</style>\n",
       "<table border=\"1\" class=\"dataframe\">\n",
       "  <thead>\n",
       "    <tr style=\"text-align: right;\">\n",
       "      <th></th>\n",
       "      <th>arpu_6</th>\n",
       "      <th>arpu_7</th>\n",
       "      <th>arpu_8</th>\n",
       "      <th>onnet_mou_6</th>\n",
       "      <th>onnet_mou_7</th>\n",
       "      <th>onnet_mou_8</th>\n",
       "      <th>offnet_mou_6</th>\n",
       "      <th>offnet_mou_7</th>\n",
       "      <th>offnet_mou_8</th>\n",
       "      <th>roam_ic_mou_6</th>\n",
       "      <th>...</th>\n",
       "      <th>monthly_3g_7</th>\n",
       "      <th>monthly_3g_8</th>\n",
       "      <th>sachet_3g_6</th>\n",
       "      <th>sachet_3g_7</th>\n",
       "      <th>sachet_3g_8</th>\n",
       "      <th>aon</th>\n",
       "      <th>aug_vbc_3g</th>\n",
       "      <th>jul_vbc_3g</th>\n",
       "      <th>jun_vbc_3g</th>\n",
       "      <th>months_since_last_charge</th>\n",
       "    </tr>\n",
       "    <tr>\n",
       "      <th>id</th>\n",
       "      <th></th>\n",
       "      <th></th>\n",
       "      <th></th>\n",
       "      <th></th>\n",
       "      <th></th>\n",
       "      <th></th>\n",
       "      <th></th>\n",
       "      <th></th>\n",
       "      <th></th>\n",
       "      <th></th>\n",
       "      <th></th>\n",
       "      <th></th>\n",
       "      <th></th>\n",
       "      <th></th>\n",
       "      <th></th>\n",
       "      <th></th>\n",
       "      <th></th>\n",
       "      <th></th>\n",
       "      <th></th>\n",
       "      <th></th>\n",
       "      <th></th>\n",
       "    </tr>\n",
       "  </thead>\n",
       "  <tbody>\n",
       "    <tr>\n",
       "      <th>69999</th>\n",
       "      <td>91.882</td>\n",
       "      <td>65.330</td>\n",
       "      <td>64.445</td>\n",
       "      <td>31.78</td>\n",
       "      <td>20.23</td>\n",
       "      <td>23.11</td>\n",
       "      <td>60.16</td>\n",
       "      <td>32.16</td>\n",
       "      <td>34.83</td>\n",
       "      <td>0.00</td>\n",
       "      <td>...</td>\n",
       "      <td>0</td>\n",
       "      <td>0</td>\n",
       "      <td>0</td>\n",
       "      <td>0</td>\n",
       "      <td>0</td>\n",
       "      <td>1692</td>\n",
       "      <td>0.00</td>\n",
       "      <td>0.00</td>\n",
       "      <td>0.00</td>\n",
       "      <td>0</td>\n",
       "    </tr>\n",
       "    <tr>\n",
       "      <th>70000</th>\n",
       "      <td>414.168</td>\n",
       "      <td>515.568</td>\n",
       "      <td>360.868</td>\n",
       "      <td>75.51</td>\n",
       "      <td>41.21</td>\n",
       "      <td>19.84</td>\n",
       "      <td>474.34</td>\n",
       "      <td>621.84</td>\n",
       "      <td>394.94</td>\n",
       "      <td>0.00</td>\n",
       "      <td>...</td>\n",
       "      <td>0</td>\n",
       "      <td>0</td>\n",
       "      <td>0</td>\n",
       "      <td>0</td>\n",
       "      <td>0</td>\n",
       "      <td>2533</td>\n",
       "      <td>0.00</td>\n",
       "      <td>0.00</td>\n",
       "      <td>0.00</td>\n",
       "      <td>0</td>\n",
       "    </tr>\n",
       "    <tr>\n",
       "      <th>70001</th>\n",
       "      <td>329.844</td>\n",
       "      <td>434.884</td>\n",
       "      <td>746.239</td>\n",
       "      <td>7.54</td>\n",
       "      <td>7.86</td>\n",
       "      <td>8.40</td>\n",
       "      <td>16.98</td>\n",
       "      <td>45.81</td>\n",
       "      <td>45.04</td>\n",
       "      <td>22.81</td>\n",
       "      <td>...</td>\n",
       "      <td>0</td>\n",
       "      <td>0</td>\n",
       "      <td>0</td>\n",
       "      <td>0</td>\n",
       "      <td>0</td>\n",
       "      <td>277</td>\n",
       "      <td>525.61</td>\n",
       "      <td>758.41</td>\n",
       "      <td>241.84</td>\n",
       "      <td>0</td>\n",
       "    </tr>\n",
       "    <tr>\n",
       "      <th>70002</th>\n",
       "      <td>43.550</td>\n",
       "      <td>171.390</td>\n",
       "      <td>24.400</td>\n",
       "      <td>5.31</td>\n",
       "      <td>2.16</td>\n",
       "      <td>0.00</td>\n",
       "      <td>40.04</td>\n",
       "      <td>205.01</td>\n",
       "      <td>24.01</td>\n",
       "      <td>0.00</td>\n",
       "      <td>...</td>\n",
       "      <td>0</td>\n",
       "      <td>0</td>\n",
       "      <td>0</td>\n",
       "      <td>0</td>\n",
       "      <td>0</td>\n",
       "      <td>1244</td>\n",
       "      <td>0.00</td>\n",
       "      <td>0.00</td>\n",
       "      <td>0.00</td>\n",
       "      <td>0</td>\n",
       "    </tr>\n",
       "    <tr>\n",
       "      <th>70003</th>\n",
       "      <td>306.854</td>\n",
       "      <td>406.289</td>\n",
       "      <td>413.329</td>\n",
       "      <td>450.93</td>\n",
       "      <td>609.03</td>\n",
       "      <td>700.68</td>\n",
       "      <td>60.94</td>\n",
       "      <td>23.84</td>\n",
       "      <td>74.16</td>\n",
       "      <td>0.00</td>\n",
       "      <td>...</td>\n",
       "      <td>0</td>\n",
       "      <td>0</td>\n",
       "      <td>0</td>\n",
       "      <td>0</td>\n",
       "      <td>0</td>\n",
       "      <td>462</td>\n",
       "      <td>0.00</td>\n",
       "      <td>0.00</td>\n",
       "      <td>0.00</td>\n",
       "      <td>0</td>\n",
       "    </tr>\n",
       "    <tr>\n",
       "      <th>...</th>\n",
       "      <td>...</td>\n",
       "      <td>...</td>\n",
       "      <td>...</td>\n",
       "      <td>...</td>\n",
       "      <td>...</td>\n",
       "      <td>...</td>\n",
       "      <td>...</td>\n",
       "      <td>...</td>\n",
       "      <td>...</td>\n",
       "      <td>...</td>\n",
       "      <td>...</td>\n",
       "      <td>...</td>\n",
       "      <td>...</td>\n",
       "      <td>...</td>\n",
       "      <td>...</td>\n",
       "      <td>...</td>\n",
       "      <td>...</td>\n",
       "      <td>...</td>\n",
       "      <td>...</td>\n",
       "      <td>...</td>\n",
       "      <td>...</td>\n",
       "    </tr>\n",
       "    <tr>\n",
       "      <th>99994</th>\n",
       "      <td>718.870</td>\n",
       "      <td>396.259</td>\n",
       "      <td>406.150</td>\n",
       "      <td>324.46</td>\n",
       "      <td>250.01</td>\n",
       "      <td>285.41</td>\n",
       "      <td>190.36</td>\n",
       "      <td>166.14</td>\n",
       "      <td>221.96</td>\n",
       "      <td>87.76</td>\n",
       "      <td>...</td>\n",
       "      <td>0</td>\n",
       "      <td>0</td>\n",
       "      <td>0</td>\n",
       "      <td>0</td>\n",
       "      <td>0</td>\n",
       "      <td>1255</td>\n",
       "      <td>3.71</td>\n",
       "      <td>105.64</td>\n",
       "      <td>61.48</td>\n",
       "      <td>0</td>\n",
       "    </tr>\n",
       "    <tr>\n",
       "      <th>99995</th>\n",
       "      <td>218.327</td>\n",
       "      <td>324.070</td>\n",
       "      <td>374.981</td>\n",
       "      <td>263.79</td>\n",
       "      <td>467.24</td>\n",
       "      <td>650.26</td>\n",
       "      <td>108.53</td>\n",
       "      <td>124.11</td>\n",
       "      <td>189.76</td>\n",
       "      <td>3.40</td>\n",
       "      <td>...</td>\n",
       "      <td>1</td>\n",
       "      <td>0</td>\n",
       "      <td>0</td>\n",
       "      <td>0</td>\n",
       "      <td>0</td>\n",
       "      <td>2258</td>\n",
       "      <td>0.00</td>\n",
       "      <td>0.00</td>\n",
       "      <td>0.00</td>\n",
       "      <td>0</td>\n",
       "    </tr>\n",
       "    <tr>\n",
       "      <th>99996</th>\n",
       "      <td>139.473</td>\n",
       "      <td>38.230</td>\n",
       "      <td>180.194</td>\n",
       "      <td>11.08</td>\n",
       "      <td>14.89</td>\n",
       "      <td>19.94</td>\n",
       "      <td>37.24</td>\n",
       "      <td>16.74</td>\n",
       "      <td>45.28</td>\n",
       "      <td>0.00</td>\n",
       "      <td>...</td>\n",
       "      <td>0</td>\n",
       "      <td>0</td>\n",
       "      <td>0</td>\n",
       "      <td>0</td>\n",
       "      <td>0</td>\n",
       "      <td>440</td>\n",
       "      <td>0.00</td>\n",
       "      <td>0.00</td>\n",
       "      <td>0.00</td>\n",
       "      <td>0</td>\n",
       "    </tr>\n",
       "    <tr>\n",
       "      <th>99997</th>\n",
       "      <td>1122.912</td>\n",
       "      <td>781.121</td>\n",
       "      <td>257.439</td>\n",
       "      <td>122.74</td>\n",
       "      <td>50.23</td>\n",
       "      <td>26.46</td>\n",
       "      <td>1854.09</td>\n",
       "      <td>1088.83</td>\n",
       "      <td>306.16</td>\n",
       "      <td>0.00</td>\n",
       "      <td>...</td>\n",
       "      <td>0</td>\n",
       "      <td>0</td>\n",
       "      <td>0</td>\n",
       "      <td>0</td>\n",
       "      <td>0</td>\n",
       "      <td>810</td>\n",
       "      <td>0.00</td>\n",
       "      <td>0.00</td>\n",
       "      <td>0.00</td>\n",
       "      <td>0</td>\n",
       "    </tr>\n",
       "    <tr>\n",
       "      <th>99998</th>\n",
       "      <td>318.980</td>\n",
       "      <td>307.890</td>\n",
       "      <td>605.320</td>\n",
       "      <td>28.09</td>\n",
       "      <td>32.93</td>\n",
       "      <td>66.31</td>\n",
       "      <td>107.78</td>\n",
       "      <td>241.53</td>\n",
       "      <td>331.64</td>\n",
       "      <td>134.54</td>\n",
       "      <td>...</td>\n",
       "      <td>3</td>\n",
       "      <td>2</td>\n",
       "      <td>1</td>\n",
       "      <td>1</td>\n",
       "      <td>0</td>\n",
       "      <td>440</td>\n",
       "      <td>762.55</td>\n",
       "      <td>687.13</td>\n",
       "      <td>22.76</td>\n",
       "      <td>0</td>\n",
       "    </tr>\n",
       "  </tbody>\n",
       "</table>\n",
       "<p>30000 rows × 125 columns</p>\n",
       "</div>"
      ],
      "text/plain": [
       "         arpu_6   arpu_7   arpu_8  onnet_mou_6  onnet_mou_7  onnet_mou_8  \\\n",
       "id                                                                         \n",
       "69999    91.882   65.330   64.445        31.78        20.23        23.11   \n",
       "70000   414.168  515.568  360.868        75.51        41.21        19.84   \n",
       "70001   329.844  434.884  746.239         7.54         7.86         8.40   \n",
       "70002    43.550  171.390   24.400         5.31         2.16         0.00   \n",
       "70003   306.854  406.289  413.329       450.93       609.03       700.68   \n",
       "...         ...      ...      ...          ...          ...          ...   \n",
       "99994   718.870  396.259  406.150       324.46       250.01       285.41   \n",
       "99995   218.327  324.070  374.981       263.79       467.24       650.26   \n",
       "99996   139.473   38.230  180.194        11.08        14.89        19.94   \n",
       "99997  1122.912  781.121  257.439       122.74        50.23        26.46   \n",
       "99998   318.980  307.890  605.320        28.09        32.93        66.31   \n",
       "\n",
       "       offnet_mou_6  offnet_mou_7  offnet_mou_8  roam_ic_mou_6  ...  \\\n",
       "id                                                              ...   \n",
       "69999         60.16         32.16         34.83           0.00  ...   \n",
       "70000        474.34        621.84        394.94           0.00  ...   \n",
       "70001         16.98         45.81         45.04          22.81  ...   \n",
       "70002         40.04        205.01         24.01           0.00  ...   \n",
       "70003         60.94         23.84         74.16           0.00  ...   \n",
       "...             ...           ...           ...            ...  ...   \n",
       "99994        190.36        166.14        221.96          87.76  ...   \n",
       "99995        108.53        124.11        189.76           3.40  ...   \n",
       "99996         37.24         16.74         45.28           0.00  ...   \n",
       "99997       1854.09       1088.83        306.16           0.00  ...   \n",
       "99998        107.78        241.53        331.64         134.54  ...   \n",
       "\n",
       "       monthly_3g_7  monthly_3g_8  sachet_3g_6  sachet_3g_7  sachet_3g_8  \\\n",
       "id                                                                         \n",
       "69999             0             0            0            0            0   \n",
       "70000             0             0            0            0            0   \n",
       "70001             0             0            0            0            0   \n",
       "70002             0             0            0            0            0   \n",
       "70003             0             0            0            0            0   \n",
       "...             ...           ...          ...          ...          ...   \n",
       "99994             0             0            0            0            0   \n",
       "99995             1             0            0            0            0   \n",
       "99996             0             0            0            0            0   \n",
       "99997             0             0            0            0            0   \n",
       "99998             3             2            1            1            0   \n",
       "\n",
       "        aon  aug_vbc_3g  jul_vbc_3g  jun_vbc_3g  months_since_last_charge  \n",
       "id                                                                         \n",
       "69999  1692        0.00        0.00        0.00                         0  \n",
       "70000  2533        0.00        0.00        0.00                         0  \n",
       "70001   277      525.61      758.41      241.84                         0  \n",
       "70002  1244        0.00        0.00        0.00                         0  \n",
       "70003   462        0.00        0.00        0.00                         0  \n",
       "...     ...         ...         ...         ...                       ...  \n",
       "99994  1255        3.71      105.64       61.48                         0  \n",
       "99995  2258        0.00        0.00        0.00                         0  \n",
       "99996   440        0.00        0.00        0.00                         0  \n",
       "99997   810        0.00        0.00        0.00                         0  \n",
       "99998   440      762.55      687.13       22.76                         0  \n",
       "\n",
       "[30000 rows x 125 columns]"
      ]
     },
     "execution_count": 331,
     "metadata": {},
     "output_type": "execute_result"
    }
   ],
   "source": [
    "submission_data.set_index('id')"
   ]
  },
  {
   "cell_type": "code",
   "execution_count": 235,
   "id": "3068d77e-2316-4069-a5be-cc48d9278370",
   "metadata": {},
   "outputs": [
    {
     "data": {
      "text/html": [
       "<div>\n",
       "<style scoped>\n",
       "    .dataframe tbody tr th:only-of-type {\n",
       "        vertical-align: middle;\n",
       "    }\n",
       "\n",
       "    .dataframe tbody tr th {\n",
       "        vertical-align: top;\n",
       "    }\n",
       "\n",
       "    .dataframe thead th {\n",
       "        text-align: right;\n",
       "    }\n",
       "</style>\n",
       "<table border=\"1\" class=\"dataframe\">\n",
       "  <thead>\n",
       "    <tr style=\"text-align: right;\">\n",
       "      <th></th>\n",
       "      <th>arpu_6</th>\n",
       "      <th>arpu_7</th>\n",
       "      <th>arpu_8</th>\n",
       "      <th>onnet_mou_6</th>\n",
       "      <th>onnet_mou_7</th>\n",
       "      <th>onnet_mou_8</th>\n",
       "      <th>offnet_mou_6</th>\n",
       "      <th>offnet_mou_7</th>\n",
       "      <th>offnet_mou_8</th>\n",
       "      <th>roam_ic_mou_6</th>\n",
       "      <th>...</th>\n",
       "      <th>monthly_3g_8</th>\n",
       "      <th>sachet_3g_6</th>\n",
       "      <th>sachet_3g_7</th>\n",
       "      <th>sachet_3g_8</th>\n",
       "      <th>aon</th>\n",
       "      <th>aug_vbc_3g</th>\n",
       "      <th>jul_vbc_3g</th>\n",
       "      <th>jun_vbc_3g</th>\n",
       "      <th>months_since_last_charge</th>\n",
       "      <th>id</th>\n",
       "    </tr>\n",
       "  </thead>\n",
       "  <tbody>\n",
       "    <tr>\n",
       "      <th>57621</th>\n",
       "      <td>1.000000</td>\n",
       "      <td>1.000000</td>\n",
       "      <td>0.601083</td>\n",
       "      <td>0.508537</td>\n",
       "      <td>0.542536</td>\n",
       "      <td>0.225403</td>\n",
       "      <td>0.265128</td>\n",
       "      <td>0.203987</td>\n",
       "      <td>0.070020</td>\n",
       "      <td>0.0</td>\n",
       "      <td>...</td>\n",
       "      <td>0.0</td>\n",
       "      <td>0.0</td>\n",
       "      <td>0.0</td>\n",
       "      <td>0.0</td>\n",
       "      <td>0.166016</td>\n",
       "      <td>0.000000</td>\n",
       "      <td>0.000000</td>\n",
       "      <td>0.000000</td>\n",
       "      <td>0.0</td>\n",
       "      <td>57621</td>\n",
       "    </tr>\n",
       "    <tr>\n",
       "      <th>39559</th>\n",
       "      <td>0.675117</td>\n",
       "      <td>0.593761</td>\n",
       "      <td>0.605016</td>\n",
       "      <td>0.156353</td>\n",
       "      <td>0.169961</td>\n",
       "      <td>0.135354</td>\n",
       "      <td>0.277493</td>\n",
       "      <td>0.433635</td>\n",
       "      <td>0.513952</td>\n",
       "      <td>0.0</td>\n",
       "      <td>...</td>\n",
       "      <td>0.0</td>\n",
       "      <td>0.0</td>\n",
       "      <td>0.0</td>\n",
       "      <td>0.0</td>\n",
       "      <td>0.096419</td>\n",
       "      <td>0.177647</td>\n",
       "      <td>1.000000</td>\n",
       "      <td>1.000000</td>\n",
       "      <td>0.0</td>\n",
       "      <td>39559</td>\n",
       "    </tr>\n",
       "    <tr>\n",
       "      <th>41415</th>\n",
       "      <td>0.773081</td>\n",
       "      <td>0.724053</td>\n",
       "      <td>0.741383</td>\n",
       "      <td>1.000000</td>\n",
       "      <td>1.000000</td>\n",
       "      <td>1.000000</td>\n",
       "      <td>0.519471</td>\n",
       "      <td>0.267321</td>\n",
       "      <td>0.426874</td>\n",
       "      <td>0.0</td>\n",
       "      <td>...</td>\n",
       "      <td>0.0</td>\n",
       "      <td>0.0</td>\n",
       "      <td>0.0</td>\n",
       "      <td>0.0</td>\n",
       "      <td>0.076388</td>\n",
       "      <td>0.000000</td>\n",
       "      <td>0.000000</td>\n",
       "      <td>0.000000</td>\n",
       "      <td>0.0</td>\n",
       "      <td>41415</td>\n",
       "    </tr>\n",
       "    <tr>\n",
       "      <th>47731</th>\n",
       "      <td>0.472161</td>\n",
       "      <td>0.426771</td>\n",
       "      <td>0.396359</td>\n",
       "      <td>0.239710</td>\n",
       "      <td>0.113244</td>\n",
       "      <td>0.114930</td>\n",
       "      <td>0.210281</td>\n",
       "      <td>0.071718</td>\n",
       "      <td>0.028078</td>\n",
       "      <td>0.0</td>\n",
       "      <td>...</td>\n",
       "      <td>0.0</td>\n",
       "      <td>0.0</td>\n",
       "      <td>0.0</td>\n",
       "      <td>0.0</td>\n",
       "      <td>0.359872</td>\n",
       "      <td>0.000000</td>\n",
       "      <td>0.000000</td>\n",
       "      <td>0.000000</td>\n",
       "      <td>0.0</td>\n",
       "      <td>47731</td>\n",
       "    </tr>\n",
       "    <tr>\n",
       "      <th>64801</th>\n",
       "      <td>0.955161</td>\n",
       "      <td>0.853870</td>\n",
       "      <td>0.955943</td>\n",
       "      <td>0.661631</td>\n",
       "      <td>0.565627</td>\n",
       "      <td>0.884207</td>\n",
       "      <td>1.000000</td>\n",
       "      <td>0.744994</td>\n",
       "      <td>0.741968</td>\n",
       "      <td>0.0</td>\n",
       "      <td>...</td>\n",
       "      <td>1.0</td>\n",
       "      <td>0.0</td>\n",
       "      <td>0.0</td>\n",
       "      <td>0.0</td>\n",
       "      <td>0.462062</td>\n",
       "      <td>1.000000</td>\n",
       "      <td>0.825032</td>\n",
       "      <td>0.472316</td>\n",
       "      <td>0.0</td>\n",
       "      <td>64801</td>\n",
       "    </tr>\n",
       "  </tbody>\n",
       "</table>\n",
       "<p>5 rows × 126 columns</p>\n",
       "</div>"
      ],
      "text/plain": [
       "         arpu_6    arpu_7    arpu_8  onnet_mou_6  onnet_mou_7  onnet_mou_8  \\\n",
       "57621  1.000000  1.000000  0.601083     0.508537     0.542536     0.225403   \n",
       "39559  0.675117  0.593761  0.605016     0.156353     0.169961     0.135354   \n",
       "41415  0.773081  0.724053  0.741383     1.000000     1.000000     1.000000   \n",
       "47731  0.472161  0.426771  0.396359     0.239710     0.113244     0.114930   \n",
       "64801  0.955161  0.853870  0.955943     0.661631     0.565627     0.884207   \n",
       "\n",
       "       offnet_mou_6  offnet_mou_7  offnet_mou_8  roam_ic_mou_6  ...  \\\n",
       "57621      0.265128      0.203987      0.070020            0.0  ...   \n",
       "39559      0.277493      0.433635      0.513952            0.0  ...   \n",
       "41415      0.519471      0.267321      0.426874            0.0  ...   \n",
       "47731      0.210281      0.071718      0.028078            0.0  ...   \n",
       "64801      1.000000      0.744994      0.741968            0.0  ...   \n",
       "\n",
       "       monthly_3g_8  sachet_3g_6  sachet_3g_7  sachet_3g_8       aon  \\\n",
       "57621           0.0          0.0          0.0          0.0  0.166016   \n",
       "39559           0.0          0.0          0.0          0.0  0.096419   \n",
       "41415           0.0          0.0          0.0          0.0  0.076388   \n",
       "47731           0.0          0.0          0.0          0.0  0.359872   \n",
       "64801           1.0          0.0          0.0          0.0  0.462062   \n",
       "\n",
       "       aug_vbc_3g  jul_vbc_3g  jun_vbc_3g  months_since_last_charge     id  \n",
       "57621    0.000000    0.000000    0.000000                       0.0  57621  \n",
       "39559    0.177647    1.000000    1.000000                       0.0  39559  \n",
       "41415    0.000000    0.000000    0.000000                       0.0  41415  \n",
       "47731    0.000000    0.000000    0.000000                       0.0  47731  \n",
       "64801    1.000000    0.825032    0.472316                       0.0  64801  \n",
       "\n",
       "[5 rows x 126 columns]"
      ]
     },
     "execution_count": 235,
     "metadata": {},
     "output_type": "execute_result"
    }
   ],
   "source": [
    "df_test.head()"
   ]
  },
  {
   "cell_type": "markdown",
   "id": "d584eab9",
   "metadata": {
    "papermill": {
     "duration": 0.069588,
     "end_time": "2021-08-13T07:17:25.279867",
     "exception": false,
     "start_time": "2021-08-13T07:17:25.210279",
     "status": "completed"
    },
    "tags": []
   },
   "source": [
    "Next, lets create a new column in the unseen dataset called churn_probability and use the model pipeline to predict the probabilities for this data"
   ]
  },
  {
   "cell_type": "code",
   "execution_count": 332,
   "id": "a458c059-d841-4bbf-8960-a8f1fa4e52a4",
   "metadata": {},
   "outputs": [],
   "source": [
    "pca_submission = PCA(n_components=45,random_state=42)\n",
    "submission_data_transformed = pca_submission.fit_transform(submission_data.drop('id', axis=1))\n"
   ]
  },
  {
   "cell_type": "code",
   "execution_count": 333,
   "id": "f3c72aa5-2614-4171-be1c-f542c3b1813f",
   "metadata": {},
   "outputs": [
    {
     "data": {
      "text/plain": [
       "array([0.27585552, 0.1636976 , 0.12976575, 0.07862663, 0.04948206,\n",
       "       0.04683023, 0.03606459, 0.02757765, 0.02201304, 0.01902625,\n",
       "       0.01559238, 0.01427253, 0.01067004, 0.01043482, 0.00933873,\n",
       "       0.00901835, 0.00814901, 0.00627135, 0.00572218, 0.00562924,\n",
       "       0.00464912, 0.00425396, 0.00406118, 0.00401136, 0.00386634,\n",
       "       0.00377193, 0.00279972, 0.00257668, 0.00240912, 0.00209502,\n",
       "       0.00202943, 0.00182448, 0.0015882 , 0.00146359, 0.00140686,\n",
       "       0.0013444 , 0.00125545, 0.00090729, 0.00087425, 0.00080713,\n",
       "       0.00078551, 0.00076416, 0.00073587, 0.00064916, 0.00060874])"
      ]
     },
     "execution_count": 333,
     "metadata": {},
     "output_type": "execute_result"
    }
   ],
   "source": [
    "pca_submission.explained_variance_ratio_"
   ]
  },
  {
   "cell_type": "code",
   "execution_count": 334,
   "id": "1731b173-7fe2-4aac-b6fd-0ef6529eeab8",
   "metadata": {},
   "outputs": [],
   "source": [
    "var_cumu = np.cumsum(pca_submission.explained_variance_ratio_)"
   ]
  },
  {
   "cell_type": "code",
   "execution_count": 335,
   "id": "2c2d74a7-b345-48e7-afe9-7cdf17e9bc81",
   "metadata": {},
   "outputs": [
    {
     "data": {
      "image/png": "[encoded data removed]",
      "text/plain": [
       "<Figure size 1200x800 with 1 Axes>"
      ]
     },
     "metadata": {},
     "output_type": "display_data"
    }
   ],
   "source": [
    "plot_cum_variance_explained(var_cumu)"
   ]
  },
  {
   "cell_type": "code",
   "execution_count": 336,
   "id": "ab2459d7",
   "metadata": {
    "papermill": {
     "duration": 0.108369,
     "end_time": "2021-08-13T07:17:25.457668",
     "exception": false,
     "start_time": "2021-08-13T07:17:25.349299",
     "status": "completed"
    },
    "tags": []
   },
   "outputs": [
    {
     "data": {
      "text/html": [
       "<div>\n",
       "<style scoped>\n",
       "    .dataframe tbody tr th:only-of-type {\n",
       "        vertical-align: middle;\n",
       "    }\n",
       "\n",
       "    .dataframe tbody tr th {\n",
       "        vertical-align: top;\n",
       "    }\n",
       "\n",
       "    .dataframe thead th {\n",
       "        text-align: right;\n",
       "    }\n",
       "</style>\n",
       "<table border=\"1\" class=\"dataframe\">\n",
       "  <thead>\n",
       "    <tr style=\"text-align: right;\">\n",
       "      <th></th>\n",
       "      <th>id</th>\n",
       "      <th>churn_probability</th>\n",
       "    </tr>\n",
       "  </thead>\n",
       "  <tbody>\n",
       "    <tr>\n",
       "      <th>0</th>\n",
       "      <td>69999</td>\n",
       "      <td>0.0</td>\n",
       "    </tr>\n",
       "    <tr>\n",
       "      <th>1</th>\n",
       "      <td>70000</td>\n",
       "      <td>0.0</td>\n",
       "    </tr>\n",
       "    <tr>\n",
       "      <th>2</th>\n",
       "      <td>70001</td>\n",
       "      <td>0.0</td>\n",
       "    </tr>\n",
       "    <tr>\n",
       "      <th>3</th>\n",
       "      <td>70002</td>\n",
       "      <td>0.0</td>\n",
       "    </tr>\n",
       "    <tr>\n",
       "      <th>4</th>\n",
       "      <td>70003</td>\n",
       "      <td>0.0</td>\n",
       "    </tr>\n",
       "  </tbody>\n",
       "</table>\n",
       "</div>"
      ],
      "text/plain": [
       "      id  churn_probability\n",
       "0  69999                0.0\n",
       "1  70000                0.0\n",
       "2  70001                0.0\n",
       "3  70002                0.0\n",
       "4  70003                0.0"
      ]
     },
     "execution_count": 336,
     "metadata": {},
     "output_type": "execute_result"
    }
   ],
   "source": [
    "unseen['churn_probability'] = lgb_classifier_after_pca.predict(submission_data_transformed)\n",
    "output = unseen[['id','churn_probability']]\n",
    "output.head()"
   ]
  },
  {
   "cell_type": "markdown",
   "id": "d4cc053f",
   "metadata": {
    "papermill": {
     "duration": 0.124336,
     "end_time": "2021-08-13T07:17:25.701056",
     "exception": false,
     "start_time": "2021-08-13T07:17:25.576720",
     "status": "completed"
    },
    "tags": []
   },
   "source": [
    "Finally, lets create a csv file out of this dataset, ensuring to set index=False to avoid an addition column in the csv."
   ]
  },
  {
   "cell_type": "code",
   "execution_count": 338,
   "id": "1d2eb9c5-d2d4-4527-a82d-35e9d0dd8c64",
   "metadata": {},
   "outputs": [],
   "source": [
    "output['churn_probability'] = output.churn_probability.apply(np.int64)"
   ]
  },
  {
   "cell_type": "code",
   "execution_count": 339,
   "id": "29574852-5f80-492f-ac8b-e368dd7e872a",
   "metadata": {},
   "outputs": [
    {
     "data": {
      "text/html": [
       "<div>\n",
       "<style scoped>\n",
       "    .dataframe tbody tr th:only-of-type {\n",
       "        vertical-align: middle;\n",
       "    }\n",
       "\n",
       "    .dataframe tbody tr th {\n",
       "        vertical-align: top;\n",
       "    }\n",
       "\n",
       "    .dataframe thead th {\n",
       "        text-align: right;\n",
       "    }\n",
       "</style>\n",
       "<table border=\"1\" class=\"dataframe\">\n",
       "  <thead>\n",
       "    <tr style=\"text-align: right;\">\n",
       "      <th></th>\n",
       "      <th>id</th>\n",
       "      <th>churn_probability</th>\n",
       "    </tr>\n",
       "  </thead>\n",
       "  <tbody>\n",
       "    <tr>\n",
       "      <th>0</th>\n",
       "      <td>69999</td>\n",
       "      <td>0</td>\n",
       "    </tr>\n",
       "    <tr>\n",
       "      <th>1</th>\n",
       "      <td>70000</td>\n",
       "      <td>0</td>\n",
       "    </tr>\n",
       "    <tr>\n",
       "      <th>2</th>\n",
       "      <td>70001</td>\n",
       "      <td>0</td>\n",
       "    </tr>\n",
       "    <tr>\n",
       "      <th>3</th>\n",
       "      <td>70002</td>\n",
       "      <td>0</td>\n",
       "    </tr>\n",
       "    <tr>\n",
       "      <th>4</th>\n",
       "      <td>70003</td>\n",
       "      <td>0</td>\n",
       "    </tr>\n",
       "  </tbody>\n",
       "</table>\n",
       "</div>"
      ],
      "text/plain": [
       "      id  churn_probability\n",
       "0  69999                  0\n",
       "1  70000                  0\n",
       "2  70001                  0\n",
       "3  70002                  0\n",
       "4  70003                  0"
      ]
     },
     "execution_count": 339,
     "metadata": {},
     "output_type": "execute_result"
    }
   ],
   "source": [
    "output.head()"
   ]
  },
  {
   "cell_type": "code",
   "execution_count": 340,
   "id": "cd0ce11a",
   "metadata": {
    "papermill": {
     "duration": 0.12837,
     "end_time": "2021-08-13T07:17:25.914318",
     "exception": false,
     "start_time": "2021-08-13T07:17:25.785948",
     "status": "completed"
    },
    "tags": []
   },
   "outputs": [],
   "source": [
    "output.to_csv('submission_pca_lr_13jul.csv',index=False)"
   ]
  },
  {
   "cell_type": "markdown",
   "id": "afc24e68",
   "metadata": {
    "papermill": {
     "duration": 0.08214,
     "end_time": "2021-08-13T07:17:26.080507",
     "exception": false,
     "start_time": "2021-08-13T07:17:25.998367",
     "status": "completed"
    },
    "tags": []
   },
   "source": [
    "You can now take this file and upload it as a submission on Kaggle."
   ]
  },
  {
   "cell_type": "code",
   "execution_count": null,
   "id": "8a688423",
   "metadata": {
    "papermill": {
     "duration": 0.070782,
     "end_time": "2021-08-13T07:17:26.223247",
     "exception": false,
     "start_time": "2021-08-13T07:17:26.152465",
     "status": "completed"
    },
    "tags": []
   },
   "outputs": [],
   "source": []
  },
  {
   "cell_type": "code",
   "execution_count": null,
   "id": "1c8e4df7-a34f-46fe-86d1-aaab3fb17b1c",
   "metadata": {},
   "outputs": [],
   "source": []
  },
  {
   "cell_type": "code",
   "execution_count": null,
   "id": "ac9dd639-8c0d-46c0-92a2-08cd32750a7e",
   "metadata": {},
   "outputs": [],
   "source": []
  },
  {
   "cell_type": "code",
   "execution_count": null,
   "id": "3f0c3f84-d8f9-4f03-ac03-34ff5de05e84",
   "metadata": {},
   "outputs": [],
   "source": []
  },
  {
   "cell_type": "markdown",
   "id": "ac2beaf8-8637-472c-ab0f-022b6c3fa7ca",
   "metadata": {},
   "source": [
    "### Appendix A"
   ]
  },
  {
   "cell_type": "markdown",
   "id": "9e1be60e-bfd9-4fbb-b01d-b45a55ec87c2",
   "metadata": {},
   "source": [
    "#### Some additional cells that could be used"
   ]
  },
  {
   "cell_type": "code",
   "execution_count": null,
   "id": "c21f5d24-569a-4228-8ab9-5ab1988ff52e",
   "metadata": {},
   "outputs": [],
   "source": [
    "# Correcting imbalance\n"
   ]
  },
  {
   "cell_type": "code",
   "execution_count": 144,
   "id": "e70e93bb-2ea9-478a-967c-4df926c93ede",
   "metadata": {},
   "outputs": [],
   "source": [
    "from imblearn.over_sampling import BorderlineSMOTE\n",
    "from imblearn.combine import SMOTEENN\n",
    "\n",
    "\n",
    "\n",
    "# Specify the desired ratio using the sampling_strategy parameter\n",
    "desired_ratio = {0: 50289, 1: 15456}  # Adjust the numbers based on your desired ratio\n",
    "\n",
    "\n",
    "smote = SMOTEENN(sampling_strategy=desired_ratio, random_state=42)\n",
    "X_train,y_train = smote.fit_resample(X_train,y_train)"
   ]
  },
  {
   "cell_type": "code",
   "execution_count": null,
   "id": "02f69917-3457-4bc8-956d-889610836ff9",
   "metadata": {},
   "outputs": [],
   "source": []
  },
  {
   "cell_type": "code",
   "execution_count": null,
   "id": "461dd6f0-54c9-4887-9bbf-16ebb935c47d",
   "metadata": {},
   "outputs": [],
   "source": []
  },
  {
   "cell_type": "code",
   "execution_count": null,
   "id": "2ea3621f-74d8-467e-bde1-a76154124603",
   "metadata": {},
   "outputs": [],
   "source": []
  },
  {
   "cell_type": "code",
   "execution_count": null,
   "id": "ccaf114f-79aa-4987-8982-92c94ed8cb6e",
   "metadata": {},
   "outputs": [],
   "source": []
  },
  {
   "cell_type": "code",
   "execution_count": null,
   "id": "f7464358-1780-4791-8b03-70b4a645708c",
   "metadata": {},
   "outputs": [],
   "source": []
  },
  {
   "cell_type": "code",
   "execution_count": null,
   "id": "d6903329-b69b-4356-922f-76399ae6e4d8",
   "metadata": {},
   "outputs": [],
   "source": []
  },
  {
   "cell_type": "code",
   "execution_count": null,
   "id": "4d9c34c6-d738-4e0e-99f0-ec57dc636d40",
   "metadata": {},
   "outputs": [],
   "source": []
  },
  {
   "cell_type": "code",
   "execution_count": null,
   "id": "6e812bfe-917e-414a-8cc0-8588cd4bfeff",
   "metadata": {},
   "outputs": [],
   "source": []
  },
  {
   "cell_type": "code",
   "execution_count": null,
   "id": "4250711e-1e10-4efc-8800-aa80ca7f0d2e",
   "metadata": {},
   "outputs": [],
   "source": []
  },
  {
   "cell_type": "code",
   "execution_count": null,
   "id": "11f7ba6d-b88b-44bf-8bce-32fff24a23ac",
   "metadata": {},
   "outputs": [],
   "source": []
  },
  {
   "cell_type": "code",
   "execution_count": null,
   "id": "06bba5e1-3b38-4ce6-b02f-2c191b0ddee2",
   "metadata": {},
   "outputs": [],
   "source": []
  },
  {
   "cell_type": "code",
   "execution_count": null,
   "id": "eacb29d5-850e-4074-824a-a3746b2c618d",
   "metadata": {},
   "outputs": [],
   "source": []
  },
  {
   "cell_type": "code",
   "execution_count": null,
   "id": "7cc1d23c-e004-4c30-8e08-59bbbffe0a71",
   "metadata": {},
   "outputs": [],
   "source": []
  },
  {
   "cell_type": "code",
   "execution_count": null,
   "id": "bfa1f524-39bb-4c71-b007-92fe0e4fc740",
   "metadata": {},
   "outputs": [],
   "source": []
  },
  {
   "cell_type": "code",
   "execution_count": null,
   "id": "cbcf8538-bd22-49e5-8bac-5f3657e3e4b6",
   "metadata": {},
   "outputs": [],
   "source": []
  },
  {
   "cell_type": "code",
   "execution_count": null,
   "id": "90bd27ca-3781-4d0f-b4e6-b89d8188826d",
   "metadata": {},
   "outputs": [],
   "source": []
  }
 ],
 "metadata": {
  "kernelspec": {
   "display_name": "Python 3 (ipykernel)",
   "language": "python",
   "name": "python3"
  },
  "language_info": {
   "codemirror_mode": {
    "name": "ipython",
    "version": 3
   },
   "file_extension": ".py",
   "mimetype": "text/x-python",
   "name": "python",
   "nbconvert_exporter": "python",
   "pygments_lexer": "ipython3",
   "version": "3.11.7"
  },
  "papermill": {
   "default_parameters": {},
   "duration": 57.533667,
   "end_time": "2021-08-13T07:17:27.204430",
   "environment_variables": {},
   "exception": null,
   "input_path": "__notebook__.ipynb",
   "output_path": "__notebook__.ipynb",
   "parameters": {},
   "start_time": "2021-08-13T07:16:29.670763",
   "version": "2.3.3"
  }
 },
 "nbformat": 4,
 "nbformat_minor": 5
}
